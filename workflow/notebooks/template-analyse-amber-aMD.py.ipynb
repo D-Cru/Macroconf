{
 "cells": [
  {
   "cell_type": "markdown",
   "id": "fe162b87",
   "metadata": {},
   "outputs": [],
   "source": [
    "# Analysis Notebook\n",
    "A copy of this notebook is run to analyse the molecular dynamics simulations. \n",
    "The type of MD simulation is specified in the Snakemake rule as a parameter, \n",
    "such that it is accessible via: snakemake.params.method.\n",
    "\n",
    "There are various additional analysis steps, that are included in the notebook, \n",
    "but are not part of the paper. To turn these on, set the `beta_run` parameter to `True`.\n",
    "\n",
    "There are also some commented out lines in the notebook. These are mainly for \n",
    "the purpose of debugging. Some of them are for interactively exploring the\n",
    "3d structure of the system. These don't work as part of the automated snakemake\n",
    "workflow, but can be enabled when running a notebook interactively. "
   ]
  },
  {
   "cell_type": "code",
   "execution_count": 2,
   "id": "3b5426e8",
   "metadata": {},
   "outputs": [],
   "source": [
    "# Check if we should use shortened trajectories for analysis.\n",
    "if snakemake.config[\"shortened\"]:\n",
    "    print(\n",
    "        \"Using shortened trajectories and dihedrals. This only works if these were created previously!\"\n",
    "    )\n",
    "    if not (\n",
    "        os.path.exists(snakemake.params.traj_short)\n",
    "        and os.path.exists(snakemake.params.dihedrals_short)\n",
    "        and os.path.exists(snakemake.params.dPCA_weights_MC_short)\n",
    "        and os.path.exists(snakemake.params.weights_short)\n",
    "    ):\n",
    "        raise FileNotFoundError(\n",
    "            \"Shortened trajectories and dihedrals files do not exist, but config value is set to use shortened files! Switch off the use of shortenend files and first analyse this simulation using the full trajectory!\"\n",
    "        )\n",
    "    else:\n",
    "        use_shortened = True\n",
    "        snakemake.input.traj = snakemake.params.traj_short\n",
    "else:\n",
    "    use_shortened = False"
   ]
  },
  {
   "cell_type": "code",
   "execution_count": 3,
   "id": "7b73eb55",
   "metadata": {
    "tags": [
     "remove-cell"
    ]
   },
   "outputs": [],
   "source": [
    "# Turn on for development\n",
    "# use_shortened = False\n",
    "%load_ext autoreload\n",
    "%autoreload 2"
   ]
  },
  {
   "cell_type": "code",
   "execution_count": 4,
   "id": "adjacent-subsection",
   "metadata": {
    "tags": [
     "hide-cell"
    ]
   },
   "outputs": [],
   "source": [
    "# Imports\n",
    "import matplotlib\n",
    "import mdtraj as md\n",
    "import numpy as np\n",
    "import matplotlib.pyplot as plt\n",
    "import matplotlib.tri as tri\n",
    "import matplotlib.image as mpimg\n",
    "\n",
    "# set matplotlib font sizes\n",
    "SMALL_SIZE = 9\n",
    "MEDIUM_SIZE = 11\n",
    "BIGGER_SIZE = 13\n",
    "\n",
    "plt.rc(\"font\", size=MEDIUM_SIZE)  # controls default text sizes\n",
    "plt.rc(\"axes\", titlesize=BIGGER_SIZE)  # fontsize of the axes title\n",
    "plt.rc(\"axes\", labelsize=MEDIUM_SIZE)  # fontsize of the x and y labels\n",
    "plt.rc(\"xtick\", labelsize=SMALL_SIZE)  # fontsize of the tick labels\n",
    "plt.rc(\"ytick\", labelsize=SMALL_SIZE)  # fontsize of the tick labels\n",
    "plt.rc(\"legend\", fontsize=MEDIUM_SIZE)  # legend fontsize\n",
    "plt.rc(\"figure\", titlesize=BIGGER_SIZE)  # fontsize of the figure title\n",
    "\n",
    "DPI = 600\n",
    "\n",
    "import scipy.cluster.hierarchy\n",
    "from scipy.spatial.distance import squareform\n",
    "import pandas as pd\n",
    "\n",
    "sys.path.append(os.getcwd())\n",
    "import src.dihedrals\n",
    "import src.pca\n",
    "import src.noe\n",
    "import src.Ring_Analysis\n",
    "import src.stats\n",
    "from src.pyreweight import reweight\n",
    "from src.utils import json_load, pickle_dump\n",
    "from sklearn.manifold import TSNE\n",
    "from sklearn.cluster import DBSCAN\n",
    "from sklearn.neighbors import NearestNeighbors\n",
    "from sklearn.decomposition import PCA\n",
    "import nglview as nv\n",
    "from rdkit import Chem\n",
    "from rdkit.Chem.Draw import IPythonConsole\n",
    "import py_rdl\n",
    "import seaborn as sns\n",
    "\n",
    "IPythonConsole.molSize = (900, 300)  # (450, 150)\n",
    "IPythonConsole.drawOptions.addStereoAnnotation = True\n",
    "IPythonConsole.drawOptions.annotationFontScale = 1.5\n",
    "import tempfile\n",
    "import io\n",
    "import svgutils.transform as sg\n",
    "import svgutils.compose as sc\n",
    "import scipy.stats as stats\n",
    "from IPython.display import display, Markdown"
   ]
  },
  {
   "cell_type": "code",
   "execution_count": 5,
   "id": "bb70a76a",
   "metadata": {},
   "outputs": [],
   "source": [
    "# Can set a stride to make prelim. analysis faster. for production, use 1 (use all MD frames)\n",
    "stride = int(snakemake.config[\"stride\"])\n",
    "print(f\"Using stride {stride} to analyse MD simulations.\")\n",
    "# Perform additional analysis steps (e.g. compute structural digits)\n",
    "beta_run = False\n",
    "\n",
    "# Analysing compound\n",
    "compound_index = int(snakemake.wildcards.compound_dir)\n",
    "simtime = float(snakemake.wildcards.time)\n",
    "\n",
    "# Storage for overview figure\n",
    "final_figure_axs = []"
   ]
  },
  {
   "cell_type": "markdown",
   "id": "0fbb887c",
   "metadata": {},
   "outputs": [],
   "source": [
    "## Compound details"
   ]
  },
  {
   "cell_type": "code",
   "execution_count": 6,
   "id": "expensive-medline",
   "metadata": {
    "tags": [
     "hide-input"
    ]
   },
   "outputs": [],
   "source": [
    "display(Markdown(f\"This notebook refers to compound {compound_index}.\"))\n",
    "\n",
    "compound = json_load(snakemake.input.parm)\n",
    "multi = compound.multi\n",
    "if multi:\n",
    "    display(\n",
    "        Markdown(\n",
    "            \"According to the literature reference, there are two distinct structures in solution.\"\n",
    "        )\n",
    "    )\n",
    "else:\n",
    "    display(\n",
    "        Markdown(\n",
    "            \"According to the literature reference, there is only one distinct structure in solution.\"\n",
    "        )\n",
    "    )\n",
    "display(\n",
    "    Markdown(\n",
    "        f\"\"\"The sequence of the compound is **{compound.sequence}**. \\n\n",
    "A 2d structure of the compound is shown below.\"\"\"\n",
    "    )\n",
    ")"
   ]
  },
  {
   "cell_type": "markdown",
   "id": "84733f1e",
   "metadata": {},
   "outputs": [],
   "source": [
    "## Simulation details"
   ]
  },
  {
   "cell_type": "code",
   "execution_count": 7,
   "id": "8224ca48",
   "metadata": {},
   "outputs": [],
   "source": [
    "# TODO: change notebook that it supports use of a shortened trajectory file"
   ]
  },
  {
   "cell_type": "code",
   "execution_count": 8,
   "id": "d245f7d1",
   "metadata": {
    "tags": [
     "hide-cell"
    ]
   },
   "outputs": [],
   "source": [
    "# only load protein topology\n",
    "\n",
    "# Load full simulation box topology (without coordinates), i.e. protein + solvent + ions ..\n",
    "full_topology = md.load_topology(snakemake.input.top)\n",
    "protein_topology = full_topology.subset(\n",
    "    full_topology.select(\"protein or resname ASH\")\n",
    ")\n",
    "protein_atoms = full_topology.select(\"protein or resname ASH\")\n",
    "\n",
    "if not use_shortened:\n",
    "    full_box = md.load_frame(snakemake.input.traj, 0, top=full_topology)\n",
    "    protein = full_box.restrict_atoms(protein_atoms)\n",
    "else:\n",
    "    protein = md.load_frame(\n",
    "        snakemake.params.traj_short, 0, top=protein_topology\n",
    "    )\n",
    "\n",
    "display(\n",
    "    Markdown(\n",
    "        f\"The following atom numbers are part of the protein: {protein_atoms}\"\n",
    "    )\n",
    ")"
   ]
  },
  {
   "cell_type": "code",
   "execution_count": 9,
   "id": "02fea45e",
   "metadata": {
    "tags": [
     "hide-input"
    ]
   },
   "outputs": [],
   "source": [
    "# Stereo check 1-frame trajectory to tmp-pdb file\n",
    "t_stereo_check = protein\n",
    "tf = tempfile.NamedTemporaryFile(delete=False)\n",
    "# tf.name\n",
    "t_stereo_check.save_pdb(tf.name)\n",
    "\n",
    "# Get reference mol\n",
    "mol_ref = Chem.MolFromMol2File(\n",
    "    snakemake.input.ref_mol,\n",
    "    removeHs=False,\n",
    ")\n",
    "\n",
    "# Get 1st frame pdb from tempfile\n",
    "post_eq_mol = Chem.MolFromPDBFile(\n",
    "    tf.name,\n",
    "    removeHs=False,\n",
    "    sanitize=False,\n",
    ")\n",
    "\n",
    "# could compare smiles to automate the stereo-check. Problem: mol2 reference file has wrong bond orders\n",
    "# (amber does not write those correctly). The ref-pdb file cannot be read b/c geometry is not optimized.\n",
    "# This leads to funky valences in rdkit. The post-eq pdb file reads fine but then charges etc. dont match\n",
    "# with the reference (b/c of wrong bond orders). But can manually check that all stereocentres are correct (below)\n",
    "Chem.CanonSmiles(Chem.MolToSmiles(post_eq_mol)) == Chem.CanonSmiles(\n",
    "    Chem.MolToSmiles(mol_ref)\n",
    ")\n",
    "display(\n",
    "    Markdown(\n",
    "        \"\"\"Following we compare an annotated 2d structure of the compound's starting topology, with the \n",
    "                 topology post equilibration\"\"\"\n",
    "    )\n",
    ")"
   ]
  },
  {
   "cell_type": "code",
   "execution_count": 10,
   "id": "f2ea7f6c",
   "metadata": {},
   "outputs": [],
   "source": [
    "post_eq_mol.RemoveAllConformers()\n",
    "display(Markdown(\"2d structure of the compound post equilibration:\"))\n",
    "post_eq_mol"
   ]
  },
  {
   "cell_type": "code",
   "execution_count": 11,
   "id": "aecc481e",
   "metadata": {},
   "outputs": [],
   "source": [
    "mol_ref.RemoveAllConformers()\n",
    "display(Markdown(\"2d structure of the compound reference topology:\"))\n",
    "mol_ref"
   ]
  },
  {
   "cell_type": "code",
   "execution_count": 12,
   "id": "recognized-cattle",
   "metadata": {
    "tags": [
     "hide-input"
    ]
   },
   "outputs": [],
   "source": [
    "# load trajectory\n",
    "display(Markdown(\"Now we load the MD trajectory.\"))\n",
    "if not use_shortened:\n",
    "    t = md.load(\n",
    "        snakemake.input.traj,\n",
    "        top=snakemake.input.top,\n",
    "        atom_indices=protein_atoms,\n",
    "        stride=stride,\n",
    "    )  # added strideint for GaMD 2k\n",
    "    print(t)\n",
    "    # Remove solvent from trajectory\n",
    "    t = t.restrict_atoms(t.topology.select(\"protein or resname ASH\"))\n",
    "    t = t.superpose(t, 0)\n",
    "\n",
    "    # for GaMD, skip equlibration...\n",
    "    if snakemake.params.method == \"GaMD\":\n",
    "        weight_lengths = np.loadtxt(snakemake.input.weights)\n",
    "        weight_lengths = int(len(weight_lengths))\n",
    "        frames_start = int(t.n_frames - weight_lengths)\n",
    "        t = t[\n",
    "            int(frames_start / stride) :\n",
    "        ]  # added 13000 instead of 26000 for 2k\n",
    "    else:\n",
    "        frames_start = 0\n",
    "    print(t)\n",
    "else:\n",
    "    stride = 1  # set stride to 1 for shortened files!\n",
    "    t = md.load(\n",
    "        snakemake.params.traj_short, top=protein_topology, stride=1\n",
    "    )  # added strideint for GaMD 2k\n",
    "    t = t.restrict_atoms(t.topology.select(\"protein or resname ASH\"))\n",
    "    t = t.superpose(t, 0)\n",
    "    print(t)"
   ]
  },
  {
   "cell_type": "code",
   "execution_count": 13,
   "id": "64898f09",
   "metadata": {
    "tags": [
     "remove-input"
    ]
   },
   "outputs": [],
   "source": [
    "display(\n",
    "    Markdown(\n",
    "        f\"The simulation type is {snakemake.params.method}, {snakemake.wildcards.time} ns. The simulation was performed in {snakemake.wildcards.solvent}.\"\n",
    "    )\n",
    ")\n",
    "display(\n",
    "    Markdown(f\"There are a total of {t.n_frames} frames available to analyse.\")\n",
    ")"
   ]
  },
  {
   "cell_type": "code",
   "execution_count": 14,
   "id": "a5880497",
   "metadata": {
    "tags": [
     "hide-cell"
    ]
   },
   "outputs": [],
   "source": [
    "# Create a short trajectory & weights if working with the full trajectory\n",
    "if not use_shortened:\n",
    "    # determine stride to get 10k frames:\n",
    "    stride_short = int(t.n_frames / 10000)\n",
    "    if stride_short == 0:\n",
    "        stride_short = 1\n",
    "\n",
    "    # save short trajectory to file\n",
    "    t[::stride_short].save_netcdf(snakemake.params.traj_short)\n",
    "\n",
    "    # load weights for GaMD\n",
    "    if snakemake.params.method != \"cMD\":\n",
    "        weight_data = np.loadtxt(snakemake.input.weights)\n",
    "        weight_data = weight_data[::stride]\n",
    "        # create shortened weights\n",
    "        np.savetxt(snakemake.params.weights_short, weight_data[::stride_short])\n",
    "else:\n",
    "    # load shortened weights for GaMD\n",
    "    if snakemake.params.method != \"cMD\":\n",
    "        weight_data = np.loadtxt(snakemake.params.weights_short)\n",
    "\n",
    "# this determines a cutoff for when we consider cis/trans conformers separately.\n",
    "# only relevant if 2 sets of NOE values present.\n",
    "# t.n_frames / 1000 -> 0.1% of frames need to be cis/trans to consider both forms.\n",
    "CIS_TRANS_CUTOFF = int(t.n_frames / 1000)"
   ]
  },
  {
   "cell_type": "markdown",
   "id": "f1c505bc",
   "metadata": {},
   "outputs": [],
   "source": [
    "However, for some of the analysis steps below, only 1% of these frames have been used to ensure better rendering in the browser."
   ]
  },
  {
   "cell_type": "code",
   "execution_count": 15,
   "id": "456f85fa",
   "metadata": {
    "tags": [
     "remove-cell"
    ]
   },
   "outputs": [],
   "source": [
    "# # Enable this cell for interactive exploration of the trajectory. Visualise desired NOE values.\n",
    "# # Only works when running in a live jupyter session.\n",
    "\n",
    "# %matplotlib notebook\n",
    "# v = nv.show_mdtraj(t)\n",
    "# v.clear()\n",
    "# v.add_ball_and_stick()\n",
    "\n",
    "# # Load NOE data\n",
    "# NOE = src.noe.read_NOE(snakemake.input.noe)\n",
    "# # Change this number to look at different NOEs!\n",
    "# NOE_number = 1\n",
    "\n",
    "# a1 = eval(NOE['Atom 1'][NOE_number])\n",
    "# a2 = eval(NOE['Atom 2'][NOE_number])\n",
    "\n",
    "# NOE_pairs = []\n",
    "\n",
    "# for a in a1:\n",
    "#     for b in a2:\n",
    "#         NOE_pairs.append([a,b])\n",
    "\n",
    "# v.add_representation('distance', atom_pair=NOE_pairs, label_color='black', color='red')\n",
    "\n",
    "# v"
   ]
  },
  {
   "cell_type": "code",
   "execution_count": 16,
   "id": "7becb38d",
   "metadata": {
    "tags": [
     "remove-input"
    ]
   },
   "outputs": [],
   "source": [
    "# Interactive plots. Do not require a live jupyter notebook session. Render in jupyter book.\n",
    "\n",
    "from bokeh.plotting import figure, show, output_notebook\n",
    "from bokeh.models import (\n",
    "    Slider,\n",
    "    CheckboxGroup,\n",
    "    CustomJS,\n",
    "    ColumnDataSource,\n",
    "    CDSView,\n",
    "    CheckboxButtonGroup,\n",
    ")\n",
    "from bokeh.models.filters import CustomJSFilter\n",
    "from bokeh.layouts import row\n",
    "from bokeh.transform import factor_cmap\n",
    "from bokeh.palettes import Category10_10\n",
    "from bokeh.io import export_svgs\n",
    "\n",
    "output_notebook()"
   ]
  },
  {
   "cell_type": "markdown",
   "id": "437ba3b6",
   "metadata": {},
   "outputs": [],
   "source": [
    "## Convergence of the simulation\n",
    "### RMSD\n",
    "To check for convergence of the simulation, we can look at the root mean squared deviation of the atomic positions over the course of the simulation. "
   ]
  },
  {
   "cell_type": "markdown",
   "id": "600dde00",
   "metadata": {},
   "outputs": [],
   "source": [
    "````{margin}\n",
    "```{note}\n",
    "Click on the legend to hide some of the lines!\n",
    "```\n",
    "````"
   ]
  },
  {
   "cell_type": "code",
   "execution_count": 17,
   "id": "c77af0c7",
   "metadata": {
    "scrolled": false,
    "tags": [
     "hide-input"
    ]
   },
   "outputs": [],
   "source": [
    "# compute rmsd for different atom types\n",
    "rmsds = md.rmsd(t, t, 0) * 10\n",
    "bo = protein_topology.select(\"protein and (backbone and name O)\")\n",
    "ca = protein_topology.select(\"name CA\")\n",
    "rmsds_ca = md.rmsd(t, t, 0, atom_indices=ca) * 10  # Convert to Angstrom!\n",
    "rmsds_bo = md.rmsd(t, t, 0, atom_indices=bo) * 10  # Convert to Angstrom!\n",
    "\n",
    "rmsds = rmsds[::100]\n",
    "rmsds_ca = rmsds_ca[::100]\n",
    "rmsds_bo = rmsds_bo[::100]\n",
    "\n",
    "# Create x data (simulation time)\n",
    "x = [x / len(rmsds_ca) * simtime for x in range(0, len(rmsds_ca))]\n",
    "\n",
    "# Make plot\n",
    "fig = figure(\n",
    "    plot_width=600,\n",
    "    plot_height=400,\n",
    "    title=\"RMSD of different atom types\",\n",
    "    x_axis_label=\"Simulation time in ns\",\n",
    "    y_axis_label=\"RMSD in angstrom, relative to first frame\",\n",
    "    sizing_mode=\"stretch_width\",\n",
    "    toolbar_location=None,\n",
    ")\n",
    "fig.line(\n",
    "    x,\n",
    "    rmsds,\n",
    "    line_width=2,\n",
    "    line_alpha=0.6,\n",
    "    legend_label=\"all atoms\",\n",
    "    color=\"black\",\n",
    "    muted_alpha=0.1,\n",
    ")\n",
    "fig.line(\n",
    "    x,\n",
    "    rmsds_ca,\n",
    "    line_width=2,\n",
    "    line_alpha=0.6,\n",
    "    legend_label=\"C-alpha atoms\",\n",
    "    color=\"blue\",\n",
    "    muted_alpha=0.1,\n",
    ")\n",
    "fig.line(\n",
    "    x,\n",
    "    rmsds_bo,\n",
    "    line_width=2,\n",
    "    line_alpha=0.6,\n",
    "    legend_label=\"backbone O atoms\",\n",
    "    color=\"orange\",\n",
    "    muted_alpha=0.1,\n",
    ")\n",
    "fig.legend.click_policy = \"mute\"  #'hide'\n",
    "show(fig)\n",
    "# TODO: save rmsds as png, instead of manual screenshot https://docs.bokeh.org/en/latest/docs/user_guide/export.html"
   ]
  },
  {
   "cell_type": "code",
   "execution_count": 18,
   "id": "7ce0fef1",
   "metadata": {},
   "outputs": [],
   "source": [
    "fig.plot.output_backend =\"svg\"\n",
    "export_svgs(fig.plot, filename=snakemake.output.rmsd_plot)"
   ]
  },
  {
   "cell_type": "markdown",
   "id": "872e455c",
   "metadata": {},
   "outputs": [],
   "source": [
    "### Dihedral angles"
   ]
  },
  {
   "cell_type": "code",
   "execution_count": 19,
   "id": "laden-russian",
   "metadata": {
    "tags": [
     "hide-input"
    ]
   },
   "outputs": [],
   "source": [
    "if multi is not None:\n",
    "    multi = {v: k for k, v in multi.items()}\n",
    "    multiple = True\n",
    "    distinction = compound.distinction\n",
    "    print(\"Multiple compounds detected\")\n",
    "else:\n",
    "    multiple = False\n",
    "    pickle_dump(snakemake.output.multiple, multiple)\n",
    "if multiple:  # if Compound.cistrans:\n",
    "    ca_c = t.top.select(f\"resid {distinction[0]} and name CA C\")\n",
    "    n_ca_next = t.top.select(f\"resid {distinction[1]} and name N CA\")\n",
    "    omega = np.append(ca_c, n_ca_next)\n",
    "    t_omega_rad = md.compute_dihedrals(t, [omega])\n",
    "    t_omega_deg = np.abs(np.degrees(t_omega_rad))\n",
    "    plt.plot(t_omega_deg)\n",
    "    plt.hlines(90, 0, t.n_frames, color=\"red\")\n",
    "    plt.xlabel(\"Frames\")\n",
    "    plt.ylabel(\"Omega 0-1 [°]\")\n",
    "    plt.title(f\"Dihedral angle over time. Compound {compound_index}\")\n",
    "    cis = np.where(t_omega_deg <= 90)[0]\n",
    "    trans = np.where(t_omega_deg > 90)[0]\n",
    "    pickle_dump(snakemake.output.multiple, (cis, trans))\n",
    "    # t[trans]\n",
    "# TODO: save dihedrals as png"
   ]
  },
  {
   "cell_type": "markdown",
   "id": "48c59e1a",
   "metadata": {},
   "outputs": [],
   "source": [
    "````{margin}\n",
    "```{note}\n",
    "Click on the legend to hide some of the lines!\n",
    "```\n",
    "````"
   ]
  },
  {
   "cell_type": "code",
   "execution_count": 20,
   "id": "496ae9ef",
   "metadata": {
    "tags": [
     "hide-input"
    ]
   },
   "outputs": [],
   "source": [
    "resnames = []\n",
    "for i in range(0, t.n_residues):\n",
    "    resnames.append(t.topology.residue(i))\n",
    "\n",
    "*_, omega = src.dihedrals.getDihedrals(t)\n",
    "omega_deg = np.abs(np.degrees(omega))\n",
    "\n",
    "omega_deg = omega_deg[::100]\n",
    "\n",
    "simtime = float(snakemake.wildcards.time)\n",
    "\n",
    "colors = src.utils.color_cycle()\n",
    "\n",
    "# Create x data (simulation time)\n",
    "x = [x / len(omega_deg) * simtime for x in range(0, len(omega_deg))]\n",
    "\n",
    "# Make plot\n",
    "fig = figure(\n",
    "    plot_width=600,\n",
    "    plot_height=400,\n",
    "    title=\"Omega dihedral angles over time\",\n",
    "    x_axis_label=\"Simulation time in ns\",\n",
    "    y_axis_label=\"Dihedral angle in ˚\",\n",
    "    sizing_mode=\"stretch_width\",\n",
    "    toolbar_location=None,\n",
    ")\n",
    "\n",
    "for res, i, col in zip(resnames, range(len(resnames)), colors):\n",
    "    fig.line(\n",
    "        x,\n",
    "        omega_deg[:, i],\n",
    "        line_width=2,\n",
    "        line_alpha=0.6,\n",
    "        legend_label=str(res),\n",
    "        color=col,\n",
    "        muted_alpha=0.1,\n",
    "    )\n",
    "\n",
    "fig.legend.click_policy = \"mute\"  #'hide'\n",
    "show(fig)"
   ]
  },
  {
   "cell_type": "code",
   "execution_count": 21,
   "id": "40aba211",
   "metadata": {},
   "outputs": [],
   "source": [
    "fig.plot.output_backend =\"svg\"\n",
    "export_svgs(fig, filename=snakemake.output.omega_plot)"
   ]
  },
  {
   "cell_type": "code",
   "execution_count": 22,
   "id": "9b38d5b6",
   "metadata": {
    "tags": [
     "hide-cell"
    ]
   },
   "outputs": [],
   "source": [
    "# Compute dihedral angles [Phi] [Psi] [Omega]\n",
    "phi, psi, omega = src.dihedrals.getDihedrals(t)\n",
    "if beta_run:\n",
    "    # Print mean of dihedral angles [Phi] [Psi] [Omega]\n",
    "    print(\n",
    "        np.degrees(src.dihedrals.angle_mean(phi)),\n",
    "        np.degrees(src.dihedrals.angle_mean(psi)),\n",
    "        np.degrees(src.dihedrals.angle_mean(omega)),\n",
    "    )"
   ]
  },
  {
   "cell_type": "code",
   "execution_count": 23,
   "id": "e0db05a0",
   "metadata": {
    "tags": [
     "hide-cell"
    ]
   },
   "outputs": [],
   "source": [
    "# Plot ramachandran plot for each amino acid\n",
    "if beta_run:\n",
    "    fig, axs = plt.subplots(\n",
    "        int(np.ceil(len(phi.T) / 5)), 5, sharex=\"all\", sharey=\"all\"\n",
    "    )\n",
    "    fig.set_size_inches(16, 4)\n",
    "    motives = []\n",
    "    i = 0\n",
    "    for phi_i, psi_i in zip(np.degrees(phi.T), np.degrees(psi.T)):\n",
    "        weights_phi_psi = reweight(\n",
    "            np.column_stack((phi_i, psi_i)),\n",
    "            None,\n",
    "            \"amdweight_MC\",\n",
    "            weight_data,\n",
    "        )\n",
    "        axs.flatten()[i].scatter(\n",
    "            phi_i,\n",
    "            psi_i,\n",
    "            s=0.5,\n",
    "            c=weights_phi_psi,\n",
    "            vmin=0,\n",
    "            vmax=8,\n",
    "            cmap=\"Spectral_r\",\n",
    "        )\n",
    "        axs.flatten()[i].set_title(i)\n",
    "        motives.append(src.dihedrals.miao_ramachandran(phi_i, psi_i))\n",
    "        i += 1\n",
    "    fig.show()"
   ]
  },
  {
   "cell_type": "code",
   "execution_count": 24,
   "id": "be740d2a",
   "metadata": {
    "tags": [
     "hide-cell"
    ]
   },
   "outputs": [],
   "source": [
    "if beta_run:\n",
    "    # compute most common motives\n",
    "    combined_motives = np.column_stack((motives))\n",
    "    combined_motives = [\"\".join(test) for test in combined_motives]\n",
    "    from collections import Counter\n",
    "\n",
    "    c = Counter(combined_motives)\n",
    "    motive_percentage = [\n",
    "        (i, c[i] / len(combined_motives) * 100.0)\n",
    "        for i, count in c.most_common()\n",
    "    ]\n",
    "    # 10 most common motives and percentage of frames\n",
    "    print(motive_percentage[:10])"
   ]
  },
  {
   "cell_type": "code",
   "execution_count": 25,
   "id": "c1d2d6da",
   "metadata": {
    "tags": [
     "hide-cell"
    ]
   },
   "outputs": [],
   "source": [
    "if beta_run:\n",
    "    # Get indicies of most common motives\n",
    "    combined_motives = np.array(combined_motives)\n",
    "    idxs = []\n",
    "    values = [i[0] for i in c.most_common(10)]\n",
    "    for i, v in enumerate(values):\n",
    "        idxs.append(np.where(combined_motives == v)[0])"
   ]
  },
  {
   "cell_type": "markdown",
   "id": "coupled-appendix",
   "metadata": {},
   "outputs": [],
   "source": [
    "## Dimensionality Reductions\n",
    "The simulation trajectories contain the positions of all atoms. This high dimensional data (3*N_atoms) is too complicated to analyse by itself. To get a feeling of the potential energy landscape we need to apply some kind of dimensionality reduction. Here, we apply the PCA (Principal Component Analysis) method."
   ]
  },
  {
   "cell_type": "markdown",
   "id": "european-floor",
   "metadata": {},
   "outputs": [],
   "source": [
    "### Cartesian PCA\n",
    "Details about cartesian PCA"
   ]
  },
  {
   "cell_type": "code",
   "execution_count": 26,
   "id": "norman-western",
   "metadata": {
    "tags": [
     "hide-input"
    ]
   },
   "outputs": [],
   "source": [
    "c_pca, reduced_cartesian = src.pca.make_PCA(t, \"cartesian\")\n",
    "\n",
    "# reweighting:\n",
    "if snakemake.params.method == \"cMD\":\n",
    "    c_weights = reweight(reduced_cartesian, None, \"noweight\")\n",
    "else:\n",
    "    c_weights = reweight(reduced_cartesian, None, \"amdweight_MC\", weight_data)\n",
    "\n",
    "if multiple:\n",
    "    fig, axs = plt.subplots(\n",
    "        1, 2, sharex=\"all\", sharey=\"all\", figsize=(6.7323, 3.2677)\n",
    "    )\n",
    "    axs[0] = src.pca.plot_PCA(\n",
    "        reduced_cartesian,\n",
    "        \"cartesian\",\n",
    "        compound_index,\n",
    "        c_weights,\n",
    "        \"Energy [kcal/mol]\",\n",
    "        fig,\n",
    "        axs[0],\n",
    "        explained_variance=c_pca.explained_variance_ratio_[:2],\n",
    "    )\n",
    "    axs[1] = src.pca.plot_PCA_citra(\n",
    "        reduced_cartesian[cis],\n",
    "        reduced_cartesian[trans],\n",
    "        \"cartesian\",\n",
    "        compound_index,\n",
    "        [multi[\"cis\"] + \" (cis)\", multi[\"trans\"] + \" (trans)\"],\n",
    "        fig,\n",
    "        axs[1],\n",
    "    )\n",
    "\n",
    "else:\n",
    "    fig, ax = plt.subplots(figsize=(3.2677, 3.2677))\n",
    "    ax = src.pca.plot_PCA(\n",
    "        reduced_cartesian,\n",
    "        \"cartesian\",\n",
    "        compound_index,\n",
    "        c_weights,\n",
    "        \"Energy [kcal/mol]\",\n",
    "        fig,\n",
    "        ax,\n",
    "        explained_variance=c_pca.explained_variance_ratio_[:2],\n",
    "    )"
   ]
  },
  {
   "cell_type": "markdown",
   "id": "virtual-percentage",
   "metadata": {},
   "outputs": [],
   "source": [
    "### Pairwise distances PCA"
   ]
  },
  {
   "cell_type": "code",
   "execution_count": 27,
   "id": "synthetic-salmon",
   "metadata": {
    "tags": [
     "hide-input"
    ]
   },
   "outputs": [],
   "source": [
    "pd_pca, reduced_pd = src.pca.make_PCA(t, \"pairwise_N_O\")\n",
    "\n",
    "# reweighting:\n",
    "if snakemake.params.method == \"cMD\":\n",
    "    p_weights = reweight(reduced_pd, None, \"noweight\")\n",
    "else:\n",
    "    p_weights = reweight(reduced_pd, None, \"amdweight_MC\", weight_data)\n",
    "\n",
    "if multiple:\n",
    "    fig, axs = plt.subplots(\n",
    "        1, 2, sharex=\"all\", sharey=\"all\", figsize=(6.7323, 3.2677)\n",
    "    )\n",
    "    axs[0] = src.pca.plot_PCA(\n",
    "        reduced_pd,\n",
    "        \"pairwise\",\n",
    "        compound_index,\n",
    "        p_weights,\n",
    "        \"Energy [kcal/mol]\",\n",
    "        fig,\n",
    "        axs[0],\n",
    "        explained_variance=pd_pca.explained_variance_ratio_[:2],\n",
    "    )\n",
    "    axs[1] = src.pca.plot_PCA_citra(\n",
    "        reduced_pd[cis],\n",
    "        reduced_pd[trans],\n",
    "        \"pairwise\",\n",
    "        compound_index,\n",
    "        [multi[\"cis\"] + \" (cis)\", multi[\"trans\"] + \" (trans)\"],\n",
    "        fig,\n",
    "        axs[1],\n",
    "    )\n",
    "else:\n",
    "    fig, ax = plt.subplots(figsize=(3.2677, 3.2677))\n",
    "    ax = src.pca.plot_PCA(\n",
    "        reduced_pd,\n",
    "        \"pairwise\",\n",
    "        compound_index,\n",
    "        p_weights,\n",
    "        \"Energy [kcal/mol]\",\n",
    "        fig,\n",
    "        ax,\n",
    "        explained_variance=pd_pca.explained_variance_ratio_[:2],\n",
    "    )"
   ]
  },
  {
   "cell_type": "markdown",
   "id": "numeric-laptop",
   "metadata": {},
   "outputs": [],
   "source": [
    "### Dihedral PCA"
   ]
  },
  {
   "cell_type": "code",
   "execution_count": 28,
   "id": "fleet-observer",
   "metadata": {
    "tags": [
     "hide-input"
    ]
   },
   "outputs": [],
   "source": [
    "pca_d, reduced_dihedrals = src.pca.make_PCA(t, \"dihedral\")\n",
    "reduced_dihedrals_full = src.dihedrals.getReducedDihedrals(t)\n",
    "\n",
    "# save pca object & reduced dihedrals\n",
    "pickle_dump(snakemake.output.dPCA, pca_d)\n",
    "pickle_dump(snakemake.output.dihedrals, reduced_dihedrals_full)\n",
    "if not use_shortened:\n",
    "    pickle_dump(\n",
    "        snakemake.params.dihedrals_short,\n",
    "        reduced_dihedrals_full[::stride_short],\n",
    "    )\n",
    "\n",
    "# reweighting:\n",
    "if snakemake.params.method == \"cMD\":\n",
    "    d_weights = reweight(reduced_dihedrals, None, \"noweight\")\n",
    "else:\n",
    "    d_weights = reweight(reduced_dihedrals, None, \"amdweight_MC\", weight_data)\n",
    "if multiple:\n",
    "    fig, axs = plt.subplots(\n",
    "        1, 2, sharex=\"all\", sharey=\"all\", figsize=(6.7323, 3.2677)\n",
    "    )\n",
    "    axs[0] = src.pca.plot_PCA(\n",
    "        reduced_dihedrals,\n",
    "        \"dihedral\",\n",
    "        compound_index,\n",
    "        d_weights,\n",
    "        \"Energy [kcal/mol]\",\n",
    "        fig,\n",
    "        axs[0],\n",
    "        explained_variance=pca_d.explained_variance_ratio_[:2],\n",
    "    )\n",
    "    axs[1] = src.pca.plot_PCA_citra(\n",
    "        reduced_dihedrals[cis],\n",
    "        reduced_dihedrals[trans],\n",
    "        \"dihedral\",\n",
    "        compound_index,\n",
    "        [multi[\"cis\"] + \" (cis)\", multi[\"trans\"] + \" (trans)\"],\n",
    "        fig,\n",
    "        axs[1],\n",
    "    )\n",
    "    fig.savefig(snakemake.output.pca_dihe, dpi=DPI)\n",
    "else:\n",
    "    fig, ax = plt.subplots(figsize=(3.2677, 3.2677))\n",
    "    ax = src.pca.plot_PCA(\n",
    "        reduced_dihedrals,\n",
    "        \"dihedral\",\n",
    "        compound_index,\n",
    "        d_weights,\n",
    "        \"Energy [kcal/mol]\",\n",
    "        fig,\n",
    "        ax,\n",
    "        explained_variance=pca_d.explained_variance_ratio_[:2],\n",
    "    )\n",
    "    fig.tight_layout()\n",
    "    fig.savefig(snakemake.output.pca_dihe, dpi=DPI)\n",
    "final_figure_axs.append(sg.from_mpl(fig, savefig_kw={\"dpi\": DPI}))\n",
    "pickle_dump(snakemake.output.dPCA_weights_MC, d_weights)\n",
    "if not use_shortened:\n",
    "    pickle_dump(\n",
    "        snakemake.params.dPCA_weights_MC_short, d_weights[::stride_short]\n",
    "    )"
   ]
  },
  {
   "cell_type": "markdown",
   "id": "e00cba6c",
   "metadata": {},
   "outputs": [],
   "source": [
    "### Convergence in dPCA"
   ]
  },
  {
   "cell_type": "code",
   "execution_count": 29,
   "id": "bfa10cc8",
   "metadata": {},
   "outputs": [],
   "source": [
    "# Check convergence threshold. Divide the PCA landscape into a grid, \n",
    "# track all occupied cells at the end of the simulation. Then track\n",
    "# the fraction of occupied cells during the simulation, relative to the\n",
    "# full trajectory\n",
    "\n",
    "pca_values = reduced_dihedrals\n",
    "\n",
    "# Grid size\n",
    "grid_size = 10\n",
    "\n",
    "# When a grid point counts as occupied\n",
    "occupied_thresh = 1\n",
    "\n",
    "# Block size (5% of total data, -> 20 blocks)\n",
    "block_size = int(pca_values.shape[0] * 0.05)\n",
    "\n",
    "# Number of blocks\n",
    "num_blocks = pca_values.shape[0] // block_size\n",
    "\n",
    "# Initialize a grid to hold occupied values for each block\n",
    "occupied_grids = np.zeros((num_blocks, grid_size, grid_size))\n",
    "\n",
    "# Get the minimum and maximum values for each dimension\n",
    "min_val, max_val = np.min(pca_values, axis=0), np.max(pca_values, axis=0)\n",
    "\n",
    "# Calculate grid cell size\n",
    "cell_size = (max_val - min_val) / grid_size\n",
    "\n",
    "# Calculate mean of the full simulation\n",
    "mean_full = np.mean(pca_values, axis=0)\n",
    "\n",
    "total_filled_cells = 0\n",
    "for i in range(grid_size):\n",
    "    for j in range(grid_size):\n",
    "        cell_min = min_val + np.array([i * cell_size[0], j * cell_size[1]])\n",
    "        cell_max = cell_min + cell_size\n",
    "        \n",
    "        final_cell_data = pca_values[(pca_values[:,0] >= cell_min[0]) & \n",
    "                                   (pca_values[:,0] < cell_max[0]) & \n",
    "                                   (pca_values[:,1] >= cell_min[1]) & \n",
    "                                   (pca_values[:,1] < cell_max[1])]\n",
    "            \n",
    "        if final_cell_data.shape[0] > occupied_thresh:\n",
    "            total_filled_cells += 1\n",
    "print(f'{total_filled_cells} grid cells are filled (out of the total {grid_size**2})')\n",
    "\n",
    "# Calculate RMSD for each cell in the grid, for each block cumulatively\n",
    "for block in range(num_blocks):\n",
    "    block_data = pca_values[:(block+1)*block_size]\n",
    "    \n",
    "    for i in range(grid_size):\n",
    "        for j in range(grid_size):\n",
    "            # Define cell boundaries\n",
    "            cell_min = min_val + np.array([i * cell_size[0], j * cell_size[1]])\n",
    "            cell_max = cell_min + cell_size\n",
    "            \n",
    "            # Get data points in this cell, within this block\n",
    "            cell_data = block_data[(block_data[:,0] >= cell_min[0]) & \n",
    "                                   (block_data[:,0] < cell_max[0]) & \n",
    "                                   (block_data[:,1] >= cell_min[1]) & \n",
    "                                   (block_data[:,1] < cell_max[1])]\n",
    "\n",
    "            if cell_data.shape[0] > occupied_thresh:\n",
    "                occupied_grids[block, i, j] = 1\n",
    "\n",
    "\n",
    "# Calculate average occupancy per data point for each block\n",
    "avg_occupancy = np.sum(occupied_grids, axis=(1,2)) / total_filled_cells #(np.arange(num_blocks)+1) / block_size\n",
    "\n",
    "# Plot average RMSD as a function of block number\n",
    "x_data = (np.array(range(num_blocks)) / 20 * simtime) + simtime/20\n",
    "plt.plot(x_data, avg_occupancy, label='GaMD simulation')\n",
    "plt.axhline(y=0.95, ls='--', color='red', label='95% of occupied cells visited')\n",
    "plt.xlim([0,2000])\n",
    "plt.xlabel('Cummulative simulation time (ns)')\n",
    "plt.ylabel('Fraction of occupied d-PCA cells filled')\n",
    "plt.legend()\n",
    "plt.savefig(snakemake.output.conv_plot, dpi=DPI)"
   ]
  },
  {
   "cell_type": "code",
   "execution_count": 30,
   "id": "9607d15c",
   "metadata": {},
   "outputs": [],
   "source": [
    "threshhold = 0.95\n",
    "converged_block = np.where(avg_occupancy >= 0.95)[0][0] + 1\n",
    "print(f'95% of the PCA landscape are visited within {converged_block / 20 * simtime} ns')\n",
    "result = {'converged_block': int(converged_block), 'converged_time': int(converged_block / 20 * simtime)}\n",
    "# save result as json\n",
    "from src.utils import json_dump\n",
    "json_dump(snakemake.output.conv_data, result)\n"
   ]
  },
  {
   "cell_type": "code",
   "execution_count": 31,
   "id": "e71372a6",
   "metadata": {},
   "outputs": [],
   "source": [
    "from matplotlib import colors\n",
    "fig, axs = plt.subplots(4,5)\n",
    "\n",
    "# make a color map of fixed colors\n",
    "cmap = colors.ListedColormap(['blue', 'yellow'])\n",
    "bounds=[0,0.5,1]\n",
    "norm = colors.BoundaryNorm(bounds, cmap.N)\n",
    "\n",
    "for i in range(occupied_grids.shape[0]):\n",
    "    im = axs.flatten()[i].imshow(occupied_grids[i], interpolation='nearest', origin='lower',\n",
    "                    cmap=cmap, norm=norm)\n",
    "    axs.flatten()[i].set_title(f\"<{int(x_data[i])} ns\")\n",
    "    \n",
    "fig.tight_layout()\n",
    "fig.colorbar(im, ax=axs, cmap=cmap, norm=norm, boundaries=bounds, ticks=[0, 1])\n",
    "fig.savefig(snakemake.output.grid_cells, dpi=DPI)"
   ]
  },
  {
   "cell_type": "code",
   "execution_count": 32,
   "id": "7fcd9f7a",
   "metadata": {
    "tags": [
     "remove-cell"
    ]
   },
   "outputs": [],
   "source": [
    "# Interactive plot\n",
    "# pos = reduced_dihedrals\n",
    "# src.utils.link_ngl_wdgt_to_ax_pos(ax, pos, v)\n",
    "# v\n",
    "\n",
    "# phi, psi, omega = src.dihedrals.getDihedrals(t[95852])\n",
    "# print(np.mean(np.degrees(phi), axis=0), np.mean(np.degrees(psi), axis=0), np.mean(np.degrees(omega), axis=0))"
   ]
  },
  {
   "cell_type": "code",
   "execution_count": 33,
   "id": "469361de",
   "metadata": {
    "tags": [
     "hide-cell"
    ]
   },
   "outputs": [],
   "source": [
    "if beta_run:\n",
    "    # Plot structural digits on top of dPCA\n",
    "    fig, axs = plt.subplots(2, 5, sharex=\"all\", sharey=\"all\")\n",
    "    fig.set_size_inches(12, 8)\n",
    "    for i in range(10):\n",
    "        axs.flatten()[i] = src.pca.plot_PCA(\n",
    "            reduced_dihedrals,\n",
    "            \"dihedral\",\n",
    "            compound_index,\n",
    "            d_weights,\n",
    "            \"Energy [kcal/mol]\",\n",
    "            fig,\n",
    "            axs.flatten()[i],\n",
    "            cbar_plot=\"nocbar\",\n",
    "            explained_variance=pca_d.explained_variance_ratio_[:2],\n",
    "        )\n",
    "        axs.flatten()[i].scatter(\n",
    "            reduced_dihedrals[idxs[i]][:, 0],\n",
    "            reduced_dihedrals[idxs[i]][:, 1],\n",
    "            label=values[i],\n",
    "            s=0.2,\n",
    "            marker=\".\",\n",
    "            color=\"black\",\n",
    "        )\n",
    "        axs.flatten()[i].set_title(\n",
    "            f\"{values[i]}: {motive_percentage[i][1]:.2f}%\"\n",
    "        )\n",
    "    fig.tight_layout()"
   ]
  },
  {
   "cell_type": "markdown",
   "id": "e75bbbb6",
   "metadata": {},
   "outputs": [],
   "source": [
    "### TSNE"
   ]
  },
  {
   "cell_type": "code",
   "execution_count": 34,
   "id": "hindu-hartford",
   "metadata": {
    "tags": [
     "hide-input"
    ]
   },
   "outputs": [],
   "source": [
    "# TSNE dimensionality reduction\n",
    "# TSNE\n",
    "if not use_shortened:\n",
    "    plot_stride = 100\n",
    "else:\n",
    "    plot_stride = 1\n",
    "cluster_stride = plot_stride  # 125 previously\n",
    "dihe = src.dihedrals.getReducedDihedrals(t)\n",
    "tsne = TSNE(\n",
    "    n_components=2, verbose=0, perplexity=50, n_iter=2000, random_state=42\n",
    ")\n",
    "tsne_results = tsne.fit_transform(dihe[::cluster_stride, :])  # 250\n",
    "plt.scatter(tsne_results[:, 0], tsne_results[:, 1])\n",
    "plt.xlabel(\"t-SNE dimension 1\")\n",
    "plt.ylabel(\"t-SNE dimension 2\")\n",
    "plt.show()"
   ]
  },
  {
   "cell_type": "markdown",
   "id": "29eb3c6c",
   "metadata": {},
   "outputs": [],
   "source": [
    "### Shape analysis - principal moments of inertia"
   ]
  },
  {
   "cell_type": "code",
   "execution_count": 35,
   "id": "f64e1a1c",
   "metadata": {
    "tags": [
     "hide-input"
    ]
   },
   "outputs": [],
   "source": [
    "inertia_tensor = md.compute_inertia_tensor(t)\n",
    "principal_moments = np.linalg.eigvalsh(inertia_tensor)\n",
    "\n",
    "# Compute normalized principal moments of inertia\n",
    "npr1 = principal_moments[:, 0] / principal_moments[:, 2]\n",
    "npr2 = principal_moments[:, 1] / principal_moments[:, 2]\n",
    "mol_shape = np.stack((npr1, npr2), axis=1)\n",
    "\n",
    "# Reweighting\n",
    "if snakemake.params.method == \"cMD\":\n",
    "    mol_shape_weights = reweight(mol_shape, None, \"noweight\")\n",
    "else:\n",
    "    mol_shape_weights = reweight(mol_shape, None, \"amdweight_MC\", weight_data)\n",
    "\n",
    "# save\n",
    "pickle_dump(snakemake.output.NPR_shape_data, mol_shape)\n",
    "pickle_dump(snakemake.output.NPR_shape_weights, mol_shape_weights)"
   ]
  },
  {
   "cell_type": "code",
   "execution_count": 36,
   "id": "acd166b9",
   "metadata": {},
   "outputs": [],
   "source": [
    "# Plot\n",
    "x = mol_shape[:, 0]\n",
    "y = mol_shape[:, 1]\n",
    "v = mol_shape_weights\n",
    "# create a triangulation out of these points\n",
    "T = tri.Triangulation(x, y)\n",
    "\n",
    "fig, ax = plt.subplots(figsize=(3.2677, 3.2677))\n",
    "\n",
    "# plot the contour\n",
    "# plt.tricontourf(x,y,T.triangles,v)\n",
    "scat = ax.scatter(\n",
    "    mol_shape[:, 0],\n",
    "    mol_shape[:, 1],\n",
    "    s=0.5,\n",
    "    c=mol_shape_weights,\n",
    "    cmap=\"Spectral_r\",\n",
    "    vmin=0,\n",
    "    vmax=8,\n",
    "    rasterized=True,\n",
    ")\n",
    "\n",
    "# create the grid\n",
    "corners = np.array([[1, 1], [0.5, 0.5], [0, 1]])\n",
    "triangle = tri.Triangulation(corners[:, 0], corners[:, 1])\n",
    "\n",
    "# creating the outline\n",
    "refiner = tri.UniformTriRefiner(triangle)\n",
    "outline = refiner.refine_triangulation(subdiv=0)\n",
    "\n",
    "# creating the outline\n",
    "refiner = tri.UniformTriRefiner(triangle)\n",
    "trimesh = refiner.refine_triangulation(subdiv=2)\n",
    "\n",
    "# plotting the mesh\n",
    "ax.triplot(trimesh, \"--\", color=\"grey\")\n",
    "ax.triplot(outline, \"k-\")\n",
    "ax.set_xlabel(r\"$I_{1}/I_{3}$\")\n",
    "ax.set_ylabel(\"$I_{2}/I_{3}$\")\n",
    "ax.text(0, 1.01, \"rod\")\n",
    "ax.text(0.75, 1.01, \"sphere\")\n",
    "ax.text(0.52, 0.48, \"disk\")\n",
    "ax.set_ylim(0.45, 1.05)  # 0.6\n",
    "ax.set_xlim(-0.05, 1.08)  # 1.13\n",
    "ax.set_aspect(1.88)  # 1.13 / 0.6\n",
    "ax.set_title(\"Shape analysis\")\n",
    "\n",
    "colorbar = fig.colorbar(\n",
    "    scat, label=\"Energy [kcal/mol]\", fraction=0.046, pad=0.04\n",
    ")\n",
    "\n",
    "fig.tight_layout()\n",
    "fig.savefig(snakemake.output.NPR_shape_plot, dpi=DPI)\n",
    "# final_figure_axs.append(sg.from_mpl(fig, savefig_kw={\"dpi\": DPI}))"
   ]
  },
  {
   "cell_type": "code",
   "execution_count": 37,
   "id": "5c352106",
   "metadata": {
    "tags": [
     "remove-cell"
    ]
   },
   "outputs": [],
   "source": [
    "if beta_run:\n",
    "    # SASA\n",
    "    sasa = md.shrake_rupley(t)\n",
    "    total_sasa = sasa.sum(axis=1)"
   ]
  },
  {
   "cell_type": "code",
   "execution_count": 38,
   "id": "a2793674",
   "metadata": {
    "tags": [
     "remove-cell"
    ]
   },
   "outputs": [],
   "source": [
    "if beta_run:\n",
    "    x = [x / len(total_sasa) * simtime for x in range(0, len(total_sasa))]\n",
    "    plt.plot(x, total_sasa)\n",
    "    plt.xlabel(\"Simulation time [ns]\")\n",
    "    plt.ylabel(\"Total SASA [(nm)^2]\")"
   ]
  },
  {
   "cell_type": "code",
   "execution_count": 39,
   "id": "b2faab7a",
   "metadata": {
    "tags": [
     "remove-cell"
    ]
   },
   "outputs": [],
   "source": [
    "if beta_run:\n",
    "    plt.hist(total_sasa)\n",
    "    plt.ylabel(\"Count\")\n",
    "    plt.xlabel(\"Total SASA [(nm)^2]\")"
   ]
  },
  {
   "cell_type": "code",
   "execution_count": 40,
   "id": "68a24a91",
   "metadata": {
    "tags": [
     "remove-cell"
    ]
   },
   "outputs": [],
   "source": [
    "if beta_run:\n",
    "    # SASA Reweighting\n",
    "    if snakemake.params.method == \"cMD\":\n",
    "        pmf, distances = src.reweight_1d_pmf(total_sasa, None, \"noweight\")\n",
    "    else:\n",
    "        pmf, distances = src.reweight_1d_pmf(total_sasa, None, \"amdweight_MC\")\n",
    "    # Plot\n",
    "    plt.plot(distances[:-1], pmf, label=\"SASA\")\n",
    "    plt.xlabel(r\"SASA ($\\AA$)\")\n",
    "    plt.ylabel(\"PMF (kcal/mol)\")\n",
    "    plt.title(f\"Compound {compound_index}\")"
   ]
  },
  {
   "cell_type": "markdown",
   "id": "1a8eab74",
   "metadata": {},
   "outputs": [],
   "source": [
    "### Cremer pople analysis"
   ]
  },
  {
   "cell_type": "code",
   "execution_count": 41,
   "id": "796faac7",
   "metadata": {
    "tags": [
     "hide-input"
    ]
   },
   "outputs": [],
   "source": [
    "# load topology reference\n",
    "# mol_ref = Chem.MolFromPDBFile(pdb_amber, removeHs=False, proximityBonding=True) #removeHs=True, proximityBonding=True)\n",
    "mol_ref = Chem.MolFromMol2File(\n",
    "    snakemake.input.ref_mol,\n",
    "    removeHs=False,\n",
    ")\n",
    "mol_ref.RemoveAllConformers()\n",
    "display(Markdown(\"Topology Reference:\"))\n",
    "mol_ref"
   ]
  },
  {
   "cell_type": "code",
   "execution_count": 42,
   "id": "f2d4513c",
   "metadata": {
    "tags": [
     "hide-cell"
    ]
   },
   "outputs": [],
   "source": [
    "mol_ref.GetNumAtoms() == t.n_atoms"
   ]
  },
  {
   "cell_type": "code",
   "execution_count": 43,
   "id": "12c54ebb",
   "metadata": {
    "tags": [
     "hide-cell"
    ]
   },
   "outputs": [],
   "source": [
    "# Get Bond Set\n",
    "bonds = []\n",
    "for bond in mol_ref.GetBonds():\n",
    "    bonds.append((bond.GetBeginAtom().GetIdx(), bond.GetEndAtom().GetIdx()))\n",
    "\n",
    "cremerpople_store = []\n",
    "\n",
    "data = py_rdl.Calculator.get_calculated_result(bonds)\n",
    "\n",
    "ring_length = []\n",
    "for urf in data.urfs:\n",
    "    rcs = data.get_relevant_cycles_for_urf(urf)\n",
    "    for rc in rcs:\n",
    "        ring_length.append(\n",
    "            len(src.Ring_Analysis.Rearrangement(mol_ref, list(rc.nodes)))\n",
    "        )\n",
    "max_ring = ring_length.index(max(ring_length))\n",
    "\n",
    "# for urf in data.urfs:\n",
    "urf = data.urfs[max_ring]\n",
    "rcs = data.get_relevant_cycles_for_urf(urf)\n",
    "for rc in rcs:\n",
    "    ringloop = src.Ring_Analysis.Rearrangement(\n",
    "        mol_ref, list(rc.nodes)\n",
    "    )  # rearrange the ring atom order\n",
    "    # src.Ring_Analysis.CTPOrder(mol_ref, list(rc.nodes), n_res=t.n_residues) ## this does not work...\n",
    "    coord = t.xyz[:, ringloop]\n",
    "    for i in range(t.n_frames):\n",
    "        ccoord = src.Ring_Analysis.Translate(coord[i])\n",
    "        qs, angle = src.Ring_Analysis.GetRingPuckerCoords(\n",
    "            ccoord\n",
    "        )  # get cremer-pople parameters\n",
    "        qs.extend([abs(x) for x in angle])\n",
    "        cremerpople_store.append(qs)  # flatten tuple/list to just 1d list...\n",
    "        # coord = np.array([mol0.GetConformer(1).GetAtomPosition(atom) for atom in ringloop]) # get current ring atom coordinates\n",
    "        # ccoord = RA.Translate(coord) # translate ring with origin as cetner\n",
    "        # cremerpople = RA.GetRingPuckerCoords(ccoord) # get cremer-pople parameters\n",
    "\n",
    "cremerpople_store = np.array(cremerpople_store)"
   ]
  },
  {
   "cell_type": "code",
   "execution_count": 44,
   "id": "033ee678",
   "metadata": {
    "tags": [
     "remove-cell"
    ]
   },
   "outputs": [],
   "source": [
    "# if beta_run:\n",
    "#     cremerpople_store = cremerpople_store[1000000:]"
   ]
  },
  {
   "cell_type": "code",
   "execution_count": 45,
   "id": "0bacc521",
   "metadata": {
    "scrolled": true,
    "tags": [
     "hide-input"
    ]
   },
   "outputs": [],
   "source": [
    "# from sklearn.preprocessing import normalize\n",
    "\n",
    "pca = PCA(n_components=2)\n",
    "pca_input = cremerpople_store.reshape(t.n_frames, len(qs))\n",
    "# normalize(cremerpople_store.reshape(t.n_frames, len(qs)))\n",
    "\n",
    "cp_reduced_output = pca.fit_transform(pca_input)\n",
    "\n",
    "if snakemake.params.method == \"cMD\":\n",
    "    cp_weights = reweight(cp_reduced_output, None, \"noweight\")\n",
    "else:\n",
    "    cp_weights = reweight(cp_reduced_output, None, \"amdweight_MC\", weight_data)\n",
    "\n",
    "ax = src.pca.plot_PCA(\n",
    "    cp_reduced_output,\n",
    "    \"CP\",\n",
    "    compound_index,\n",
    "    cp_weights,\n",
    "    explained_variance=pca.explained_variance_ratio_[:2],\n",
    ")\n",
    "\n",
    "if multiple:\n",
    "    src.pca.plot_PCA_citra(\n",
    "        cp_reduced_output[cis],\n",
    "        cp_reduced_output[trans],\n",
    "        \"CP\",\n",
    "        compound_index,\n",
    "        label=None,\n",
    "        fig=None,\n",
    "        ax=None,\n",
    "    )"
   ]
  },
  {
   "cell_type": "markdown",
   "id": "7af10ddb",
   "metadata": {},
   "outputs": [],
   "source": [
    "### Comparison"
   ]
  },
  {
   "cell_type": "markdown",
   "id": "8c73d032",
   "metadata": {},
   "outputs": [],
   "source": [
    "````{margin}\n",
    "```{note}\n",
    "Select parts of any plot to see the same selection in a different representation.\n",
    "```\n",
    "````"
   ]
  },
  {
   "cell_type": "code",
   "execution_count": 46,
   "id": "85747054",
   "metadata": {
    "tags": [
     "hide-cell"
    ]
   },
   "outputs": [],
   "source": [
    "# produce a shared datasource with shared labels\n",
    "if not use_shortened:\n",
    "    plot_stride = 100\n",
    "else:\n",
    "    plot_stride = 1\n",
    "reduced_dihedrals_t = reduced_dihedrals[::plot_stride]\n",
    "reduced_pd_t = reduced_pd[::plot_stride]\n",
    "mol_shape_t = mol_shape[::plot_stride]\n",
    "\n",
    "# Either show cremer pople, or show shapes\n",
    "show_cremer_pople = False\n",
    "\n",
    "if show_cremer_pople:\n",
    "    crepop_t = cp_reduced_output[::plot_stride]\n",
    "    tmp_dict = {\n",
    "        \"dh_pc1\": reduced_dihedrals_t[:, 0],\n",
    "        \"dh_pc2\": reduced_dihedrals_t[:, 1],\n",
    "        \"pd_pc1\": reduced_pd_t[:, 0],\n",
    "        \"pd_pc2\": reduced_pd_t[:, 1],\n",
    "        \"tsne1\": tsne_results[:, 0],\n",
    "        \"tsne2\": tsne_results[:, 1],\n",
    "        \"cp1\": crepop_t[:, 0],\n",
    "        \"cp2\": crepop_t[:, 1],\n",
    "    }\n",
    "else:\n",
    "    tmp_dict = {\n",
    "        \"dh_pc1\": reduced_dihedrals_t[:, 0],\n",
    "        \"dh_pc2\": reduced_dihedrals_t[:, 1],\n",
    "        \"pd_pc1\": reduced_pd_t[:, 0],\n",
    "        \"pd_pc2\": reduced_pd_t[:, 1],\n",
    "        \"tsne1\": tsne_results[:, 0],\n",
    "        \"tsne2\": tsne_results[:, 1],\n",
    "        \"npr1\": mol_shape_t[:, 0],\n",
    "        \"npr2\": mol_shape_t[:, 1],\n",
    "    }\n",
    "df = pd.DataFrame(tmp_dict)\n",
    "source = ColumnDataSource(data=df)"
   ]
  },
  {
   "cell_type": "code",
   "execution_count": 47,
   "id": "6e124c1d",
   "metadata": {
    "tags": [
     "hide-input"
    ]
   },
   "outputs": [],
   "source": [
    "# Linked plots in different representations\n",
    "from bokeh.io import output_file, show\n",
    "from bokeh.layouts import gridplot\n",
    "from bokeh.models import ColumnDataSource, Label, LabelSet\n",
    "from bokeh.plotting import figure\n",
    "from bokeh.models import BooleanFilter, CDSView\n",
    "\n",
    "TOOLS = \"box_select,lasso_select,reset\"\n",
    "\n",
    "# create a new plot and add a renderer\n",
    "left = figure(\n",
    "    tools=TOOLS, plot_width=300, plot_height=300, title=\"Dihedral PCA\"\n",
    ")\n",
    "left.dot(\"dh_pc1\", \"dh_pc2\", source=source, selection_color=\"firebrick\")\n",
    "\n",
    "# create another new plot, add a renderer that uses the view of the data source\n",
    "right = figure(\n",
    "    tools=TOOLS, plot_width=300, plot_height=300, title=\"Pairwise NO distances\"\n",
    ")\n",
    "right.dot(\"pd_pc1\", \"pd_pc2\", source=source, selection_color=\"firebrick\")\n",
    "\n",
    "rightr = figure(\n",
    "    tools=TOOLS,\n",
    "    plot_width=300,\n",
    "    plot_height=300,\n",
    "    title=\"TSNE (of dihedral angles)\",\n",
    ")\n",
    "rightr.dot(\"tsne1\", \"tsne2\", source=source, selection_color=\"firebrick\")\n",
    "\n",
    "if show_cremer_pople:\n",
    "    rightrr = figure(\n",
    "        tools=TOOLS, plot_width=300, plot_height=300, title=\"Cremer-Pople\"\n",
    "    )\n",
    "    rightrr.dot(\"cp1\", \"cp2\", source=source, selection_color=\"firebrick\")\n",
    "else:\n",
    "    rightrr = figure(tools=TOOLS, plot_width=300, plot_height=300, title=\"PMI\")\n",
    "    rightrr.dot(\"npr1\", \"npr2\", source=source, selection_color=\"firebrick\")\n",
    "    rightrr.line(\n",
    "        [0.5, 0, 1, 0.5], [0.5, 1, 1, 0.5], line_width=2, color=\"black\"\n",
    "    )\n",
    "    rightrr.line(\n",
    "        [0.45, -0.05, 1.05, 0.45],\n",
    "        [0.4, 1.1, 1.1, 0.4],\n",
    "        line_width=2,\n",
    "        color=\"white\",\n",
    "        line_alpha=0,\n",
    "    )\n",
    "\n",
    "    triangle = ColumnDataSource(\n",
    "        data=dict(\n",
    "            x=[0, 0.83, 0.44], y=[1, 1, 0.45], names=[\"rod\", \"sphere\", \"disk\"]\n",
    "        )\n",
    "    )\n",
    "\n",
    "    labels = LabelSet(\n",
    "        x=\"x\",\n",
    "        y=\"y\",\n",
    "        text=\"names\",\n",
    "        x_offset=0,\n",
    "        y_offset=0,\n",
    "        source=triangle,\n",
    "        render_mode=\"canvas\",\n",
    "    )\n",
    "\n",
    "    rightrr.add_layout(labels)\n",
    "\n",
    "p = gridplot([[left, right, rightr, rightrr]], sizing_mode=\"stretch_width\")\n",
    "show(p)"
   ]
  },
  {
   "cell_type": "markdown",
   "id": "829f8462",
   "metadata": {},
   "outputs": [],
   "source": [
    "## Solvation properties"
   ]
  },
  {
   "cell_type": "code",
   "execution_count": 48,
   "id": "1f829557",
   "metadata": {},
   "outputs": [],
   "source": [
    "# compute solvent accessible surface area\n",
    "sasa = md.shrake_rupley(t)\n",
    "total_sasa = sasa.sum(axis=1)"
   ]
  },
  {
   "cell_type": "code",
   "execution_count": 49,
   "id": "20b47675",
   "metadata": {},
   "outputs": [],
   "source": [
    "# compute polar surface area (PSA) with mdtraj, using nitrogen, oxygen and h atoms attached to either a nitrogenn or oxygen\n",
    "# atom of amino acids\n",
    "\n",
    "# select N, O, and H atoms attached to N or O\n",
    "n_o = t.top.select('element N O')\n",
    "\n",
    "# from the trajectory t, only consider n_o_h atoms\n",
    "t_n_o = t.atom_slice(n_o)\n",
    "\n",
    "# compute polar surface area\n",
    "psa = md.shrake_rupley(t_n_o)\n",
    "\n",
    "total_psa = psa.sum(axis=1)"
   ]
  },
  {
   "cell_type": "code",
   "execution_count": 50,
   "id": "781080b0",
   "metadata": {},
   "outputs": [],
   "source": [
    "x = [x / len(total_sasa) * simtime for x in range(0, len(total_sasa))]\n",
    "plt.plot(x, total_sasa)\n",
    "plt.xlabel(\"Simulation time [ns]\")\n",
    "plt.ylabel(\"Total SASA [(nm)^2]\")"
   ]
  },
  {
   "cell_type": "code",
   "execution_count": 51,
   "id": "7789caa3",
   "metadata": {},
   "outputs": [],
   "source": [
    "plt.hist(total_sasa)\n",
    "plt.ylabel(\"Count\")\n",
    "plt.xlabel(\"Total SASA [(nm)^2]\")"
   ]
  },
  {
   "cell_type": "code",
   "execution_count": 52,
   "id": "2d709649",
   "metadata": {},
   "outputs": [],
   "source": [
    "x = [x / len(total_psa) * simtime for x in range(0, len(total_psa))]\n",
    "plt.plot(x, total_psa)\n",
    "plt.xlabel(\"Simulation time [ns]\")\n",
    "plt.ylabel(\"Total PSA [(nm)^2]\")"
   ]
  },
  {
   "cell_type": "code",
   "execution_count": 53,
   "id": "9e341d35",
   "metadata": {},
   "outputs": [],
   "source": [
    "plt.hist(total_psa)\n",
    "plt.ylabel(\"Count\")\n",
    "plt.xlabel(\"Total PSA [(nm)^2]\")"
   ]
  },
  {
   "cell_type": "code",
   "execution_count": 54,
   "id": "5bba15af",
   "metadata": {},
   "outputs": [],
   "source": [
    "from src.pyreweight import reweight_1d_pmf\n",
    "# SASA Reweighting\n",
    "if snakemake.params.method == \"cMD\":\n",
    "    pmf, distances = reweight_1d_pmf(total_sasa, None, \"noweight\")\n",
    "else:\n",
    "    pmf, distances = reweight_1d_pmf(total_sasa, None, \"amdweight_MC\", weight_data=weight_data)\n",
    "# Plot\n",
    "plt.plot(distances[:-1], pmf, label=\"SASA\")\n",
    "plt.xlabel(r\"SASA ($\\AA$)\")\n",
    "plt.ylabel(\"PMF (kcal/mol)\")\n",
    "plt.title(f\"Compound {compound_index}\")\n",
    "minimum_sasa = distances[np.argmin(pmf)]"
   ]
  },
  {
   "cell_type": "code",
   "execution_count": 55,
   "id": "a151480b",
   "metadata": {},
   "outputs": [],
   "source": [
    "# PSA Reweighting\n",
    "if snakemake.params.method == \"cMD\":\n",
    "    pmf, distances = reweight_1d_pmf(total_psa, None, \"noweight\")\n",
    "else:\n",
    "    pmf, distances = reweight_1d_pmf(total_psa, None, \"amdweight_MC\", weight_data=weight_data)\n",
    "# Plot\n",
    "plt.plot(distances[:-1], pmf, label=\"PSA\")\n",
    "plt.xlabel(r\"PSA ($\\AA$)\")\n",
    "plt.ylabel(\"PMF (kcal/mol)\")\n",
    "plt.title(f\"Compound {compound_index}\")\n",
    "minimum_psa = distances[np.argmin(pmf)]"
   ]
  },
  {
   "cell_type": "code",
   "execution_count": 56,
   "id": "f7fb0b66",
   "metadata": {},
   "outputs": [],
   "source": [
    "# save sasa and psa to json\n",
    "solv_props = {}\n",
    "solv_props[\"minimum_sasa\"] = minimum_sasa\n",
    "solv_props[\"minimum_psa\"] = minimum_psa"
   ]
  },
  {
   "cell_type": "code",
   "execution_count": 57,
   "id": "f92354a1",
   "metadata": {},
   "outputs": [],
   "source": [
    "from src.utils import json_dump, pickle_dump\n",
    "json_dump(snakemake.output.solvation_properties, solv_props)\n",
    "pickle_dump(snakemake.output.sasa, total_sasa)\n",
    "pickle_dump(snakemake.output.psa, total_psa)"
   ]
  },
  {
   "cell_type": "markdown",
   "id": "c5bd830b",
   "metadata": {},
   "outputs": [],
   "source": [
    "## DBSCAN-Clustering "
   ]
  },
  {
   "cell_type": "markdown",
   "id": "9522cecc",
   "metadata": {},
   "outputs": [],
   "source": [
    "The following section provides details about the performed DBSCAN clustering. Detailed plots about parameter derivation for the clustering are hidden, but can be revealed."
   ]
  },
  {
   "cell_type": "code",
   "execution_count": 58,
   "id": "fuzzy-stations",
   "metadata": {
    "tags": [
     "hide-cell"
    ]
   },
   "outputs": [],
   "source": [
    "# Derive epsilon for DBSCAN-clustering from data: epsilon = max distance between nearest neighbors\n",
    "nbrs = NearestNeighbors(n_neighbors=2).fit(tsne_results)\n",
    "distances, indices = nbrs.kneighbors(tsne_results)\n",
    "epsilon = distances.max()\n",
    "distances = np.sort(distances, axis=0)\n",
    "distances = distances[:, 1]\n",
    "plt.plot(distances)\n",
    "plt.title(\"NN-distances in tsne plot\")\n",
    "plt.ylabel(\"NN-distance\")\n",
    "plt.show()"
   ]
  },
  {
   "cell_type": "code",
   "execution_count": 59,
   "id": "superb-strip",
   "metadata": {
    "tags": [
     "hide-cell"
    ]
   },
   "outputs": [],
   "source": [
    "# Perform DBSCAN-clustering with varying min_samples parameter\n",
    "num_clusters = []\n",
    "num_noise = []\n",
    "for i in range(0, 200, 1):\n",
    "    clustering = DBSCAN(eps=epsilon, min_samples=i).fit(tsne_results)\n",
    "    labels = clustering.labels_\n",
    "    n_clusters = len(set(labels)) - (1 if -1 in labels else 0)\n",
    "    n_noise = list(labels).count(-1)\n",
    "    num_clusters.append(n_clusters)\n",
    "    num_noise.append(n_noise)\n",
    "\n",
    "# Drop all points following the first detection of 0 clusters\n",
    "num_clusters = np.array(num_clusters)\n",
    "cutoff = np.argmin(num_clusters > 0)\n",
    "num_clusters = num_clusters[:cutoff]\n",
    "# print(num_clusters)\n",
    "\n",
    "x = np.arange(0, len(num_clusters))"
   ]
  },
  {
   "cell_type": "code",
   "execution_count": 60,
   "id": "cathedral-hollywood",
   "metadata": {
    "tags": [
     "hide-cell"
    ]
   },
   "outputs": [],
   "source": [
    "# Fit polynomial to detect right-most plateau\n",
    "if x.size > 0:\n",
    "    mymodel = np.poly1d(np.polyfit(x, num_clusters, 8))\n",
    "\n",
    "    deriv = mymodel.deriv()\n",
    "    roots = deriv.roots\n",
    "\n",
    "    # discard complex roots\n",
    "    r_roots = roots[np.isreal(roots)].real\n",
    "\n",
    "    # discard negative values\n",
    "    r_roots = r_roots[r_roots >= 0]\n",
    "\n",
    "    # discard values greater than x.max()\n",
    "    r_roots = r_roots[r_roots <= x.max() - 3]\n",
    "\n",
    "    # Take largest root\n",
    "    if r_roots != []:\n",
    "        min_samples = int(r_roots.max())\n",
    "        print(\n",
    "            f\"min_samples = {min_samples} was selected as parameter for clustering\"\n",
    "        )\n",
    "    else:\n",
    "        min_samples = 15\n",
    "        print(\n",
    "            \"Caution! min samples parameter was selected as fixed value b/c automatic determination failed. specify the parameter manually in the config!\"\n",
    "        )\n",
    "else:\n",
    "    min_samples = 15\n",
    "# If config overrides, use config value:\n",
    "if snakemake.wildcards.index in snakemake.config[\"cluster_conf\"]:\n",
    "    min_samples = int(\n",
    "        snakemake.config[\"cluster_conf\"][snakemake.wildcards.index]\n",
    "    )\n",
    "    print(\n",
    "        f\"Override: Use min_samples={min_samples} instead of the above determined parameter\"\n",
    "    )"
   ]
  },
  {
   "cell_type": "code",
   "execution_count": 61,
   "id": "d0526fca",
   "metadata": {
    "tags": [
     "hide-cell"
    ]
   },
   "outputs": [],
   "source": [
    "# Alternative: determine min_samples parameter by deciding for a fix fraction of points to classify as noise\n",
    "# set cutoff as threshold percent of noise\n",
    "threshhold = 0.05\n",
    "num_noise = np.array(num_noise)\n",
    "min_samples = np.argmin(num_noise < len(tsne_results) * threshhold)\n",
    "# noise_cutoff\n",
    "# min_samples = 8\n",
    "display(\n",
    "    f\"Override: Use min_samples={min_samples} instead of the above determined parameter\"\n",
    ")"
   ]
  },
  {
   "cell_type": "code",
   "execution_count": 62,
   "id": "retired-leader",
   "metadata": {
    "tags": [
     "hide-cell"
    ]
   },
   "outputs": [],
   "source": [
    "plt.scatter(\n",
    "    x, num_clusters, label=\"clustering with different min_sample parm.\"\n",
    ")\n",
    "if x.size > 0:\n",
    "    plt.plot(x, mymodel(x), label=\"poly-fit\")\n",
    "    plt.vlines(\n",
    "        min_samples,\n",
    "        2,\n",
    "        num_clusters.max(),\n",
    "        color=\"red\",\n",
    "        label=\"selected min_sample paramter\",\n",
    "    )\n",
    "    plt.plot(x, deriv(x), label=\"derivative of poly-fit\")\n",
    "plt.legend(loc=\"lower left\")\n",
    "plt.title(\"Determining min_samples parameter for clustering\")\n",
    "plt.xlabel(\"min_samples parameter\")\n",
    "plt.ylabel(\"Number of clusters observed\")\n",
    "plt.savefig(snakemake.output.cluster_min_samp, dpi=DPI)"
   ]
  },
  {
   "cell_type": "code",
   "execution_count": 63,
   "id": "norman-hamilton",
   "metadata": {
    "tags": [
     "hide-cell"
    ]
   },
   "outputs": [],
   "source": [
    "plt.plot(num_noise, label=\"Number of points classified as noise\")\n",
    "plt.xlabel(\"min_samples parameter\")\n",
    "plt.ylabel(\"Number of points classified as noise\")\n",
    "plt.title(\"Number of points classified as noise\")\n",
    "plt.show()"
   ]
  },
  {
   "cell_type": "code",
   "execution_count": 64,
   "id": "chemical-aspect",
   "metadata": {
    "tags": [
     "hide-input"
    ]
   },
   "outputs": [],
   "source": [
    "# Perform clustering for selected min_samples parameter\n",
    "clustering = DBSCAN(eps=epsilon, min_samples=min_samples).fit(tsne_results)\n",
    "\n",
    "threshhold = 0.01  # 0.05\n",
    "\n",
    "n_clusters = len(set(clustering.labels_)) - (\n",
    "    1 if -1 in clustering.labels_ else 0\n",
    ")\n",
    "print(f\"There are {n_clusters} clusters\")\n",
    "\n",
    "cluster_points = []\n",
    "cluster_label_filter = []\n",
    "cluster_percentage = []\n",
    "\n",
    "cluster_labels_sorted_by_population = list(\n",
    "    dict.fromkeys(\n",
    "        sorted(\n",
    "            clustering.labels_,\n",
    "            key=list(clustering.labels_).count,\n",
    "            reverse=True,\n",
    "        )\n",
    "    )\n",
    ")\n",
    "\n",
    "plt.figure(figsize=(3.2677, 3.2677))\n",
    "for cluster in cluster_labels_sorted_by_population:\n",
    "    if cluster != -1:\n",
    "        if len(\n",
    "            clustering.labels_[clustering.labels_ == cluster]\n",
    "        ) >= threshhold * len(clustering.labels_):\n",
    "            clus_points = tsne_results[clustering.labels_ == cluster]\n",
    "            plt.plot(\n",
    "                clus_points[:, 0],\n",
    "                clus_points[:, 1],\n",
    "                marker=\".\",\n",
    "                linewidth=0,\n",
    "                label=f\"Cluster {cluster}\",\n",
    "            )\n",
    "            percentage = len(\n",
    "                clustering.labels_[clustering.labels_ == cluster]\n",
    "            ) / len(clustering.labels_)\n",
    "            plt.text(\n",
    "                x=np.mean(clus_points[:, 0]),\n",
    "                y=np.mean(clus_points[:, 1]),\n",
    "                s=f\"{cluster}: {percentage*100:0.2f}%\",\n",
    "                verticalalignment=\"center\",\n",
    "                horizontalalignment=\"center\",\n",
    "            )\n",
    "            print(\n",
    "                f\"Cluster {cluster} makes up more than {threshhold * 100}% of points. ({percentage * 100:0.2f} % of total points)\"\n",
    "            )\n",
    "            cluster_percentage.append(percentage)\n",
    "            cluster_points.append(clustering.labels_ == cluster)\n",
    "            cluster_label_filter.append(cluster)\n",
    "        else:\n",
    "            clus_points = tsne_results[clustering.labels_ == cluster]\n",
    "            plt.plot(\n",
    "                clus_points[:, 0],\n",
    "                clus_points[:, 1],\n",
    "                marker=\".\",\n",
    "                linewidth=0,\n",
    "                label=f\"Cluster {cluster}\",\n",
    "                alpha=0.1,\n",
    "            )\n",
    "            percentage = len(\n",
    "                clustering.labels_[clustering.labels_ == cluster]\n",
    "            ) / len(clustering.labels_)\n",
    "            print(\n",
    "                f\"Exlude Cluster {cluster} is less than {threshhold*100}% of points. ({percentage * 100:0.2f} % of total points)\"\n",
    "            )\n",
    "            plt.plot\n",
    "    else:\n",
    "        clus_points = tsne_results[clustering.labels_ == cluster]\n",
    "        plt.plot(\n",
    "            clus_points[:, 0],\n",
    "            clus_points[:, 1],\n",
    "            marker=\".\",\n",
    "            linewidth=0,\n",
    "            label=f\"Noise\",\n",
    "            alpha=0.1,\n",
    "            color=\"grey\",\n",
    "        )\n",
    "\n",
    "        percentage = len(\n",
    "            clustering.labels_[clustering.labels_ == cluster]\n",
    "        ) / len(clustering.labels_)\n",
    "        print(f\"Noise makes up {percentage * 100:0.2f} % of total points.\")\n",
    "\n",
    "# Shrink current axis by 20%\n",
    "\n",
    "# plt.legend(loc=\"center right\", bbox_to_anchor=(1.3,0.25))\n",
    "plt.title(f\"Clusters in t-SNE.\")  # \\n Label: Cluster no. : % of total\"\n",
    "plt.xlabel(\"t-SNE dimension 1\")\n",
    "plt.ylabel(\"t-SNE dimension 2\")\n",
    "plt.tight_layout()\n",
    "plt.savefig(snakemake.output.cluster_plot, dpi=DPI)"
   ]
  },
  {
   "cell_type": "code",
   "execution_count": 65,
   "id": "successful-transcript",
   "metadata": {
    "tags": [
     "hide-input"
    ]
   },
   "outputs": [],
   "source": [
    "plt.figure(figsize=(3.2677, 3.2677))\n",
    "x = [x / len(clustering.labels_) * simtime for x in range(0, len(clustering.labels_))]\n",
    "plt.plot(x, clustering.labels_, marker=1, linewidth=0)\n",
    "plt.title(\"Clusters over time (-1: noise)\")\n",
    "plt.xlabel(\"Simulation time [ns]\")\n",
    "plt.ylabel(\"Cluster no.\")\n",
    "plt.savefig(snakemake.output.cluster_time, dpi=DPI)"
   ]
  },
  {
   "cell_type": "code",
   "execution_count": 66,
   "id": "unlimited-vienna",
   "metadata": {
    "tags": [
     "hide-cell"
    ]
   },
   "outputs": [],
   "source": [
    "# Find cluster points in original trajectory, compute average structure,\n",
    "# then find closest (min-rmsd) cluster structure to this\n",
    "reduced_ind = np.arange(0, len(dihe), cluster_stride)\n",
    "reduced_g_dihe = dihe[reduced_ind, :]\n",
    "cluster_min_pca = []\n",
    "cluster_index = []\n",
    "mol_shape_cluster = []\n",
    "\n",
    "t0 = t[0].time\n",
    "dt = t.timestep\n",
    "\n",
    "for i, cluster_name in zip(cluster_points, cluster_label_filter):\n",
    "\n",
    "    # cluster points in original trajectory\n",
    "    indices = reduced_ind[i]\n",
    "    avg_struct = np.mean(t[indices].xyz, axis=0)\n",
    "    avg_t = md.Trajectory(xyz=avg_struct, topology=None)\n",
    "\n",
    "    # compute average dihedral angles for each cluster:\n",
    "    phi, psi, omega = src.dihedrals.getDihedrals(t[indices])\n",
    "    print(\n",
    "        np.degrees(src.dihedrals.angle_mean(phi)),\n",
    "        np.degrees(src.dihedrals.angle_mean(psi)),\n",
    "        np.degrees(src.dihedrals.angle_mean(omega)),\n",
    "    )\n",
    "\n",
    "    # find min-RMSD structure to the average\n",
    "    rmsd = md.rmsd(t[indices], avg_t, 0)\n",
    "    min_rmsd_idx = np.where(rmsd == rmsd.min())\n",
    "    cluster_min = t[indices][min_rmsd_idx]\n",
    "    cluster_index.append(int((cluster_min.time - t0) / dt))\n",
    "    print(\n",
    "        f\"Cluster {cluster_name}: Closest min structure is frame {int((cluster_min.time - t0) / dt)} (time: {float(cluster_min.time)})\"\n",
    "    )\n",
    "    # Compute dihedrals of min-RMSD cluster structure, and transform to PCA\n",
    "    cluster_min = src.dihedrals.getReducedDihedrals(cluster_min)\n",
    "    cluster_min_pca.append(pca_d.transform(cluster_min))\n",
    "\n",
    "    # Compute shape\n",
    "    inertia_tensor_cluster = md.compute_inertia_tensor(\n",
    "        t[indices][min_rmsd_idx]\n",
    "    )\n",
    "    principal_moments_cluster = np.linalg.eigvalsh(inertia_tensor_cluster)\n",
    "\n",
    "    # Compute normalized principal moments of inertia\n",
    "    npr1_cluster = (\n",
    "        principal_moments_cluster[:, 0] / principal_moments_cluster[:, 2]\n",
    "    )\n",
    "    npr2_cluster = (\n",
    "        principal_moments_cluster[:, 1] / principal_moments_cluster[:, 2]\n",
    "    )\n",
    "    mol_shape_cluster.append(np.stack((npr1_cluster, npr2_cluster), axis=1))"
   ]
  },
  {
   "cell_type": "code",
   "execution_count": 67,
   "id": "5e322324",
   "metadata": {
    "tags": [
     "hide-input"
    ]
   },
   "outputs": [],
   "source": [
    "# Plot cluster mins in original d-PCA plot\n",
    "fig, ax = plt.subplots(figsize=(3.2677, 3.2677))\n",
    "ax = src.pca.plot_PCA(\n",
    "    reduced_dihedrals,\n",
    "    \"dihedral\",\n",
    "    compound_index,\n",
    "    d_weights,\n",
    "    \"Energy [kcal/mol]\",\n",
    "    fig,\n",
    "    ax,\n",
    "    explained_variance=pca_d.explained_variance_ratio_[:2],\n",
    ")\n",
    "# ADD LEGEND ENTRY FOR MD\n",
    "ax.plot(\n",
    "    np.array(cluster_min_pca)[:, 0, 0],\n",
    "    np.array(cluster_min_pca)[:, 0, 1],\n",
    "    label=\"Clusters\",\n",
    "    linewidth=0,\n",
    "    marker=\"x\",\n",
    "    c=\"black\",\n",
    ")\n",
    "\n",
    "ax.legend([\"MD\", \"MD Clusters\"], framealpha=0.5)\n",
    "\n",
    "fig.tight_layout()\n",
    "\n",
    "ax.set_title(\"Dihedral PCA\")\n",
    "fig.savefig(snakemake.output.cluster_pca, dpi=DPI)\n",
    "final_figure_axs.append(sg.from_mpl(fig, savefig_kw={\"dpi\": DPI}))"
   ]
  },
  {
   "cell_type": "code",
   "execution_count": 68,
   "id": "2b227239",
   "metadata": {
    "tags": [
     "hide-input"
    ]
   },
   "outputs": [],
   "source": [
    "# Plot cluster mins in shape plot\n",
    "# Plot\n",
    "x = mol_shape[:, 0]\n",
    "y = mol_shape[:, 1]\n",
    "v = mol_shape_weights\n",
    "# create a triangulation out of these points\n",
    "T = tri.Triangulation(x, y)\n",
    "\n",
    "fig, ax = plt.subplots(figsize=(3.2677, 3.2677))\n",
    "\n",
    "# plot the contour\n",
    "# plt.tricontourf(x,y,T.triangles,v)\n",
    "scat = ax.scatter(\n",
    "    mol_shape[:, 0],\n",
    "    mol_shape[:, 1],\n",
    "    s=0.5,\n",
    "    c=mol_shape_weights,\n",
    "    cmap=\"Spectral_r\",\n",
    "    vmin=0,\n",
    "    vmax=8,\n",
    "    rasterized=True,\n",
    ")\n",
    "\n",
    "# create the grid\n",
    "corners = np.array([[1, 1], [0.5, 0.5], [0, 1]])\n",
    "triangle = tri.Triangulation(corners[:, 0], corners[:, 1])\n",
    "\n",
    "# creating the outline\n",
    "refiner = tri.UniformTriRefiner(triangle)\n",
    "outline = refiner.refine_triangulation(subdiv=0)\n",
    "\n",
    "# creating the outline\n",
    "refiner = tri.UniformTriRefiner(triangle)\n",
    "trimesh = refiner.refine_triangulation(subdiv=2)\n",
    "\n",
    "# plotting the mesh\n",
    "ax.triplot(trimesh, \"--\", color=\"grey\")\n",
    "ax.triplot(outline, \"k-\")\n",
    "ax.set_xlabel(r\"$I_{1}/I_{3}$\")\n",
    "ax.set_ylabel(\"$I_{2}/I_{3}$\")\n",
    "ax.text(0, 1.01, \"rod\")\n",
    "ax.text(0.75, 1.01, \"sphere\")\n",
    "ax.text(0.52, 0.48, \"disk\")\n",
    "ax.set_ylim(0.45, 1.05)  # 0.6\n",
    "ax.set_xlim(-0.05, 1.08)  # 1.13\n",
    "ax.set_aspect(1.88)  # 1.13 / 0.6\n",
    "ax.set_title(\"Shape analysis\")\n",
    "\n",
    "ax.plot(\n",
    "    np.array(mol_shape_cluster)[:, 0, 0],\n",
    "    np.array(mol_shape_cluster)[:, 0, 1],\n",
    "    label=\"Clusters\",\n",
    "    linewidth=0,\n",
    "    marker=\"x\",\n",
    "    c=\"black\",\n",
    ")\n",
    "\n",
    "# ax.legend([\"MD\",\"MD Clusters\"], framealpha=0.5)\n",
    "\n",
    "colorbar = fig.colorbar(\n",
    "    scat, label=\"Energy [kcal/mol]\", fraction=0.046, pad=0.04\n",
    ")\n",
    "\n",
    "fig.tight_layout()\n",
    "fig.savefig(snakemake.output.NPR_shape_plot, dpi=DPI)\n",
    "final_figure_axs.append(sg.from_mpl(fig, savefig_kw={\"dpi\": DPI}))"
   ]
  },
  {
   "cell_type": "code",
   "execution_count": 69,
   "id": "aee50737",
   "metadata": {
    "tags": [
     "hide-input"
    ]
   },
   "outputs": [],
   "source": [
    "display(Markdown(\"Show most extreme structures.\"))\n",
    "most_spherical = (x + y).argmax()\n",
    "most_disk = (x - 0.5 + y - 0.5).argmin()\n",
    "most_rod = (1 - y + x).argmin()\n",
    "most_occupied_cluster = cluster_index[0]\n",
    "\n",
    "fig, axs = plt.subplots(1, 4, figsize=(6.7323, 3.2677 / 1.8))\n",
    "for ax, frame_i, title_i in zip(\n",
    "    axs.flatten(),\n",
    "    [most_spherical, most_disk, most_rod, most_occupied_cluster],\n",
    "    [\"most spherical\", \"most disk-like\", \"most rod-like\", \"most pop. cluster\"],\n",
    "):\n",
    "    img = src.utils.pymol_image(t[frame_i], t[most_occupied_cluster])\n",
    "    ax.imshow(img)\n",
    "    ax.set_title(title_i)\n",
    "    ax.axis(\"off\")\n",
    "fig.tight_layout()\n",
    "# fig.subplots_adjust(wspace=0, hspace=0)\n",
    "final_figure_axs.append(sg.from_mpl(fig, savefig_kw={\"dpi\": DPI}))"
   ]
  },
  {
   "cell_type": "markdown",
   "id": "397212ec",
   "metadata": {},
   "outputs": [],
   "source": [
    "````{margin}\n",
    "```{note}\n",
    "Hover over the triangles to get further information about the cluster.\n",
    "```\n",
    "````"
   ]
  },
  {
   "cell_type": "code",
   "execution_count": 70,
   "id": "999ff88a",
   "metadata": {
    "tags": [
     "hide-input"
    ]
   },
   "outputs": [],
   "source": [
    "# create a new plot and add a renderer\n",
    "plot_stride = 10\n",
    "from bokeh.models import HoverTool\n",
    "\n",
    "x = np.array(cluster_min_pca)[:, 0, 0]\n",
    "y = np.array(cluster_min_pca)[:, 0, 1]\n",
    "percentage = cluster_percentage\n",
    "\n",
    "data = dict(x=x, y=y, percentage=percentage)\n",
    "\n",
    "\n",
    "p = figure(\n",
    "    plot_width=400,\n",
    "    plot_height=400,\n",
    "    title=\"Average cluster structures in PCA space\",\n",
    "    tools=\"reset\",\n",
    ")\n",
    "p.dot(\n",
    "    reduced_dihedrals[::plot_stride, 0],\n",
    "    reduced_dihedrals[::plot_stride, 1],\n",
    "    selection_color=\"firebrick\",\n",
    "    legend_label=\"simulation frames\",\n",
    ")\n",
    "\n",
    "hoverable = p.triangle(\n",
    "    x=\"x\",\n",
    "    y=\"y\",\n",
    "    source=data,\n",
    "    color=\"firebrick\",\n",
    "    size=8,\n",
    "    legend_label=\"Clusters\",\n",
    ")\n",
    "p.add_tools(\n",
    "    HoverTool(\n",
    "        tooltips=[\n",
    "            (\"cluster #\", \"$index\"),\n",
    "            (\"% of total frames\", \"@percentage{0.0%}\"),\n",
    "        ],\n",
    "        renderers=[hoverable],\n",
    "    )\n",
    ")\n",
    "show(p)"
   ]
  },
  {
   "cell_type": "code",
   "execution_count": 71,
   "id": "1755d7d8",
   "metadata": {
    "tags": [
     "hide-cell"
    ]
   },
   "outputs": [],
   "source": [
    "# Interactive viewing of clusters in 3d (needs running jupyter notebook)\n",
    "cluster_traj = t[cluster_index]\n",
    "cluster_traj.superpose(\n",
    "    cluster_traj, 0, atom_indices=cluster_traj.top.select(\"backbone\")\n",
    ")\n",
    "view = nv.show_mdtraj(cluster_traj)\n",
    "view"
   ]
  },
  {
   "cell_type": "code",
   "execution_count": 72,
   "id": "47880dc8",
   "metadata": {
    "tags": [
     "hide-cell"
    ]
   },
   "outputs": [],
   "source": [
    "# save rst files from clusters, account for GaMD equilibration. Does not work with stride.\n",
    "if not use_shortened:\n",
    "    cluster_full_store = md.load_frame(\n",
    "        snakemake.input.traj,\n",
    "        cluster_index[0] + frames_start,\n",
    "        top=snakemake.input.top,\n",
    "    )\n",
    "    for idx in cluster_index:\n",
    "        cluster_full_t = md.load_frame(\n",
    "            snakemake.input.traj, idx, top=snakemake.input.top\n",
    "        )\n",
    "        cluster_full_t.save_netcdfrst(\n",
    "            f\"{snakemake.params.rst_dir}rst_{idx}.rst\"\n",
    "        )\n",
    "        cluster_full_store = cluster_full_store.join(\n",
    "            cluster_full_t, discard_overlapping_frames=True\n",
    "        )\n",
    "    cluster_full_store.superpose(\n",
    "        cluster_full_store,\n",
    "        0,\n",
    "        atom_indices=cluster_full_t.top.select(\"backbone\"),\n",
    "    )\n",
    "    cluster_full_store.save_pdb(snakemake.output.cluster_solvated)\n",
    "else:\n",
    "    from pathlib import Path\n",
    "\n",
    "    Path(snakemake.output.cluster_solvated).touch()"
   ]
  },
  {
   "cell_type": "code",
   "execution_count": 73,
   "id": "2b095380",
   "metadata": {
    "tags": [
     "hide-input"
    ]
   },
   "outputs": [],
   "source": [
    "# compute rmsd between clusters\n",
    "from itertools import combinations\n",
    "\n",
    "indices = list(combinations(range(cluster_traj.n_frames), 2))\n",
    "\n",
    "rmsd_backbone = np.zeros((cluster_traj.n_frames, cluster_traj.n_frames))\n",
    "rmsd = np.zeros((cluster_traj.n_frames, cluster_traj.n_frames))\n",
    "for i, j in indices:\n",
    "    rmsd_backbone[i, j] = (\n",
    "        md.rmsd(\n",
    "            cluster_traj[i],\n",
    "            cluster_traj[j],\n",
    "            atom_indices=cluster_traj.top.select(\"backbone\"),\n",
    "        )\n",
    "        * 10\n",
    "    )\n",
    "    rmsd[i, j] = md.rmsd(cluster_traj[i], cluster_traj[j]) * 10\n",
    "\n",
    "\n",
    "sns.set_style(\"ticks\")\n",
    "fig, axs = plt.subplots(1, 2, figsize=(6.7323, 3.2677))\n",
    "titles = [\"RMSD\", \"Backbone RMSD\"]  # between different clusters\n",
    "for i, X in enumerate([rmsd, rmsd_backbone]):\n",
    "    X = X + X.T - np.diag(np.diag(X))\n",
    "    # get lower diagonal matrix\n",
    "    X = np.tril(X)\n",
    "    df = pd.DataFrame(X)\n",
    "    axs[i] = sns.heatmap(\n",
    "        df,\n",
    "        annot=False,\n",
    "        cmap=\"Greys\",\n",
    "        ax=axs[i],\n",
    "        cbar_kws={\"label\": r\"RMSD in $\\AA$\"},\n",
    "    )\n",
    "    axs[i].set_title(titles[i])\n",
    "    axs[i].set_xlabel(\"Cluster no.\")\n",
    "    axs[i].set_ylabel(\"Cluster no.\")\n",
    "    # ax.invert_xaxis()\n",
    "fig.tight_layout()\n",
    "plt.show()"
   ]
  },
  {
   "cell_type": "code",
   "execution_count": 74,
   "id": "946b504a",
   "metadata": {
    "tags": [
     "hide-cell"
    ]
   },
   "outputs": [],
   "source": [
    "# compute dihedral angles\n",
    "*_, omega = src.dihedrals.getDihedrals(cluster_traj)\n",
    "omega_deg = np.abs(np.degrees(omega))\n",
    "plt.plot(omega_deg)\n",
    "plt.title(f\"Omega angles of different clusters. Compound {compound_index}\")\n",
    "plt.xlabel(\"Cluster id\")\n",
    "plt.ylabel(\"Omega dihedral angle [°]\")\n",
    "plt.show()"
   ]
  },
  {
   "cell_type": "code",
   "execution_count": 75,
   "id": "d0bbb1e1",
   "metadata": {
    "tags": [
     "remove-cell",
     "hide-cell"
    ]
   },
   "outputs": [],
   "source": [
    "# Save clusters to pdb\n",
    "cluster_traj.save_pdb(snakemake.output.cluster_pdb)\n",
    "data = []"
   ]
  },
  {
   "cell_type": "code",
   "execution_count": 76,
   "id": "772865fa",
   "metadata": {
    "tags": [
     "hide-cell"
    ]
   },
   "outputs": [],
   "source": [
    "pymol_script = f\"\"\"load {snakemake.output.cluster_pdb}\n",
    "# inspired by: https://gist.github.com/bobbypaton/1cdc4784f3fc8374467bae5eb410edef\n",
    "cmd.bg_color(\"white\")\n",
    "cmd.set(\"ray_opaque_background\", \"off\")\n",
    "cmd.set(\"orthoscopic\", 0)\n",
    "cmd.set(\"transparency\", 0.1)\n",
    "cmd.set(\"dash_gap\", 0)\n",
    "cmd.set(\"ray_trace_mode\", 1)\n",
    "cmd.set(\"ray_texture\", 2)\n",
    "cmd.set(\"antialias\", 3)\n",
    "cmd.set(\"ambient\", 0.5)\n",
    "cmd.set(\"spec_count\", 5)\n",
    "cmd.set(\"shininess\", 50)\n",
    "cmd.set(\"specular\", 1)\n",
    "cmd.set(\"reflect\", .1)\n",
    "cmd.space(\"cmyk\")\n",
    "\n",
    "#cmd.cartoon(\"oval\")\n",
    "cmd.show(\"sticks\")\n",
    "cmd.show(\"spheres\")\n",
    "cmd.color(\"gray85\",\"elem C\")\n",
    "cmd.color(\"gray98\",\"elem H\")\n",
    "cmd.color(\"slate\",\"elem N\")\n",
    "cmd.color(\"red\",\"elem O\")\n",
    "cmd.set(\"stick_radius\",0.07)\n",
    "cmd.set(\"sphere_scale\",0.18)\n",
    "cmd.set(\"sphere_scale\",0.13, \"elem H\")\n",
    "cmd.set(\"dash_gap\",0.01)\n",
    "cmd.set(\"dash_radius\",0.07)\n",
    "cmd.set(\"stick_color\",\"black\")\n",
    "cmd.set(\"dash_gap\",0.01)\n",
    "cmd.set(\"dash_radius\",0.035)\n",
    "cmd.hide(\"nonbonded\")\n",
    "cmd.hide(\"cartoon\")\n",
    "cmd.hide(\"lines\")\n",
    "cmd.orient()\n",
    "cmd.zoom()\n",
    "cmd.hide(\"labels\")\n",
    "\n",
    "cmd.mpng(\"{snakemake.params.cluster_dir}test_\", width=1000, height=1000)\n",
    "\n",
    "\"\"\"\n",
    "pymol_script_file = f\"{snakemake.params.cluster_dir}pym.pml\"\n",
    "with open(pymol_script_file, \"w\") as f:\n",
    "    f.write(pymol_script)"
   ]
  },
  {
   "cell_type": "code",
   "execution_count": 77,
   "id": "b442c6c7",
   "metadata": {
    "tags": [
     "hide-cell"
    ]
   },
   "outputs": [],
   "source": [
    "# Run pymol to plot clusters\n",
    "!pymol -c $pymol_script_file"
   ]
  },
  {
   "cell_type": "code",
   "execution_count": 78,
   "id": "28f1e1e9",
   "metadata": {},
   "outputs": [],
   "source": [
    "data = []\n",
    "cluster_imgs = [\n",
    "    f\"{snakemake.params.cluster_dir}test_{str(i+1).zfill(4)}.png\"\n",
    "    for i in range(cluster_traj.n_frames)\n",
    "]\n",
    "\n",
    "[data.append(mpimg.imread(img)) for img in cluster_imgs]\n",
    "display(\"Pymol images read\")"
   ]
  },
  {
   "cell_type": "code",
   "execution_count": 79,
   "id": "120cdb45",
   "metadata": {
    "tags": [
     "hide-input"
    ]
   },
   "outputs": [],
   "source": [
    "# get default colors\n",
    "colors = plt.rcParams[\"axes.prop_cycle\"].by_key()[\"color\"]\n",
    "# make colors longer if more clusters than colors...\n",
    "while len(cluster_label_filter) > len(colors):\n",
    "    colors.extend(colors)\n",
    "    print(\"Colors appended..\")\n",
    "\n",
    "fig, axs = plt.subplots(\n",
    "    len(cluster_label_filter), 3, sharex=\"col\", squeeze=False\n",
    ")\n",
    "fig.set_size_inches(12, 3 * len(cluster_label_filter))\n",
    "# plot cluster images\n",
    "for i in range(cluster_traj.n_frames):\n",
    "    # print(f\"final {i}\")\n",
    "    axs[i, 0].imshow(data[i])\n",
    "    axs[i, 0].tick_params(\n",
    "        axis=\"both\",\n",
    "        which=\"both\",\n",
    "        bottom=False,\n",
    "        top=False,\n",
    "        left=False,\n",
    "        labelleft=False,\n",
    "        labelbottom=False,\n",
    "    )\n",
    "    # axs[i,0].tick_params(axis='y', which='both', bottom=False, top=False, labelbottom=False)\n",
    "# plot corresponding pca's:\n",
    "for i in range(cluster_traj.n_frames):\n",
    "    axs[i, 1].scatter(\n",
    "        reduced_dihedrals[:, 0],\n",
    "        reduced_dihedrals[:, 1],\n",
    "        marker=\".\",\n",
    "        s=0.5,\n",
    "        alpha=1,\n",
    "        c=\"black\",\n",
    "        rasterized=True\n",
    "    )\n",
    "# add cluster representations\n",
    "for ii, iii, iiii in zip(\n",
    "    cluster_min_pca, cluster_label_filter, range(len(cluster_label_filter))\n",
    "):\n",
    "    (clus,) = axs[iiii, 1].plot(\n",
    "        ii[:, 0],\n",
    "        ii[:, 1],\n",
    "        marker=\"^\",\n",
    "        label=f\"Cluster {iii}\",\n",
    "        linewidth=0,\n",
    "        c=colors[iiii],\n",
    "    )\n",
    "    # clus.get_color()\n",
    "\n",
    "\n",
    "# add noe plots\n",
    "for i, j, k in zip(\n",
    "    range(cluster_traj.n_frames), cluster_index, cluster_label_filter\n",
    "):\n",
    "    NOE = src.noe.read_NOE(snakemake.input.noe)\n",
    "    if multiple:\n",
    "        NOE_trans, NOE_cis = NOE\n",
    "        NOE_cis_dict = NOE_cis.to_dict(orient=\"index\")\n",
    "        NOE_trans_dict = NOE_trans.to_dict(orient=\"index\")\n",
    "    else:\n",
    "        NOE_dict = NOE.to_dict(orient=\"index\")\n",
    "\n",
    "    current_cluster = cluster_traj[i]\n",
    "    # print(j)\n",
    "    if multiple:\n",
    "        if j in cis:\n",
    "            # print(\"cis\")\n",
    "            NOE_dict = NOE_cis_dict\n",
    "            NOE = NOE_cis\n",
    "            axs[i, 2].set_title(f\"Cluster {k} (cis)\")\n",
    "        else:\n",
    "            # print(\"trans!\")\n",
    "            NOE_dict = NOE_trans_dict\n",
    "            NOE = NOE_trans\n",
    "            axs[i, 2].set_title(f\"Cluster {k} (trans)\")\n",
    "    else:\n",
    "        axs[i, 2].set_title(f\"Cluster {k}\")\n",
    "    NOE[\"md\"], _, _2, NOE_dist, _3 = src.noe.compute_NOE_mdtraj(\n",
    "        NOE_dict, current_cluster\n",
    "    )\n",
    "    # Deal with ambigous NOEs\n",
    "    NOE = NOE.explode(\"md\")\n",
    "    # and ambigous/multiple values\n",
    "    NOE = NOE.explode(\"NMR exp\")\n",
    "    fig, axs[i, 2] = src.noe.plot_NOE(NOE, fig, axs[i, 2])\n",
    "fig.tight_layout()\n",
    "fig.savefig(snakemake.output.cluster_structs, dpi=DPI)"
   ]
  },
  {
   "cell_type": "code",
   "execution_count": 80,
   "id": "61c0cc1a",
   "metadata": {},
   "outputs": [],
   "source": [
    "# TODO? cluster NOE statistics...."
   ]
  },
  {
   "cell_type": "markdown",
   "id": "timely-fundamental",
   "metadata": {},
   "outputs": [],
   "source": [
    "## NOEs\n",
    "In the following section, we compute the NOE values for the simulation."
   ]
  },
  {
   "cell_type": "code",
   "execution_count": 81,
   "id": "illegal-luxury",
   "metadata": {
    "tags": [
     "hide-cell"
    ]
   },
   "outputs": [],
   "source": [
    "NOE = src.noe.read_NOE(snakemake.input.noe)\n",
    "NOE_output = {}"
   ]
  },
  {
   "cell_type": "markdown",
   "id": "403848b5",
   "metadata": {},
   "outputs": [],
   "source": [
    "### NOE without reweighting.\n",
    "The following NOE plot is computed via $r^{-6}$ averaging. No reweighting is performed. (so unless the simulation is a conventional MD simulation, the following plot is not a valid comparison to experiment.)"
   ]
  },
  {
   "cell_type": "code",
   "execution_count": 82,
   "id": "noticed-crossing",
   "metadata": {
    "scrolled": true,
    "tags": [
     "hide-input"
    ]
   },
   "outputs": [],
   "source": [
    "if multiple:\n",
    "    fig, axs = plt.subplots(2, 1, figsize=(6.7323, 3.2677))\n",
    "    NOE_trans, NOE_cis = NOE\n",
    "    NOE_cis_dict = NOE_cis.to_dict(orient=\"index\")\n",
    "    NOE_trans_dict = NOE_trans.to_dict(orient=\"index\")\n",
    "    if len(cis) > CIS_TRANS_CUTOFF:\n",
    "        NOE_cis[\"md\"], _, _2, NOE_dist_cis, _3 = src.noe.compute_NOE_mdtraj(\n",
    "            NOE_cis_dict, t[cis]\n",
    "        )\n",
    "\n",
    "        NOE_output[f\"{multi['cis']}\"] = NOE_cis.to_dict(orient=\"index\")\n",
    "        # Deal with ambigous NOEs\n",
    "        NOE_cis = NOE_cis.explode(\"md\")\n",
    "        # and ambigous/multiple values\n",
    "        NOE_cis = NOE_cis.explode(\"NMR exp\")\n",
    "        fig, axs[1] = src.noe.plot_NOE(NOE_cis, fig, axs[1])\n",
    "        axs[1].set_title(f\"Compound {multi['cis']} (cis)\")\n",
    "    else:\n",
    "        print(\"Cis skipped because no frames are cis.\")\n",
    "    if len(trans) > CIS_TRANS_CUTOFF:\n",
    "        (\n",
    "            NOE_trans[\"md\"],\n",
    "            _,\n",
    "            _2,\n",
    "            NOE_dist_trans,\n",
    "            _3,\n",
    "        ) = src.noe.compute_NOE_mdtraj(NOE_trans_dict, t[trans])\n",
    "\n",
    "        NOE_output[f\"{multi['trans']}\"] = NOE_trans.to_dict(orient=\"index\")\n",
    "        # Deal with ambigous NOEs\n",
    "        NOE_trans = NOE_trans.explode(\"md\")\n",
    "        # and ambigous/multiple values\n",
    "        NOE_trans = NOE_trans.explode(\"NMR exp\")\n",
    "\n",
    "        fig, axs[0] = src.noe.plot_NOE(NOE_trans, fig, axs[0])\n",
    "        axs[0].set_title(f\"Compound {multi['trans']} (trans)\")\n",
    "    else:\n",
    "        print(\"Trans skipped because no frames are cis\")\n",
    "else:\n",
    "    NOE_dict = NOE.to_dict(orient=\"index\")\n",
    "    NOE[\"md\"], _, _2, NOE_dist, _3 = src.noe.compute_NOE_mdtraj(NOE_dict, t)\n",
    "\n",
    "    # Save NOE dict\n",
    "    NOE_output = {f\"{compound_index}\": NOE.to_dict(orient=\"index\")}\n",
    "    # Deal with ambigous NOEs\n",
    "    NOE = NOE.explode(\"md\")\n",
    "    # and ambigous/multiple values\n",
    "    NOE = NOE.explode(\"NMR exp\")\n",
    "    fig, ax = src.noe.plot_NOE(NOE)\n",
    "    ax.set_title(f\"Compound {compound_index}. NOE without reweighting.\", y=1.2)\n",
    "fig.tight_layout()\n",
    "fig.savefig(snakemake.output.noe_plot, dpi=DPI)\n",
    "# save as .json file\n",
    "src.utils.json_dump(snakemake.output.noe_result, NOE_output)"
   ]
  },
  {
   "cell_type": "markdown",
   "id": "6e3e07f3",
   "metadata": {},
   "outputs": [],
   "source": [
    "### Reweighted NOEs\n",
    "The following NOE plot was reweighted via a 1d PMF method."
   ]
  },
  {
   "cell_type": "code",
   "execution_count": 83,
   "id": "9ce502a6",
   "metadata": {
    "tags": [
     "hide-input"
    ]
   },
   "outputs": [],
   "source": [
    "# 1d PMF reweighted NOEs\n",
    "\n",
    "NOE_output = {}\n",
    "\n",
    "if snakemake.params.method != \"cMD\":\n",
    "    if multiple:\n",
    "        fig, axs = plt.subplots(2, 1, figsize=(6.7323, 6.7323))\n",
    "        NOE_trans, NOE_cis = NOE\n",
    "        NOE_cis_dict = NOE_cis.to_dict(orient=\"index\")\n",
    "        NOE_trans_dict = NOE_trans.to_dict(orient=\"index\")\n",
    "        if len(cis) > CIS_TRANS_CUTOFF:\n",
    "            (\n",
    "                NOE_cis[\"md\"],\n",
    "                NOE_cis[\"lower\"],\n",
    "                NOE_cis[\"upper\"],\n",
    "                NOE_dist_cis,\n",
    "                pmf_plot_cis,\n",
    "            ) = src.noe.compute_NOE_mdtraj(\n",
    "                NOE_cis_dict,\n",
    "                t[cis],\n",
    "                reweigh_type=4,\n",
    "                slicer=cis,\n",
    "                weight_data=weight_data,\n",
    "            )\n",
    "            # TODO: this should not give an error!\n",
    "\n",
    "            NOE_output[f\"{multi['cis']}\"] = NOE_cis.to_dict(orient=\"index\")\n",
    "\n",
    "            # Deal with ambigous NOEs\n",
    "            NOE_cis = NOE_cis.explode([\"md\", \"lower\", \"upper\"])\n",
    "            # and ambigous/multiple values\n",
    "            NOE_cis = NOE_cis.explode(\"NMR exp\")\n",
    "            fig, axs[1] = src.noe.plot_NOE(NOE_cis, fig, axs[1])\n",
    "            axs[1].set_title(f\"Compound {multi['cis']} (cis)\")\n",
    "        else:\n",
    "            print(\"Cis skipped because no frames are cis.\")\n",
    "        if len(trans) > CIS_TRANS_CUTOFF:\n",
    "            (\n",
    "                NOE_trans[\"md\"],\n",
    "                NOE_trans[\"lower\"],\n",
    "                NOE_trans[\"upper\"],\n",
    "                NOE_dist_trans,\n",
    "                pmf_plot_trans,\n",
    "            ) = src.noe.compute_NOE_mdtraj(\n",
    "                NOE_trans_dict,\n",
    "                t[trans],\n",
    "                reweigh_type=4,\n",
    "                slicer=trans,\n",
    "                weight_data=weight_data,\n",
    "            )\n",
    "\n",
    "            NOE_output[f\"{multi['trans']}\"] = NOE_trans.to_dict(orient=\"index\")\n",
    "            # Deal with ambigous NOEs\n",
    "            NOE_trans = NOE_trans.explode([\"md\", \"lower\", \"upper\"])\n",
    "            # and ambigous/multiple values\n",
    "            NOE_trans = NOE_trans.explode(\"NMR exp\")\n",
    "            fig, axs[0] = src.noe.plot_NOE(NOE_trans, fig, axs[0])\n",
    "            axs[0].set_title(f\"Compound {multi['trans']} (trans)\")\n",
    "        else:\n",
    "            print(\"Trans skipped because no frames are cis\")\n",
    "        src.utils.json_dump(snakemake.output.noe_result, NOE_output)\n",
    "        fig.tight_layout()\n",
    "        fig.savefig(snakemake.output.noe_plot)\n",
    "    else:\n",
    "        NOE = src.noe.read_NOE(snakemake.input.noe)\n",
    "        NOE_dict = NOE.to_dict(orient=\"index\")\n",
    "        (\n",
    "            NOE[\"md\"],\n",
    "            NOE[\"lower\"],\n",
    "            NOE[\"upper\"],\n",
    "            _,\n",
    "            pmf_plot,\n",
    "        ) = src.noe.compute_NOE_mdtraj(\n",
    "            NOE_dict, t, reweigh_type=4, weight_data=weight_data\n",
    "        )\n",
    "        plt.close()\n",
    "        # Save NOE dict\n",
    "        NOE_output = {f\"{compound_index}\": NOE.to_dict(orient=\"index\")}\n",
    "        # save as .json file\n",
    "        src.utils.json_dump(snakemake.output.noe_result, NOE_output)\n",
    "\n",
    "        # Deal with ambigous NOEs\n",
    "        NOE = NOE.explode([\"md\", \"lower\", \"upper\"])\n",
    "        # and ambigous/multiple values\n",
    "        NOE = NOE.explode(\"NMR exp\")\n",
    "        fig, ax = src.noe.plot_NOE(NOE)\n",
    "        #         ax.set_title(f\"Compound {compound_index}. NOE\", y=1.5, pad=0)\n",
    "        fig.tight_layout()\n",
    "        fig.savefig(snakemake.output.noe_plot, dpi=DPI)\n",
    "else:\n",
    "    print(\"cMD - no reweighted NOEs performed.\")\n",
    "final_figure_axs.append(sg.from_mpl(fig))\n",
    "pickle_dump(snakemake.output.noe_dist, NOE_dist)"
   ]
  },
  {
   "cell_type": "code",
   "execution_count": 84,
   "id": "1033371c",
   "metadata": {
    "scrolled": true,
    "tags": [
     "hide-input"
    ]
   },
   "outputs": [],
   "source": [
    "display(NOE)"
   ]
  },
  {
   "cell_type": "code",
   "execution_count": 85,
   "id": "2e7047fa",
   "metadata": {
    "tags": [
     "hide-input"
    ]
   },
   "outputs": [],
   "source": [
    "# matplotlib.rcParams.update(matplotlib.rcParamsDefault)\n",
    "\n",
    "if snakemake.params.method != \"cMD\":\n",
    "    if not multiple:\n",
    "        pmf_plot.suptitle(\"NOE PMF plots\")\n",
    "        pmf_plot.tight_layout()\n",
    "        pmf_plot.savefig(snakemake.output.noe_pmf)\n",
    "        fig = pmf_plot\n",
    "    else:\n",
    "        # save to image data\n",
    "        io_cis = io.BytesIO()\n",
    "        io_trans = io.BytesIO()\n",
    "        if len(cis) > CIS_TRANS_CUTOFF:\n",
    "            pmf_plot_cis.savefig(io_cis, format=\"raw\", dpi=pmf_plot_cis.dpi)\n",
    "        if len(trans) > CIS_TRANS_CUTOFF:\n",
    "            pmf_plot_trans.savefig(\n",
    "                io_trans, format=\"raw\", dpi=pmf_plot_trans.dpi\n",
    "            )\n",
    "\n",
    "        if len(cis) > CIS_TRANS_CUTOFF:\n",
    "            io_cis.seek(0)\n",
    "            img_cis = np.reshape(\n",
    "                np.frombuffer(io_cis.getvalue(), dtype=np.uint8),\n",
    "                newshape=(\n",
    "                    int(pmf_plot_cis.bbox.bounds[3]),\n",
    "                    int(pmf_plot_cis.bbox.bounds[2]),\n",
    "                    -1,\n",
    "                ),\n",
    "            )\n",
    "            io_cis.close()\n",
    "\n",
    "        if len(trans) > CIS_TRANS_CUTOFF:\n",
    "            io_trans.seek(0)\n",
    "            img_trans = np.reshape(\n",
    "                np.frombuffer(io_trans.getvalue(), dtype=np.uint8),\n",
    "                newshape=(\n",
    "                    int(pmf_plot_trans.bbox.bounds[3]),\n",
    "                    int(pmf_plot_trans.bbox.bounds[2]),\n",
    "                    -1,\n",
    "                ),\n",
    "            )\n",
    "            io_trans.close()\n",
    "\n",
    "        fig, axs = plt.subplots(2, 1)\n",
    "        fig.set_size_inches(16, 30)\n",
    "        if len(cis) > CIS_TRANS_CUTOFF:\n",
    "            axs[0].imshow(img_cis)\n",
    "            axs[0].axis(\"off\")\n",
    "            axs[0].set_title(\"cis\")\n",
    "        if len(trans) > CIS_TRANS_CUTOFF:\n",
    "            axs[1].imshow(img_trans)\n",
    "            axs[1].set_title(\"trans\")\n",
    "            axs[1].axis(\"off\")\n",
    "        # fig.suptitle('PMF plots. PMF vs. distance')\n",
    "        fig.tight_layout()\n",
    "        fig.savefig(snakemake.output.noe_pmf, dpi=DPI)\n",
    "else:\n",
    "    fig, ax = plt.subplots()\n",
    "    ax.text(0.5, 0.5, \"not applicable.\")\n",
    "    fig.savefig(snakemake.output.noe_pmf, dpi=DPI)\n",
    "display(fig)"
   ]
  },
  {
   "cell_type": "markdown",
   "id": "b768917b",
   "metadata": {},
   "outputs": [],
   "source": [
    "## NOE-Statistics\n",
    "Following, we compute various statistical metrics to evaluate how the simulated NOEs compare to the experimental ones."
   ]
  },
  {
   "cell_type": "code",
   "execution_count": 86,
   "id": "6ca006d4",
   "metadata": {
    "tags": [
     "hide-cell"
    ]
   },
   "outputs": [],
   "source": [
    "# Compute deviations of experimental NOE values to the MD computed ones\n",
    "NOE_stats_keys = []\n",
    "NOE_i = []\n",
    "NOE_dev = {}\n",
    "\n",
    "if multiple:\n",
    "    if len(cis) > CIS_TRANS_CUTOFF:\n",
    "        NOE_stats_keys.append(\"cis\")\n",
    "        NOE_i.append(NOE_cis)\n",
    "    if len(trans) > CIS_TRANS_CUTOFF:\n",
    "        NOE_stats_keys.append(\"trans\")\n",
    "        NOE_i.append(NOE_trans)\n",
    "else:\n",
    "    NOE_stats_keys.append(\"single\")\n",
    "    NOE_i.append(NOE)\n",
    "\n",
    "for k, NOE_d in zip(NOE_stats_keys, NOE_i):\n",
    "    if (NOE_d[\"NMR exp\"].to_numpy() == 0).all():\n",
    "        # if all exp values are 0: take middle between upper / lower bound as reference value\n",
    "        NOE_d[\"NMR exp\"] = (NOE_d[\"upper bound\"] + NOE_d[\"lower bound\"]) * 0.5\n",
    "\n",
    "    # Remove duplicate values (keep value closest to experimental value)\n",
    "    NOE_d[\"dev\"] = NOE_d[\"md\"] - np.abs(NOE_d[\"NMR exp\"])\n",
    "    NOE_d[\"abs_dev\"] = np.abs(NOE_d[\"md\"] - np.abs(NOE_d[\"NMR exp\"]))\n",
    "\n",
    "    NOE_d = NOE_d.sort_values(\"abs_dev\", ascending=True)\n",
    "    NOE_d.index = NOE_d.index.astype(int)\n",
    "    NOE_d = NOE_d[~NOE_d.index.duplicated(keep=\"first\")].sort_index(\n",
    "        kind=\"mergesort\"\n",
    "    )\n",
    "\n",
    "    NOE_d = NOE_d.dropna()\n",
    "    NOE_dev[k] = NOE_d"
   ]
  },
  {
   "cell_type": "code",
   "execution_count": 87,
   "id": "7898e791",
   "metadata": {
    "tags": [
     "hide-cell"
    ]
   },
   "outputs": [],
   "source": [
    "# Compute NOE statistics\n",
    "NOE_stats = {}\n",
    "\n",
    "for k in NOE_stats_keys:\n",
    "    NOE_d = NOE_dev[k]\n",
    "    NOE_stats_k = pd.DataFrame(columns=[\"stat\", \"value\", \"up\", \"low\"])\n",
    "\n",
    "    MAE, upper, lower = src.stats.compute_MAE(NOE_d[\"NMR exp\"], NOE_d[\"md\"])\n",
    "    append = {\"stat\": \"MAE\", \"value\": MAE, \"up\": upper, \"low\": lower}\n",
    "    NOE_stats_k = NOE_stats_k.append(append, ignore_index=True)\n",
    "\n",
    "    MSE, upper, lower = src.stats.compute_MSE(NOE_d[\"dev\"])\n",
    "    append = {\"stat\": \"MSE\", \"value\": MSE, \"up\": upper, \"low\": lower}\n",
    "    NOE_stats_k = NOE_stats_k.append(append, ignore_index=True)\n",
    "\n",
    "    RMSD, upper, lower = src.stats.compute_RMSD(NOE_d[\"NMR exp\"], NOE_d[\"md\"])\n",
    "    append = {\"stat\": \"RMSD\", \"value\": RMSD, \"up\": upper, \"low\": lower}\n",
    "    NOE_stats_k = NOE_stats_k.append(append, ignore_index=True)\n",
    "\n",
    "    RMSD_step, upper, lower = src.stats.compute_RMSD_stepwise(NOE_d, NOE_d[\"NMR exp\"], NOE_d[\"md\"])\n",
    "    append = {\"stat\": \"RMSD_step\", \"value\": RMSD_step, \"up\": upper, \"low\": lower}\n",
    "    NOE_stats_k = NOE_stats_k.append(append, ignore_index=True)\n",
    "\n",
    "    pearsonr, upper, lower = src.stats.compute_pearsonr(\n",
    "        NOE_d[\"NMR exp\"], NOE_d[\"md\"]\n",
    "    )\n",
    "    append = {\"stat\": \"pearsonr\", \"value\": pearsonr, \"up\": upper, \"low\": lower}\n",
    "    NOE_stats_k = NOE_stats_k.append(append, ignore_index=True)\n",
    "\n",
    "    kendalltau, upper, lower = src.stats.compute_kendalltau(\n",
    "        NOE_d[\"NMR exp\"], NOE_d[\"md\"]\n",
    "    )\n",
    "    append = {\n",
    "        \"stat\": \"kendalltau\",\n",
    "        \"value\": kendalltau,\n",
    "        \"up\": upper,\n",
    "        \"low\": lower,\n",
    "    }\n",
    "    NOE_stats_k = NOE_stats_k.append(append, ignore_index=True)\n",
    "\n",
    "    chisq, upper, lower = src.stats.compute_chisquared(\n",
    "        NOE_d[\"NMR exp\"], NOE_d[\"md\"]\n",
    "    )\n",
    "    append = {\"stat\": \"chisq\", \"value\": chisq, \"up\": upper, \"low\": lower}\n",
    "    NOE_stats_k = NOE_stats_k.append(append, ignore_index=True)\n",
    "\n",
    "    fulfilled = src.stats.compute_fulfilled_percentage(NOE_d)\n",
    "    append = {\n",
    "        \"stat\": \"percentage_fulfilled\",\n",
    "        \"value\": fulfilled,\n",
    "        \"up\": 0,\n",
    "        \"low\": 0,\n",
    "    }\n",
    "    NOE_stats_k = NOE_stats_k.append(append, ignore_index=True)\n",
    "\n",
    "    NOE_stats[k] = NOE_stats_k"
   ]
  },
  {
   "cell_type": "code",
   "execution_count": 88,
   "id": "5fb28d8f",
   "metadata": {
    "tags": [
     "hide-cell"
    ]
   },
   "outputs": [],
   "source": [
    "# Compute statistics for most populated cluster\n",
    "# if multiple:\n",
    "#     NOE_stats_keys = [\"cis\", \"trans\"]\n",
    "#     differentiation = {\"cis\": cis, \"trans\": trans}\n",
    "# else:\n",
    "#     NOE_stats_keys = [\"single\"]\n",
    "if multiple:\n",
    "    differentiation = {\"cis\": cis, \"trans\": trans}\n",
    "n_cluster_traj = {}\n",
    "n_cluster_percentage = {}\n",
    "n_cluster_index = {}\n",
    "remover = []\n",
    "for k in NOE_stats_keys:\n",
    "    if multiple:\n",
    "        # This checks that if an MD trajectory has bot cis/trans states, whether there is a cluster for both cis/trans\n",
    "        cluster_in_x = np.in1d(cluster_index, differentiation[k])\n",
    "        print(cluster_in_x)\n",
    "        if np.all(cluster_in_x == False):\n",
    "            # No clusters found for specific cis/trans/other\n",
    "            remover.append(k)\n",
    "    else:\n",
    "        cluster_in_x = np.ones((len(cluster_index)), dtype=bool)\n",
    "    cluster_in_x = np.arange(0, len(cluster_index))[cluster_in_x]\n",
    "    n_cluster_traj[k] = cluster_traj[cluster_in_x]\n",
    "    n_cluster_percentage[k] = np.array(cluster_percentage)[cluster_in_x]\n",
    "    n_cluster_index[k] = np.array(cluster_index)[cluster_in_x]\n",
    "cluster_traj = n_cluster_traj\n",
    "cluster_percentage = n_cluster_percentage\n",
    "cluster_index = n_cluster_index\n",
    "[NOE_stats_keys.remove(k) for k in remover]"
   ]
  },
  {
   "cell_type": "code",
   "execution_count": 89,
   "id": "1a61eca9",
   "metadata": {
    "tags": [
     "hide-cell"
    ]
   },
   "outputs": [],
   "source": [
    "# Compute statistics for most populated cluster\n",
    "NOE_dict = {}\n",
    "NOE = src.noe.read_NOE(snakemake.input.noe)\n",
    "NOE_n = {}\n",
    "if multiple:\n",
    "    NOE_trans, NOE_cis = NOE\n",
    "    NOE_n[\"cis\"] = NOE_cis\n",
    "    NOE_n[\"trans\"] = NOE_trans\n",
    "    NOE_dict[\"cis\"] = NOE_cis.to_dict(orient=\"index\")\n",
    "    NOE_dict[\"trans\"] = NOE_trans.to_dict(orient=\"index\")\n",
    "else:\n",
    "    NOE_dict[\"single\"] = NOE.to_dict(orient=\"index\")\n",
    "    NOE_n[\"single\"] = NOE\n",
    "\n",
    "\n",
    "for k in NOE_stats_keys:\n",
    "    # max. populated cluster\n",
    "    # NOE = NOE_n.copy()\n",
    "    max_populated_cluster_idx = np.argmax(cluster_percentage[k])\n",
    "    max_populated_cluster = cluster_traj[k][max_populated_cluster_idx]\n",
    "    NOE_n[k][\"md\"], *_ = src.noe.compute_NOE_mdtraj(\n",
    "        NOE_dict[k], max_populated_cluster\n",
    "    )\n",
    "    # Deal with ambigous NOEs\n",
    "    NOE_n[k] = NOE_n[k].explode(\"md\")\n",
    "    # and ambigous/multiple values\n",
    "    NOE_n[k] = NOE_n[k].explode(\"NMR exp\")\n",
    "\n",
    "    # Remove duplicate values (keep value closest to experimental value)\n",
    "    NOE_test = NOE_n[k]\n",
    "    if (NOE_test[\"NMR exp\"].to_numpy() == 0).all():\n",
    "        # if all exp values are 0: take middle between upper / lower bound as reference value\n",
    "        NOE_test[\"NMR exp\"] = (\n",
    "            NOE_test[\"upper bound\"] + NOE_test[\"lower bound\"]\n",
    "        ) * 0.5\n",
    "    NOE_test[\"dev\"] = NOE_test[\"md\"] - np.abs(NOE_test[\"NMR exp\"])\n",
    "    NOE_test[\"abs_dev\"] = np.abs(NOE_test[\"md\"] - np.abs(NOE_test[\"NMR exp\"]))\n",
    "\n",
    "    NOE_test = NOE_test.sort_values(\"abs_dev\", ascending=True)\n",
    "    NOE_test.index = NOE_test.index.astype(int)\n",
    "    NOE_test = NOE_test[~NOE_test.index.duplicated(keep=\"first\")].sort_index(\n",
    "        kind=\"mergesort\"\n",
    "    )\n",
    "\n",
    "    # drop NaN values:\n",
    "    NOE_test = NOE_test.dropna()\n",
    "    # Compute metrics now\n",
    "    # Compute NOE statistics, since no bootstrap necessary, do a single iteration.. TODO: could clean this up further to pass 0, then just return the value...\n",
    "    RMSD, *_ = src.stats.compute_RMSD(\n",
    "        NOE_test[\"NMR exp\"], NOE_test[\"md\"], n_bootstrap=1\n",
    "    )\n",
    "    RMSD_step, *_ = src.stats.compute_RMSD_stepwise(\n",
    "        NOE_d, NOE_d[\"NMR exp\"], NOE_d[\"md\"], n_bootstrap=1\n",
    "    )\n",
    "    MAE, *_ = src.stats.compute_MAE(\n",
    "        NOE_test[\"NMR exp\"], NOE_test[\"md\"], n_bootstrap=1\n",
    "    )\n",
    "    MSE, *_ = src.stats.compute_MSE(NOE_test[\"dev\"], n_bootstrap=1)\n",
    "    fulfil = src.stats.compute_fulfilled_percentage(NOE_test)\n",
    "    # insert values\n",
    "    values = [MAE, MSE, RMSD, RMSD_step, None, None, None, fulfil]\n",
    "    NOE_stats[k].insert(4, \"most-populated-1\", values)\n",
    "\n",
    "# If there are no cis/trans clusters, still write a column 'most-populated-1', but fill with NaN\n",
    "for k in remover:\n",
    "    values = [np.nan, np.nan, np.nan, np.nan, np.nan, np.nan, np.nan, np.nan]\n",
    "    NOE_stats[k].insert(4, \"most-populated-1\", values)"
   ]
  },
  {
   "cell_type": "code",
   "execution_count": 90,
   "id": "ac7a5242",
   "metadata": {
    "scrolled": true,
    "tags": [
     "hide-input"
    ]
   },
   "outputs": [],
   "source": [
    "for k in NOE_stats.keys():\n",
    "    display(NOE_stats[k])\n",
    "    # convert df to dict for export\n",
    "    NOE_stats[k] = NOE_stats[k].to_dict()\n",
    "# Save\n",
    "src.utils.json_dump(snakemake.output.noe_stats, NOE_stats)"
   ]
  },
  {
   "cell_type": "code",
   "execution_count": 91,
   "id": "295c7209",
   "metadata": {
    "tags": [
     "hide-cell"
    ]
   },
   "outputs": [],
   "source": [
    "plt.rc(\"font\", size=MEDIUM_SIZE)  # controls default text sizes\n",
    "plt.rc(\"axes\", titlesize=BIGGER_SIZE)  # fontsize of the axes title\n",
    "plt.rc(\"axes\", labelsize=MEDIUM_SIZE)  # fontsize of the x and y labels\n",
    "plt.rc(\"xtick\", labelsize=MEDIUM_SIZE)  # fontsize of the tick labels\n",
    "plt.rc(\"ytick\", labelsize=MEDIUM_SIZE)  # fontsize of the tick labels\n",
    "plt.rc(\"legend\", fontsize=MEDIUM_SIZE)  # legend fontsize\n",
    "plt.rc(\"figure\", titlesize=BIGGER_SIZE)  # fontsize of the figure title\n",
    "\n",
    "\n",
    "if multiple:\n",
    "    fig, axs = plt.subplots(2, 1)\n",
    "    if len(cis) > CIS_TRANS_CUTOFF:\n",
    "        # cis\n",
    "        axs[0].scatter(NOE_dev[\"cis\"][\"NMR exp\"], NOE_dev[\"cis\"][\"md\"])\n",
    "        axs[0].set_ylabel(\"MD\")\n",
    "        axs[0].set_xlabel(\"Experimental NOE value\")\n",
    "        axs[0].axline((1.5, 1.5), slope=1, color=\"black\")\n",
    "        axs[0].set_title(\"Experimental vs MD derived NOE values - cis\")\n",
    "\n",
    "    if len(trans) > CIS_TRANS_CUTOFF:\n",
    "        # trans\n",
    "        axs[1].scatter(NOE_dev[\"trans\"][\"NMR exp\"], NOE_dev[\"trans\"][\"md\"])\n",
    "        axs[1].set_ylabel(\"MD\")\n",
    "        axs[1].set_xlabel(\"Experimental NOE value\")\n",
    "        axs[1].axline((1.5, 1.5), slope=1, color=\"black\")\n",
    "        axs[1].set_title(\"Experimental vs MD derived NOE values - trans\")\n",
    "    fig.tight_layout()\n",
    "    fig.savefig(snakemake.output.noe_stat_plot)\n",
    "else:\n",
    "    plt.scatter(NOE_dev[\"single\"][\"NMR exp\"], NOE_dev[\"single\"][\"md\"])\n",
    "    if snakemake.params.method != \"cMD\":\n",
    "        plt.scatter(\n",
    "            NOE_dev[\"single\"][\"NMR exp\"],\n",
    "            NOE_dev[\"single\"][\"upper\"],\n",
    "            marker=\"_\",\n",
    "        )\n",
    "        plt.scatter(\n",
    "            NOE_dev[\"single\"][\"NMR exp\"],\n",
    "            NOE_dev[\"single\"][\"lower\"],\n",
    "            marker=\"_\",\n",
    "        )\n",
    "    plt.ylabel(\"MD\")\n",
    "    plt.xlabel(\"Experimental NOE value\")\n",
    "    plt.axline((1.5, 1.5), slope=1, color=\"black\")\n",
    "    plt.title(\"Experimental vs MD derived NOE values\")\n",
    "    plt.tight_layout()\n",
    "    plt.savefig(snakemake.output.noe_stat_plot)"
   ]
  },
  {
   "cell_type": "code",
   "execution_count": 92,
   "id": "324033e8",
   "metadata": {
    "tags": [
     "hide-cell"
    ]
   },
   "outputs": [],
   "source": [
    "# is the mean deviation significantly different than 0? if pvalue < 5% -> yes! We want: no! (does not deviate from exp. values)\n",
    "if multiple:\n",
    "    if len(cis) > CIS_TRANS_CUTOFF:\n",
    "        print(stats.ttest_1samp(NOE_dev[\"cis\"][\"dev\"], 0.0))\n",
    "    if len(trans) > CIS_TRANS_CUTOFF:\n",
    "        print(stats.ttest_1samp(NOE_dev[\"trans\"][\"dev\"], 0.0))\n",
    "else:\n",
    "    print(stats.ttest_1samp(NOE_dev[\"single\"][\"dev\"], 0.0))"
   ]
  },
  {
   "cell_type": "code",
   "execution_count": 93,
   "id": "50192dcc",
   "metadata": {
    "tags": [
     "hide-cell"
    ]
   },
   "outputs": [],
   "source": [
    "if multiple:\n",
    "    if len(cis) > CIS_TRANS_CUTOFF:\n",
    "        print(stats.describe(NOE_dev[\"cis\"][\"dev\"]))\n",
    "    if len(trans) > CIS_TRANS_CUTOFF:\n",
    "        print(stats.describe(NOE_dev[\"trans\"][\"dev\"]))\n",
    "else:\n",
    "    print(stats.describe(NOE_dev[\"single\"][\"dev\"]))"
   ]
  },
  {
   "cell_type": "code",
   "execution_count": 94,
   "id": "ba52d3d8",
   "metadata": {
    "tags": [
     "hide-cell"
    ]
   },
   "outputs": [],
   "source": [
    "# Make overview figure\n",
    "plot1 = final_figure_axs[0].getroot()\n",
    "plot2 = final_figure_axs[1].getroot()\n",
    "plot3 = final_figure_axs[2].getroot()\n",
    "plot4 = final_figure_axs[3].getroot()\n",
    "plot5 = final_figure_axs[4].getroot()"
   ]
  },
  {
   "cell_type": "code",
   "execution_count": 95,
   "id": "5e36f1c7",
   "metadata": {
    "tags": [
     "hide-cell"
    ]
   },
   "outputs": [],
   "source": [
    "if multiple:\n",
    "    #     # TODO: fix this!\n",
    "    #         sc.Figure(\n",
    "    #         \"4039\",\n",
    "    #         \"5048\",\n",
    "    #         sc.Panel(plot3, sc.Text(\"A\", 0, 0, size=16, weight='bold')),\n",
    "    #         sc.Panel(\n",
    "    #             plot2,\n",
    "    #             sc.Text(\"B\", \"8.5cm\", \"0cm\", size=16),\n",
    "    #         ).move(0,200),\n",
    "    #         sc.Panel(plot4, sc.Text(\"C\", 25, 20, size=16, weight='bold')),\n",
    "    #         # sc.Panel(plot4, sc.Text(\"D\", 25, 20, size=20, weight='bold')).scale(0.8).move(-200,0),\n",
    "    #     ).tile(2, 2).save(snakemake.output.overview_plot)\n",
    "    sc.Figure(\n",
    "        \"4039\",\n",
    "        \"7068\",  # 5048\n",
    "        sc.Panel(\n",
    "            plot2, sc.Text(\"A\", 25, 20, size=16, weight=\"bold\").move(-12, 0)\n",
    "        ).scale(8),\n",
    "        sc.Panel(\n",
    "            plot3, sc.Text(\"B\", 25, 20, size=16, weight=\"bold\").move(-12, 0)\n",
    "        ).scale(8),\n",
    "        sc.Panel(\n",
    "            plot4, sc.Text(\"C\", 25, 20, size=16, weight=\"bold\").move(-12, -24)\n",
    "        )\n",
    "        .scale(8)\n",
    "        .move(0, -300),\n",
    "        sc.Panel(sc.Text(\"2\")),\n",
    "        sc.Panel(\n",
    "            plot5, sc.Text(\"D\", 25, 20, size=16, weight=\"bold\").move(-12, 0)\n",
    "        )\n",
    "        .scale(8)\n",
    "        .move(0, -1550),\n",
    "        # sc.Panel(plot1, sc.Text(\"D\", 25, 0, size=16, weight='bold')),\n",
    "    ).tile(2, 3).save(snakemake.output.overview_plot)\n",
    "else:\n",
    "    sc.Figure(\n",
    "        \"4039\",\n",
    "        \"5048\",  # 4039\n",
    "        sc.Panel(\n",
    "            plot2, sc.Text(\"A\", 25, 20, size=16, weight=\"bold\").move(-12, 0)\n",
    "        ).scale(8),\n",
    "        sc.Panel(\n",
    "            plot3, sc.Text(\"B\", 25, 20, size=16, weight=\"bold\").move(-12, 0)\n",
    "        ).scale(8),\n",
    "        sc.Panel(\n",
    "            plot4, sc.Text(\"C\", 25, 20, size=16, weight=\"bold\").move(-12, -24)\n",
    "        )\n",
    "        .scale(8)\n",
    "        .move(0, 350),\n",
    "        sc.Panel(sc.Text(\"2\")),\n",
    "        sc.Panel(\n",
    "            plot5, sc.Text(\"D\", 25, 20, size=16, weight=\"bold\").move(-12, 0)\n",
    "        )\n",
    "        .scale(8)\n",
    "        .move(0, -250),\n",
    "        # sc.Panel(plot1, sc.Text(\"D\", 25, 0, size=16, weight='bold')),\n",
    "    ).tile(2, 3).save(snakemake.output.overview_plot)"
   ]
  },
  {
   "cell_type": "code",
   "execution_count": 96,
   "id": "3b1d16d2",
   "metadata": {},
   "outputs": [],
   "source": [
    "src.utils.show_svg(snakemake.output.overview_plot)"
   ]
  },
  {
   "cell_type": "code",
   "execution_count": 97,
   "id": "81990263",
   "metadata": {},
   "outputs": [],
   "source": [
    "print(\"Done\")"
   ]
  },
  {
   "cell_type": "code",
   "execution_count": null,
   "id": "9b22a546",
   "metadata": {},
   "outputs": [],
   "source": []
  },
  {
   "cell_type": "code",
   "execution_count": null,
   "id": "1353c150",
   "metadata": {},
   "outputs": [],
   "source": []
  }
 ],
 "metadata": {
  "celltoolbar": "Tags",
  "kernelspec": {
   "display_name": "Python 3 (ipykernel)",
   "language": "python",
   "name": "python3"
  },
  "language_info": {
   "codemirror_mode": {
    "name": "ipython",
    "version": 3
   },
   "file_extension": ".py",
   "mimetype": "text/x-python",
   "name": "python",
   "nbconvert_exporter": "python",
   "pygments_lexer": "ipython3",
   "version": "3.7.12"
  },
  "vscode": {
   "interpreter": {
    "hash": "623c5a77bb98437fe086ee670aaf5aed30513a77abb8497d3fd89cf24d439d46"
   }
  }
 },
 "nbformat": 4,
 "nbformat_minor": 5
}
