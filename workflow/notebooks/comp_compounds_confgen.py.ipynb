{
 "cells": [
  {
   "cell_type": "code",
   "execution_count": 2,
   "id": "c57259de",
   "metadata": {},
   "outputs": [],
   "source": [
    "import src.utils\n",
    "import pandas as pd\n",
    "import numpy as np\n",
    "import matplotlib.pyplot as plt\n",
    "import seaborn as sns"
   ]
  },
  {
   "cell_type": "code",
   "execution_count": 3,
   "id": "0ba5eeea",
   "metadata": {},
   "outputs": [],
   "source": [
    "results = {}\n",
    "for metric in [\"fulfil\", \"rmsd\", \"mae\"]:\n",
    "    percentage_fulfilled = {}\n",
    "    energy = {}\n",
    "    random = {}\n",
    "    bundle_sizes = {}\n",
    "    licuv = {}\n",
    "    namfis = {}\n",
    "    for i in snakemake.input:\n",
    "        stats = src.utils.json_load(i)\n",
    "        compound_id = i.split(\"/\")[4]\n",
    "        if (\"cis\" in stats) or (\"trans\" in stats):\n",
    "            if \"cis\" in stats:\n",
    "                percentage_fulfilled[f\"{compound_id}_cis\"] = stats[\"cis\"][\n",
    "                    metric\n",
    "                ][\"best\"]\n",
    "                energy[f\"{compound_id}_cis\"] = stats[\"cis\"][metric][\n",
    "                    \"low_energy\"\n",
    "                ]\n",
    "                random[f\"{compound_id}_cis\"] = stats[\"cis\"][metric][\"random\"]\n",
    "                bundle_sizes[f\"{compound_id}_cis\"] = stats[\"cis\"][\n",
    "                    \"bundle-size\"\n",
    "                ]\n",
    "                licuv[f\"{compound_id}_cis\"] = stats[\"cis\"][metric][\"LICUV\"]\n",
    "                namfis[f\"{compound_id}_cis\"] = stats[\"cis\"][metric][\"NAMFIS\"]\n",
    "            if \"trans\" in stats:\n",
    "                percentage_fulfilled[f\"{compound_id}_trans\"] = stats[\"trans\"][\n",
    "                    metric\n",
    "                ][\"best\"]\n",
    "                energy[f\"{compound_id}_trans\"] = stats[\"trans\"][metric][\n",
    "                    \"low_energy\"\n",
    "                ]\n",
    "                random[f\"{compound_id}_trans\"] = stats[\"trans\"][metric][\n",
    "                    \"random\"\n",
    "                ]\n",
    "                bundle_sizes[f\"{compound_id}_trans\"] = stats[\"trans\"][\n",
    "                    \"bundle-size\"\n",
    "                ]\n",
    "                licuv[f\"{compound_id}_trans\"] = stats[\"trans\"][metric][\"LICUV\"]\n",
    "                namfis[f\"{compound_id}_trans\"] = stats[\"trans\"][metric][\n",
    "                    \"NAMFIS\"\n",
    "                ]\n",
    "        else:\n",
    "            percentage_fulfilled[f\"{compound_id}\"] = stats[\"single\"][metric][\n",
    "                \"best\"\n",
    "            ]\n",
    "            energy[f\"{compound_id}_single\"] = stats[\"single\"][metric][\n",
    "                \"low_energy\"\n",
    "            ]\n",
    "            random[f\"{compound_id}_single\"] = stats[\"single\"][metric][\"random\"]\n",
    "            bundle_sizes[f\"{compound_id}_single\"] = stats[\"single\"][\n",
    "                \"bundle-size\"\n",
    "            ]\n",
    "            licuv[f\"{compound_id}_single\"] = stats[\"single\"][metric][\"LICUV\"]\n",
    "            namfis[f\"{compound_id}_single\"] = stats[\"single\"][metric][\"NAMFIS\"]\n",
    "    results[metric] = {\n",
    "        \"best\": percentage_fulfilled,\n",
    "        \"low_energy\": energy,\n",
    "        \"random\": random,\n",
    "        \"bundle_size\": bundle_sizes,\n",
    "        \"licuv\": licuv,\n",
    "        \"namfis\": namfis,\n",
    "    }"
   ]
  },
  {
   "cell_type": "code",
   "execution_count": 4,
   "id": "7c2709a4",
   "metadata": {},
   "outputs": [],
   "source": [
    "# plt.scatter(percentage_fulfilled.values(), percentage_fulfilled.keys(), )\n",
    "# plt.title(f\"{snakemake.wildcards.method}: {snakemake.wildcards.simtime} ns\")\n",
    "# plt.savefig(snakemake.output.plot)"
   ]
  },
  {
   "cell_type": "code",
   "execution_count": 5,
   "id": "8827711e",
   "metadata": {},
   "outputs": [],
   "source": [
    "src.utils.json_dump(snakemake.output.data, results)"
   ]
  },
  {
   "cell_type": "code",
   "execution_count": 6,
   "id": "7eb9ca19",
   "metadata": {},
   "outputs": [],
   "source": [
    "results"
   ]
  },
  {
   "cell_type": "code",
   "execution_count": null,
   "id": "9f8a8d2c",
   "metadata": {},
   "outputs": [],
   "source": []
  }
 ],
 "metadata": {
  "interpreter": {
   "hash": "e885641f5d15292e734dfd87be8b96e25b1f2f75cfe4f2af2fabd4ab738eeb5e"
  },
  "kernelspec": {
   "display_name": "Python 3 (ipykernel)",
   "language": "python",
   "name": "python3"
  },
  "language_info": {
   "codemirror_mode": {
    "name": "ipython",
    "version": 3
   },
   "file_extension": ".py",
   "mimetype": "text/x-python",
   "name": "python",
   "nbconvert_exporter": "python",
   "pygments_lexer": "ipython3",
   "version": "3.7.12"
  }
 },
 "nbformat": 4,
 "nbformat_minor": 5
}
