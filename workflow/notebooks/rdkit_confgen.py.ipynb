{
 "cells": [
  {
   "cell_type": "code",
   "execution_count": 2,
   "id": "f30420b4",
   "metadata": {},
   "outputs": [],
   "source": [
    "from rdkit import Chem\n",
    "from rdkit.Chem import rdDistGeom\n",
    "from rdkit.Chem import AllChem\n",
    "import numpy as np\n",
    "import copy\n",
    "import sys\n",
    "import os\n",
    "import importlib\n",
    "\n",
    "sys.path.append(snakemake.params.rdkit_path)\n",
    "# TODO: double check this is all sensible..\n",
    "# TODO: should not rely on OMEGA structure..."
   ]
  },
  {
   "cell_type": "code",
   "execution_count": 3,
   "id": "7c469616",
   "metadata": {},
   "outputs": [],
   "source": [
    "full_module = f\"{snakemake.wildcards.rdkit_type}\"\n",
    "generator = importlib.import_module(full_module)"
   ]
  },
  {
   "cell_type": "code",
   "execution_count": 4,
   "id": "019ba97c",
   "metadata": {},
   "outputs": [],
   "source": [
    "# generator.conf_generator()"
   ]
  },
  {
   "cell_type": "code",
   "execution_count": 5,
   "id": "9b1aa1e8",
   "metadata": {},
   "outputs": [],
   "source": [
    "# def etkdgv3(smile, numConf, params=None, getParams=None):\n",
    "#     from rdkit import Chem\n",
    "#     from rdkit.Chem import AllChem\n",
    "\n",
    "#     if getParams is None:\n",
    "#         getParams = False\n",
    "\n",
    "#     # Set ETKDG parameters\n",
    "#     if params is None:\n",
    "#         #params = rdDistGeom.srETKDGv3()\n",
    "#         params = rdDistGeom.ETKDGv3()\n",
    "#         params.useRandomCoords = True\n",
    "#         params.numThreads = 0\n",
    "#         params.maxAttempts = 2000\n",
    "#         params.pruneRmsThresh = 0.5\n",
    "\n",
    "#     if getParams:\n",
    "#         parameters = dir(params)\n",
    "#         parameters = [x for x in parameters if '__' not in x]\n",
    "#         parameters = [x for x in parameters if 'Set' not in x]\n",
    "#         parameter_val = [getattr(params, x) for x in parameters]\n",
    "#         param_dict = dict(zip(parameters, parameter_val))\n",
    "#         return param_dict\n",
    "\n",
    "#     # Create molecule\n",
    "#     mol = Chem.MolFromSmiles(smile)\n",
    "#     Chem.SanitizeMol(mol)\n",
    "\n",
    "#     # Add H's\n",
    "#     mol = Chem.AddHs(mol, addCoords=True, explicitOnly=True) #, addResidueInfo=True)\n",
    "\n",
    "\n",
    "#     # Produce conformers\n",
    "#     AllChem.EmbedMultipleConfs(mol, numConfs=numConf, params=params)\n",
    "\n",
    "#     return mol,params"
   ]
  },
  {
   "cell_type": "code",
   "execution_count": 6,
   "id": "80fbe597",
   "metadata": {},
   "outputs": [],
   "source": [
    "with open(snakemake.input.omega_smile) as f:\n",
    "    smile = f.read()\n",
    "smile = smile[:-1]\n",
    "smile"
   ]
  },
  {
   "cell_type": "code",
   "execution_count": 7,
   "id": "80721bf0",
   "metadata": {},
   "outputs": [],
   "source": [
    "# why is omega the reference molecule here?\n",
    "ref_mol = Chem.MolFromPDBFile(\n",
    "    snakemake.input.omega,\n",
    "    removeHs=False,\n",
    ")"
   ]
  },
  {
   "cell_type": "code",
   "execution_count": 10,
   "id": "ca269520",
   "metadata": {},
   "outputs": [],
   "source": [
    "?Chem.MolFromPDBFile"
   ]
  },
  {
   "cell_type": "code",
   "execution_count": 8,
   "id": "07d97371",
   "metadata": {},
   "outputs": [],
   "source": [
    "ref_mol.RemoveAllConformers()"
   ]
  },
  {
   "cell_type": "code",
   "execution_count": 9,
   "id": "b0bfbc6a",
   "metadata": {},
   "outputs": [],
   "source": [
    "ref_mol"
   ]
  },
  {
   "cell_type": "code",
   "execution_count": 10,
   "id": "ccdb42df",
   "metadata": {},
   "outputs": [],
   "source": [
    "ref_mol.GetNumAtoms()"
   ]
  },
  {
   "cell_type": "code",
   "execution_count": 11,
   "id": "5de9d484",
   "metadata": {
    "scrolled": true
   },
   "outputs": [],
   "source": [
    "smile = Chem.MolToSmiles(ref_mol)\n",
    "smile"
   ]
  },
  {
   "cell_type": "code",
   "execution_count": 12,
   "id": "b9db157c",
   "metadata": {},
   "outputs": [],
   "source": [
    "# Generate conformers...\n",
    "confs, params = generator.conf_generator(smile, 400)"
   ]
  },
  {
   "cell_type": "code",
   "execution_count": 13,
   "id": "f221f111",
   "metadata": {},
   "outputs": [],
   "source": [
    "parameters = dir(params)\n",
    "parameters = [x for x in parameters if \"__\" not in x]\n",
    "parameters = [x for x in parameters if \"Set\" not in x]\n",
    "parameter_val = [getattr(params, x) for x in parameters]\n",
    "param_dict = dict(zip(parameters, parameter_val))\n",
    "param_dict"
   ]
  },
  {
   "cell_type": "code",
   "execution_count": 14,
   "id": "681d3939",
   "metadata": {},
   "outputs": [],
   "source": [
    "confs.GetNumConformers()"
   ]
  },
  {
   "cell_type": "code",
   "execution_count": 15,
   "id": "a7608db7",
   "metadata": {},
   "outputs": [],
   "source": [
    "confs"
   ]
  },
  {
   "cell_type": "code",
   "execution_count": 16,
   "id": "521c07f9",
   "metadata": {},
   "outputs": [],
   "source": [
    "confs.GetNumAtoms()"
   ]
  },
  {
   "cell_type": "code",
   "execution_count": 17,
   "id": "0b85ceb1",
   "metadata": {},
   "outputs": [],
   "source": [
    "# Chem.MolToPDBFile(confs, snakemake.output.pdb)"
   ]
  },
  {
   "cell_type": "code",
   "execution_count": 18,
   "id": "d444372a",
   "metadata": {},
   "outputs": [],
   "source": [
    "AllChem.AssignBondOrdersFromTemplate(ref_mol, confs)"
   ]
  },
  {
   "cell_type": "code",
   "execution_count": 19,
   "id": "47fccb43",
   "metadata": {},
   "outputs": [],
   "source": [
    "hit_ats = list(confs.GetSubstructMatch(ref_mol))\n",
    "# Find missing atom indices.\n",
    "missing = set(range(confs.GetNumAtoms())) - set(hit_ats)\n",
    "if missing == set():\n",
    "    order = list(confs.GetSubstructMatches(ref_mol)[0])\n",
    "    mol = Chem.RenumberAtoms(confs, order)\n",
    "else:\n",
    "    # Now remove these atoms\n",
    "    mw = Chem.RWMol(confs)\n",
    "    for i in missing:\n",
    "        mw.RemoveAtom(i)\n",
    "    order = list(mw.GetSubstructMatch(ref_mol))\n",
    "    Chem.RenumberAtoms(mw, order)\n",
    "    mol = mw"
   ]
  },
  {
   "cell_type": "code",
   "execution_count": 20,
   "id": "a995b0a1",
   "metadata": {},
   "outputs": [],
   "source": [
    "missing"
   ]
  },
  {
   "cell_type": "code",
   "execution_count": 21,
   "id": "b5924a9f",
   "metadata": {},
   "outputs": [],
   "source": [
    "new_mol = copy.deepcopy(ref_mol)"
   ]
  },
  {
   "cell_type": "code",
   "execution_count": 22,
   "id": "a1e7c9f3",
   "metadata": {},
   "outputs": [],
   "source": [
    "for i in range(mol.GetNumConformers()):\n",
    "    new_mol.AddConformer(mol.GetConformer(i))"
   ]
  },
  {
   "cell_type": "code",
   "execution_count": 23,
   "id": "20f66660",
   "metadata": {},
   "outputs": [],
   "source": [
    "new_mol.GetNumConformers()"
   ]
  },
  {
   "cell_type": "code",
   "execution_count": 24,
   "id": "7fd2951a",
   "metadata": {},
   "outputs": [],
   "source": [
    "Chem.MolToPDBFile(new_mol, snakemake.output.pdb)"
   ]
  },
  {
   "cell_type": "code",
   "execution_count": 32,
   "id": "879025e2",
   "metadata": {},
   "outputs": [],
   "source": [
    "results = Chem.rdForceFieldHelpers.MMFFOptimizeMoleculeConfs(\n",
    "    new_mol, maxIters=2000, numThreads=snakemake.threads\n",
    ")\n",
    "energies = [en for conv, en in results]\n",
    "energies = np.array(energies)\n",
    "np.savetxt(snakemake.output.mmff_energies, energies)"
   ]
  },
  {
   "cell_type": "code",
   "execution_count": null,
   "id": "f46e2de7",
   "metadata": {},
   "outputs": [],
   "source": []
  }
 ],
 "metadata": {
  "kernelspec": {
   "display_name": "Python 3 (ipykernel)",
   "language": "python",
   "name": "python3"
  },
  "language_info": {
   "codemirror_mode": {
    "name": "ipython",
    "version": 3
   },
   "file_extension": ".py",
   "mimetype": "text/x-python",
   "name": "python",
   "nbconvert_exporter": "python",
   "pygments_lexer": "ipython3",
   "version": "3.9.7"
  }
 },
 "nbformat": 4,
 "nbformat_minor": 5
}
