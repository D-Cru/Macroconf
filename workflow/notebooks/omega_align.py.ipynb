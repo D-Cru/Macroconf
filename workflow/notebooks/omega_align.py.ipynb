{
 "cells": [
  {
   "cell_type": "code",
   "execution_count": 71,
   "id": "nutritional-picnic",
   "metadata": {},
   "outputs": [],
   "source": [
    "import matplotlib\n",
    "\n",
    "%matplotlib inline\n",
    "# matplotlib.use(\"Agg\")\n",
    "\n",
    "import mdtraj as md\n",
    "import numpy as np\n",
    "import matplotlib.pyplot as plt\n",
    "import scipy.cluster.hierarchy\n",
    "from scipy.spatial.distance import squareform\n",
    "import pandas as pd\n",
    "import os\n",
    "\n",
    "# import nglview as nv\n",
    "from rdkit import Chem\n",
    "from rdkit.Chem import AllChem\n",
    "from rdkit.Chem.Draw import rdMolDraw2D\n",
    "from rdkit.Chem.Draw import IPythonConsole\n",
    "from IPython.display import SVG\n",
    "IPythonConsole.drawOptions.addAtomIndices = True\n",
    "IPythonConsole.molSize = 600,600"
   ]
  },
  {
   "cell_type": "code",
   "execution_count": 72,
   "id": "cc83a26a",
   "metadata": {},
   "outputs": [],
   "source": [
    "compound_index = int(snakemake.wildcards.compound_dir)\n",
    "\n",
    "# load omega conformers as mdtraj traj and topology in rdkit\n",
    "t_omega = md.load(snakemake.input.pdb)\n",
    "print(t_omega)\n",
    "conf_gens = Chem.MolFromPDBFile(\n",
    "    snakemake.input.pdb, removeHs=False, sanitize=True\n",
    ")\n",
    "# if os.stat(snakemake.input.mol2).st_size != 0:\n",
    "#     conf_gens = Chem.MolFromMol2File(\n",
    "#         snakemake.input.mol2, removeHs=False, sanitize=True\n",
    "#     )\n",
    "conf_gens.RemoveAllConformers()\n",
    "conf_gens"
   ]
  },
  {
   "cell_type": "code",
   "execution_count": 73,
   "id": "6a67185f",
   "metadata": {},
   "outputs": [],
   "source": [
    "# Load MD reference topology as mdtraj-traj and topology as rdkit mol\n",
    "t_ref = md.load(snakemake.input.ref_top)\n",
    "print(t_ref)\n",
    "\n",
    "ref_mol = Chem.MolFromPDBFile(\n",
    "    snakemake.input.ref_pdb_equil, removeHs=False, sanitize=False\n",
    ") # ref_pdb_equil\n",
    "\n",
    "ref_mol = Chem.MolFromMol2File(\n",
    "    snakemake.input.ref_equil_mol2, removeHs=False, sanitize=True\n",
    ") # ref_pdb_equil\n",
    "\n",
    "ref_mol.RemoveAllConformers()\n",
    "ref_mol"
   ]
  },
  {
   "cell_type": "code",
   "execution_count": 75,
   "id": "4f4bca33",
   "metadata": {},
   "outputs": [],
   "source": [
    "# Try to assign bond orders from template, this does a substruct match. If this fails -> cheminfo struct. is missing atoms\n",
    "addH = False\n",
    "try: \n",
    "    AllChem.AssignBondOrdersFromTemplate(ref_mol, conf_gens)\n",
    "except ValueError:\n",
    "    print(\"Missing atoms in cheminfo!\")\n",
    "    addH = True\n",
    "    # Add Hs to conf_gens\n",
    "    conf_gens_add = Chem.AddHs(conf_gens)  # Gets stuck with this: addResidueInfo=True\n",
    "    \n",
    "    display(AllChem.AssignBondOrdersFromTemplate(conf_gens, conf_gens_add))\n",
    "    hits_H = list(conf_gens_add.GetSubstructMatch(conf_gens))\n",
    "    additional_Hs = set(range(conf_gens_add.GetNumAtoms())) - set(hits_H)\n",
    "    # for aH in additional_Hs:\n",
    "    #     atom = conf_gens_add.GetAtomWithIdx(aH)\n",
    "    #     atom.Chem.Atom.GetPDBResidueInfo\n",
    "    # store where the added H's are:\n",
    "    print(additional_Hs)"
   ]
  },
  {
   "cell_type": "code",
   "execution_count": 76,
   "id": "a0b79a4d",
   "metadata": {},
   "outputs": [],
   "source": [
    "conf_gens"
   ]
  },
  {
   "cell_type": "code",
   "execution_count": 81,
   "id": "523d9679",
   "metadata": {},
   "outputs": [],
   "source": [
    "# Now match to ref_mol\n",
    "if addH:\n",
    "    conf_gens_add = AllChem.AssignBondOrdersFromTemplate(ref_mol, conf_gens_add)\n",
    "    missing_list = list(conf_gens_add.GetSubstructMatch(ref_mol))\n",
    "    # Find missing atom indices.\n",
    "    missing = set(range(conf_gens_add.GetNumAtoms())) - set(missing_list)\n",
    "else:\n",
    "    conf_gens = AllChem.AssignBondOrdersFromTemplate(ref_mol, conf_gens)\n",
    "    missing_list = list(conf_gens.GetSubstructMatch(ref_mol))\n",
    "#     missing_list = list(ref_mol.GetSubstructMatch(conf_gens))\n",
    "    # Find missing atom indices.\n",
    "    missing = set(range(conf_gens.GetNumAtoms())) - set(missing_list)\n",
    "print(\"The following atoms of the ref_mol structure are missing in the cheminfo structures, or couldn't be matched\")\n",
    "print(missing)\n",
    "d = rdMolDraw2D.MolDraw2DSVG(500, 500)  # or MolDraw2DCairo to get PNGs\n",
    "if addH:\n",
    "    rdMolDraw2D.PrepareAndDrawMolecule(d, conf_gens_add, highlightAtoms=missing)\n",
    "else:\n",
    "    rdMolDraw2D.PrepareAndDrawMolecule(d, conf_gens, highlightAtoms=missing)\n",
    "d.FinishDrawing()\n",
    "SVG(d.GetDrawingText())"
   ]
  },
  {
   "cell_type": "code",
   "execution_count": 83,
   "id": "0d0edae4",
   "metadata": {},
   "outputs": [],
   "source": [
    "xyz_omega = t_omega.xyz\n",
    "# Omega -> omega with additional Hs order\n",
    "if addH:\n",
    "    xyz_omega = xyz_omega[:,hits_H,:]\n",
    "    for i, aH in enumerate(list(additional_Hs)):\n",
    "        # add 0s for additional Hs\n",
    "        xyz_omega = np.concatenate((xyz_omega, np.zeros((xyz_omega.shape[0],1,3))), axis=1)\n",
    "    # omega with additional Hs + appended Hs -> omega with addtional Hs as in rdkit\n",
    "    xyz_omega = xyz_omega[:,hits_H + list(additional_Hs),:]\n",
    "\n",
    "# Reorder (& cut out excess H's) according to MD ref\n",
    "xyz_omega = xyz_omega[:,missing_list,:]"
   ]
  },
  {
   "cell_type": "code",
   "execution_count": 84,
   "id": "09666b77",
   "metadata": {},
   "outputs": [],
   "source": [
    "# Overwrite ref xyz with omega coordinates\n",
    "t_ref.xyz = xyz_omega\n",
    "t_ref"
   ]
  },
  {
   "cell_type": "code",
   "execution_count": 85,
   "id": "2981af9b",
   "metadata": {},
   "outputs": [],
   "source": [
    "t_ref.save_pdb(snakemake.output.mol_aligned)"
   ]
  },
  {
   "cell_type": "code",
   "execution_count": null,
   "id": "6cec9eac",
   "metadata": {},
   "outputs": [],
   "source": []
  }
 ],
 "metadata": {
  "kernelspec": {
   "display_name": "Python 3 (ipykernel)",
   "language": "python",
   "name": "python3"
  },
  "language_info": {
   "codemirror_mode": {
    "name": "ipython",
    "version": 3
   },
   "file_extension": ".py",
   "mimetype": "text/x-python",
   "name": "python",
   "nbconvert_exporter": "python",
   "pygments_lexer": "ipython3",
   "version": "3.9.13"
  },
  "vscode": {
   "interpreter": {
    "hash": "94dababe982ee948942e7db2b95585822e0f0a0b431dbd7d908d29faa939b7a7"
   }
  }
 },
 "nbformat": 4,
 "nbformat_minor": 5
}
