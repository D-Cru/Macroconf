{
 "cells": [
  {
   "cell_type": "code",
   "execution_count": 2,
   "id": "nutritional-picnic",
   "metadata": {},
   "outputs": [],
   "source": [
    "import matplotlib\n",
    "\n",
    "%matplotlib inline\n",
    "# matplotlib.use(\"Agg\")\n",
    "\n",
    "import mdtraj as md\n",
    "import numpy as np\n",
    "import matplotlib.pyplot as plt\n",
    "import scipy.cluster.hierarchy\n",
    "from scipy.spatial.distance import squareform\n",
    "import pandas as pd\n",
    "\n",
    "# import nglview as nv\n",
    "from rdkit import Chem\n",
    "from rdkit.Chem import AllChem\n",
    "from rdkit.Chem.Draw import rdMolDraw2D\n",
    "from IPython.display import SVG"
   ]
  },
  {
   "cell_type": "code",
   "execution_count": 3,
   "id": "electronic-director",
   "metadata": {},
   "outputs": [],
   "source": [
    "compound_index = int(snakemake.wildcards.compound_dir)"
   ]
  },
  {
   "cell_type": "code",
   "execution_count": 4,
   "id": "printable-entity",
   "metadata": {},
   "outputs": [],
   "source": [
    "# load omega conformers\n",
    "t_omega = md.load(snakemake.input.pdb)\n",
    "t_omega"
   ]
  },
  {
   "cell_type": "code",
   "execution_count": 5,
   "id": "f8b8ef46",
   "metadata": {},
   "outputs": [],
   "source": [
    "t_ref = md.load(snakemake.input.ref_top)\n",
    "t_ref"
   ]
  },
  {
   "cell_type": "code",
   "execution_count": 8,
   "id": "97ab538b",
   "metadata": {},
   "outputs": [],
   "source": [
    "ref_mol = Chem.MolFromPDBFile(\n",
    "    snakemake.input.ref_pdb_equil, removeHs=False, sanitize=False\n",
    ")\n",
    "# ref_mol = Chem.MolFromPDBFile(snakemake.input.ref_top, removeHs=False, sanitize=False)\n",
    "# ref_mol = Chem.MolFromPDBFile(\"data/interim/refactor-test/24/H2O/1_make_topology/equil.pdb\", removeHs=False, sanitize=False)"
   ]
  },
  {
   "cell_type": "code",
   "execution_count": 9,
   "id": "6eea6f21",
   "metadata": {},
   "outputs": [],
   "source": [
    "ref_mol.RemoveAllConformers()"
   ]
  },
  {
   "cell_type": "code",
   "execution_count": 10,
   "id": "6b18745e",
   "metadata": {},
   "outputs": [],
   "source": [
    "# smi_mol = Chem.MolFromSmiles('CC(C)C[C@H]1C(=O)N[C@H](C(=O)N[C@H](C(=O)N[C@H](C(=O)N[C@H](C(=O)N2CCC[C@H]2C(=O)N1)CO)CC(=O)O)C(C)C)CC(=O)N')\n",
    "# ref_mol = AllChem.AssignBondOrdersFromTemplate(smi_mol, ref_mol)"
   ]
  },
  {
   "cell_type": "code",
   "execution_count": 11,
   "id": "64bb1d60",
   "metadata": {},
   "outputs": [],
   "source": [
    "ref_mol"
   ]
  },
  {
   "cell_type": "code",
   "execution_count": 12,
   "id": "ac250199",
   "metadata": {},
   "outputs": [],
   "source": [
    "ref_mol.GetNumAtoms()"
   ]
  },
  {
   "cell_type": "code",
   "execution_count": 13,
   "id": "9d40efb5",
   "metadata": {},
   "outputs": [],
   "source": [
    "conf_gens = Chem.MolFromPDBFile(\n",
    "    snakemake.input.pdb, removeHs=False, sanitize=False\n",
    ")\n",
    "# conf_gens = AllChem.AssignBondOrdersFromTemplate(smi_mol, conf_gens)"
   ]
  },
  {
   "cell_type": "code",
   "execution_count": 14,
   "id": "020408ef",
   "metadata": {},
   "outputs": [],
   "source": [
    "conf_gens"
   ]
  },
  {
   "cell_type": "code",
   "execution_count": 15,
   "id": "a694ce05",
   "metadata": {},
   "outputs": [],
   "source": [
    "conf_gens.RemoveAllConformers()\n",
    "conf_gens"
   ]
  },
  {
   "cell_type": "code",
   "execution_count": 16,
   "id": "6208db8d",
   "metadata": {},
   "outputs": [],
   "source": [
    "conf_gens.GetNumAtoms()"
   ]
  },
  {
   "cell_type": "code",
   "execution_count": 17,
   "id": "973428e2",
   "metadata": {},
   "outputs": [],
   "source": [
    "Chem.MolToSmiles(conf_gens)"
   ]
  },
  {
   "cell_type": "code",
   "execution_count": 18,
   "id": "1d64d7fa",
   "metadata": {},
   "outputs": [],
   "source": [
    "Chem.MolToSmiles(ref_mol)"
   ]
  },
  {
   "cell_type": "code",
   "execution_count": 19,
   "id": "71d37c09",
   "metadata": {},
   "outputs": [],
   "source": [
    "AllChem.AssignBondOrdersFromTemplate(ref_mol, conf_gens)"
   ]
  },
  {
   "cell_type": "code",
   "execution_count": 20,
   "id": "c0d0c138",
   "metadata": {},
   "outputs": [],
   "source": [
    "# hit_ats = list(conf_gens.GetSubstructMatch(Chem.RemoveHs(ref_mol)))"
   ]
  },
  {
   "cell_type": "code",
   "execution_count": 21,
   "id": "c3286a4d",
   "metadata": {},
   "outputs": [],
   "source": [
    "hit_ats = list(conf_gens.GetSubstructMatch(ref_mol))"
   ]
  },
  {
   "cell_type": "code",
   "execution_count": 22,
   "id": "72caa32c",
   "metadata": {},
   "outputs": [],
   "source": [
    "d = rdMolDraw2D.MolDraw2DSVG(500, 500)  # or MolDraw2DCairo to get PNGs\n",
    "rdMolDraw2D.PrepareAndDrawMolecule(d, conf_gens, highlightAtoms=hit_ats)\n",
    "d.FinishDrawing()\n",
    "SVG(d.GetDrawingText())"
   ]
  },
  {
   "cell_type": "code",
   "execution_count": 23,
   "id": "c02f2b2f",
   "metadata": {},
   "outputs": [],
   "source": [
    "# Find missing atom indices.\n",
    "missing = set(range(conf_gens.GetNumAtoms())) - set(hit_ats)"
   ]
  },
  {
   "cell_type": "code",
   "execution_count": 24,
   "id": "c4a203d3",
   "metadata": {},
   "outputs": [],
   "source": [
    "missing"
   ]
  },
  {
   "cell_type": "code",
   "execution_count": 25,
   "id": "4617ffca",
   "metadata": {},
   "outputs": [],
   "source": [
    "# Now remove these atoms\n",
    "mw = Chem.RWMol(conf_gens)\n",
    "for i in missing:\n",
    "    mw.RemoveAtom(i)"
   ]
  },
  {
   "cell_type": "code",
   "execution_count": 26,
   "id": "ec4c57d2",
   "metadata": {},
   "outputs": [],
   "source": [
    "order = list(mw.GetSubstructMatch(ref_mol))\n",
    "Chem.RenumberAtoms(mw, order)"
   ]
  },
  {
   "cell_type": "code",
   "execution_count": 27,
   "id": "158c8b7a",
   "metadata": {},
   "outputs": [],
   "source": [
    "# Chem.MolToPDBFile(mw, snakemake.output.mol_aligned, flavor=2)"
   ]
  },
  {
   "cell_type": "code",
   "execution_count": 28,
   "id": "39031c7e",
   "metadata": {},
   "outputs": [],
   "source": [
    "# remove missing atoms in mdtraj object:"
   ]
  },
  {
   "cell_type": "code",
   "execution_count": 29,
   "id": "b61b13be",
   "metadata": {},
   "outputs": [],
   "source": [
    "not_missing = list(set(range(conf_gens.GetNumAtoms())) - missing)\n",
    "t_omega_corrected = t_omega.atom_slice(not_missing)"
   ]
  },
  {
   "cell_type": "code",
   "execution_count": 30,
   "id": "531873a2",
   "metadata": {},
   "outputs": [],
   "source": [
    "t_omega_corrected.save_pdb(snakemake.output.mol_aligned)"
   ]
  },
  {
   "cell_type": "code",
   "execution_count": null,
   "id": "cc83a26a",
   "metadata": {},
   "outputs": [],
   "source": []
  }
 ],
 "metadata": {
  "kernelspec": {
   "display_name": "Python 3",
   "language": "python",
   "name": "python3"
  },
  "language_info": {
   "codemirror_mode": {
    "name": "ipython",
    "version": 3
   },
   "file_extension": ".py",
   "mimetype": "text/x-python",
   "name": "python",
   "nbconvert_exporter": "python",
   "pygments_lexer": "ipython3",
   "version": "3.7.10"
  }
 },
 "nbformat": 4,
 "nbformat_minor": 5
}
