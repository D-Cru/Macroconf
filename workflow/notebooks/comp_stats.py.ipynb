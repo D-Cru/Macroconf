{
 "cells": [
  {
   "cell_type": "code",
   "execution_count": 2,
   "id": "brave-newsletter",
   "metadata": {
    "execution": {
     "iopub.execute_input": "2021-07-21T14:25:05.186233Z",
     "iopub.status.busy": "2021-07-21T14:25:05.185309Z",
     "iopub.status.idle": "2021-07-21T14:25:06.412781Z",
     "shell.execute_reply": "2021-07-21T14:25:06.411970Z"
    }
   },
   "outputs": [],
   "source": [
    "import src.utils\n",
    "import pandas as pd\n",
    "import numpy as np\n",
    "import matplotlib.pyplot as plt\n",
    "import seaborn as sns"
   ]
  },
  {
   "cell_type": "code",
   "execution_count": 3,
   "id": "a27d1c74",
   "metadata": {
    "execution": {
     "iopub.execute_input": "2021-07-21T14:25:06.417421Z",
     "iopub.status.busy": "2021-07-21T14:25:06.416532Z",
     "iopub.status.idle": "2021-07-21T14:25:06.420680Z",
     "shell.execute_reply": "2021-07-21T14:25:06.421444Z"
    }
   },
   "outputs": [],
   "source": [
    "stats = src.utils.json_load(snakemake.input.stats[0])\n",
    "multiple = False\n",
    "if \"cis\" in stats or \"trans\" in stats:\n",
    "    multiple = True"
   ]
  },
  {
   "cell_type": "code",
   "execution_count": null,
   "id": "ed0c1cfc",
   "metadata": {
    "execution": {
     "iopub.execute_input": "2021-07-21T14:25:06.428906Z",
     "iopub.status.busy": "2021-07-21T14:25:06.428587Z",
     "iopub.status.idle": "2021-07-21T14:25:06.430157Z",
     "shell.execute_reply": "2021-07-21T14:25:06.430408Z"
    }
   },
   "outputs": [],
   "source": [
    "if multiple:\n",
    "    stats_cis = stats.cis\n",
    "    stats_trans = stats.trans\n",
    "    stats_cis = pd.DataFrame.from_dict(stats_cis)\n",
    "    stats_trans = pd.DataFrame.from_dict(stats_trans)\n",
    "else:\n",
    "    test_NOE = pd.read_json(snakemake.input.stats[0])\n",
    "    display(test_NOE)"
   ]
  },
  {
   "cell_type": "code",
   "execution_count": null,
   "id": "035015df",
   "metadata": {
    "execution": {
     "iopub.execute_input": "2021-07-21T14:25:06.437476Z",
     "iopub.status.busy": "2021-07-21T14:25:06.437158Z",
     "iopub.status.idle": "2021-07-21T14:25:06.443579Z",
     "shell.execute_reply": "2021-07-21T14:25:06.443981Z"
    }
   },
   "outputs": [],
   "source": [
    "if multiple:\n",
    "    if \"stat\" in stats_cis:\n",
    "        statistics_cis = pd.DataFrame(columns=stats_cis[\"stat\"].to_list())\n",
    "        print(statistics_cis)\n",
    "        stat_up_cis = pd.DataFrame(columns=stats_cis[\"stat\"].to_list())\n",
    "        stat_low_cis = pd.DataFrame(columns=stats_cis[\"stat\"].to_list())\n",
    "        statistics_trans = statistics_cis.copy()\n",
    "        print(statistics_trans)\n",
    "        stat_up_trans = stat_up_cis.copy()\n",
    "        stat_low_trans = stat_low_cis.copy()\n",
    "    else:\n",
    "        statistics_trans = pd.DataFrame(columns=stats_trans[\"stat\"].to_list())\n",
    "        print(statistics_trans)\n",
    "        stat_up_trans = pd.DataFrame(columns=stats_trans[\"stat\"].to_list())\n",
    "        stat_low_trans = pd.DataFrame(columns=stats_trans[\"stat\"].to_list())\n",
    "        statistics_cis = statistics_trans.copy()\n",
    "        print(statistics_cis)\n",
    "        stat_up_cis = stat_up_trans.copy()\n",
    "        stat_low_cis = stat_low_trans.copy()\n",
    "\n",
    "else:\n",
    "    statistics = pd.DataFrame(\n",
    "        columns=test_NOE[\"single\"][\"stat\"].keys()\n",
    "    )  # .to_list()\n",
    "    statistics\n",
    "    stat_up = pd.DataFrame(\n",
    "        columns=test_NOE[\"single\"][\"stat\"].keys()\n",
    "    )  # .to_list()\n",
    "    stat_low = pd.DataFrame(\n",
    "        columns=test_NOE[\"single\"][\"stat\"].keys()\n",
    "    )  # .to_list()"
   ]
  },
  {
   "cell_type": "code",
   "execution_count": null,
   "id": "b497fc01",
   "metadata": {
    "execution": {
     "iopub.execute_input": "2021-07-21T14:25:06.450516Z",
     "iopub.status.busy": "2021-07-21T14:25:06.449967Z",
     "iopub.status.idle": "2021-07-21T14:25:06.488351Z",
     "shell.execute_reply": "2021-07-21T14:25:06.487819Z"
    }
   },
   "outputs": [],
   "source": [
    "if multiple:\n",
    "    for json in snakemake.input.stats:\n",
    "        NOE_combined = src.utils.json_load(json)\n",
    "        # cis\n",
    "        if \"cis\" in NOE_combined:\n",
    "            NOE_cis = NOE_combined.cis\n",
    "            NOE_cis = pd.DataFrame.from_dict(NOE_cis)\n",
    "            NOE_cis = NOE_cis.set_index(\"stat\")\n",
    "            statistics_cis = statistics_cis.append(\n",
    "                NOE_cis[\"value\"], ignore_index=True\n",
    "            )\n",
    "            stat_up_cis = stat_up_cis.append(NOE_cis[\"up\"], ignore_index=True)\n",
    "            stat_low_cis = stat_low_cis.append(\n",
    "                NOE_cis[\"low\"], ignore_index=True\n",
    "            )\n",
    "        else:\n",
    "            statistics_cis = statistics_cis.append([None], ignore_index=True)\n",
    "            stat_up_cis = stat_up_cis.append([None], ignore_index=True)\n",
    "            stat_low_cis = stat_low_cis.append([None], ignore_index=True)\n",
    "        # trans\n",
    "        if \"trans\" in NOE_combined:\n",
    "            NOE_trans = NOE_combined.trans\n",
    "            NOE_trans = pd.DataFrame.from_dict(NOE_trans)\n",
    "            NOE_trans = NOE_trans.set_index(\"stat\")\n",
    "            statistics_trans = statistics_trans.append(\n",
    "                NOE_trans[\"value\"], ignore_index=True\n",
    "            )\n",
    "            stat_up_trans = stat_up_trans.append(\n",
    "                NOE_trans[\"up\"], ignore_index=True\n",
    "            )\n",
    "            stat_low_trans = stat_low_trans.append(\n",
    "                NOE_trans[\"low\"], ignore_index=True\n",
    "            )\n",
    "        else:\n",
    "            statistics_trans = statistics_trans.append(\n",
    "                [None], ignore_index=True\n",
    "            )\n",
    "            stat_up_trans = stat_up_trans.append([None], ignore_index=True)\n",
    "            stat_low_trans = stat_low_trans.append([None], ignore_index=True)\n",
    "else:\n",
    "    for json in snakemake.input.stats:\n",
    "        NOE = pd.read_json(json)\n",
    "        #         display(NOE)\n",
    "        #         NOE = NOE.set_index('stat')\n",
    "        statistics = statistics.append(\n",
    "            NOE[\"single\"][\"value\"], ignore_index=True\n",
    "        )\n",
    "        stat_up = stat_up.append(NOE[\"single\"][\"up\"], ignore_index=True)\n",
    "        stat_low = stat_low.append(NOE[\"single\"][\"low\"], ignore_index=True)"
   ]
  },
  {
   "cell_type": "code",
   "execution_count": null,
   "id": "e94619de",
   "metadata": {
    "execution": {
     "iopub.execute_input": "2021-07-21T14:25:06.496524Z",
     "iopub.status.busy": "2021-07-21T14:25:06.495730Z",
     "iopub.status.idle": "2021-07-21T14:25:06.497349Z",
     "shell.execute_reply": "2021-07-21T14:25:06.498008Z"
    },
    "scrolled": true
   },
   "outputs": [],
   "source": [
    "inputs = []\n",
    "for w in snakemake.input.stats:\n",
    "    part1 = w.split(\"/\")\n",
    "    part1 = part1[5:9]\n",
    "    part2 = w.split(\"/\")[9][0:5]\n",
    "    part1.append(part2)\n",
    "    inputs.append(\"/\".join(part1))\n",
    "\n",
    "if multiple:\n",
    "    statistics_cis[\"name\"] = inputs\n",
    "    statistics_cis = statistics_cis.set_index(\"name\")\n",
    "    statistics_trans[\"name\"] = inputs\n",
    "    statistics_trans = statistics_trans.set_index(\"name\")\n",
    "    if 0 in statistics_cis:\n",
    "        statistics_cis = statistics_cis.drop(columns=[0])\n",
    "        stat_up_cis = stat_up_cis.drop(columns=[0])\n",
    "        stat_low_cis = stat_low_cis.drop(columns=[0])\n",
    "    if 0 in statistics_trans:\n",
    "        statistics_trans = statistics_trans.drop(columns=[0])\n",
    "        stat_up_trans = stat_up_trans.drop(columns=[0])\n",
    "        stat_low_trans = stat_low_trans.drop(columns=[0])\n",
    "else:\n",
    "    statistics[\"name\"] = inputs\n",
    "    statistics = statistics.set_index(\"name\")\n",
    "    statistics = statistics.rename(columns=test_NOE[\"single\"][\"stat\"])\n",
    "    stat_up = stat_up.rename(columns=test_NOE[\"single\"][\"stat\"])\n",
    "    stat_low = stat_low.rename(columns=test_NOE[\"single\"][\"stat\"])"
   ]
  },
  {
   "cell_type": "code",
   "execution_count": null,
   "id": "1a5fb2fd",
   "metadata": {
    "execution": {
     "iopub.execute_input": "2021-07-21T14:25:06.506420Z",
     "iopub.status.busy": "2021-07-21T14:25:06.505623Z",
     "iopub.status.idle": "2021-07-21T14:25:06.507259Z",
     "shell.execute_reply": "2021-07-21T14:25:06.507748Z"
    }
   },
   "outputs": [],
   "source": [
    "if multiple:\n",
    "    stat_up_cis[\"name\"] = inputs\n",
    "    stat_up_cis = stat_up_cis.set_index(\"name\")\n",
    "    stat_low_cis[\"name\"] = inputs\n",
    "    stat_low_cis = stat_low_cis.set_index(\"name\")\n",
    "\n",
    "    stat_up_trans[\"name\"] = inputs\n",
    "    stat_up_trans = stat_up_trans.set_index(\"name\")\n",
    "    stat_low_trans[\"name\"] = inputs\n",
    "    stat_low_trans = stat_low_trans.set_index(\"name\")\n",
    "else:\n",
    "    stat_up[\"name\"] = inputs\n",
    "    stat_up = stat_up.set_index(\"name\")\n",
    "\n",
    "    stat_low[\"name\"] = inputs\n",
    "    stat_low = stat_low.set_index(\"name\")"
   ]
  },
  {
   "cell_type": "code",
   "execution_count": null,
   "id": "bc251932",
   "metadata": {
    "execution": {
     "iopub.execute_input": "2021-07-21T14:25:06.515076Z",
     "iopub.status.busy": "2021-07-21T14:25:06.514447Z",
     "iopub.status.idle": "2021-07-21T14:25:06.516550Z",
     "shell.execute_reply": "2021-07-21T14:25:06.517037Z"
    }
   },
   "outputs": [],
   "source": [
    "if multiple:\n",
    "    print(statistics_cis)\n",
    "    print(statistics_trans)\n",
    "else:\n",
    "    print(statistics)"
   ]
  },
  {
   "cell_type": "code",
   "execution_count": null,
   "id": "f696abb5",
   "metadata": {
    "execution": {
     "iopub.execute_input": "2021-07-21T14:25:06.521764Z",
     "iopub.status.busy": "2021-07-21T14:25:06.521357Z",
     "iopub.status.idle": "2021-07-21T14:25:06.523074Z",
     "shell.execute_reply": "2021-07-21T14:25:06.522717Z"
    }
   },
   "outputs": [],
   "source": [
    "if multiple:\n",
    "    statistics_cis = statistics_cis.sort_values(\"RMSD\")\n",
    "    statistics_cis = statistics_cis.drop(columns=[\"chisq\"])\n",
    "    statistics_trans = statistics_trans.sort_values(\"RMSD\")\n",
    "    statistics_trans = statistics_trans.drop(columns=[\"chisq\"])\n",
    "else:\n",
    "    statistics = statistics.sort_values(\"RMSD\")\n",
    "    statistics = statistics.drop(columns=[\"chisq\"])\n",
    "    statistics"
   ]
  },
  {
   "cell_type": "code",
   "execution_count": null,
   "id": "4d0e394e",
   "metadata": {
    "execution": {
     "iopub.execute_input": "2021-07-21T14:25:06.529128Z",
     "iopub.status.busy": "2021-07-21T14:25:06.528713Z",
     "iopub.status.idle": "2021-07-21T14:25:06.530009Z",
     "shell.execute_reply": "2021-07-21T14:25:06.530476Z"
    }
   },
   "outputs": [],
   "source": [
    "if multiple:\n",
    "    stat_up_cis = stat_up_cis.reindex(statistics_cis.index)\n",
    "    stat_low_cis = stat_low_cis.reindex(statistics_cis.index)\n",
    "    stat_up_cis = stat_up_cis.drop(columns=[\"chisq\"])\n",
    "    stat_low_cis = stat_low_cis.drop(columns=[\"chisq\"])\n",
    "    #\n",
    "    stat_up_trans = stat_up_trans.reindex(statistics_trans.index)\n",
    "    stat_low_trans = stat_low_trans.reindex(statistics_trans.index)\n",
    "    stat_up_trans = stat_up_trans.drop(columns=[\"chisq\"])\n",
    "    stat_low_trans = stat_low_trans.drop(columns=[\"chisq\"])\n",
    "else:\n",
    "    stat_up = stat_up.reindex(statistics.index)\n",
    "    stat_low = stat_low.reindex(statistics.index)\n",
    "    stat_up = stat_up.drop(columns=[\"chisq\"])\n",
    "    stat_low = stat_low.drop(columns=[\"chisq\"])\n",
    "\n",
    "    stat_up"
   ]
  },
  {
   "cell_type": "code",
   "execution_count": null,
   "id": "1421b4a2",
   "metadata": {
    "execution": {
     "iopub.execute_input": "2021-07-21T14:25:06.534712Z",
     "iopub.status.busy": "2021-07-21T14:25:06.534164Z",
     "iopub.status.idle": "2021-07-21T14:25:06.535575Z",
     "shell.execute_reply": "2021-07-21T14:25:06.536019Z"
    }
   },
   "outputs": [],
   "source": [
    "if multiple:\n",
    "    statistics_cis = statistics_cis.fillna(0)\n",
    "    statistics_trans = statistics_trans.fillna(0)\n",
    "    stat_up_cis = stat_up_cis.fillna(0)\n",
    "    stat_low_cis = stat_low_cis.fillna(0)\n",
    "    stat_up_trans = stat_up_trans.fillna(0)\n",
    "    stat_low_trans = stat_low_trans.fillna(0)"
   ]
  },
  {
   "cell_type": "code",
   "execution_count": null,
   "id": "01337d46",
   "metadata": {
    "execution": {
     "iopub.execute_input": "2021-07-21T14:25:06.593848Z",
     "iopub.status.busy": "2021-07-21T14:25:06.590333Z",
     "iopub.status.idle": "2021-07-21T14:25:07.154774Z",
     "shell.execute_reply": "2021-07-21T14:25:07.155544Z"
    }
   },
   "outputs": [],
   "source": [
    "if multiple:\n",
    "    annotation_cis = (\n",
    "        stat_low_cis.round(2).astype(str)\n",
    "        + \"<\"\n",
    "        + statistics_cis.round(2).astype(str)\n",
    "        + \"<\"\n",
    "        + stat_up_cis.round(2).astype(str)\n",
    "    )\n",
    "    annotation_trans = (\n",
    "        stat_low_trans.round(2).astype(str)\n",
    "        + \"<\"\n",
    "        + statistics_trans.round(2).astype(str)\n",
    "        + \"<\"\n",
    "        + stat_up_trans.round(2).astype(str)\n",
    "    )\n",
    "    fig, axs = plt.subplots(2, 1)\n",
    "    fig.set_size_inches(18.5, 10.5)\n",
    "    sns.heatmap(statistics_cis, ax=axs[0], annot=annotation_cis, fmt=\"\")\n",
    "    sns.heatmap(statistics_trans, ax=axs[1], annot=annotation_trans, fmt=\"\")\n",
    "    fig.suptitle(\"top: cis, bottom: trans\")\n",
    "    fig.savefig(snakemake.output.heatmap)\n",
    "else:\n",
    "    annotation = (\n",
    "        stat_low.round(2).astype(str)\n",
    "        + \"<\"\n",
    "        + statistics.round(2).astype(str)\n",
    "        + \"<\"\n",
    "        + stat_up.round(2).astype(str)\n",
    "    )\n",
    "    print(annotation)\n",
    "    fig, ax = plt.subplots()\n",
    "    fig.set_size_inches(18.5, 10.5)\n",
    "    ax = sns.heatmap(statistics, annot=annotation, fmt=\"\")\n",
    "    ax.set_ylabel(\"\")\n",
    "    fig.savefig(snakemake.output.heatmap, bbox_inches=\"tight\")"
   ]
  },
  {
   "cell_type": "code",
   "execution_count": null,
   "id": "772d294d",
   "metadata": {},
   "outputs": [],
   "source": []
  }
 ],
 "metadata": {
  "kernelspec": {
   "display_name": "Python 3 (ipykernel)",
   "language": "python",
   "name": "python3"
  },
  "language_info": {
   "codemirror_mode": {
    "name": "ipython",
    "version": 3
   },
   "file_extension": ".py",
   "mimetype": "text/x-python",
   "name": "python",
   "nbconvert_exporter": "python",
   "pygments_lexer": "ipython3",
   "version": "3.7.12"
  }
 },
 "nbformat": 4,
 "nbformat_minor": 5
}
