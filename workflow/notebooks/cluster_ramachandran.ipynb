{
 "cells": [
  {
   "cell_type": "code",
   "execution_count": 1,
   "id": "7f53fa9b",
   "metadata": {},
   "outputs": [],
   "source": [
    "# Adapted from https://doi.org/10.1039/D1SC05562C"
   ]
  },
  {
   "cell_type": "code",
   "execution_count": 2,
   "id": "02860153",
   "metadata": {},
   "outputs": [],
   "source": [
    "import numpy as np\n",
    "from sklearn.metrics import pairwise_distances\n",
    "import matplotlib.pyplot as plt"
   ]
  },
  {
   "cell_type": "code",
   "execution_count": 3,
   "id": "79f81afb",
   "metadata": {},
   "outputs": [],
   "source": [
    "phi = np.linspace(-180, 180, num=100)\n",
    "psi = np.linspace(-180, 180, num=100)\n",
    "\n",
    "ramachandran_grid = np.meshgrid(phi, psi)\n",
    "g = ramachandran_grid\n",
    "\n",
    "# Reshape grid into 2d matrix of points\n",
    "# src https://stackoverflow.com/q/12864445\n",
    "reshaped = np.append(g[0].reshape(-1, 1), g[1].reshape(-1, 1), axis=1)"
   ]
  },
  {
   "cell_type": "code",
   "execution_count": 4,
   "id": "bf1c038a",
   "metadata": {},
   "outputs": [
    {
     "data": {
      "text/plain": [
       "(10000, 2)"
      ]
     },
     "execution_count": 4,
     "metadata": {},
     "output_type": "execute_result"
    }
   ],
   "source": [
    "reshaped.shape"
   ]
  },
  {
   "cell_type": "code",
   "execution_count": 5,
   "id": "1ce8fe6d",
   "metadata": {},
   "outputs": [],
   "source": [
    "# Centroid points of clusters, derived from https://doi.org/10.1039/D1SC05562C, Fig. S12, c via reading off centroid points in Inkscape.\n",
    "# 'name': [phi, psi]\n",
    "# Inkscape coordinate transforms\n",
    "# x: 0=-180, 180=0, 360=180 -> x-180 = phi\n",
    "# y: 0=180, 180 = 0, 360 = -180 -> [180-y]\n",
    "centroid_points = {\n",
    "    \"0\": [64.9 - 180, 180 - 32.4],\n",
    "    \"1\": [118.8 - 180, 180 - 61.2],\n",
    "    \"2\": [104.4 - 180, 180 - 126.0],\n",
    "    \"3\": [112.3 - 180, 180 - 208.8],\n",
    "    \"4\": [78.5 - 180, 180 - 312.4],\n",
    "    \"5\": [284.4 - 180, 180 - 50.4],\n",
    "    \"6\": [252.0 - 180, 180 - 154.8],\n",
    "    \"7\": [259.2 - 180, 180 - 237.6],\n",
    "    \"8\": [244.8 - 180, 180 - 301.6],\n",
    "    \"9\": [298.8 - 180, 180 - 330.4],\n",
    "}"
   ]
  },
  {
   "cell_type": "code",
   "execution_count": 6,
   "id": "ca7dab6c",
   "metadata": {},
   "outputs": [
    {
     "data": {
      "text/plain": [
       "array([[-115.1,  147.6],\n",
       "       [ -61.2,  118.8],\n",
       "       [ -75.6,   54. ],\n",
       "       [ -67.7,  -28.8],\n",
       "       [-101.5, -132.4],\n",
       "       [ 104.4,  129.6],\n",
       "       [  72. ,   25.2],\n",
       "       [  79.2,  -57.6],\n",
       "       [  64.8, -121.6],\n",
       "       [ 118.8, -150.4]])"
      ]
     },
     "execution_count": 6,
     "metadata": {},
     "output_type": "execute_result"
    }
   ],
   "source": [
    "centroid_points\n",
    "centroids = np.array(\n",
    "    [\n",
    "        centroid_points[\"0\"],\n",
    "        centroid_points[\"1\"],\n",
    "        centroid_points[\"2\"],\n",
    "        centroid_points[\"3\"],\n",
    "        centroid_points[\"4\"],\n",
    "        centroid_points[\"5\"],\n",
    "        centroid_points[\"6\"],\n",
    "        centroid_points[\"7\"],\n",
    "        centroid_points[\"8\"],\n",
    "        centroid_points[\"9\"],\n",
    "    ]\n",
    ")\n",
    "centroids"
   ]
  },
  {
   "cell_type": "code",
   "execution_count": 7,
   "id": "2b582693",
   "metadata": {},
   "outputs": [],
   "source": [
    "# Compute euclidean distance, account for periodicity of angles\n",
    "# src: https://stackoverflow.com/a/10405273\n",
    "dimension = [360, 360]\n",
    "\n",
    "\n",
    "def periodic_distance(p1, p2):\n",
    "    total = 0\n",
    "    for i, (a, b) in enumerate(zip(p1, p2)):\n",
    "        delta = abs(b - a)\n",
    "        if delta > dimension[i] - delta:\n",
    "            delta = dimension[i] - delta\n",
    "        total += delta**2\n",
    "    return total**0.5"
   ]
  },
  {
   "cell_type": "code",
   "execution_count": 8,
   "id": "728f74e7",
   "metadata": {},
   "outputs": [],
   "source": [
    "# compute distances to centroids\n",
    "# src http://ethen8181.github.io/machine-learning/clustering/kmeans.html#K-means\n",
    "distances_to_centroids = pairwise_distances(\n",
    "    reshaped, centroids, metric=periodic_distance\n",
    ")\n",
    "cluster_assignment = np.argmin(distances_to_centroids, axis=1)"
   ]
  },
  {
   "cell_type": "code",
   "execution_count": 9,
   "id": "458f274f",
   "metadata": {},
   "outputs": [],
   "source": [
    "# plt.hist(cluster_assignment)"
   ]
  },
  {
   "cell_type": "code",
   "execution_count": 10,
   "id": "6ab8f3c5",
   "metadata": {},
   "outputs": [
    {
     "data": {
      "text/plain": [
       "<matplotlib.collections.PathCollection at 0x7f8b8e7b8ee0>"
      ]
     },
     "execution_count": 10,
     "metadata": {},
     "output_type": "execute_result"
    },
    {
     "data": {
      "image/png": "[encoded data removed]",
      "text/plain": [
       "<Figure size 432x288 with 1 Axes>"
      ]
     },
     "metadata": {
      "needs_background": "light"
     },
     "output_type": "display_data"
    }
   ],
   "source": [
    "plt.scatter(reshaped[:, 0], reshaped[:, 1], c=cluster_assignment)\n",
    "plt.scatter(centroids[:, 0], centroids[:, 1], c=\"black\")"
   ]
  },
  {
   "cell_type": "code",
   "execution_count": 11,
   "id": "ef2ff0a9",
   "metadata": {},
   "outputs": [],
   "source": [
    "cluster_names = {\n",
    "    \"0\": \"B\",\n",
    "    \"1\": \"Π\",\n",
    "    \"2\": \"Γ\",\n",
    "    \"3\": \"Λ\",\n",
    "    \"4\": \"Z\",\n",
    "    \"9\": \"β\",\n",
    "    \"8\": \"π\",\n",
    "    \"7\": \"γ\",\n",
    "    \"6\": \"λ\",\n",
    "    \"5\": \"ζ\",\n",
    "}"
   ]
  },
  {
   "cell_type": "code",
   "execution_count": 12,
   "id": "07d133d3",
   "metadata": {},
   "outputs": [
    {
     "data": {
      "text/plain": [
       "'π'"
      ]
     },
     "execution_count": 12,
     "metadata": {},
     "output_type": "execute_result"
    }
   ],
   "source": [
    "cluster_names[f\"{8}\"]"
   ]
  },
  {
   "cell_type": "code",
   "execution_count": null,
   "id": "566a235d",
   "metadata": {},
   "outputs": [],
   "source": []
  }
 ],
 "metadata": {
  "kernelspec": {
   "display_name": "Python 3 (ipykernel)",
   "language": "python",
   "name": "python3"
  },
  "language_info": {
   "codemirror_mode": {
    "name": "ipython",
    "version": 3
   },
   "file_extension": ".py",
   "mimetype": "text/x-python",
   "name": "python",
   "nbconvert_exporter": "python",
   "pygments_lexer": "ipython3",
   "version": "3.9.7"
  }
 },
 "nbformat": 4,
 "nbformat_minor": 5
}
