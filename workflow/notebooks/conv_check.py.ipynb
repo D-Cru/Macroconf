{
 "cells": [
  {
   "cell_type": "markdown",
   "id": "6583380a",
   "metadata": {},
   "outputs": [],
   "source": [
    "# Comparison Analysis"
   ]
  },
  {
   "cell_type": "code",
   "execution_count": 2,
   "id": "nutritional-picnic",
   "metadata": {},
   "outputs": [],
   "source": [
    "import matplotlib\n",
    "\n",
    "%matplotlib inline\n",
    "# matplotlib.use(\"Agg\")\n",
    "\n",
    "import mdtraj as md\n",
    "import numpy as np\n",
    "import matplotlib.pyplot as plt\n",
    "import scipy.cluster.hierarchy\n",
    "from scipy.spatial.distance import squareform\n",
    "import pandas as pd\n",
    "\n",
    "sys.path.append(os.getcwd())\n",
    "import src\n",
    "from src.noe import compute_NOE_mdtraj, plot_NOE\n",
    "from src.utils import json_load, dotdict\n",
    "\n",
    "import src.pyreweight\n",
    "from sklearn.manifold import TSNE\n",
    "from sklearn.cluster import DBSCAN\n",
    "from sklearn.neighbors import NearestNeighbors\n",
    "from sklearn.decomposition import PCA"
   ]
  },
  {
   "cell_type": "code",
   "execution_count": 3,
   "id": "0d824169",
   "metadata": {},
   "outputs": [],
   "source": [
    "# read in stride from config file\n",
    "stride = int(snakemake.config[\"stride\"])\n",
    "stride = 1"
   ]
  },
  {
   "cell_type": "code",
   "execution_count": 6,
   "id": "af628794",
   "metadata": {},
   "outputs": [],
   "source": [
    "# load reference\n",
    "ref_dihedrals = src.utils.pickle_load(snakemake.input.ref_dih[0])\n",
    "ref_pca = src.utils.pickle_load(snakemake.input.ref_pca[0])\n",
    "ref_pca_weights = src.utils.pickle_load(snakemake.input.ref_pca_weights[0])\n",
    "ref_trafo_dihedrals = ref_pca.transform(ref_dihedrals)"
   ]
  },
  {
   "cell_type": "code",
   "execution_count": 8,
   "id": "961a6fa2",
   "metadata": {},
   "outputs": [],
   "source": [
    "trafo_dihedrals = {}\n",
    "dihedrals = {}\n",
    "for i, dihe in enumerate(snakemake.input.dihedrals):\n",
    "    dihedrals[i] = src.utils.pickle_load(dihe)\n",
    "    trafo_dihedrals[i] = ref_pca.transform(dihedrals[i])\n",
    "    # plt.scatter(trafo_dihedrals[i][:,0], trafo_dihedrals[i][:,1], marker='.', s=0.5, alpha=0.1)\n",
    "# plt.legend()\n",
    "weight_data = {}\n",
    "weights = {}\n",
    "for i, wei in enumerate(snakemake.input.weights):\n",
    "    # Reweighting:\n",
    "    weight_data[i] = np.loadtxt(wei)\n",
    "    weight_data[i] = weight_data[i][::stride]\n",
    "    weights[i] = src.pyreweight.reweight(\n",
    "        trafo_dihedrals[i], wei, \"amdweight_MC\", weight_data[i]\n",
    "    )\n",
    "\n",
    "# starting_strcts = {}\n",
    "# for i, start_struct in enumerate(snakemake.input.starting_struct):\n",
    "#     start_t = md.formats.AmberNetCDFRestartFile(start_struct, mode='r').read_as_traj(topology=snakemake.input.top[0]), #md.load_netcdf(start_struct, top=snakemake.input.top[0], frame=0)\n",
    "#     start_dihedrals = src.dihedrals.getReducedDihedrals(start_t)\n",
    "#     start_dihe_pca = ref_pca.transform(start_dihedrals)\n",
    "#     starting_strcts[i] = start_dihe_pca\n",
    "\n",
    "# plt.show\n",
    "url = 'abcdc.com'\n",
    "if url.endswith('.com'):\n",
    "    url = url[:-4]"
   ]
  },
  {
   "cell_type": "code",
   "execution_count": 19,
   "id": "9833768c",
   "metadata": {},
   "outputs": [],
   "source": [
    "# retrieve cluster id's (starting points in ref. simulation) from input file names\n",
    "ids = []\n",
    "for id in snakemake.input.dihedrals:\n",
    "    suffix = \"_dihedrals.dat\"\n",
    "    if id.endswith(suffix):\n",
    "        id = id[:-len(suffix)]\n",
    "    ids.append(int(id.split(\"/\")[-1]))\n",
    "# [int(id.removesuffix(\"_dihedrals.dat\").split(\"/\")[-1]) for id in snakemake.input.dihedrals] # python 3.9\n",
    "ids"
   ]
  },
  {
   "cell_type": "code",
   "execution_count": 26,
   "id": "0a0fb42b",
   "metadata": {},
   "outputs": [],
   "source": [
    "start_structs = [ref_trafo_dihedrals[id] for id in ids]\n",
    "min_ = 0\n",
    "max_ = 8\n",
    "\n",
    "figs_per_row = 4\n",
    "import math\n",
    "\n",
    "columns = math.ceil((len(trafo_dihedrals) + 1) / figs_per_row)\n",
    "fig, axs = plt.subplots(columns, figs_per_row, sharex=\"all\", sharey=\"all\")\n",
    "fig.set_size_inches(8, 8)\n",
    "scat = {}\n",
    "scat[0] = axs.flatten()[0].scatter(\n",
    "    ref_trafo_dihedrals[:, 0],\n",
    "    ref_trafo_dihedrals[:, 1],\n",
    "    c=ref_pca_weights,\n",
    "    marker=\".\",\n",
    "    cmap=\"Spectral_r\",\n",
    "    s=0.5,\n",
    "    vmin=min_,\n",
    "    vmax=max_,\n",
    "    rasterized=True\n",
    ")\n",
    "axs.flatten()[0].set_title(\"Reference\")\n",
    "for i in range(len(trafo_dihedrals)):\n",
    "    scat[i + 1] = axs.flatten()[i + 1].scatter(\n",
    "        trafo_dihedrals[i][:, 0],\n",
    "        trafo_dihedrals[i][:, 1],\n",
    "        c=weights[i],\n",
    "        marker=\".\",\n",
    "        cmap=\"Spectral_r\",\n",
    "        s=0.5,\n",
    "        vmin=min_,\n",
    "        vmax=max_,\n",
    "        rasterized=True\n",
    "    )\n",
    "    axs.flatten()[i + 1].plot(\n",
    "        start_structs[i][0], start_structs[i][1], marker=\"x\", color=\"black\"\n",
    "    )\n",
    "\n",
    "colorbar = fig.colorbar(\n",
    "    scat[0], ax=axs, label=\"kcal/mol\", location=\"left\", anchor=(1.5, 0)\n",
    ")\n",
    "fig.savefig(snakemake.output.dih_pca_comparison, bbox_inches=\"tight\", dpi=300)"
   ]
  },
  {
   "cell_type": "code",
   "execution_count": null,
   "id": "4f8e48ab",
   "metadata": {},
   "outputs": [],
   "source": [
    "# blue is post equilibrium starting point\n",
    "# red is pre equilibrium starting point..."
   ]
  },
  {
   "cell_type": "raw",
   "id": "9441fc10",
   "metadata": {},
   "outputs": [],
   "source": []
  },
  {
   "cell_type": "raw",
   "id": "db1bab8e",
   "metadata": {},
   "outputs": [],
   "source": [
    "compound_index = int(snakemake.wildcards.compound_dir)\n",
    "print(f\"Analysing Compound {compound_index}\")"
   ]
  },
  {
   "cell_type": "raw",
   "id": "56cb070f",
   "metadata": {},
   "outputs": [],
   "source": [
    "compound = json_load(snakemake.input.parm)\n",
    "multi = compound.multi\n",
    "multi"
   ]
  },
  {
   "cell_type": "raw",
   "id": "c441ba29",
   "metadata": {},
   "outputs": [],
   "source": [
    "if multi is not None:\n",
    "    multi = {v: k for k, v in multi.items()}\n",
    "    multiple = True\n",
    "    print('Multiple compounds detected')\n",
    "else:\n",
    "    multiple = False\n",
    "    print('Single compound only (no exp. cis/trans data known)')"
   ]
  },
  {
   "cell_type": "raw",
   "id": "74128658",
   "metadata": {},
   "outputs": [],
   "source": [
    "# Load Trajectories"
   ]
  },
  {
   "cell_type": "raw",
   "id": "31fe5130",
   "metadata": {},
   "outputs": [],
   "source": [
    "snakemake.input"
   ]
  },
  {
   "cell_type": "raw",
   "id": "e96c1604",
   "metadata": {},
   "outputs": [],
   "source": [
    "#trajs = {}\n",
    "methods = {}\n",
    "repeats = {}\n",
    "simtime = {}\n",
    "solvent = {}\n",
    "boosting = {}\n",
    "for i in range(3):\n",
    "    #protein = md.load_frame(snakemake.input[f\"traj_{i}\"], 0, top=snakemake.input[f\"top_{i}\"])\n",
    "    #protein = protein.topology.select('protein')\n",
    "    # Load topology\n",
    "    #trajs[i] = md.load(snakemake.input[f\"traj_{i}\"], top=snakemake.input[f\"top_{i}\"], atom_indices=protein, stride=stride)\n",
    "    # save methods\n",
    "    methods[i] = snakemake.params[f\"sample_{i}\"]['method']\n",
    "    simtime[i] = snakemake.params[f\"sample_{i}\"]['simtime']\n",
    "    repeats[i] = snakemake.params[f\"sample_{i}\"]['repeats']\n",
    "    solvent[i] = snakemake.params[f\"sample_{i}\"]['solvent']\n",
    "    if snakemake.params[f\"sample_{i}\"]['igamd'] != \"nan\":\n",
    "        boost = snakemake.params[f\"sample_{i}\"]['igamd']\n",
    "        if boost == str(3):\n",
    "            boosting[i] = \"boost: dual\"\n",
    "        elif boost == str(2):\n",
    "            boosting[i] = \"boost: dihe\"\n",
    "        elif boost == str(1):\n",
    "            boosting[i] = \"boost: totE\"\n",
    "    else:\n",
    "        boosting[i] = \"\"\n",
    "    \n",
    "    # Remove solvent\n",
    "    #trajs[i] = trajs[i].restrict_atoms(trajs[i].topology.select('protein'))\n",
    "    #if snakemake.params[f\"sample_{i}\"]['method'] == \"GaMD\":\n",
    "        #trajs[i] = trajs[i][int(26000/stride):]\n",
    "        #print(\"GAMD\")\n",
    "    # Superpose\n",
    "    #trajs[i].superpose(trajs[i], 0)\n",
    "    #snakemake.input[f\"out_{i}\"]"
   ]
  },
  {
   "cell_type": "raw",
   "id": "5c711a44",
   "metadata": {},
   "outputs": [],
   "source": [
    "#trajs"
   ]
  },
  {
   "cell_type": "raw",
   "id": "0d925233",
   "metadata": {},
   "outputs": [],
   "source": [
    "snakemake.input['out_0']"
   ]
  },
  {
   "cell_type": "raw",
   "id": "f72001b5",
   "metadata": {},
   "outputs": [],
   "source": [
    "if snakemake.wildcards.confgen != \"0\":\n",
    "    chem_info_t = md.load(snakemake.input.cheminfoconfs)\n",
    "    print(chem_info_t)"
   ]
  },
  {
   "cell_type": "raw",
   "id": "0732796c",
   "metadata": {},
   "outputs": [],
   "source": [
    "if multiple:\n",
    "    cis = []\n",
    "    trans = []\n",
    "    for i in range(3):\n",
    "#         ca_c = trajs[i].top.select(f\"resid 0 and name CA C\")\n",
    "#         n_ca_next = trajs[i].top.select(f\"resid 1 and name N CA\")\n",
    "\n",
    "#         omega = np.append(ca_c, n_ca_next)\n",
    "#         t_omega_rad = md.compute_dihedrals(trajs[i], [omega])\n",
    "#         t_omega_deg = np.abs(np.degrees(t_omega_rad))\n",
    "#         plt.plot(t_omega_deg)\n",
    "#         plt.hlines(90, 0, 50000, color='red')\n",
    "        cis_temp, trans_temp = src.utils.pickle_load(snakemake.input[f\"multiple_{i}\"])\n",
    "        cis.append(cis_temp)\n",
    "        trans.append(trans_temp)\n",
    "        #t_a[trans]"
   ]
  },
  {
   "cell_type": "raw",
   "id": "e1512859",
   "metadata": {},
   "outputs": [],
   "source": [
    "dihe_all = {}\n",
    "for i in range(3):\n",
    "    dihe_all[i] = src.utils.pickle_load(snakemake.input[f\"red_dihe_{i}\"])\n"
   ]
  },
  {
   "cell_type": "raw",
   "id": "1f172ab6",
   "metadata": {},
   "outputs": [],
   "source": [
    "if snakemake.wildcards.confgen != \"0\":\n",
    "    dihe_conf = src.dihedrals.getReducedDihedrals(chem_info_t)"
   ]
  },
  {
   "cell_type": "raw",
   "id": "2cb34648",
   "metadata": {},
   "outputs": [],
   "source": [
    "dihe_all[0].shape"
   ]
  },
  {
   "cell_type": "raw",
   "id": "137c0388",
   "metadata": {},
   "outputs": [],
   "source": [
    "dihe = {}\n",
    "pca = src.utils.pickle_load(snakemake.input.dPCA_0)#PCA(n_components=2)\n",
    "dihe[0] = pca.transform(dihe_all[0])\n",
    "dihe[0].shape\n",
    "# Now apply the same transformation to second and third\n",
    "dihe[1] = pca.transform(dihe_all[1])\n",
    "dihe[2] = pca.transform(dihe_all[2])"
   ]
  },
  {
   "cell_type": "raw",
   "id": "4a84c980",
   "metadata": {},
   "outputs": [],
   "source": [
    "if snakemake.wildcards.confgen != \"0\":\n",
    "    dihe_red_conf = pca.transform(dihe_conf)"
   ]
  },
  {
   "cell_type": "raw",
   "id": "760ddb90",
   "metadata": {},
   "outputs": [],
   "source": [
    "for i in range(3):\n",
    "    plt.scatter(dihe[i][:,0], dihe[i][:,1], marker='.', s=0.5, alpha=0.1, label=methods[i])\n",
    "plt.legend()\n",
    "if snakemake.wildcards.confgen != \"0\":\n",
    "    plt.scatter(dihe_red_conf[:,0], dihe_red_conf[:,1], marker='.')\n",
    "plt.show()"
   ]
  },
  {
   "cell_type": "raw",
   "id": "b3fcb99c",
   "metadata": {},
   "outputs": [],
   "source": [
    "# How much of the variance is explained by the 2 components?"
   ]
  },
  {
   "cell_type": "raw",
   "id": "0ab58414",
   "metadata": {},
   "outputs": [],
   "source": [
    "print(f\"The two components explain {sum(pca.explained_variance_ratio_):.2%} of the variance\")"
   ]
  },
  {
   "cell_type": "raw",
   "id": "40a08489",
   "metadata": {},
   "outputs": [],
   "source": [
    "#snakemake.input[f\"weights_{1}\"]"
   ]
  },
  {
   "cell_type": "raw",
   "id": "58e97513",
   "metadata": {},
   "outputs": [],
   "source": [
    "# Reweighting:\n",
    "weights = {}\n",
    "weight_data = {}\n",
    "for i in range(3):\n",
    "    # The following would read pre-computed weights. But does not work here b/c computed for wrong PCA space!\n",
    "    #weights[i] = src.utils.pickle_load(snakemake.input[f\"dPCA_weights_MC_{i}\"])\n",
    "    if methods[i] != 'cMD':\n",
    "        weight_data[i] = np.loadtxt(snakemake.input[f\"weights_{i}\"])\n",
    "        weight_data[i] = weight_data[i][::stride]\n",
    "        weights[i] = src.reweight(dihe[i], snakemake.input[f\"weights_{i}\"], 'amdweight_MC', weight_data[i])\n",
    "    else:\n",
    "        weights[i] = src.reweight(dihe[i], None, 'noweight')"
   ]
  },
  {
   "cell_type": "raw",
   "id": "b166a01d",
   "metadata": {},
   "outputs": [],
   "source": [
    "weights[2].max()"
   ]
  },
  {
   "cell_type": "raw",
   "id": "72ce0f17",
   "metadata": {},
   "outputs": [],
   "source": [
    "weights[2].min()"
   ]
  },
  {
   "cell_type": "raw",
   "id": "d7c53011",
   "metadata": {},
   "outputs": [],
   "source": [
    "zs = np.concatenate([weights[0], weights[1], weights[2]], axis=0)\n",
    "min_, max_ = zs.min(), zs.max()\n",
    "min_ = 0\n",
    "max_ = 8"
   ]
  },
  {
   "cell_type": "raw",
   "id": "99584560",
   "metadata": {},
   "outputs": [],
   "source": [
    "# Plot re-weighted PCA plots\n",
    "fig, axs = plt.subplots(1,4, sharex='all', sharey='all')\n",
    "fig.set_size_inches(16,4)\n",
    "scat = {}\n",
    "for i in range(3):\n",
    "    scat[i] = axs[i].scatter(dihe[i][:,0], dihe[i][:,1], c=weights[i], marker='.', cmap='Spectral_r', s=0.5, vmin=min_, vmax=max_)\n",
    "    axs[i].set_title(f\"{methods[i]}: {simtime[i]} ns (r# {repeats[i]}).\\n {solvent[i]}, {boosting[i]}\")\n",
    "    axs[3].scatter(dihe[i][:,0], dihe[i][:,1], marker='.', s=0.5, alpha=0.1, label=f\"#{i}\")\n",
    "\n",
    "if snakemake.wildcards.confgen != \"0\":\n",
    "    plt.scatter(dihe_red_conf[:,0], dihe_red_conf[:,1], marker='.', color='red', label=f\"{snakemake.wildcards.confgen}-{snakemake.wildcards.mode}\")\n",
    "    \n",
    "lgnd = axs[3].legend(bbox_to_anchor=(1.05,1), loc='upper left')\n",
    "for handle in lgnd.legendHandles:\n",
    "    handle.set_sizes([30.0])\n",
    "    handle.set_alpha(1)\n",
    "\n",
    "\n",
    "\n",
    "axs[3].set_title('Overlay')\n",
    "\n",
    "colorbar = fig.colorbar(scat[0], ax=axs, label=\"kcal/mol\", location='left', anchor=(1.5,0))\n",
    "#fig.tight_layout()\n",
    "fig.savefig(snakemake.output.pca_dihe, bbox_inches='tight')"
   ]
  },
  {
   "cell_type": "raw",
   "id": "cec103a1",
   "metadata": {},
   "outputs": [],
   "source": [
    "# Load cluster data\n",
    "clusters = []\n",
    "for i in range(3):\n",
    "    print(snakemake.input[f'clusters_{i}'])\n",
    "    try:\n",
    "        clust_struct = md.load(snakemake.input[f'clusters_{i}'])\n",
    "    except:\n",
    "        clust_struct = None\n",
    "    clusters.append(clust_struct)"
   ]
  },
  {
   "cell_type": "raw",
   "id": "78003938",
   "metadata": {},
   "outputs": [],
   "source": [
    "# Transform clusters in pca\n",
    "clusters_dih = []\n",
    "[clusters_dih.append(src.dihedrals.getReducedDihedrals(clus)) for clus in clusters]\n",
    "cluster_pca = []\n",
    "[cluster_pca.append(pca.transform(clus)) for clus in clusters_dih]"
   ]
  },
  {
   "cell_type": "raw",
   "id": "45b0c1a2",
   "metadata": {},
   "outputs": [],
   "source": [
    "# Plot Clusters\n",
    "fig, ax = plt.subplots()\n",
    "\n",
    "for i in range(3):\n",
    "    ax.scatter(dihe[i][:,0], dihe[i][:,1], marker='.', s=0.5, alpha=0.1, c='grey')\n",
    "\n",
    "# Plot clusters\n",
    "for clus, method in zip(cluster_pca, list(methods.values())):\n",
    "    ax.scatter(clus[:,0], clus[:,1], marker='^', label=method)\n",
    "    for i, txt in enumerate(np.arange(len(clus[:,0]))):\n",
    "        ax.annotate(txt, (clus[i,0], clus[i,1], ))\n",
    "ax.legend()\n",
    "ax.set_title(\"Different clusters on dPCA plot\")\n",
    "fig.savefig(snakemake.output.cluster_pca)"
   ]
  },
  {
   "cell_type": "raw",
   "id": "793a8518",
   "metadata": {},
   "outputs": [],
   "source": [
    "print(\"Backbone RMSD between clusters. Array indices correspond to the cluster number in plot above.\")\n",
    "from itertools import combinations_with_replacement\n",
    "cluster_pairs = list(combinations_with_replacement(clusters, 2))\n",
    "method_pairs = list(combinations_with_replacement(list(methods.values()), 2))\n",
    "for v, w in zip(cluster_pairs, method_pairs):\n",
    "    i, j = v\n",
    "    i_n, j_n = w\n",
    "    print(f\"RMSD between {i_n} - {j_n}\")\n",
    "    rmsd = np.zeros((i.n_frames, j.n_frames))\n",
    "    for a in range(i.n_frames):\n",
    "        for b in range(j.n_frames):\n",
    "            rmsd[a,b] = md.rmsd(i[a], j[b], atom_indices = i.top.select('backbone')) * 10\n",
    "    print(rmsd)"
   ]
  },
  {
   "cell_type": "raw",
   "id": "030a54f4",
   "metadata": {},
   "outputs": [],
   "source": []
  },
  {
   "cell_type": "raw",
   "id": "7b5bb986",
   "metadata": {},
   "outputs": [],
   "source": [
    "NOE = src.noe.read_NOE(snakemake.input.noe)"
   ]
  },
  {
   "cell_type": "raw",
   "id": "5fd25a4e",
   "metadata": {},
   "outputs": [],
   "source": [
    "# NOE_dist = {}\n",
    "# NOE_store = {}\n",
    "# NOE_dist_cis={}\n",
    "# NOE_dist_trans={}\n",
    "# NOE_store_cis = {}\n",
    "# NOE_store_trans = {}\n",
    "# for i in range(3):\n",
    "#     NOE_output = {}\n",
    "#     if methods[i] != \"cMD\":\n",
    "#         if multiple:\n",
    "#             fig, axs = plt.subplots(2,1)\n",
    "#             fig.set_size_inches(10,6)\n",
    "#             NOE_trans, NOE_cis = NOE\n",
    "#             NOE_cis_dict = NOE_cis.to_dict(orient='index')\n",
    "#             NOE_trans_dict = NOE_trans.to_dict(orient='index')\n",
    "#             if len(cis[i]) > 0:\n",
    "#                 NOE_cis['md'],NOE_cis['lower'],NOE_cis['upper'],NOE_dist_cis[i], pmf_plot_cis = compute_NOE_mdtraj(NOE_cis_dict, trajs[i][cis[i]], snakemake.input[f\"weights_{i}\"], 1, weight_data=weight_data[i][cis[i]])\n",
    "#                 NOE_output[f\"{multi['cis']}\"] = NOE_cis.to_dict(orient='index')\n",
    "#                 # Deal with ambigous NOEs\n",
    "#                 NOE_cis = NOE_cis.explode(['md', 'lower', 'upper'])\n",
    "#                 # and ambigous/multiple values\n",
    "#                 NOE_cis = NOE_cis.explode('NMR exp')\n",
    "#                 fig, axs[1] = plot_NOE(NOE_cis, fig, axs[1])\n",
    "#                 axs[1].set_title(f\"Compound {multi['cis']} (cis)\")\n",
    "#                 NOE_store_cis[i] = NOE_cis\n",
    "#             else:\n",
    "#                 print(\"Cis skipped because no frames are cis.\")\n",
    "#             if len(trans[i]) > 0:\n",
    "#                 NOE_trans['md'],NOE_trans['lower'],NOE_trans['upper'],NOE_dist_trans[i], pmf_plot_trans = compute_NOE_mdtraj(NOE_trans_dict, trajs[i][trans[i]], snakemake.input[f\"weights_{i}\"], 1, weight_data=weight_data[i][trans[i]])\n",
    "#                 NOE_output[f\"{multi['trans']}\"] = NOE_trans.to_dict(orient='index')\n",
    "#                 # Deal with ambigous NOEs\n",
    "#                 NOE_trans = NOE_trans.explode(['md', 'lower', 'upper'])\n",
    "#                 # and ambigous/multiple values\n",
    "#                 NOE_trans = NOE_trans.explode('NMR exp')\n",
    "#                 fig, axs[0] = plot_NOE(NOE_trans, fig, axs[0])\n",
    "#                 axs[0].set_title(f\"Compound {multi['trans']} (trans)\")\n",
    "#                 NOE_store_trans[i] = NOE_trans\n",
    "#             else:\n",
    "#                 print(\"Trans skipped because no frames are cis\")\n",
    "#             #NOE_output = {f\"{multi[cis]}\": NOE_cis, f\"{multi[trans]}\": NOE_trans}\n",
    "#             #src.utils.json_dump(snakemake.output.noe_result, NOE_output)\n",
    "#         else:\n",
    "#             NOE = src.noe.read_NOE(snakemake.input.noe)\n",
    "#             NOE_dict = NOE.to_dict(orient='index')\n",
    "#             NOE['md'], NOE['lower'], NOE['upper'], NOE_dist[i], pmf_plot = src.noe.compute_NOE_mdtraj(NOE_dict, trajs[i], snakemake.input[f\"weights_{i}\"], 1, weight_data=weight_data[i])\n",
    "#             plt.close()\n",
    "#             # Save NOE dict\n",
    "#             NOE_output = {f\"{compound_index}\": NOE.to_dict(orient='index')}\n",
    "#             # save as .json file\n",
    "#             #src.utils.json_dump(snakemake.output.noe_result, NOE_output)\n",
    "#             # Deal with ambigous NOEs\n",
    "#             #NOE = NOE.explode('md')\n",
    "#             NOE = NOE.explode(['md', 'lower', 'upper'])\n",
    "#             # and ambigous/multiple values\n",
    "#             NOE = NOE.explode('NMR exp')\n",
    "#             fig, ax = plot_NOE(NOE)\n",
    "#             ax.set_title(f\"Compound {compound_index}. NOE\")\n",
    "#             fig.tight_layout()\n",
    "#             #fig.savefig(snakemake.output.noe_plot)\n",
    "#             NOE_store[i] = NOE\n",
    "#     else:\n",
    "#         print(\"cMD - no reweighted NOEs performed.\")\n",
    "#         if multiple:\n",
    "#             fig, axs = plt.subplots(2,1)\n",
    "#             fig.set_size_inches(10,6)\n",
    "#             NOE_trans, NOE_cis = NOE\n",
    "#             NOE_cis_dict = NOE_cis.to_dict(orient='index')\n",
    "#             NOE_trans_dict = NOE_trans.to_dict(orient='index')\n",
    "#             if len(cis[i]) > 0:\n",
    "#                 NOE_cis['md'],_,_2,NOE_dist_cis, pmf_plot_cis = compute_NOE_mdtraj(NOE_cis_dict, t[cis[i]], snakemake.input.weights, 1, cis[i])\n",
    "#                 NOE_output[f\"{multi['cis']}\"] = NOE_cis.to_dict(orient='index')\n",
    "#                 # Deal with ambigous NOEs\n",
    "#                 NOE_cis = NOE_cis.explode('md')\n",
    "#                 # and ambigous/multiple values\n",
    "#                 NOE_cis = NOE_cis.explode('NMR exp')\n",
    "#                 fig, axs[1] = plot_NOE(NOE_cis, fig, axs[1])\n",
    "#                 axs[1].set_title(f\"Compound {multi['cis']} (cis)\")\n",
    "#             else:\n",
    "#                 print(\"Cis skipped because no frames are cis.\")\n",
    "#             if len(trans[i]) > 0:\n",
    "#                 NOE_trans['md'],_,_2,NOE_dist_trans, pmf_plot_trans = compute_NOE_mdtraj(NOE_trans_dict, t[trans[i]], snakemake.input.weights, 1, trans[i])\n",
    "#                 NOE_output[f\"{multi['trans']}\"] = NOE_trans.to_dict(orient='index')\n",
    "#                 # Deal with ambigous NOEs\n",
    "#                 NOE_trans = NOE_trans.explode('md')\n",
    "#                 # and ambigous/multiple values\n",
    "#                 NOE_trans = NOE_trans.explode('NMR exp')\n",
    "#                 fig, axs[0] = plot_NOE(NOE_trans, fig, axs[0])\n",
    "#                 axs[0].set_title(f\"Compound {multi['trans']} (trans)\")\n",
    "#             else:\n",
    "#                 print(\"Trans skipped because no frames are cis\")\n",
    "#             #NOE_output = {f\"{multi[cis]}\": NOE_cis, f\"{multi[trans]}\": NOE_trans}\n",
    "#             src.utils.json_dump(snakemake.output.noe_result, NOE_output)\n",
    "#         else:\n",
    "#             NOE = src.noe.read_NOE(snakemake.input.noe)\n",
    "#             NOE_dict = NOE.to_dict(orient='index')\n",
    "#             NOE['md'], NOE['lower'], NOE['upper'], NOE_dist[i], pmf_plot = src.noe.compute_NOE_mdtraj(NOE_dict, trajs[i])\n",
    "#             plt.close()\n",
    "#             # Save NOE dict\n",
    "#             NOE_output = {f\"{compound_index}\": NOE.to_dict(orient='index')}\n",
    "#             # save as .json file\n",
    "#             #src.utils.json_dump(snakemake.output.noe_result, NOE_output)\n",
    "#             # Deal with ambigous NOEs\n",
    "#             #NOE = NOE.explode('md')\n",
    "#             NOE = NOE.explode(['md', 'lower', 'upper'])\n",
    "#             # and ambigous/multiple values\n",
    "#             NOE = NOE.explode('NMR exp')\n",
    "#             fig, ax = plot_NOE(NOE)\n",
    "#             ax.set_title(f\"Compound {compound_index}. NOE\")\n",
    "#             fig.tight_layout()\n",
    "#             #fig.savefig(snakemake.output.noe_plot)\n",
    "#             NOE_store[i] = NOE\n",
    "#     print(f\"Done {i}\")"
   ]
  },
  {
   "cell_type": "raw",
   "id": "2e5865d8",
   "metadata": {},
   "outputs": [],
   "source": [
    "if not multiple:\n",
    "    NOE = src.noe.read_NOE(snakemake.input.noe)\n",
    "    NOE = NOE.explode('NMR exp')\n",
    "    NOE_dist = {}\n",
    "    NOE_store = {}\n",
    "    NOE_dist_cis={}\n",
    "    NOE_dist_trans={}\n",
    "    NOE_store_cis = {}\n",
    "    NOE_store_trans = {}\n",
    "    for i in range(3):\n",
    "        NOE_output = {}\n",
    "        if methods[i] != \"cMD\":\n",
    "            if multiple:\n",
    "                if len(cis[i]) > 0:\n",
    "                    NOE_dist_cis[i] = src.utils.pickle_load(snakemake.input[f\"NOE_dist_{0}\"])[cis]\n",
    "                    #NOE_store_cis[i] = NOE_cis\n",
    "                else:\n",
    "                    print(\"Cis skipped because no frames are cis.\")\n",
    "                if len(trans[i]) > 0:\n",
    "                    NOE_dist_trans[i] = src.utils.pickle_load(snakemake.input[f\"NOE_dist_{0}\"])[trans]\n",
    "                    #NOE_store_trans[i] = NOE_trans\n",
    "                else:\n",
    "                    print(\"Trans skipped because no frames are cis\")\n",
    "            else:\n",
    "                NOE_dist[i] = src.utils.pickle_load(snakemake.input[f\"NOE_dist_{0}\"])\n",
    "    #     \n",
    "    #     print(f\"Done {i}\")"
   ]
  },
  {
   "cell_type": "raw",
   "id": "b3163460",
   "metadata": {},
   "outputs": [],
   "source": [
    "# # plot PCA, colored by NOE\n",
    "# NOE_select = 11"
   ]
  },
  {
   "cell_type": "raw",
   "id": "d036d0a3",
   "metadata": {},
   "outputs": [],
   "source": [
    "# plotting color deviation would be better maybe?\n",
    "# activate below for plotting pca, colored by NOE value"
   ]
  },
  {
   "cell_type": "raw",
   "id": "15a1235f",
   "metadata": {},
   "outputs": [],
   "source": [
    "# if not multiple:\n",
    "#     for NOE_select in range(len(NOE_dist[0])):\n",
    "#         if np.all(~np.isnan(NOE_dist[0][NOE_select][0])):\n",
    "#             zs = np.concatenate([NOE_dist[0][NOE_select][0], NOE_dist[1][NOE_select][0], NOE_dist[2][NOE_select][0]], axis=0)\n",
    "#         else:\n",
    "#             zs=np.array([0,0])\n",
    "#             min_, max_ = zs.min(), zs.max()\n",
    "#             continue\n",
    "#         # Plot re-weighted PCA plots\n",
    "#         for a in range(len(NOE_dist[1][NOE_select])):\n",
    "#             # here we select NOE_store[1], but 0, 2 could be used too (exp value is the same)\n",
    "#             NOE_exp = NOE[NOE.index == str(NOE_select)]['NMR exp'][0]\n",
    "#             #NOE_md = NOE_store[a][NOE_store[a].index == str(NOE_select)]['md'][a]\n",
    "#             fig, axs = plt.subplots(1,4, sharex='all', sharey='all')\n",
    "#             fig.set_size_inches(16,4)\n",
    "#             fig.suptitle(f\"Compound {compound_index}. NOE #{NOE_select} (amb # {a}). exp={NOE_exp}.\")\n",
    "\n",
    "#             for i in range(3):\n",
    "#                 scat = axs[i].scatter(dihe[i][:,0], dihe[i][:,1], c=NOE_dist[i][NOE_select][a], marker='.', s=0.5, vmin=0, vmax=8)\n",
    "#                 axs[i].set_title(f\"{methods[i]}: {simtime[i]} ns (r# {repeats[i]})\")\n",
    "#                 axs[3].scatter(dihe[i][:,0], dihe[i][:,1], marker='.', s=0.5, alpha=0.1, label=methods[i])\n",
    "\n",
    "#             lgnd = axs[3].legend()\n",
    "#             for handle in lgnd.legendHandles:\n",
    "#                 handle.set_sizes([30.0])\n",
    "#                 handle.set_alpha(1)\n",
    "\n",
    "#             axs[3].set_title('Overlay')\n",
    "\n",
    "#             colorbar = fig.colorbar(scat, ax=axs, label=\"NOE [A]\")"
   ]
  },
  {
   "cell_type": "raw",
   "id": "6d3f447d",
   "metadata": {
    "scrolled": false
   },
   "outputs": [],
   "source": [
    "# if not multiple:\n",
    "#     for NOE_select in range(len(NOE_dist[0])):\n",
    "#         if np.all(~np.isnan(NOE_dist[0][NOE_select][0])):\n",
    "#             zs = np.concatenate([NOE_dist[0][NOE_select][0], NOE_dist[1][NOE_select][0], NOE_dist[2][NOE_select][0]], axis=0)\n",
    "#         else:\n",
    "#             zs=np.array([0,0])\n",
    "#             min_, max_ = zs.min(), zs.max()\n",
    "#             continue\n",
    "#         # Plot re-weighted PCA plots\n",
    "#         for a in range(len(NOE_dist[1][NOE_select])):\n",
    "#             # here we select NOE_store[1], but 0, 2 could be used too (exp value is the same)\n",
    "#             NOE_exp = NOE_store[1][NOE_store[1].index == str(NOE_select)]['NMR exp'][a]\n",
    "#             #NOE_md = NOE_store[a][NOE_store[a].index == str(NOE_select)]['md'][a]\n",
    "#             fig, axs = plt.subplots(1,4, sharex='all', sharey='all')\n",
    "#             fig.set_size_inches(16,4)\n",
    "#             fig.suptitle(f\"Compound {compound_index}. NOE #{NOE_select} (amb # {a}). exp={NOE_exp}.\")\n",
    "\n",
    "#             for i in range(3):\n",
    "#                 scat = axs[i].scatter(dihe[i][:,0], dihe[i][:,1], c=NOE_dist[i][NOE_select][a], marker='.', s=0.5, vmin=0, vmax=8)\n",
    "#                 axs[i].set_title(f\"{methods[i]}: {simtime[i]} ns (r# {repeats[i]})\")\n",
    "#                 axs[3].scatter(dihe[i][:,0], dihe[i][:,1], marker='.', s=0.5, alpha=0.1, label=methods[i])\n",
    "\n",
    "#             lgnd = axs[3].legend()\n",
    "#             for handle in lgnd.legendHandles:\n",
    "#                 handle.set_sizes([30.0])\n",
    "#                 handle.set_alpha(1)\n",
    "\n",
    "#             axs[3].set_title('Overlay')\n",
    "\n",
    "#             colorbar = fig.colorbar(scat, ax=axs, label=\"NOE [A]\")"
   ]
  },
  {
   "cell_type": "raw",
   "id": "790eaf60",
   "metadata": {},
   "outputs": [],
   "source": [
    "# if not multiple:\n",
    "#     zs = np.concatenate([weights[0], weights[1], weights[2]], axis=0)\n",
    "#     min_, max_ = zs.min(), zs.max()"
   ]
  },
  {
   "cell_type": "raw",
   "id": "dff3488f",
   "metadata": {},
   "outputs": [],
   "source": [
    "# if not multiple:\n",
    "#     # Plot NOE-PCA plots\n",
    "#     for a in range(len(NOE_dist[1][NOE_select])):\n",
    "#         NOE_exp = NOE_store[a][NOE_store[a].index == str(NOE_select)]['NMR exp'][a]\n",
    "#         NOE_md = NOE_store[a][NOE_store[a].index == str(NOE_select)]['md'][a]\n",
    "#         fig, axs = plt.subplots(1,4, sharex='all', sharey='all')\n",
    "#         fig.set_size_inches(16,4)\n",
    "#         fig.suptitle(f\"Compound {compound_index}. NOE #{NOE_select}. ambiguous NOE# {a}. exp={NOE_exp}. md={NOE_md}\")\n",
    "\n",
    "#         for i in range(3):\n",
    "#             scat = axs[i].scatter(dihe[i][:,0], NOE_dist[i][NOE_select][a], c=weights[i], cmap='Spectral_r', marker='.', s=0.5, vmin=min_, vmax=max_)\n",
    "#             axs[i].set_title(f\"{methods[i]}: {simtime[i]} ns (r# {repeats[i]})\")\n",
    "#             axs[3].scatter(dihe[i][:,0], dihe[i][:,1], marker='.', s=0.5, alpha=0.1, label=methods[i])\n",
    "\n",
    "#         lgnd = axs[3].legend()\n",
    "#         for handle in lgnd.legendHandles:\n",
    "#             handle.set_sizes([30.0])\n",
    "#             handle.set_alpha(1)\n",
    "\n",
    "#         axs[3].set_title('Overlay')\n",
    "\n",
    "#         colorbar = fig.colorbar(scat, ax=axs, label=\"kcal/mol\")"
   ]
  },
  {
   "cell_type": "raw",
   "id": "e481dddf",
   "metadata": {},
   "outputs": [],
   "source": [
    "# THIS WAS THE END OF THE SCRIPT. BELOW IS OLD."
   ]
  },
  {
   "cell_type": "raw",
   "id": "c5ad7299",
   "metadata": {},
   "outputs": [],
   "source": [
    "# # 1d PMF reweighted NOEs\n",
    "# NOE_output = {}\n",
    "# if snakemake.params.method != \"cMD\":\n",
    "#     if multiple:\n",
    "#         fig, axs = plt.subplots(2,1)\n",
    "#         fig.set_size_inches(10,6)\n",
    "#         NOE_trans, NOE_cis = NOE\n",
    "#         NOE_cis_dict = NOE_cis.to_dict(orient='index')\n",
    "#         NOE_trans_dict = NOE_trans.to_dict(orient='index')\n",
    "#         if len(cis) > 0:\n",
    "#             NOE_cis['md'],_,_2,NOE_dist_cis, pmf_plot_cis = compute_NOE_mdtraj(NOE_cis_dict, t[cis], snakemake.input.weights, 1, cis)\n",
    "#             NOE_output[f\"{multi['cis']}\"] = NOE_cis.to_dict(orient='index')\n",
    "#             # Deal with ambigous NOEs\n",
    "#             NOE_cis = NOE_cis.explode('md')\n",
    "#             # and ambigous/multiple values\n",
    "#             NOE_cis = NOE_cis.explode('NMR exp')\n",
    "#             fig, axs[1] = plot_NOE(NOE_cis, fig, axs[1])\n",
    "#             axs[1].set_title(f\"Compound {multi['cis']} (cis)\")\n",
    "#         else:\n",
    "#             print(\"Cis skipped because no frames are cis.\")\n",
    "#         if len(trans) > 0:\n",
    "#             NOE_trans['md'],_,_2,NOE_dist_trans, pmf_plot_trans = compute_NOE_mdtraj(NOE_trans_dict, t[trans], snakemake.input.weights, 1, trans)\n",
    "#             NOE_output[f\"{multi['trans']}\"] = NOE_trans.to_dict(orient='index')\n",
    "#             # Deal with ambigous NOEs\n",
    "#             NOE_trans = NOE_trans.explode('md')\n",
    "#             # and ambigous/multiple values\n",
    "#             NOE_trans = NOE_trans.explode('NMR exp')\n",
    "#             fig, axs[0] = plot_NOE(NOE_trans, fig, axs[0])\n",
    "#             axs[0].set_title(f\"Compound {multi['trans']} (trans)\")\n",
    "#         else:\n",
    "#             print(\"Trans skipped because no frames are cis\")\n",
    "#         #NOE_output = {f\"{multi[cis]}\": NOE_cis, f\"{multi[trans]}\": NOE_trans}\n",
    "#         src.utils.json_dump(snakemake.output.noe_result, NOE_output)\n",
    "#     else:\n",
    "#         NOE = src.noe.read_NOE(NOE_path)\n",
    "#         NOE_dict = NOE.to_dict(orient='index')\n",
    "#         NOE['md'], NOE['lower'], NOE['upper'], _, pmf_plot = src.noe.compute_NOE_mdtraj(NOE_dict, t, snakemake.input.weights, 1)\n",
    "#         plt.close()\n",
    "#         # Save NOE dict\n",
    "#         NOE_output = {f\"{compound_index}\": NOE.to_dict(orient='index')}\n",
    "#         # save as .json file\n",
    "#         src.utils.json_dump(snakemake.output.noe_result, NOE_output)\n",
    "#         # Deal with ambigous NOEs\n",
    "#         #NOE = NOE.explode('md')\n",
    "#         NOE = NOE.explode(['md', 'lower', 'upper'])\n",
    "#         # and ambigous/multiple values\n",
    "#         NOE = NOE.explode('NMR exp')\n",
    "#         fig, ax = plot_NOE(NOE)\n",
    "#         ax.set_title(f\"Compound {compound_index}. NOE\")\n",
    "#         fig.tight_layout()\n",
    "#         fig.savefig(snakemake.output.noe_plot)\n",
    "# else:\n",
    "#     print(\"cMD - no reweighted NOEs performed.\")"
   ]
  },
  {
   "cell_type": "raw",
   "id": "ec6892d6",
   "metadata": {},
   "outputs": [],
   "source": [
    "# Load GaMD"
   ]
  },
  {
   "cell_type": "raw",
   "id": "ae71b329",
   "metadata": {},
   "outputs": [],
   "source": [
    "# trajectory reference:\n",
    "# t_x: production trajectory of method x\n",
    "# t_x_full: full trajectory of method x (equilibration & production)"
   ]
  },
  {
   "cell_type": "raw",
   "id": "cd199f6e",
   "metadata": {},
   "outputs": [],
   "source": [
    "# t_g = md.load(snakemake.input.ga_traj, top=snakemake.input.top)\n",
    "# print(t_g)\n",
    "# # Remove solvent from trajectory\n",
    "# t_g = t_g.restrict_atoms(t_g.topology.select('protein'))\n",
    "# t_g"
   ]
  },
  {
   "cell_type": "raw",
   "id": "9ef0b93b",
   "metadata": {},
   "outputs": [],
   "source": [
    "# t_g_full = t_g\n",
    "# t_g = t_g[-50000:]\n",
    "# t_g"
   ]
  },
  {
   "cell_type": "raw",
   "id": "5c4a77ed",
   "metadata": {},
   "outputs": [],
   "source": [
    "# if has_cis_trans:\n",
    "#     # split trajectory into 2 by defined feature\n",
    "    \n",
    "#     t_g_cis\n",
    "#     t_g_trans\n",
    "    "
   ]
  },
  {
   "cell_type": "raw",
   "id": "3c4c0aeb",
   "metadata": {},
   "outputs": [],
   "source": [
    "# Load aMD"
   ]
  },
  {
   "cell_type": "raw",
   "id": "14561558",
   "metadata": {},
   "outputs": [],
   "source": [
    "# t_a = md.load(snakemake.input.a_traj, top=snakemake.input.top)\n",
    "# print(t_a)\n",
    "# # Remove solvent from trajectory\n",
    "# t_a = t_a.restrict_atoms(t_a.topology.select('protein'))\n",
    "# t_a"
   ]
  },
  {
   "cell_type": "raw",
   "id": "683473c2",
   "metadata": {},
   "outputs": [],
   "source": [
    "# t_c = md.load(snakemake.input.c_traj, top=snakemake.input.top)\n",
    "# print(t_c)\n",
    "# # Remove solvent from trajectory\n",
    "# t_c = t_c.restrict_atoms(t_c.topology.select('protein'))\n",
    "# t_c"
   ]
  },
  {
   "cell_type": "raw",
   "id": "d4d44d9d",
   "metadata": {},
   "outputs": [],
   "source": [
    "# t_g.superpose(t_g, 0)\n",
    "# t_a.superpose(t_a, 0)\n",
    "# t_c.superpose(t_c, 0)"
   ]
  },
  {
   "cell_type": "raw",
   "id": "016cf665",
   "metadata": {},
   "outputs": [],
   "source": [
    "# if multiple:\n",
    "#     ca_c = t_g.top.select(f\"resid 0 and name CA C\")\n",
    "#     n_ca_next = t_g.top.select(f\"resid 1 and name N CA\")\n",
    "\n",
    "#     omega = np.append(ca_c, n_ca_next)\n",
    "#     t_omega_rad = md.compute_dihedrals(t_a, [omega])\n",
    "#     t_omega_deg = np.abs(np.degrees(t_omega_rad))\n",
    "#     plt.plot(t_omega_deg)\n",
    "#     plt.hlines(90, 0, 50000, color='red')"
   ]
  },
  {
   "cell_type": "raw",
   "id": "7e7631a5",
   "metadata": {},
   "outputs": [],
   "source": [
    "# if multiple:\n",
    "#     cis = np.where(t_omega_deg <= 90)[0]\n",
    "#     trans = np.where(t_omega_deg > 90)[0]\n",
    "\n",
    "#     t_a[trans]"
   ]
  },
  {
   "cell_type": "raw",
   "id": "5962d1d1",
   "metadata": {},
   "outputs": [],
   "source": [
    "# *_, omega = src.dihedrals.getDihedrals(t_c)\n",
    "# omega_deg = np.abs(np.degrees(omega))\n",
    "# plt.plot(omega_deg)\n",
    "# plt.show()"
   ]
  },
  {
   "cell_type": "raw",
   "id": "2da87eb6",
   "metadata": {},
   "outputs": [],
   "source": [
    "# Principle Component Analysis (PCA)"
   ]
  },
  {
   "cell_type": "raw",
   "id": "60cdea9f",
   "metadata": {},
   "outputs": [],
   "source": [
    "# dihedral variable reference:\n",
    "# x_dihe: (reduced) dihedral angles of method x (via PCA)\n",
    "# x_dihe_all: full dihedral angles of method x"
   ]
  },
  {
   "cell_type": "raw",
   "id": "c25edc02",
   "metadata": {},
   "outputs": [],
   "source": [
    "# g_dihe_all = src.dihedrals.getReducedDihedrals(t_g)\n",
    "# a_dihe_all = src.dihedrals.getReducedDihedrals(t_a)\n",
    "# c_dihe_all = src.dihedrals.getReducedDihedrals(t_c)"
   ]
  },
  {
   "cell_type": "raw",
   "id": "19e9a9ff",
   "metadata": {},
   "outputs": [],
   "source": [
    "# pca4 = PCA(n_components=2)\n",
    "# g_dihe = pca4.fit_transform(g_dihe_all)\n",
    "# g_dihe.shape"
   ]
  },
  {
   "cell_type": "raw",
   "id": "5865f13e",
   "metadata": {},
   "outputs": [],
   "source": [
    "# Now apply the same transformation to a_dihe, c_dihe"
   ]
  },
  {
   "cell_type": "raw",
   "id": "9e4c7921",
   "metadata": {},
   "outputs": [],
   "source": [
    "# a_dihe = pca4.transform(a_dihe_all)\n",
    "# c_dihe = pca4.transform(c_dihe_all)"
   ]
  },
  {
   "cell_type": "raw",
   "id": "ebd78e72",
   "metadata": {},
   "outputs": [],
   "source": [
    "# plt.scatter(g_dihe[:,0], g_dihe[:,1], marker='.', s=0.5, alpha=1)\n",
    "# plt.scatter(c_dihe[:,0], c_dihe[:,1], marker='.', s=0.5, alpha=0.02)\n",
    "# plt.scatter(a_dihe[:,0], a_dihe[:,1], marker='.', s=0.5, alpha=0.02)\n",
    "# plt.show()"
   ]
  },
  {
   "cell_type": "raw",
   "id": "32676b49",
   "metadata": {},
   "outputs": [],
   "source": [
    "# How much of the variance is explained by the 2 components?"
   ]
  },
  {
   "cell_type": "raw",
   "id": "8a096ab0",
   "metadata": {},
   "outputs": [],
   "source": [
    "# print(f\"The two components explain {sum(pca4.explained_variance_ratio_):.2%} of the variance\")"
   ]
  },
  {
   "cell_type": "raw",
   "id": "1993e37c",
   "metadata": {},
   "outputs": [],
   "source": [
    "# g_weights = src.reweight(g_dihe, snakemake.input.ga_weights, 'amdweight_MC')\n",
    "# a_weights = src.reweight(a_dihe, snakemake.input.a_weights, 'amdweight_MC')\n",
    "# c_weights = src.reweight(c_dihe, None, 'noweight')"
   ]
  },
  {
   "cell_type": "raw",
   "id": "e9d73b1f",
   "metadata": {},
   "outputs": [],
   "source": [
    "# # Plot re-weighted PCA plots\n",
    "# fig, axs = plt.subplots(1,4, sharex='all', sharey='all')\n",
    "# fig.set_size_inches(16,4)\n",
    "\n",
    "# # for ax in axs:\n",
    "# #     ax.set\n",
    "\n",
    "# axs[0].scatter(g_dihe[:,0], g_dihe[:,1], c=g_weights, marker='.', cmap='Spectral_r', s=0.5)\n",
    "# axs[0].set_title('GaMD')\n",
    "\n",
    "# axs[1].scatter(a_dihe[:,0], a_dihe[:,1], c=a_weights, marker='.', cmap='Spectral_r', s=0.5)\n",
    "# axs[1].set_title('aMD')\n",
    "\n",
    "# axs[2].scatter(c_dihe[:,0], c_dihe[:,1], c=c_weights, marker='.', cmap='Spectral_r', s=0.5)\n",
    "# axs[2].set_title('cMD')\n",
    "\n",
    "# axs[3].scatter(g_dihe[:,0], g_dihe[:,1], marker='.', s=0.5, alpha=1, label='GaMD')\n",
    "# axs[3].scatter(a_dihe[:,0], a_dihe[:,1], marker='.', s=0.5, alpha=0.1, label='aMD')\n",
    "# axs[3].scatter(c_dihe[:,0], c_dihe[:,1], marker='.', s=0.5, alpha=0.1, label='cMD')\n",
    "# lgnd = axs[3].legend()\n",
    "# for handle in lgnd.legendHandles:\n",
    "#     handle.set_sizes([30.0])\n",
    "#     handle.set_alpha(1)\n",
    "\n",
    "# axs[3].set_title('Overlay')\n",
    "    \n",
    "# fig.savefig(snakemake.output.pca_dihe)"
   ]
  },
  {
   "cell_type": "raw",
   "id": "9f106700",
   "metadata": {},
   "outputs": [],
   "source": [
    "# # Load cluster data\n",
    "# clus_g = md.load(snakemake.input.ga_clus)\n",
    "# clus_a = md.load(snakemake.input.a_clus)\n",
    "# clus_c = md.load(snakemake.input.c_clus)\n",
    "# clusters = [clus_g, clus_a, clus_c]"
   ]
  },
  {
   "cell_type": "raw",
   "id": "8f106144",
   "metadata": {},
   "outputs": [],
   "source": [
    "# # Transform clusters in pca\n",
    "# clusters_dih = []\n",
    "# [clusters_dih.append(src.dihedrals.getReducedDihedrals(clus)) for clus in clusters]\n",
    "# cluster_pca = []\n",
    "# [cluster_pca.append(pca4.transform(clus)) for clus in clusters_dih]"
   ]
  },
  {
   "cell_type": "raw",
   "id": "2bc713ca",
   "metadata": {},
   "outputs": [],
   "source": [
    "# # Plot Clusters\n",
    "# fig, ax = plt.subplots()\n",
    "\n",
    "# methods = [\"GaMD\", \"aMD\", \"cMD\"]\n",
    "# ax.scatter(g_dihe[:,0], g_dihe[:,1], marker='.', s=0.5, alpha=0.1, c='grey')\n",
    "# ax.scatter(a_dihe[:,0], a_dihe[:,1], marker='.', s=0.5, alpha=0.1, c='grey')\n",
    "# ax.scatter(c_dihe[:,0], c_dihe[:,1], marker='.', s=0.5, alpha=0.1, c='grey')\n",
    "\n",
    "\n",
    "# # Plot clusters\n",
    "# for clus, method in zip(cluster_pca, methods):\n",
    "#     ax.scatter(clus[:,0], clus[:,1], marker='^', label=method)\n",
    "#     for i, txt in enumerate(np.arange(len(clus[:,0]))):\n",
    "#         ax.annotate(txt, (clus[i,0], clus[i,1], ))\n",
    "# ax.legend()\n",
    "# ax.set_title(\"Different clusters on dPCA plot\")\n",
    "# fig.savefig(snakemake.output.cluster_pca)"
   ]
  },
  {
   "cell_type": "raw",
   "id": "a32e1baa",
   "metadata": {},
   "outputs": [],
   "source": [
    "# print(\"Backbone RMSD between clusters. Array indices correspond to the cluster number in plot above.\")\n",
    "# from itertools import combinations_with_replacement\n",
    "# cluster_pairs = list(combinations_with_replacement(clusters, 2))\n",
    "# method_pairs = list(combinations_with_replacement(methods, 2))\n",
    "# for v, w in zip(cluster_pairs, method_pairs):\n",
    "#     i, j = v\n",
    "#     i_n, j_n = w\n",
    "#     print(f\"RMSD between {i_n} - {j_n}\")\n",
    "#     rmsd = np.zeros((i.n_frames, j.n_frames))\n",
    "#     for a in range(i.n_frames):\n",
    "#         for b in range(j.n_frames):\n",
    "#             rmsd[a,b] = md.rmsd(i[a], j[b], atom_indices = i.top.select('backbone')) * 10\n",
    "#     print(rmsd)"
   ]
  },
  {
   "cell_type": "raw",
   "id": "a449e6cf",
   "metadata": {},
   "outputs": [],
   "source": []
  },
  {
   "cell_type": "raw",
   "id": "d52c6a68",
   "metadata": {},
   "outputs": [],
   "source": []
  }
 ],
 "metadata": {
  "kernelspec": {
   "display_name": "Python 3 (ipykernel)",
   "language": "python",
   "name": "python3"
  },
  "language_info": {
   "codemirror_mode": {
    "name": "ipython",
    "version": 3
   },
   "file_extension": ".py",
   "mimetype": "text/x-python",
   "name": "python",
   "nbconvert_exporter": "python",
   "pygments_lexer": "ipython3",
   "version": "3.7.12"
  }
 },
 "nbformat": 4,
 "nbformat_minor": 5
}
