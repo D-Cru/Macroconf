{
 "cells": [
  {
   "cell_type": "code",
   "execution_count": 2,
   "id": "c5d1bda9",
   "metadata": {},
   "outputs": [],
   "source": [
    "from src.utils import json_load, json_dump, pickle_load\n",
    "# start coding here\n",
    "gamd = json_load(snakemake.input.gamd)\n",
    "cmd = json_load(snakemake.input.cmd)\n",
    "\n",
    "# remove snakemake.input.gamd and snakemake.input.cmd from snakemake.input\n",
    "snakemake.input = snakemake.input[:-2]\n",
    "\n",
    "\n",
    "sasa = {}\n",
    "psa = {}\n",
    "for f in snakemake.input:\n",
    "    id = f.split('/')[4]\n",
    "    # if f ends with \"sasa.json\"\n",
    "    if f.endswith('sasa.json'):\n",
    "        sasa[id] = pickle_load(f)\n",
    "    # if f ends with \"psa.json\"\n",
    "    elif f.endswith('psa.json'):\n",
    "        psa[id] = pickle_load(f)"
   ]
  },
  {
   "cell_type": "code",
   "execution_count": 3,
   "id": "5ac1843e",
   "metadata": {},
   "outputs": [],
   "source": [
    "confgen = snakemake.wildcards[0].capitalize()\n",
    "mode = snakemake.wildcards[1].capitalize()"
   ]
  },
  {
   "cell_type": "code",
   "execution_count": 4,
   "id": "f80655e9",
   "metadata": {},
   "outputs": [],
   "source": [
    "import matplotlib.pyplot as plt\n",
    "import numpy as np\n",
    "\n",
    "# make subplots for each id\n",
    "fig, axs = plt.subplots(6, 6, figsize=(10, 10))\n",
    "\n",
    "# iterative over sasa dict\n",
    "for idx, (id, sa) in enumerate(sorted(sasa.items())):\n",
    "    axs.flatten()[idx] = axs.flatten()[idx].hist(sa, bins=10)\n",
    "    axs.flatten()[idx].set_title(id)\n",
    "    # plot the gamd and cmd values as a vertical line\n",
    "    if idx==0:\n",
    "        axs.flatten()[idx].axvline(gamd['sasa'][id], color='r', linestyle='dashed', linewidth=1, label='GaMD')\n",
    "        axs.flatten()[idx].axvline(cmd['sasa'][id], color='b', linestyle='dashed', linewidth=1, label='cMD')\n",
    "    else:\n",
    "        axs.flatten()[idx].axvline(gamd['sasa'][id], color='r', linestyle='dashed', linewidth=1)\n",
    "    axs.flatten()[idx].axvline(cmd['sasa'][id], color='b', linestyle='dashed', linewidth=1)\n",
    "\n",
    "for i in range(6):\n",
    "    axs[5,i].set_xlabel('SASA [$nm^2$]')\n",
    "    axs[i,0].set_ylabel('No. of cheminfor-\\nmatics structures')\n",
    "\n",
    "axs[5,5].axis('off')\n",
    "\n",
    "# save the figure\n",
    "fig.suptitle(f\"Comparison of Solvent Accessible Surface Area (SASA) for {confgen} {mode}\")\n",
    "fig.legend(loc=4)\n",
    "fig.tight_layout()\n",
    "fig.savefig(snakemake.output.plot_sasa, dpi=600)"
   ]
  },
  {
   "cell_type": "code",
   "execution_count": 5,
   "id": "060b73e4",
   "metadata": {},
   "outputs": [],
   "source": [
    "import matplotlib.pyplot as plt\n",
    "import numpy as np\n",
    "\n",
    "# make subplots for each id\n",
    "fig, axs = plt.subplots(6, 6, figsize=(10, 10))\n",
    "\n",
    "# iterative over sasa dict\n",
    "for idx, (id, ps) in enumerate(sorted(psa.items())):\n",
    "    axs.flatten()[idx] = axs.flatten()[idx].hist(ps, bins=10)\n",
    "    axs.flatten()[idx].set_title(id)\n",
    "    # plot the gamd and cmd values as a vertical line\n",
    "    if idx==0:\n",
    "        axs.flatten()[idx].axvline(gamd['psa'][id], color='r', linestyle='dashed', linewidth=1, label='GaMD')\n",
    "        axs.flatten()[idx].axvline(cmd['psa'][id], color='b', linestyle='dashed', linewidth=1, label='cMD')\n",
    "    else:\n",
    "        axs.flatten()[idx].axvline(gamd['psa'][id], color='r', linestyle='dashed', linewidth=1)\n",
    "    axs.flatten()[idx].axvline(cmd['psa'][id], color='b', linestyle='dashed', linewidth=1)\n",
    "\n",
    "for i in range(6):\n",
    "    axs[5,i].set_xlabel('PSA [$nm^2$]')\n",
    "    axs[i,0].set_ylabel('No. of cheminfor-\\nmatics structures')\n",
    "\n",
    "axs[5,5].axis('off')\n",
    "\n",
    "# save the figure\n",
    "fig.suptitle(f\"Comparison of Polar Surface Area (PSA) for {confgen} {mode}\")\n",
    "fig.legend(loc=4)\n",
    "fig.tight_layout()\n",
    "fig.savefig(snakemake.output.plot_psa, dpi=600)"
   ]
  },
  {
   "cell_type": "code",
   "execution_count": null,
   "id": "1b472a58",
   "metadata": {},
   "outputs": [],
   "source": []
  }
 ],
 "metadata": {
  "kernelspec": {
   "display_name": "Python 3 (ipykernel)",
   "language": "python",
   "name": "python3"
  },
  "language_info": {
   "codemirror_mode": {
    "name": "ipython",
    "version": 3
   },
   "file_extension": ".py",
   "mimetype": "text/x-python",
   "name": "python",
   "nbconvert_exporter": "python",
   "pygments_lexer": "ipython3",
   "version": "3.7.12"
  }
 },
 "nbformat": 4,
 "nbformat_minor": 5
}
