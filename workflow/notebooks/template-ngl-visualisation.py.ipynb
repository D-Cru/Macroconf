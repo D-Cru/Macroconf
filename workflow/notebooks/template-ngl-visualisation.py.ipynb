{
 "cells": [
  {
   "cell_type": "code",
   "execution_count": 2,
   "id": "c3a4ff48",
   "metadata": {},
   "outputs": [],
   "source": [
    "# IMPORTANT: Just press run all above. then quit."
   ]
  },
  {
   "cell_type": "code",
   "execution_count": 3,
   "id": "6240cedf",
   "metadata": {},
   "outputs": [],
   "source": [
    "# !jupyter-nbextension enable nglview --py --sys-prefix"
   ]
  },
  {
   "cell_type": "code",
   "execution_count": 4,
   "id": "adjacent-subsection",
   "metadata": {},
   "outputs": [],
   "source": [
    "# analysis notebook\n",
    "# methods are cMD, aMD, GaMD.\n",
    "# in snakemake rule, method needs to be passed as a parameter. s.t. it is accessible via: snakemake.params.method\n",
    "\n",
    "import matplotlib\n",
    "\n",
    "#%matplotlib inline\n",
    "# matplotlib.use(\"Agg\")\n",
    "\n",
    "import mdtraj as md\n",
    "import numpy as np\n",
    "import matplotlib.pyplot as plt\n",
    "import scipy.cluster.hierarchy\n",
    "from scipy.spatial.distance import squareform\n",
    "import pandas as pd\n",
    "\n",
    "sys.path.append(os.getcwd())\n",
    "import src\n",
    "from src.noe import compute_NOE_mdtraj, plot_NOE\n",
    "from src.pca import make_PCA, plot_PCA, getDih\n",
    "from src.pyreweight import reweight\n",
    "from src.analyse import getOmega\n",
    "from src.utils import json_load\n",
    "from sklearn.decomposition import PCA\n",
    "\n",
    "from sklearn.manifold import TSNE\n",
    "from sklearn.cluster import DBSCAN\n",
    "from sklearn.neighbors import NearestNeighbors\n",
    "\n",
    "import nglview as nv"
   ]
  },
  {
   "cell_type": "code",
   "execution_count": 5,
   "id": "critical-membrane",
   "metadata": {},
   "outputs": [],
   "source": [
    "compound_index = int(snakemake.wildcards.compound_dir)\n",
    "compound_index"
   ]
  },
  {
   "cell_type": "code",
   "execution_count": 6,
   "id": "recognized-cattle",
   "metadata": {},
   "outputs": [],
   "source": [
    "# Load cluster data\n",
    "clus_g = md.load(snakemake.input.clusters_0)\n",
    "clus_a = md.load(snakemake.input.clusters_1)\n",
    "clus_c = md.load(snakemake.input.clusters_2)\n",
    "\n",
    "clus_a.superpose(clus_g)\n",
    "clus_c.superpose(clus_g)\n",
    "\n",
    "\n",
    "clusters = [clus_g, clus_a, clus_c]"
   ]
  },
  {
   "cell_type": "code",
   "execution_count": 7,
   "id": "4e2eb9d1",
   "metadata": {},
   "outputs": [],
   "source": [
    "# Load NOE data\n",
    "NOE = src.noe.read_NOE(snakemake.input.noe)\n",
    "NOE_number = 0\n",
    "\n",
    "a1 = eval(NOE[\"Atom 1\"][NOE_number])\n",
    "a2 = eval(NOE[\"Atom 2\"][NOE_number])\n",
    "\n",
    "NOE_pairs = []\n",
    "\n",
    "for a in a1:\n",
    "    for b in a2:\n",
    "        NOE_pairs.append([a, b])"
   ]
  },
  {
   "cell_type": "code",
   "execution_count": 8,
   "id": "a01ae370",
   "metadata": {},
   "outputs": [],
   "source": [
    "%gui asyncio"
   ]
  },
  {
   "cell_type": "code",
   "execution_count": 9,
   "id": "31ff95c6",
   "metadata": {},
   "outputs": [],
   "source": [
    "shell = get_ipython()\n",
    "kernel = shell.kernel\n",
    "\n",
    "captured_events = []\n",
    "\n",
    "\n",
    "def execute_request(stream, ident, parent):\n",
    "    \"Overwrite function to store the stream / ident /parent instead of calling kernel.execute_request\"\n",
    "    captured_events.append((stream, ident, parent))\n",
    "\n",
    "\n",
    "def comm_msg(stream, ident, parent):\n",
    "    \"Overwrite function to add a logging (print) msg when comm_msg events come through\"\n",
    "    # print(\"in comm_msg\")\n",
    "    return kernel.comm_manager.comm_msg(stream, ident, parent)\n",
    "\n",
    "\n",
    "def start_capturing():\n",
    "    \"Overwrite the kernel shell handlers\"\n",
    "    kernel.shell_handlers[\"execute_request\"] = execute_request\n",
    "    kernel.shell_handlers[\"comm_msg\"] = comm_msg\n",
    "\n",
    "\n",
    "def stop_capturing():\n",
    "    \"rever the kernel shell handler functions to their defaults\"\n",
    "    kernel.shell_handlers[\"execute_request\"] = kernel.execute_request\n",
    "    kernel.shell_handlers[\"comm_msg\"] = kernel.comm_manager.comm_msg"
   ]
  },
  {
   "cell_type": "code",
   "execution_count": 10,
   "id": "acd1efa9",
   "metadata": {
    "scrolled": false
   },
   "outputs": [],
   "source": [
    "import nglview as nv\n",
    "from IPython.display import display\n",
    "import time\n",
    "\n",
    "data = []\n",
    "views = []\n",
    "view_frames = []\n",
    "# def g():\n",
    "for i in range(len(clusters)):\n",
    "    v = nv.show_mdtraj(clusters[i])\n",
    "    # v.clear()\n",
    "    v.add_ball_and_stick()\n",
    "    v.add_representation(\n",
    "        \"distance\", atom_pair=NOE_pairs, label_color=\"black\", color=\"red\"\n",
    "    )\n",
    "    # add_distance([0,5])\n",
    "    def func():\n",
    "        image = v.render_image(trim=True)\n",
    "        while not image.value:\n",
    "            time.sleep(0.2)\n",
    "        data.append(image.value)\n",
    "        # print(len(data))\n",
    "        # v.close()\n",
    "\n",
    "    def on_display(self):\n",
    "        # func()\n",
    "        v._run_on_another_thread(func)\n",
    "        # func()\n",
    "        time.sleep(1)  # Might need to increase the timeout here.\n",
    "\n",
    "    v.on_displayed(on_display)\n",
    "    display(v)\n",
    "    views.append(v)\n",
    "    view_frames.append(clusters[i].n_frames)\n",
    "    # v._run_on_another_thread(display(v))\n",
    "    # await asyncio.sleep(2)"
   ]
  },
  {
   "cell_type": "code",
   "execution_count": 12,
   "id": "18288ca5",
   "metadata": {},
   "outputs": [],
   "source": [
    "start_capturing()\n",
    "shell.execution_count += 1\n",
    "while True:\n",
    "    # While this loop is running, all further 'execute_request' messages will get captured\n",
    "    if len(data) == len(clusters):\n",
    "        print(\"widget value changed: breaking from loop\")\n",
    "        break  # user changed the value\n",
    "    kernel.do_one_iteration()  # same thing an eventloop like %gui asyncio would do\n",
    "    time.sleep(0.01)\n",
    "print(len(data))\n",
    "stop_capturing()\n",
    "\n",
    "# ### Once the widget value has changed, 'replay' the captured execute_request messages\n",
    "# ### Unfortunately the output shows up in this cell, not in the cells where the\n",
    "# ### original input code is at...\n",
    "# for stream, ident, parent in captured_events:\n",
    "#     kernel.execute_request(stream, ident, parent)\n",
    "sys.stdout.flush()\n",
    "sys.stderr.flush()\n",
    "for stream, ident, parent in captured_events:\n",
    "    kernel.set_parent(ident, parent)\n",
    "    kernel.execute_request(stream, ident, parent)"
   ]
  },
  {
   "cell_type": "code",
   "execution_count": 13,
   "id": "7ceb0828",
   "metadata": {},
   "outputs": [],
   "source": [
    "# # Use this to sync views..\n",
    "# def on_change(change):\n",
    "#     views[1]._set_camera_orientation(change['new'])\n",
    "#     views[2]._set_camera_orientation(change['new'])\n",
    "#     #views[3]._set_camera_orientation(change['new'])\n",
    "\n",
    "# views[0].observe(on_change, ['_camera_orientation'])"
   ]
  },
  {
   "cell_type": "code",
   "execution_count": 14,
   "id": "cb78bdf5",
   "metadata": {},
   "outputs": [],
   "source": [
    "nv.write_html(snakemake.output.visual, views, frame_range=(4, 4, 1))\n",
    "print(\"Done\")"
   ]
  },
  {
   "cell_type": "code",
   "execution_count": 15,
   "id": "06475400",
   "metadata": {},
   "outputs": [],
   "source": [
    "NOE_pairs"
   ]
  },
  {
   "cell_type": "code",
   "execution_count": null,
   "id": "fcbf1c1b",
   "metadata": {},
   "outputs": [],
   "source": []
  },
  {
   "cell_type": "code",
   "execution_count": null,
   "id": "31d56b61",
   "metadata": {},
   "outputs": [],
   "source": []
  }
 ],
 "metadata": {
  "kernelspec": {
   "display_name": "Python 3",
   "language": "python",
   "name": "python3"
  },
  "language_info": {
   "codemirror_mode": {
    "name": "ipython",
    "version": 3
   },
   "file_extension": ".py",
   "mimetype": "text/x-python",
   "name": "python",
   "nbconvert_exporter": "python",
   "pygments_lexer": "ipython3",
   "version": "3.8.8"
  }
 },
 "nbformat": 4,
 "nbformat_minor": 5
}
