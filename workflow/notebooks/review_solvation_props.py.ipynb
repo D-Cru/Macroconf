{
 "cells": [
  {
   "cell_type": "code",
   "execution_count": 2,
   "id": "c5d1bda9",
   "metadata": {},
   "outputs": [],
   "source": [
    "from src.utils import json_load, json_dump\n",
    "# start coding here\n",
    "sasa = {}\n",
    "psa = {}\n",
    "for f in snakemake.input:\n",
    "    id = f.split('/')[4]\n",
    "    compound_data = json_load(f)\n",
    "    sasa[id] = compound_data['minimum_sasa']\n",
    "    psa[id] = compound_data['minimum_psa']"
   ]
  },
  {
   "cell_type": "code",
   "execution_count": 6,
   "id": "6af2f13a",
   "metadata": {},
   "outputs": [],
   "source": [
    "import matplotlib.pyplot as plt\n",
    "plt.hist(sasa.values())\n",
    "plt.xlabel('SASA [nm^2]')\n",
    "plt.ylabel('No. of compounds')\n",
    "plt.savefig(snakemake.output.plot, dpi=600)\n",
    "plt.show()"
   ]
  },
  {
   "cell_type": "code",
   "execution_count": 7,
   "id": "e80a3a2f",
   "metadata": {},
   "outputs": [],
   "source": [
    "import matplotlib.pyplot as plt\n",
    "plt.hist(psa.values())\n",
    "plt.xlabel('PSA [nm^2]')\n",
    "plt.ylabel('No. of simulations')\n",
    "plt.savefig(snakemake.output.plot, dpi=600)\n",
    "plt.show()"
   ]
  },
  {
   "cell_type": "code",
   "execution_count": 10,
   "id": "3c05164e",
   "metadata": {},
   "outputs": [],
   "source": [
    "results = {'sasa': sasa, 'psa': psa}\n",
    "json_dump(snakemake.output.data, results)"
   ]
  },
  {
   "cell_type": "code",
   "execution_count": null,
   "id": "1b472a58",
   "metadata": {},
   "outputs": [],
   "source": []
  }
 ],
 "metadata": {
  "kernelspec": {
   "display_name": "Python 3 (ipykernel)",
   "language": "python",
   "name": "python3"
  },
  "language_info": {
   "codemirror_mode": {
    "name": "ipython",
    "version": 3
   },
   "file_extension": ".py",
   "mimetype": "text/x-python",
   "name": "python",
   "nbconvert_exporter": "python",
   "pygments_lexer": "ipython3",
   "version": "3.7.12"
  }
 },
 "nbformat": 4,
 "nbformat_minor": 5
}
