{
 "cells": [
  {
   "cell_type": "code",
   "execution_count": 2,
   "id": "nutritional-picnic",
   "metadata": {},
   "outputs": [],
   "source": [
    "import matplotlib\n",
    "\n",
    "%matplotlib inline\n",
    "# matplotlib.use(\"Agg\")\n",
    "\n",
    "import numpy as np\n",
    "import matplotlib.pyplot as plt\n",
    "import pandas as pd"
   ]
  },
  {
   "cell_type": "code",
   "execution_count": 3,
   "id": "electronic-director",
   "metadata": {},
   "outputs": [],
   "source": [
    "compound_index = int(snakemake.wildcards.compound_dir)"
   ]
  },
  {
   "cell_type": "markdown",
   "id": "unnecessary-motor",
   "metadata": {},
   "source": [
    "## Look at energy minimization 3 (macrocycle and solvent)"
   ]
  },
  {
   "cell_type": "code",
   "execution_count": 4,
   "id": "palestinian-christopher",
   "metadata": {},
   "outputs": [],
   "source": [
    "em_time = np.loadtxt(snakemake.input.em_epot, comments=[\"#\", \"@\"])[:, 0]\n",
    "em_epot = np.loadtxt(snakemake.input.em_epot, comments=[\"#\", \"@\"])[:, 1]"
   ]
  },
  {
   "cell_type": "code",
   "execution_count": 9,
   "id": "bronze-watershed",
   "metadata": {},
   "outputs": [],
   "source": [
    "fig, ax = plt.subplots()\n",
    "ax.plot(em_time, em_epot)\n",
    "ax.set_title(\n",
    "    f\"C.{compound_index}. Energy minimization em_3. Potential Energy over minimization steps\"\n",
    ")\n",
    "ax.set_xlabel(\"Steps\")\n",
    "ax.set_ylabel(\"Potential Energy [kcal/mol]\")\n",
    "fig.tight_layout()\n",
    "fig.savefig(snakemake.output.em_plot)\n",
    "plt.show()"
   ]
  },
  {
   "cell_type": "markdown",
   "id": "ideal-automation",
   "metadata": {},
   "source": [
    "## Look at equilibration 4-6"
   ]
  },
  {
   "cell_type": "markdown",
   "id": "available-wisconsin",
   "metadata": {},
   "source": [
    "### Equilibration 1 (heating) NVT."
   ]
  },
  {
   "cell_type": "code",
   "execution_count": 10,
   "id": "ranking-problem",
   "metadata": {},
   "outputs": [],
   "source": [
    "eq_1_time = np.loadtxt(snakemake.input.eq_1_epot, comments=[\"#\", \"@\"])[:, 0]\n",
    "eq_1_epot = np.loadtxt(snakemake.input.eq_1_epot, comments=[\"#\", \"@\"])[:, 1]\n",
    "eq_1_T = np.loadtxt(snakemake.input.eq_1_T, comments=[\"#\", \"@\"])[:, 1]\n",
    "eq_1_p = np.loadtxt(snakemake.input.eq_1_p, comments=[\"#\", \"@\"])[:, 1]\n",
    "# rho not available..."
   ]
  },
  {
   "cell_type": "code",
   "execution_count": 11,
   "id": "marked-qualification",
   "metadata": {},
   "outputs": [],
   "source": [
    "eq_1_df = pd.DataFrame(\n",
    "    {\"Potential Energy\": eq_1_epot, \"Temperature\": eq_1_T, \"Pressure\": eq_1_p}\n",
    ")\n",
    "eq_1_df.describe()"
   ]
  },
  {
   "cell_type": "code",
   "execution_count": 12,
   "id": "advanced-alliance",
   "metadata": {},
   "outputs": [],
   "source": [
    "fig, (ax1, ax2, ax3) = plt.subplots(3, 1, sharex=True)\n",
    "fig.suptitle(f\"C.{compound_index}. Equilibration 1, Heating (0-300 K) NVT\")\n",
    "fig.set_size_inches(7, 5)\n",
    "fig.subplots_adjust(hspace=0.1)\n",
    "ax1.plot(eq_1_time, eq_1_epot, color=\"blue\")\n",
    "ax1.set_ylabel(\"Potential Energy\\n[kcal/mol]\")\n",
    "ax2.plot(eq_1_time, eq_1_T, color=\"orange\")\n",
    "ax2.set_ylabel(\"Temperature\\n[K]\")\n",
    "ax3.plot(eq_1_time, eq_1_p, color=\"grey\")\n",
    "ax3.set_ylabel(\"Pressure\\n[bar]\")\n",
    "ax3.set_xlabel(\"Time [ns]\")\n",
    "fig.tight_layout()\n",
    "fig.savefig(snakemake.output.eq_1_plot)\n",
    "plt.show()"
   ]
  },
  {
   "cell_type": "markdown",
   "id": "sufficient-engineering",
   "metadata": {},
   "source": [
    "### Equilibration 2 (relaxing) NPT. macrocycle heavy atoms constraint."
   ]
  },
  {
   "cell_type": "code",
   "execution_count": 13,
   "id": "signed-elizabeth",
   "metadata": {},
   "outputs": [],
   "source": [
    "eq_2_time = np.loadtxt(snakemake.input.eq_2_epot, comments=[\"#\", \"@\"])[:, 0]\n",
    "eq_2_epot = np.loadtxt(snakemake.input.eq_2_epot, comments=[\"#\", \"@\"])[:, 1]\n",
    "eq_2_T = np.loadtxt(snakemake.input.eq_2_T, comments=[\"#\", \"@\"])[:, 1]\n",
    "eq_2_p = np.loadtxt(snakemake.input.eq_2_p, comments=[\"#\", \"@\"])[:, 1]\n",
    "eq_2_rho = np.loadtxt(snakemake.input.eq_2_rho, comments=[\"#\", \"@\"])[:, 1]"
   ]
  },
  {
   "cell_type": "code",
   "execution_count": 14,
   "id": "continued-senator",
   "metadata": {},
   "outputs": [],
   "source": [
    "eq_2_df = pd.DataFrame(\n",
    "    {\n",
    "        \"Potential Energy\": eq_2_epot,\n",
    "        \"Temperature\": eq_2_T,\n",
    "        \"Pressure\": eq_2_p,\n",
    "        \"Density\": eq_2_rho,\n",
    "    }\n",
    ")\n",
    "eq_2_df.describe()"
   ]
  },
  {
   "cell_type": "code",
   "execution_count": 15,
   "id": "parliamentary-macro",
   "metadata": {},
   "outputs": [],
   "source": [
    "fig, (ax1, ax2, ax3, ax4) = plt.subplots(4, 1, sharex=True)\n",
    "fig.suptitle(\n",
    "    f\"C.{compound_index}. Equilibration 2, Relax System NPT (heavy atoms restraint)\"\n",
    ")\n",
    "fig.set_size_inches(7, 5)\n",
    "fig.subplots_adjust(hspace=0.1)\n",
    "ax1.plot(eq_2_time, eq_2_epot, color=\"blue\")\n",
    "ax1.set_ylabel(\"Potential Energy\\n[kcal/mol]\")\n",
    "ax2.plot(eq_2_time, eq_2_T, color=\"orange\")\n",
    "ax2.set_ylabel(\"Temperature\\n[K]\")\n",
    "ax3.plot(eq_2_time, eq_2_p, color=\"grey\")\n",
    "ax3.set_ylabel(\"Pressure\\n[bar]\")\n",
    "ax4.plot(eq_2_time, eq_2_rho, color=\"black\")\n",
    "ax4.set_ylabel(\"Density\\n[kg/m^3]\")\n",
    "ax4.set_xlabel(\"Time [ns]\")\n",
    "fig.tight_layout()\n",
    "fig.savefig(snakemake.output.eq_2_plot)\n",
    "plt.show()"
   ]
  },
  {
   "cell_type": "markdown",
   "id": "boolean-wilderness",
   "metadata": {},
   "source": [
    "### Equilibration 3 (relaxing) NPT. No constraints"
   ]
  },
  {
   "cell_type": "code",
   "execution_count": 16,
   "id": "mounted-accounting",
   "metadata": {},
   "outputs": [],
   "source": [
    "# eq. 3 (NVT, relax system)\n",
    "eq_3_time = np.loadtxt(snakemake.input.eq_3_epot, comments=[\"#\", \"@\"])[:, 0]\n",
    "eq_3_epot = np.loadtxt(snakemake.input.eq_3_epot, comments=[\"#\", \"@\"])[:, 1]\n",
    "eq_3_T = np.loadtxt(snakemake.input.eq_3_T, comments=[\"#\", \"@\"])[:, 1]\n",
    "eq_3_p = np.loadtxt(snakemake.input.eq_3_p, comments=[\"#\", \"@\"])[:, 1]\n",
    "eq_3_rho = np.loadtxt(snakemake.input.eq_3_rho, comments=[\"#\", \"@\"])[:, 1]"
   ]
  },
  {
   "cell_type": "code",
   "execution_count": 17,
   "id": "laden-absolute",
   "metadata": {},
   "outputs": [],
   "source": [
    "eq_3_df = pd.DataFrame(\n",
    "    {\n",
    "        \"Potential Energy\": eq_3_epot,\n",
    "        \"Temperature\": eq_3_T,\n",
    "        \"Pressure\": eq_3_p,\n",
    "        \"Density\": eq_3_rho,\n",
    "    }\n",
    ")\n",
    "eq_3_df.describe()"
   ]
  },
  {
   "cell_type": "code",
   "execution_count": 18,
   "id": "pointed-distribution",
   "metadata": {},
   "outputs": [],
   "source": [
    "fig, (ax1, ax2, ax3, ax4) = plt.subplots(4, 1, sharex=True)\n",
    "fig.suptitle(\n",
    "    f\"C.{compound_index}. Equilibration 3, Relax System NPT (no restraints)\"\n",
    ")\n",
    "fig.set_size_inches(7, 5)\n",
    "fig.subplots_adjust(hspace=0.1)\n",
    "ax1.plot(eq_3_time, eq_3_epot, color=\"blue\")\n",
    "ax1.set_ylabel(\"Potential Energy\\n[kcal/mol]\")\n",
    "ax2.plot(eq_3_time, eq_3_T, color=\"orange\")\n",
    "ax2.set_ylabel(\"Temperature\\n [K]\")\n",
    "ax3.plot(eq_3_time, eq_3_p, color=\"grey\")\n",
    "ax3.set_ylabel(\"Pressure\\n [bar]\")\n",
    "ax4.plot(eq_3_time, eq_3_rho, color=\"black\")\n",
    "ax4.set_ylabel(\"Density\\n [kg/m^3]\")\n",
    "ax4.set_xlabel(\"Time [ns]\")\n",
    "fig.tight_layout()\n",
    "fig.savefig(snakemake.output.eq_3_plot)\n",
    "plt.show()"
   ]
  },
  {
   "cell_type": "code",
   "execution_count": 19,
   "id": "distinct-option",
   "metadata": {},
   "outputs": [],
   "source": [
    "avg = 100\n",
    "cut = int(avg / 2)\n",
    "\n",
    "fig, (ax1, ax2, ax3, ax4) = plt.subplots(4, 1, sharex=True)\n",
    "fig.suptitle(\n",
    "    f\"C.{compound_index}. Equilibration 3, Relax System NPT (no restraints)\"\n",
    ")\n",
    "fig.set_size_inches(7, 5)\n",
    "fig.subplots_adjust(hspace=0.1)\n",
    "ax1.plot(eq_3_time, eq_3_epot, color=\"blue\")\n",
    "ax1.plot(\n",
    "    eq_3_time[cut:-cut],\n",
    "    np.convolve(eq_3_epot, np.ones(avg) / avg, mode=\"same\")[cut:-cut],\n",
    "    color=\"red\",\n",
    ")\n",
    "ax1.set_ylabel(\"Potential Energy\\n[kcal/mol]\")\n",
    "\n",
    "ax2.plot(eq_3_time, eq_3_T, color=\"orange\")\n",
    "ax2.plot(\n",
    "    eq_3_time[cut:-cut],\n",
    "    np.convolve(eq_3_T, np.ones(avg) / avg, mode=\"same\")[cut:-cut],\n",
    "    color=\"red\",\n",
    ")\n",
    "ax2.set_ylabel(\"Temperature\\n [K]\")\n",
    "\n",
    "ax3.plot(eq_3_time, eq_3_p, color=\"grey\")\n",
    "ax3.plot(\n",
    "    eq_3_time[cut:-cut],\n",
    "    np.convolve(eq_3_p, np.ones(avg) / avg, mode=\"same\")[cut:-cut],\n",
    "    color=\"red\",\n",
    ")\n",
    "ax3.set_ylabel(\"Pressure\\n [bar]\")\n",
    "\n",
    "ax4.plot(eq_3_time, eq_3_rho, color=\"black\")\n",
    "ax4.plot(\n",
    "    eq_3_time[cut:-cut],\n",
    "    np.convolve(eq_3_rho, np.ones(avg) / avg, mode=\"same\")[cut:-cut],\n",
    "    color=\"red\",\n",
    ")\n",
    "ax4.set_ylabel(\"Density\\n [kg/m^3]\")\n",
    "ax4.set_xlabel(\"Time [ns]\")\n",
    "\n",
    "fig.tight_layout()\n",
    "fig.savefig(snakemake.output.eq_3_plot)\n",
    "plt.show()"
   ]
  },
  {
   "cell_type": "code",
   "execution_count": null,
   "id": "powerful-ceramic",
   "metadata": {},
   "outputs": [],
   "source": []
  }
 ],
 "metadata": {
  "kernelspec": {
   "display_name": "Python 3",
   "language": "python",
   "name": "python3"
  },
  "language_info": {
   "codemirror_mode": {
    "name": "ipython",
    "version": 3
   },
   "file_extension": ".py",
   "mimetype": "text/x-python",
   "name": "python",
   "nbconvert_exporter": "python",
   "pygments_lexer": "ipython3",
   "version": "3.8.8"
  }
 },
 "nbformat": 4,
 "nbformat_minor": 5
}
