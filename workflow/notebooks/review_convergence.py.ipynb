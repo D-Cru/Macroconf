{
 "cells": [
  {
   "cell_type": "code",
   "execution_count": 2,
   "id": "c5d1bda9",
   "metadata": {},
   "outputs": [],
   "source": [
    "from src.utils import json_load\n",
    "# start coding here\n",
    "conv_block = {}\n",
    "conv_time = {}\n",
    "for f in snakemake.input:\n",
    "    id = f.split('/')[4]\n",
    "    compound_data = json_load(f)\n",
    "    conv_block[id] = compound_data['converged_block']\n",
    "    conv_time[id] = compound_data['converged_time']"
   ]
  },
  {
   "cell_type": "code",
   "execution_count": 3,
   "id": "6af2f13a",
   "metadata": {},
   "outputs": [],
   "source": [
    "import matplotlib.pyplot as plt\n",
    "plt.hist(conv_time.values())\n",
    "plt.xlabel('Convergence time [ns]')\n",
    "plt.ylabel('No. of simulations')\n",
    "plt.savefig(snakemake.output.plot, dpi=600)\n",
    "plt.show()"
   ]
  },
  {
   "cell_type": "code",
   "execution_count": 19,
   "id": "1d07f2ed",
   "metadata": {},
   "outputs": [],
   "source": [
    "import pandas as pd\n",
    "df = pd.Series(conv_time, name='ConvTime')\n",
    "df.describe()"
   ]
  },
  {
   "cell_type": "code",
   "execution_count": null,
   "id": "3c05164e",
   "metadata": {},
   "outputs": [],
   "source": []
  }
 ],
 "metadata": {
  "kernelspec": {
   "display_name": "Python 3 (ipykernel)",
   "language": "python",
   "name": "python3"
  },
  "language_info": {
   "codemirror_mode": {
    "name": "ipython",
    "version": 3
   },
   "file_extension": ".py",
   "mimetype": "text/x-python",
   "name": "python",
   "nbconvert_exporter": "python",
   "pygments_lexer": "ipython3",
   "version": "3.7.12"
  }
 },
 "nbformat": 4,
 "nbformat_minor": 5
}
