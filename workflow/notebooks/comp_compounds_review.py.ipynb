{
 "cells": [
  {
   "cell_type": "code",
   "execution_count": 2,
   "id": "c57259de",
   "metadata": {},
   "outputs": [],
   "source": [
    "import src.utils\n",
    "import pandas as pd\n",
    "import numpy as np\n",
    "import matplotlib.pyplot as plt\n",
    "import seaborn as sns"
   ]
  },
  {
   "cell_type": "code",
   "execution_count": 3,
   "id": "0ba5eeea",
   "metadata": {},
   "outputs": [],
   "source": [
    "stats_i = src.utils.json_load(snakemake.input[0])\n",
    "_, v = next(iter(stats_i.items()))\n",
    "v = pd.DataFrame.from_dict(v)\n",
    "v = v.columns.to_list()\n",
    "remover = [\"stat\", \"up\", \"low\"]\n",
    "[v.remove(r) for r in remover]\n",
    "# Make temp storage\n",
    "percentage_fulfilled = {}\n",
    "rmsd = {}\n",
    "mae = {}\n",
    "rmsd_stepwise = {}\n",
    "# for different bundles\n",
    "for i in v:\n",
    "    percentage_fulfilled[i] = {}\n",
    "    rmsd[i] = {}\n",
    "    mae[i] = {}\n",
    "    rmsd_stepwise[i] = {}\n",
    "\n",
    "for i in snakemake.input:\n",
    "    for j in v:\n",
    "        stats = src.utils.json_load(i)\n",
    "        hash = i[-31:-15]\n",
    "        compound_id = i.split(\"/\")[4]\n",
    "\n",
    "        for k in stats.keys():\n",
    "            stats_df = pd.DataFrame.from_dict(stats[k])\n",
    "            percentage_fulfilled[j][f\"{hash}-{compound_id}_{k}\"] = stats_df[\n",
    "                stats_df[\"stat\"] == \"percentage_fulfilled\"\n",
    "            ][j].values.tolist()[0]\n",
    "            rmsd[j][f\"{hash}-{compound_id}_{k}\"] = stats_df[\n",
    "                stats_df[\"stat\"] == \"RMSD\"\n",
    "            ][j].values.tolist()[0]\n",
    "            mae[j][f\"{hash}-{compound_id}_{k}\"] = stats_df[\n",
    "                stats_df[\"stat\"] == \"MAE\"\n",
    "            ][j].values.tolist()[0]\n",
    "            rmsd_stepwise[j][f\"{hash}-{compound_id}_{k}\"] = stats_df[\n",
    "                stats_df[\"stat\"] == \"RMSD_step\"\n",
    "            ][j].values.tolist()[0]\n",
    "            \n",
    "\n",
    "\n",
    "######\n",
    "#         multiple = False\n",
    "#         if \"cis\" in stats or \"trans\" in stats:\n",
    "#             multiple = True\n",
    "#         if multiple:\n",
    "#             stats_cis = stats.cis\n",
    "#             stats_trans = stats.trans\n",
    "#             stats_cis = pd.DataFrame.from_dict(stats_cis)\n",
    "#             stats_trans = pd.DataFrame.from_dict(stats_trans)\n",
    "#         else:\n",
    "#             test_NOE = pd.read_json(i)\n",
    "\n",
    "#         if multiple:\n",
    "#             if \"stat\" in stats_cis:\n",
    "#                 percentage_fulfilled[f\"{hash}-{compound_id}_cis\"] = stats_cis[stats_cis['stat'] == 'percentage_fulfilled'].value.values.tolist()[0]\n",
    "#                 rmsd[f\"{hash}-{compound_id}_cis\"] = stats_cis[stats_cis['stat'] == 'RMSD'].value.values.tolist()[0]\n",
    "#                 mae[f\"{hash}-{compound_id}_cis\"] = stats_cis[stats_cis['stat'] == 'MAE'].value.values.tolist()[0]\n",
    "#             if \"stat\" in stats_trans:\n",
    "#                 percentage_fulfilled[f\"{hash}-{compound_id}_trans\"] = stats_trans[stats_trans['stat'] == 'percentage_fulfilled'].value.values.tolist()[0]\n",
    "#                 rmsd[f\"{hash}-{compound_id}_trans\"] = stats_trans[stats_trans['stat'] == 'RMSD'].value.values.tolist()[0]\n",
    "#                 mae[f\"{hash}-{compound_id}_trans\"] = stats_trans[stats_trans['stat'] == 'MAE'].value.values.tolist()[0]\n",
    "#         else:\n",
    "#             percentage_fulfilled[f\"{hash}-{compound_id}\"] = test_NOE[test_NOE['stat'] == 'percentage_fulfilled'].value.values.tolist()[0]\n",
    "#             rmsd[f\"{hash}-{compound_id}\"] = test_NOE[test_NOE['stat'] == 'RMSD'].value.values.tolist()[0]\n",
    "#             mae[f\"{hash}-{compound_id}\"] = test_NOE[test_NOE['stat'] == 'MAE'].value.values.tolist()[0]"
   ]
  },
  {
   "cell_type": "code",
   "execution_count": 6,
   "id": "fcaeea49",
   "metadata": {},
   "outputs": [],
   "source": [
    "stats_i"
   ]
  },
  {
   "cell_type": "code",
   "execution_count": 5,
   "id": "7c2709a4",
   "metadata": {},
   "outputs": [],
   "source": [
    "plt.scatter(\n",
    "    percentage_fulfilled[\"value\"].values(),\n",
    "    percentage_fulfilled[\"value\"].keys(),\n",
    ")\n",
    "plt.title(f\"{snakemake.wildcards.method}: {snakemake.wildcards.simtime} ns\")\n",
    "plt.savefig(snakemake.output.plot)"
   ]
  },
  {
   "cell_type": "code",
   "execution_count": 6,
   "id": "46a8f316",
   "metadata": {},
   "outputs": [],
   "source": [
    "output = {\n",
    "    \"RMSD\": rmsd,\n",
    "    \"MAE\": mae,\n",
    "    \"percentage_fulfilled\": percentage_fulfilled,\n",
    "    \"RMSD_stepwise\": rmsd_stepwise,\n",
    "}"
   ]
  },
  {
   "cell_type": "code",
   "execution_count": 7,
   "id": "e0986fef",
   "metadata": {},
   "outputs": [],
   "source": [
    "output"
   ]
  },
  {
   "cell_type": "code",
   "execution_count": 8,
   "id": "8827711e",
   "metadata": {},
   "outputs": [],
   "source": [
    "src.utils.json_dump(snakemake.output.data, output)"
   ]
  },
  {
   "cell_type": "code",
   "execution_count": null,
   "id": "b2b1776c",
   "metadata": {},
   "outputs": [],
   "source": []
  }
 ],
 "metadata": {
  "interpreter": {
   "hash": "e885641f5d15292e734dfd87be8b96e25b1f2f75cfe4f2af2fabd4ab738eeb5e"
  },
  "kernelspec": {
   "display_name": "Python 3 (ipykernel)",
   "language": "python",
   "name": "python3"
  },
  "language_info": {
   "codemirror_mode": {
    "name": "ipython",
    "version": 3
   },
   "file_extension": ".py",
   "mimetype": "text/x-python",
   "name": "python",
   "nbconvert_exporter": "python",
   "pygments_lexer": "ipython3",
   "version": "3.7.12"
  }
 },
 "nbformat": 4,
 "nbformat_minor": 5
}
