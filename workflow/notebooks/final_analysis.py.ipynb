{
 "cells": [
  {
   "cell_type": "code",
   "execution_count": 2,
   "id": "vocational-frederick",
   "metadata": {},
   "outputs": [],
   "source": [
    "# comparison notebook\n",
    "# in snakemake rule, method needs to be passed as a parameter. s.t. it is accessible via: snakemake.params.method\n",
    "\n",
    "import matplotlib\n",
    "\n",
    "#%matplotlib inline\n",
    "# matplotlib.use(\"Agg\")\n",
    "\n",
    "import mdtraj as md\n",
    "import numpy as np\n",
    "import matplotlib.pyplot as plt\n",
    "import scipy.cluster.hierarchy\n",
    "from scipy.spatial.distance import squareform\n",
    "import pandas as pd\n",
    "\n",
    "sys.path.append(os.getcwd())\n",
    "import src\n",
    "from src.noe import compute_NOE_mdtraj, plot_NOE\n",
    "from src.pca import make_PCA, plot_PCA, getDih\n",
    "from src.pyreweight import reweight\n",
    "from src.analyse import getOmega\n",
    "from src.utils import json_load\n",
    "from sklearn.decomposition import PCA\n",
    "\n",
    "from sklearn.manifold import TSNE\n",
    "from sklearn.cluster import DBSCAN\n",
    "from sklearn.neighbors import NearestNeighbors\n",
    "\n",
    "import nglview as nv"
   ]
  },
  {
   "cell_type": "code",
   "execution_count": 3,
   "id": "f6ad6648",
   "metadata": {},
   "outputs": [],
   "source": [
    "snakemake.input.NOE_input"
   ]
  },
  {
   "cell_type": "code",
   "execution_count": 4,
   "id": "1c94e7d8",
   "metadata": {},
   "outputs": [],
   "source": [
    "tolerance = 0.0\n",
    "NOEs = []\n",
    "for f, i in zip(\n",
    "    snakemake.input.NOE_input, range(len(snakemake.input.NOE_input))\n",
    "):\n",
    "    splitted = f.split(\"/\")\n",
    "    method = splitted[6]\n",
    "    compound = splitted[3]\n",
    "    NOE_df = src.noe.read_NOE(f)\n",
    "    NOE_item = {\"method\": method, \"compound\": int(compound)}\n",
    "    if type(NOE_df) is tuple:\n",
    "        a, b = NOE_df\n",
    "        a = a[a[\"md\"] > 0]\n",
    "        b = b[b[\"md\"] > 0]\n",
    "\n",
    "        a[\"within_bounds\"] = (a[\"md\"] >= a[\"lower bound\"] - tolerance) & (\n",
    "            a[\"md\"] <= a[\"upper bound\"] + tolerance\n",
    "        )\n",
    "        b[\"within_bounds\"] = (b[\"md\"] >= b[\"lower bound\"] - tolerance) & (\n",
    "            b[\"md\"] <= b[\"upper bound\"] + tolerance\n",
    "        )\n",
    "        NOE_df = a, b\n",
    "        NOE_item[\"in_bounds\"] = (a.within_bounds).sum() / len(a), (\n",
    "            b.within_bounds\n",
    "        ).sum() / len(b)\n",
    "        NOE_item[\"in_bounds\"] = np.mean(\n",
    "            [\n",
    "                (a.within_bounds).sum() / len(a),\n",
    "                (b.within_bounds).sum() / len(b),\n",
    "            ]\n",
    "        )\n",
    "    else:\n",
    "        NOE_df = NOE_df[NOE_df[\"md\"] > 0]\n",
    "        NOE_df[\"within_bounds\"] = (\n",
    "            NOE_df[\"md\"] >= NOE_df[\"lower bound\"] - tolerance\n",
    "        ) & (NOE_df[\"md\"] <= NOE_df[\"upper bound\"] + tolerance)\n",
    "        NOE_item[\"in_bounds\"] = (NOE_df[\"within_bounds\"]).sum() / len(NOE_df)\n",
    "    NOEs.append(NOE_item)"
   ]
  },
  {
   "cell_type": "code",
   "execution_count": 5,
   "id": "4bb4ec94",
   "metadata": {},
   "outputs": [],
   "source": [
    "df = pd.DataFrame(NOEs)"
   ]
  },
  {
   "cell_type": "code",
   "execution_count": 6,
   "id": "f0eb6340",
   "metadata": {},
   "outputs": [],
   "source": [
    "df.groupby(\"method\")[\"in_bounds\"].mean()"
   ]
  },
  {
   "cell_type": "code",
   "execution_count": 7,
   "id": "2ae14813",
   "metadata": {},
   "outputs": [],
   "source": [
    "df.groupby(\"method\")[\"in_bounds\"].std()"
   ]
  },
  {
   "cell_type": "code",
   "execution_count": 8,
   "id": "49475e79",
   "metadata": {},
   "outputs": [],
   "source": [
    "df"
   ]
  },
  {
   "cell_type": "code",
   "execution_count": 9,
   "id": "0de00b07",
   "metadata": {},
   "outputs": [],
   "source": [
    "df_method = df.pivot(index=\"compound\", columns=\"method\")[\"in_bounds\"]\n",
    "df_method"
   ]
  },
  {
   "cell_type": "code",
   "execution_count": 35,
   "id": "7b9f898e",
   "metadata": {},
   "outputs": [],
   "source": [
    "# fig, ax = plt.subplots()\n",
    "ax = df_method.plot.bar()\n",
    "plt.savefig(snakemake.output.NOE_plot[0])"
   ]
  },
  {
   "cell_type": "code",
   "execution_count": null,
   "id": "239d0b43",
   "metadata": {},
   "outputs": [],
   "source": []
  },
  {
   "cell_type": "code",
   "execution_count": null,
   "id": "f505253f",
   "metadata": {},
   "outputs": [],
   "source": []
  }
 ],
 "metadata": {
  "kernelspec": {
   "display_name": "Python 3",
   "language": "python",
   "name": "python3"
  },
  "language_info": {
   "codemirror_mode": {
    "name": "ipython",
    "version": 3
   },
   "file_extension": ".py",
   "mimetype": "text/x-python",
   "name": "python",
   "nbconvert_exporter": "python",
   "pygments_lexer": "ipython3",
   "version": "3.8.8"
  }
 },
 "nbformat": 4,
 "nbformat_minor": 5
}
