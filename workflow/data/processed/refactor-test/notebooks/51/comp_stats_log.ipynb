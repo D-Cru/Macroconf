{
 "cells": [
  {
   "cell_type": "code",
   "execution_count": 1,
   "id": "c2cbcf48",
   "metadata": {
    "execution": {
     "iopub.execute_input": "2022-10-17T15:05:38.837598Z",
     "iopub.status.busy": "2022-10-17T15:05:38.837099Z",
     "iopub.status.idle": "2022-10-17T15:05:38.893232Z",
     "shell.execute_reply": "2022-10-17T15:05:38.892494Z"
    },
    "tags": [
     "snakemake-job-properties"
    ]
   },
   "outputs": [],
   "source": [
    "\n",
    "######## snakemake preamble start (automatically inserted, do not edit) ########\n",
    "import sys; sys.path.extend(['/biggin/b147/univ4859/miniconda3/envs/snakemake/lib/python3.9/site-packages', '/biggin/b147/univ4859/research/03_macroconf/workflow/rules/../notebooks']); import pickle; snakemake = pickle.loads(b'\\x80\\x04\\x95\\x88\\x0f\\x00\\x00\\x00\\x00\\x00\\x00\\x8c\\x10snakemake.script\\x94\\x8c\\tSnakemake\\x94\\x93\\x94)\\x81\\x94}\\x94(\\x8c\\x05input\\x94\\x8c\\x0csnakemake.io\\x94\\x8c\\nInputFiles\\x94\\x93\\x94)\\x81\\x94(\\x8cWdata/processed/refactor-test/results/51/H2O/GaMD/2000/0/2f74eee1c02ff2a9_noe_stats.json\\x94\\x8cVdata/processed/refactor-test/results/51/H2O/cMD/2000/0/ff5c2026bb8cfce8_noe_stats.json\\x94\\x8cadata/processed/refactor-test/results/51/DMSO_GAFF_RESP/cMD/2000/0/26e5e96f1ec47099_noe_stats.json\\x94\\x8cbdata/processed/refactor-test/results/51/DMSO_GAFF_RESP/GaMD/2000/0/5c9adcde9c03b8b1_noe_stats.json\\x94e}\\x94(\\x8c\\x06_names\\x94}\\x94\\x8c\\x05stats\\x94K\\x00K\\x04\\x86\\x94s\\x8c\\x12_allowed_overrides\\x94]\\x94(\\x8c\\x05index\\x94\\x8c\\x04sort\\x94eh\\x15\\x8c\\tfunctools\\x94\\x8c\\x07partial\\x94\\x93\\x94h\\x06\\x8c\\x19Namedlist._used_attribute\\x94\\x93\\x94\\x85\\x94R\\x94(h\\x1b)}\\x94\\x8c\\x05_name\\x94h\\x15sNt\\x94bh\\x16h\\x19h\\x1b\\x85\\x94R\\x94(h\\x1b)}\\x94h\\x1fh\\x16sNt\\x94bh\\x11h\\x06\\x8c\\tNamedlist\\x94\\x93\\x94)\\x81\\x94(h\\nh\\x0bh\\x0ch\\re}\\x94(h\\x0f}\\x94h\\x13]\\x94(h\\x15h\\x16eh\\x15h\\x19h\\x1b\\x85\\x94R\\x94(h\\x1b)}\\x94h\\x1fh\\x15sNt\\x94bh\\x16h\\x19h\\x1b\\x85\\x94R\\x94(h\\x1b)}\\x94h\\x1fh\\x16sNt\\x94bubub\\x8c\\x06output\\x94h\\x06\\x8c\\x0bOutputFiles\\x94\\x93\\x94)\\x81\\x94\\x8c>data/processed/refactor-test/results/51/comparison/heatmap.png\\x94a}\\x94(h\\x0f}\\x94\\x8c\\x07heatmap\\x94K\\x00N\\x86\\x94sh\\x13]\\x94(h\\x15h\\x16eh\\x15h\\x19h\\x1b\\x85\\x94R\\x94(h\\x1b)}\\x94h\\x1fh\\x15sNt\\x94bh\\x16h\\x19h\\x1b\\x85\\x94R\\x94(h\\x1b)}\\x94h\\x1fh\\x16sNt\\x94bh:h7ub\\x8c\\x06params\\x94h\\x06\\x8c\\x06Params\\x94\\x93\\x94)\\x81\\x94}\\x94(h\\x0f}\\x94h\\x13]\\x94(h\\x15h\\x16eh\\x15h\\x19h\\x1b\\x85\\x94R\\x94(h\\x1b)}\\x94h\\x1fh\\x15sNt\\x94bh\\x16h\\x19h\\x1b\\x85\\x94R\\x94(h\\x1b)}\\x94h\\x1fh\\x16sNt\\x94bub\\x8c\\twildcards\\x94h\\x06\\x8c\\tWildcards\\x94\\x93\\x94)\\x81\\x94(\\x8c\\rrefactor-test\\x94\\x8c\\x0251\\x94e}\\x94(h\\x0f}\\x94(\\x8c\\x08exp_name\\x94K\\x00N\\x86\\x94\\x8c\\x08compound\\x94K\\x01N\\x86\\x94uh\\x13]\\x94(h\\x15h\\x16eh\\x15h\\x19h\\x1b\\x85\\x94R\\x94(h\\x1b)}\\x94h\\x1fh\\x15sNt\\x94bh\\x16h\\x19h\\x1b\\x85\\x94R\\x94(h\\x1b)}\\x94h\\x1fh\\x16sNt\\x94b\\x8c\\x08exp_name\\x94hX\\x8c\\x08compound\\x94hYub\\x8c\\x07threads\\x94K\\x01\\x8c\\tresources\\x94h\\x06\\x8c\\tResources\\x94\\x93\\x94)\\x81\\x94(K\\x01K\\x01\\x8c\\x04/tmp\\x94e}\\x94(h\\x0f}\\x94(\\x8c\\x06_cores\\x94K\\x00N\\x86\\x94\\x8c\\x06_nodes\\x94K\\x01N\\x86\\x94\\x8c\\x06tmpdir\\x94K\\x02N\\x86\\x94uh\\x13]\\x94(h\\x15h\\x16eh\\x15h\\x19h\\x1b\\x85\\x94R\\x94(h\\x1b)}\\x94h\\x1fh\\x15sNt\\x94bh\\x16h\\x19h\\x1b\\x85\\x94R\\x94(h\\x1b)}\\x94h\\x1fh\\x16sNt\\x94bhsK\\x01huK\\x01hwhpub\\x8c\\x03log\\x94h\\x06\\x8c\\x03Log\\x94\\x93\\x94)\\x81\\x94\\x8c>data/processed/refactor-test/notebooks/51/comp_stats_log.ipynb\\x94a}\\x94(h\\x0f}\\x94\\x8c\\x08notebook\\x94K\\x00N\\x86\\x94sh\\x13]\\x94(h\\x15h\\x16eh\\x15h\\x19h\\x1b\\x85\\x94R\\x94(h\\x1b)}\\x94h\\x1fh\\x15sNt\\x94bh\\x16h\\x19h\\x1b\\x85\\x94R\\x94(h\\x1b)}\\x94h\\x1fh\\x16sNt\\x94bh\\x89h\\x86ub\\x8c\\x06config\\x94}\\x94(\\x8c\\x0bthreads_max\\x94K\\x0c\\x8c\\x16run_single_md_analysis\\x94\\x88\\x8c\\x11run_comp_analysis\\x94\\x88\\x8c\\x14run_heatmap_analysis\\x94\\x88\\x8c\\x0frun_method_comp\\x94\\x89\\x8c\\x0frun_eq_analysis\\x94\\x89\\x8c\\trun_omega\\x94\\x89\\x8c\\trun_rdkit\\x94\\x89\\x8c\\x19run_cheminfo_NOE_analysis\\x94\\x89\\x8c\\x12make_paper_figures\\x94\\x88\\x8c\\x13update_jupyter_book\\x94\\x88\\x8c\\x11convergence_check\\x94]\\x94\\x8c\\x10210a1ea8aa678b16\\x94a\\x8c\\x15run_convergence_check\\x94\\x89\\x8c\\x0fmethod_defaults\\x94}\\x94\\x8c\\x05igamd\\x94}\\x94(\\x8c\\x07methods\\x94]\\x94\\x8c\\x04GaMD\\x94a\\x8c\\x07default\\x94\\x8c\\x013\\x94\\x8c\\x06others\\x94\\x8c\\x03nan\\x94us\\x8c\\tshortened\\x94\\x89\\x8c\\x06stride\\x94K\\x01\\x8c\\x04ns_h\\x94G@\\x1e\\x00\\x00\\x00\\x00\\x00\\x00\\x8c\\thash_list\\x94]\\x94(]\\x94(\\x8c\\x1028159d44aa267024\\x94\\x8c\\x105ead922859f5c96d\\x94\\x8c\\x105ead922859f5c96d\\x94\\x8c\\x0255\\x94\\x8c\\x010\\x94h\\xbae]\\x94(\\x8c\\x10250c26e1ba562237\\x94\\x8c\\x10eff35c6c3e18f0a3\\x94\\x8c\\x10eff35c6c3e18f0a3\\x94\\x8c\\x0256\\x94h\\xbah\\xbae]\\x94(\\x8c\\x10210a1ea8aa678b16\\x94\\x8c\\x103595ce0609206d95\\x94\\x8c\\x10586db4c575bef492\\x94\\x8c\\x0222\\x94h\\xbah\\xbae]\\x94(\\x8c\\x10210a1ea8aa678b16\\x94\\x8c\\x10583fbeed838cced5\\x94\\x8c\\x105405e3b785af9601\\x94\\x8c\\x0222\\x94h\\xbah\\xbae]\\x94(\\x8c\\x10210a1ea8aa678b16\\x94\\x8c\\x10583fbeed838cced5\\x94\\x8c\\x105405e3b785af9601\\x94\\x8c\\x0222\\x94\\x8c\\x0bomega_basic\\x94\\x8c\\x11rdkit_ETKDGv3mmff\\x94e]\\x94(\\x8c\\x10210a1ea8aa678b16\\x94\\x8c\\x10c5389d15c56a3655\\x94\\x8c\\x103a8c4367deb63d6e\\x94\\x8c\\x0222\\x94h\\xbah\\xbae]\\x94(\\x8c\\x104f386944d88e6ef8\\x94\\x8c\\x10c99bbf5d17e8efb9\\x94\\x8c\\x10c99bbf5d17e8efb9\\x94\\x8c\\x0224\\x94h\\xbah\\xbae]\\x94(\\x8c\\x109e61be229abfc57f\\x94\\x8c\\x1013c5dee00c76dc47\\x94\\x8c\\x1013c5dee00c76dc47\\x94\\x8c\\x0249\\x94h\\xbah\\xbaee\\x8c\\x12confgen_parameters\\x94}\\x94(\\x8c\\x05omega\\x94]\\x94(\\x8c\\x05basic\\x94\\x8c\\nchloroform\\x94\\x8c\\nlowEwindow\\x94\\x8c\\x0bhighEwindow\\x94\\x8c\\x06lowrms\\x94\\x8c\\x07highrms\\x94\\x8c\\x0bhighmaxconf\\x94\\x8c\\thighmaxit\\x94\\x8c\\x0chighsampling\\x94\\x8c\\rlotsdifferent\\x94e\\x8c\\x05rdkit\\x94]\\x94(\\x8c\\x05basic\\x94\\x8c\\x04ETDG\\x94\\x8c\\x07ETKDGv1\\x94\\x8c\\x07ETKDGv2\\x94\\x8c\\x07ETKDGv3\\x94\\x8c\\tsrETKDGv3\\x94\\x8c\\x03KDG\\x94\\x8c\\x08def-ETDG\\x94\\x8c\\x0bdef-ETKDGv1\\x94\\x8c\\x0bdef-ETKDGv2\\x94\\x8c\\x0bdef-ETKDGv3\\x94\\x8c\\rdef-srETKDGv3\\x94\\x8c\\x07def-KDG\\x94\\x8c\\x0chighsampling\\x94\\x8c\\rlotsdifferent\\x94eu\\x8c\\x11heatmap_compounds\\x94]\\x94(K\\x16K\\x18K7K8K!K1K2K3e\\x8c\\x0ccluster_conf\\x94}\\x94(\\x8c\\x10242ee4d4af3634ed\\x94K\\x0f\\x8c\\x10c5389d15c56a3655\\x94K\\n\\x8c\\x103c523c7ca380f925\\x94K\\n\\x8c\\x10ca1a37290d9e454e\\x94K\\x08\\x8c\\x109a100624325ec4cd\\x94K\\x06\\x8c\\x103d00b0964201e088\\x94K\\n\\x8c\\x10210a1ea8aa678b16\\x94K\\x08u\\x8c\\x13full_analysis_files\\x94]\\x94\\x8c\\x9b../../../data/processed/refactor-test/notebooks/methods/28159d44aa267024-native-586db4c575bef492-native_omega-basic-rdkit-ETKDGv3mmff-NOE_method_comp.ipynb\\x94a\\x8c\\x08exp_name\\x94\\x8c\\rrefactor-test\\x94\\x8c\\tdata_name\\x94\\x8c\\x1722-02-2021_MacroConf-v2\\x94\\x8c\\x0cdataset_file\\x94\\x8c3data/external/22-09-2021_MacroConf-v2.1/dataset.csv\\x94\\x8c\\x0bsample_file\\x94\\x8c\\x0bsamples.tsv\\x94\\x8c\\rsample_output\\x94\\x8c\\x0fsamples_old.tsv\\x94\\x8c\\nforcefield\\x94\\x8c1libs/forcefields/leaprc.protein.ff14SB_noterminal\\x94\\x8c\\x06jb-toc\\x94\\x8c\\x13reports/jb/_toc.yml\\x94\\x8c\\x08jb-links\\x94\\x8c\\x11reports/jb/links/\\x94\\x8c\\x0cDMSO_default\\x94\\x8c\\x0eDMSO_GAFF_RESP\\x94\\x8c\\rCDCl3_default\\x94\\x8c\\nChloroform\\x94\\x8c\\x0bDMSO_params\\x94\\x8c!libs/md_solvents/dmso/frcmod.dmso\\x94\\x8c\\x08DMSO_box\\x94\\x8c!libs/md_solvents/dmso/dmsobox.off\\x94\\x8c\\x11Chloroform_params\\x94\\x8c\\x0cfrcmod.chcl3\\x94u\\x8c\\x04rule\\x94\\x8c\\rmd_comp_stats\\x94\\x8c\\x0fbench_iteration\\x94N\\x8c\\tscriptdir\\x94\\x8cG/biggin/b147/univ4859/research/03_macroconf/workflow/rules/../notebooks\\x94ub.'); from snakemake.logging import logger; logger.printshellcmds = False; import os; os.chdir(r'/biggin/b147/univ4859/research/03_macroconf/workflow');\n",
    "######## snakemake preamble end #########\n"
   ]
  },
  {
   "cell_type": "code",
   "execution_count": 2,
   "id": "brave-newsletter",
   "metadata": {
    "execution": {
     "iopub.execute_input": "2022-10-17T15:05:38.897604Z",
     "iopub.status.busy": "2022-10-17T15:05:38.897203Z",
     "iopub.status.idle": "2022-10-17T15:05:40.112150Z",
     "shell.execute_reply": "2022-10-17T15:05:40.111589Z"
    }
   },
   "outputs": [],
   "source": [
    "import src.utils\n",
    "import pandas as pd\n",
    "import numpy as np\n",
    "import matplotlib.pyplot as plt\n",
    "import seaborn as sns"
   ]
  },
  {
   "cell_type": "code",
   "execution_count": 3,
   "id": "a27d1c74",
   "metadata": {
    "execution": {
     "iopub.execute_input": "2022-10-17T15:05:40.118444Z",
     "iopub.status.busy": "2022-10-17T15:05:40.118005Z",
     "iopub.status.idle": "2022-10-17T15:05:40.122245Z",
     "shell.execute_reply": "2022-10-17T15:05:40.121676Z"
    }
   },
   "outputs": [],
   "source": [
    "stats = src.utils.json_load(snakemake.input.stats[0])\n",
    "multiple = False\n",
    "if \"cis\" in stats or \"trans\" in stats:\n",
    "    multiple = True"
   ]
  },
  {
   "cell_type": "code",
   "execution_count": 4,
   "id": "ed0c1cfc",
   "metadata": {
    "execution": {
     "iopub.execute_input": "2022-10-17T15:05:40.126562Z",
     "iopub.status.busy": "2022-10-17T15:05:40.126298Z",
     "iopub.status.idle": "2022-10-17T15:05:40.146139Z",
     "shell.execute_reply": "2022-10-17T15:05:40.145478Z"
    }
   },
   "outputs": [
    {
     "data": {
      "text/html": [
       "<div>\n",
       "<style scoped>\n",
       "    .dataframe tbody tr th:only-of-type {\n",
       "        vertical-align: middle;\n",
       "    }\n",
       "\n",
       "    .dataframe tbody tr th {\n",
       "        vertical-align: top;\n",
       "    }\n",
       "\n",
       "    .dataframe thead th {\n",
       "        text-align: right;\n",
       "    }\n",
       "</style>\n",
       "<table border=\"1\" class=\"dataframe\">\n",
       "  <thead>\n",
       "    <tr style=\"text-align: right;\">\n",
       "      <th></th>\n",
       "      <th>single</th>\n",
       "    </tr>\n",
       "  </thead>\n",
       "  <tbody>\n",
       "    <tr>\n",
       "      <th>low</th>\n",
       "      <td>{'0': 0.164220334855985, '1': 0.0, '2': 0.2224...</td>\n",
       "    </tr>\n",
       "    <tr>\n",
       "      <th>most-populated-1</th>\n",
       "      <td>{'0': 0.19185003423690702, '1': 0.083146838665...</td>\n",
       "    </tr>\n",
       "    <tr>\n",
       "      <th>stat</th>\n",
       "      <td>{'0': 'MAE', '1': 'MSE', '2': 'RMSD', '3': 'pe...</td>\n",
       "    </tr>\n",
       "    <tr>\n",
       "      <th>up</th>\n",
       "      <td>{'0': 0.39718437220992003, '1': 0.013807513217...</td>\n",
       "    </tr>\n",
       "    <tr>\n",
       "      <th>value</th>\n",
       "      <td>{'0': 0.272427390041925, '1': -0.1325642277991...</td>\n",
       "    </tr>\n",
       "  </tbody>\n",
       "</table>\n",
       "</div>"
      ],
      "text/plain": [
       "                                                             single\n",
       "low               {'0': 0.164220334855985, '1': 0.0, '2': 0.2224...\n",
       "most-populated-1  {'0': 0.19185003423690702, '1': 0.083146838665...\n",
       "stat              {'0': 'MAE', '1': 'MSE', '2': 'RMSD', '3': 'pe...\n",
       "up                {'0': 0.39718437220992003, '1': 0.013807513217...\n",
       "value             {'0': 0.272427390041925, '1': -0.1325642277991..."
      ]
     },
     "metadata": {},
     "output_type": "display_data"
    }
   ],
   "source": [
    "if multiple:\n",
    "    stats_cis = stats.cis\n",
    "    stats_trans = stats.trans\n",
    "    stats_cis = pd.DataFrame.from_dict(stats_cis)\n",
    "    stats_trans = pd.DataFrame.from_dict(stats_trans)\n",
    "else:\n",
    "    test_NOE = pd.read_json(snakemake.input.stats[0])\n",
    "    display(test_NOE)"
   ]
  },
  {
   "cell_type": "code",
   "execution_count": 5,
   "id": "035015df",
   "metadata": {
    "execution": {
     "iopub.execute_input": "2022-10-17T15:05:40.149760Z",
     "iopub.status.busy": "2022-10-17T15:05:40.149427Z",
     "iopub.status.idle": "2022-10-17T15:05:40.159596Z",
     "shell.execute_reply": "2022-10-17T15:05:40.159017Z"
    }
   },
   "outputs": [],
   "source": [
    "if multiple:\n",
    "    if \"stat\" in stats_cis:\n",
    "        statistics_cis = pd.DataFrame(columns=stats_cis['stat'].to_list())\n",
    "        print(statistics_cis)\n",
    "        stat_up_cis = pd.DataFrame(columns=stats_cis['stat'].to_list())\n",
    "        stat_low_cis = pd.DataFrame(columns=stats_cis['stat'].to_list())\n",
    "        statistics_trans = statistics_cis.copy()\n",
    "        print(statistics_trans)\n",
    "        stat_up_trans = stat_up_cis.copy()\n",
    "        stat_low_trans = stat_low_cis.copy()\n",
    "    else:\n",
    "        statistics_trans = pd.DataFrame(columns=stats_trans['stat'].to_list())\n",
    "        print(statistics_trans)\n",
    "        stat_up_trans = pd.DataFrame(columns=stats_trans['stat'].to_list())\n",
    "        stat_low_trans = pd.DataFrame(columns=stats_trans['stat'].to_list())\n",
    "        statistics_cis = statistics_trans.copy()\n",
    "        print(statistics_cis)\n",
    "        stat_up_cis = stat_up_trans.copy()\n",
    "        stat_low_cis = stat_low_trans.copy()\n",
    "\n",
    "else:\n",
    "    statistics = pd.DataFrame(columns=test_NOE['single']['stat'].keys())  # .to_list()\n",
    "    statistics\n",
    "    stat_up = pd.DataFrame(columns=test_NOE['single']['stat'].keys()) # .to_list()\n",
    "    stat_low = pd.DataFrame(columns=test_NOE['single']['stat'].keys())  # .to_list()"
   ]
  },
  {
   "cell_type": "code",
   "execution_count": 6,
   "id": "b497fc01",
   "metadata": {
    "execution": {
     "iopub.execute_input": "2022-10-17T15:05:40.162609Z",
     "iopub.status.busy": "2022-10-17T15:05:40.162354Z",
     "iopub.status.idle": "2022-10-17T15:05:40.187917Z",
     "shell.execute_reply": "2022-10-17T15:05:40.187385Z"
    }
   },
   "outputs": [],
   "source": [
    "if multiple:\n",
    "        for json in snakemake.input.stats:\n",
    "            NOE_combined = src.utils.json_load(json)\n",
    "            # cis\n",
    "            if \"cis\" in NOE_combined:\n",
    "                NOE_cis = NOE_combined.cis\n",
    "                NOE_cis = pd.DataFrame.from_dict(NOE_cis)\n",
    "                NOE_cis = NOE_cis.set_index('stat')\n",
    "                statistics_cis = statistics_cis.append(NOE_cis['value'], ignore_index=True)\n",
    "                stat_up_cis = stat_up_cis.append(NOE_cis['up'], ignore_index=True)\n",
    "                stat_low_cis = stat_low_cis.append(NOE_cis['low'], ignore_index=True)\n",
    "            else:\n",
    "                statistics_cis = statistics_cis.append([None], ignore_index=True)\n",
    "                stat_up_cis = stat_up_cis.append([None], ignore_index=True)\n",
    "                stat_low_cis = stat_low_cis.append([None], ignore_index=True)\n",
    "            #trans\n",
    "            if \"trans\" in NOE_combined:\n",
    "                NOE_trans = NOE_combined.trans\n",
    "                NOE_trans = pd.DataFrame.from_dict(NOE_trans)\n",
    "                NOE_trans = NOE_trans.set_index('stat')\n",
    "                statistics_trans = statistics_trans.append(NOE_trans['value'], ignore_index=True)\n",
    "                stat_up_trans = stat_up_trans.append(NOE_trans['up'], ignore_index=True)\n",
    "                stat_low_trans = stat_low_trans.append(NOE_trans['low'], ignore_index=True)\n",
    "            else:\n",
    "                statistics_trans = statistics_trans.append([None], ignore_index=True)\n",
    "                stat_up_trans = stat_up_trans.append([None], ignore_index=True)\n",
    "                stat_low_trans = stat_low_trans.append([None], ignore_index=True)\n",
    "else:\n",
    "    for json in snakemake.input.stats:\n",
    "        NOE = pd.read_json(json)\n",
    "#         display(NOE)      \n",
    "#         NOE = NOE.set_index('stat')\n",
    "        statistics = statistics.append(NOE['single']['value'], ignore_index=True)\n",
    "        stat_up = stat_up.append(NOE['single']['up'], ignore_index=True)\n",
    "        stat_low = stat_low.append(NOE['single']['low'], ignore_index=True)"
   ]
  },
  {
   "cell_type": "code",
   "execution_count": 7,
   "id": "e94619de",
   "metadata": {
    "execution": {
     "iopub.execute_input": "2022-10-17T15:05:40.190494Z",
     "iopub.status.busy": "2022-10-17T15:05:40.190249Z",
     "iopub.status.idle": "2022-10-17T15:05:40.197577Z",
     "shell.execute_reply": "2022-10-17T15:05:40.197039Z"
    },
    "scrolled": true
   },
   "outputs": [],
   "source": [
    "inputs = []\n",
    "for w in snakemake.input.stats:\n",
    "    part1 = w.split(\"/\")\n",
    "    part1 = part1[5:9]\n",
    "    part2 = w.split(\"/\")[9][0:5]\n",
    "    part1.append(part2)\n",
    "    inputs.append('/'.join(part1))\n",
    "\n",
    "if multiple:\n",
    "    statistics_cis['name'] = inputs\n",
    "    statistics_cis = statistics_cis.set_index('name')\n",
    "    statistics_trans['name'] = inputs\n",
    "    statistics_trans = statistics_trans.set_index('name')\n",
    "    if 0 in statistics_cis:\n",
    "        statistics_cis= statistics_cis.drop(columns=[0])\n",
    "        stat_up_cis= stat_up_cis.drop(columns=[0])\n",
    "        stat_low_cis = stat_low_cis.drop(columns=[0])\n",
    "    if 0 in statistics_trans:\n",
    "        statistics_trans=statistics_trans.drop(columns=[0])\n",
    "        stat_up_trans= stat_up_trans.drop(columns=[0])\n",
    "        stat_low_trans = stat_low_trans.drop(columns=[0])\n",
    "else:    \n",
    "    statistics['name'] = inputs\n",
    "    statistics = statistics.set_index('name')\n",
    "    statistics = statistics.rename(columns=test_NOE['single']['stat'])\n",
    "    stat_up = stat_up.rename(columns=test_NOE['single']['stat'])\n",
    "    stat_low = stat_low.rename(columns=test_NOE['single']['stat'])"
   ]
  },
  {
   "cell_type": "code",
   "execution_count": 8,
   "id": "1a5fb2fd",
   "metadata": {
    "execution": {
     "iopub.execute_input": "2022-10-17T15:05:40.200467Z",
     "iopub.status.busy": "2022-10-17T15:05:40.200182Z",
     "iopub.status.idle": "2022-10-17T15:05:40.205655Z",
     "shell.execute_reply": "2022-10-17T15:05:40.205114Z"
    }
   },
   "outputs": [],
   "source": [
    "if multiple:\n",
    "    stat_up_cis['name'] = inputs\n",
    "    stat_up_cis = stat_up_cis.set_index('name')\n",
    "    stat_low_cis['name'] = inputs\n",
    "    stat_low_cis = stat_low_cis.set_index('name')\n",
    "    \n",
    "    stat_up_trans['name'] = inputs\n",
    "    stat_up_trans = stat_up_trans.set_index('name')\n",
    "    stat_low_trans['name'] = inputs\n",
    "    stat_low_trans = stat_low_trans.set_index('name')\n",
    "else:\n",
    "    stat_up['name'] = inputs\n",
    "    stat_up = stat_up.set_index('name')\n",
    "\n",
    "    stat_low['name'] = inputs\n",
    "    stat_low = stat_low.set_index('name')"
   ]
  },
  {
   "cell_type": "code",
   "execution_count": 9,
   "id": "bc251932",
   "metadata": {
    "execution": {
     "iopub.execute_input": "2022-10-17T15:05:40.208467Z",
     "iopub.status.busy": "2022-10-17T15:05:40.208194Z",
     "iopub.status.idle": "2022-10-17T15:05:40.214359Z",
     "shell.execute_reply": "2022-10-17T15:05:40.213782Z"
    }
   },
   "outputs": [
    {
     "name": "stdout",
     "output_type": "stream",
     "text": [
      "                                       MAE       MSE      RMSD  pearsonr  \\\n",
      "name                                                                       \n",
      "H2O/GaMD/2000/0/2f74e             0.272427 -0.132564  0.381633  0.833186   \n",
      "H2O/cMD/2000/0/ff5c2              0.461994  0.255843  0.660726  0.674804   \n",
      "DMSO_GAFF_RESP/cMD/2000/0/26e5e   0.351847  0.152735  0.423664  0.785831   \n",
      "DMSO_GAFF_RESP/GaMD/2000/0/5c9ad  0.384643 -0.254208  0.543238  0.701565   \n",
      "\n",
      "                                  kendalltau     chisq  percentage_fulfilled  \n",
      "name                                                                          \n",
      "H2O/GaMD/2000/0/2f74e               0.666676  0.967781                  0.85  \n",
      "H2O/cMD/2000/0/ff5c2                0.486779  3.003852                  0.60  \n",
      "DMSO_GAFF_RESP/cMD/2000/0/26e5e     0.465615  1.188985                  0.55  \n",
      "DMSO_GAFF_RESP/GaMD/2000/0/5c9ad    0.497361  2.074410                  0.65  \n"
     ]
    }
   ],
   "source": [
    "if multiple:\n",
    "    print(statistics_cis)\n",
    "    print(statistics_trans)\n",
    "else:\n",
    "    print(statistics)"
   ]
  },
  {
   "cell_type": "code",
   "execution_count": 10,
   "id": "f696abb5",
   "metadata": {
    "execution": {
     "iopub.execute_input": "2022-10-17T15:05:40.248959Z",
     "iopub.status.busy": "2022-10-17T15:05:40.248636Z",
     "iopub.status.idle": "2022-10-17T15:05:40.254258Z",
     "shell.execute_reply": "2022-10-17T15:05:40.253104Z"
    }
   },
   "outputs": [],
   "source": [
    "if multiple:\n",
    "    statistics_cis = statistics_cis.sort_values('RMSD')\n",
    "    statistics_cis = statistics_cis.drop(columns=['chisq'])\n",
    "    statistics_trans = statistics_trans.sort_values('RMSD')\n",
    "    statistics_trans = statistics_trans.drop(columns=['chisq'])\n",
    "else:\n",
    "    statistics = statistics.sort_values('RMSD')\n",
    "    statistics = statistics.drop(columns=['chisq'])\n",
    "    statistics"
   ]
  },
  {
   "cell_type": "code",
   "execution_count": 11,
   "id": "4d0e394e",
   "metadata": {
    "execution": {
     "iopub.execute_input": "2022-10-17T15:05:40.258594Z",
     "iopub.status.busy": "2022-10-17T15:05:40.258252Z",
     "iopub.status.idle": "2022-10-17T15:05:40.265945Z",
     "shell.execute_reply": "2022-10-17T15:05:40.265442Z"
    }
   },
   "outputs": [],
   "source": [
    "if multiple:\n",
    "    stat_up_cis = stat_up_cis.reindex(statistics_cis.index)\n",
    "    stat_low_cis = stat_low_cis.reindex(statistics_cis.index)\n",
    "    stat_up_cis = stat_up_cis.drop(columns=['chisq'])\n",
    "    stat_low_cis = stat_low_cis.drop(columns=['chisq'])\n",
    "    #\n",
    "    stat_up_trans = stat_up_trans.reindex(statistics_trans.index)\n",
    "    stat_low_trans = stat_low_trans.reindex(statistics_trans.index)\n",
    "    stat_up_trans = stat_up_trans.drop(columns=['chisq'])\n",
    "    stat_low_trans = stat_low_trans.drop(columns=['chisq'])\n",
    "else:\n",
    "    stat_up = stat_up.reindex(statistics.index)\n",
    "    stat_low = stat_low.reindex(statistics.index)\n",
    "    stat_up = stat_up.drop(columns=['chisq'])\n",
    "    stat_low = stat_low.drop(columns=['chisq'])\n",
    "\n",
    "    stat_up"
   ]
  },
  {
   "cell_type": "code",
   "execution_count": 12,
   "id": "1421b4a2",
   "metadata": {
    "execution": {
     "iopub.execute_input": "2022-10-17T15:05:40.268714Z",
     "iopub.status.busy": "2022-10-17T15:05:40.268437Z",
     "iopub.status.idle": "2022-10-17T15:05:40.271849Z",
     "shell.execute_reply": "2022-10-17T15:05:40.271348Z"
    }
   },
   "outputs": [],
   "source": [
    "if multiple:\n",
    "    statistics_cis = statistics_cis.fillna(0)\n",
    "    statistics_trans= statistics_trans.fillna(0)\n",
    "    stat_up_cis = stat_up_cis.fillna(0)\n",
    "    stat_low_cis = stat_low_cis.fillna(0)\n",
    "    stat_up_trans = stat_up_trans.fillna(0)\n",
    "    stat_low_trans = stat_low_trans.fillna(0)"
   ]
  },
  {
   "cell_type": "code",
   "execution_count": 13,
   "id": "01337d46",
   "metadata": {
    "execution": {
     "iopub.execute_input": "2022-10-17T15:05:40.274109Z",
     "iopub.status.busy": "2022-10-17T15:05:40.273848Z",
     "iopub.status.idle": "2022-10-17T15:05:40.576548Z",
     "shell.execute_reply": "2022-10-17T15:05:40.575882Z"
    }
   },
   "outputs": [
    {
     "name": "stdout",
     "output_type": "stream",
     "text": [
      "                                             MAE              MSE  \\\n",
      "name                                                                \n",
      "H2O/GaMD/2000/0/2f74e              0.16<0.27<0.4   0.0<-0.13<0.01   \n",
      "DMSO_GAFF_RESP/cMD/2000/0/26e5e   0.25<0.35<0.46    0.0<0.15<0.32   \n",
      "DMSO_GAFF_RESP/GaMD/2000/0/5c9ad  0.22<0.38<0.56  0.0<-0.25<-0.05   \n",
      "H2O/cMD/2000/0/ff5c2              0.28<0.46<0.69   0.01<0.26<0.54   \n",
      "\n",
      "                                            RMSD        pearsonr  \\\n",
      "name                                                               \n",
      "H2O/GaMD/2000/0/2f74e             0.22<0.38<0.52  0.61<0.83<0.94   \n",
      "DMSO_GAFF_RESP/cMD/2000/0/26e5e   0.31<0.42<0.53  0.45<0.79<0.93   \n",
      "DMSO_GAFF_RESP/GaMD/2000/0/5c9ad   0.35<0.54<0.7   0.43<0.7<0.86   \n",
      "H2O/cMD/2000/0/ff5c2              0.36<0.66<0.95  0.17<0.67<0.91   \n",
      "\n",
      "                                      kendalltau percentage_fulfilled  \n",
      "name                                                                   \n",
      "H2O/GaMD/2000/0/2f74e             0.44<0.67<0.85         0.0<0.85<0.0  \n",
      "DMSO_GAFF_RESP/cMD/2000/0/26e5e   0.11<0.47<0.74         0.0<0.55<0.0  \n",
      "DMSO_GAFF_RESP/GaMD/2000/0/5c9ad   0.16<0.5<0.77         0.0<0.65<0.0  \n",
      "H2O/cMD/2000/0/ff5c2              0.11<0.49<0.76          0.0<0.6<0.0  \n"
     ]
    },
    {
     "data": {
      "image/png": "[encoded data removed]",
      "text/plain": [
       "<Figure size 1332x756 with 2 Axes>"
      ]
     },
     "metadata": {
      "needs_background": "light"
     },
     "output_type": "display_data"
    }
   ],
   "source": [
    "if multiple:\n",
    "    annotation_cis = stat_low_cis.round(2).astype(str) + '<' + statistics_cis.round(2).astype(str) + '<' + stat_up_cis.round(2).astype(str)\n",
    "    annotation_trans = stat_low_trans.round(2).astype(str) + '<' + statistics_trans.round(2).astype(str) + '<' + stat_up_trans.round(2).astype(str)\n",
    "    fig, axs = plt.subplots(2,1)\n",
    "    fig.set_size_inches(18.5, 10.5)\n",
    "    sns.heatmap(statistics_cis, ax=axs[0], annot=annotation_cis, fmt = '')\n",
    "    sns.heatmap(statistics_trans, ax=axs[1], annot=annotation_trans, fmt = '')\n",
    "    fig.suptitle('top: cis, bottom: trans')\n",
    "    fig.savefig(snakemake.output.heatmap)\n",
    "else:\n",
    "    annotation = stat_low.round(2).astype(str) + '<' + statistics.round(2).astype(str) + '<' + stat_up.round(2).astype(str)\n",
    "    print(annotation)\n",
    "    fig, ax = plt.subplots()\n",
    "    fig.set_size_inches(18.5, 10.5)\n",
    "    ax = sns.heatmap(statistics, annot=annotation, fmt = '')\n",
    "    ax.set_ylabel('')\n",
    "    fig.savefig(snakemake.output.heatmap, bbox_inches='tight')"
   ]
  },
  {
   "cell_type": "code",
   "execution_count": null,
   "id": "772d294d",
   "metadata": {},
   "outputs": [],
   "source": []
  }
 ],
 "metadata": {
  "kernelspec": {
   "display_name": "Python 3 (ipykernel)",
   "language": "python",
   "name": "python3"
  },
  "language_info": {
   "codemirror_mode": {
    "name": "ipython",
    "version": 3
   },
   "file_extension": ".py",
   "mimetype": "text/x-python",
   "name": "python",
   "nbconvert_exporter": "python",
   "pygments_lexer": "ipython3",
   "version": "3.7.12"
  }
 },
 "nbformat": 4,
 "nbformat_minor": 5
}
