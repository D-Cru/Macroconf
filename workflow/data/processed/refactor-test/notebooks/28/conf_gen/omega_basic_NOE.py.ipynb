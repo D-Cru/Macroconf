{
 "cells": [
  {
   "cell_type": "code",
   "execution_count": 1,
   "id": "b5b7a32b",
   "metadata": {
    "execution": {
     "iopub.execute_input": "2023-06-05T13:00:36.843644Z",
     "iopub.status.busy": "2023-06-05T13:00:36.843289Z",
     "iopub.status.idle": "2023-06-05T13:00:36.922735Z",
     "shell.execute_reply": "2023-06-05T13:00:36.921927Z"
    },
    "tags": [
     "snakemake-job-properties"
    ]
   },
   "outputs": [],
   "source": [
    "\n",
    "######## snakemake preamble start (automatically inserted, do not edit) ########\n",
    "import sys; sys.path.extend(['/biggin/b147/univ4859/miniconda3/envs/snakemake/lib/python3.10/site-packages', '/biggin/b147/univ4859/research/03_macroconf/workflow/rules/../notebooks']); import pickle; snakemake = pickle.loads(b\"\\x80\\x04\\x95m\\x11\\x00\\x00\\x00\\x00\\x00\\x00\\x8c\\x10snakemake.script\\x94\\x8c\\tSnakemake\\x94\\x93\\x94)\\x81\\x94}\\x94(\\x8c\\x05input\\x94\\x8c\\x0csnakemake.io\\x94\\x8c\\nInputFiles\\x94\\x93\\x94)\\x81\\x94(\\x8c9data/interim/refactor-test/28/omega/basic/mcs_aligned.pdb\\x94\\x8c&data/interim/refactor-test/28/NOE.json\\x94\\x8c'data/interim/refactor-test/28/data.json\\x94\\x8c;data/interim/refactor-test/28/omega/basic/conf_energies.txt\\x94e}\\x94(\\x8c\\x06_names\\x94}\\x94(\\x8c\\x03pdb\\x94K\\x00N\\x86\\x94\\x8c\\x03noe\\x94K\\x01N\\x86\\x94\\x8c\\x04parm\\x94K\\x02N\\x86\\x94\\x8c\\x08energies\\x94K\\x03N\\x86\\x94u\\x8c\\x12_allowed_overrides\\x94]\\x94(\\x8c\\x05index\\x94\\x8c\\x04sort\\x94eh\\x1b\\x8c\\tfunctools\\x94\\x8c\\x07partial\\x94\\x93\\x94h\\x06\\x8c\\x19Namedlist._used_attribute\\x94\\x93\\x94\\x85\\x94R\\x94(h!)}\\x94\\x8c\\x05_name\\x94h\\x1bsNt\\x94bh\\x1ch\\x1fh!\\x85\\x94R\\x94(h!)}\\x94h%h\\x1csNt\\x94bh\\x11h\\nh\\x13h\\x0bh\\x15h\\x0ch\\x17h\\rub\\x8c\\x06output\\x94h\\x06\\x8c\\x0bOutputFiles\\x94\\x93\\x94)\\x81\\x94(\\x8cIdata/processed/refactor-test/results/28/conf_gen/omega/basic/best_NOE.svg\\x94\\x8cQdata/processed/refactor-test/results/28/conf_gen/omega/basic/NOE_distribution.svg\\x94\\x8cOdata/processed/refactor-test/results/28/conf_gen/omega/basic/NOE_fulfilled.json\\x94\\x8cLdata/processed/refactor-test/results/28/conf_gen/omega/basic/bundle_plot.svg\\x94\\x8cFdata/processed/refactor-test/results/28/conf_gen/omega/basic/sasa.json\\x94\\x8cEdata/processed/refactor-test/results/28/conf_gen/omega/basic/psa.json\\x94\\x8cVdata/processed/refactor-test/results/28/conf_gen/omega/basic/solvation_properties.json\\x94e}\\x94(h\\x0f}\\x94(\\x8c\\rbest_NOE_plot\\x94K\\x00N\\x86\\x94\\x8c\\x0fNOE_violin_plot\\x94K\\x01N\\x86\\x94\\x8c\\tfulfilled\\x94K\\x02N\\x86\\x94\\x8c\\x0bbundle_plot\\x94K\\x03N\\x86\\x94\\x8c\\x04sasa\\x94K\\x04N\\x86\\x94\\x8c\\x03psa\\x94K\\x05N\\x86\\x94\\x8c\\x14solvation_properties\\x94K\\x06N\\x86\\x94uh\\x19]\\x94(h\\x1bh\\x1ceh\\x1bh\\x1fh!\\x85\\x94R\\x94(h!)}\\x94h%h\\x1bsNt\\x94bh\\x1ch\\x1fh!\\x85\\x94R\\x94(h!)}\\x94h%h\\x1csNt\\x94bh8h/h:h0h<h1h>h2h@h3hBh4hDh5ub\\x8c\\x06params\\x94h\\x06\\x8c\\x06Params\\x94\\x93\\x94)\\x81\\x94}\\x94(h\\x0f}\\x94h\\x19]\\x94(h\\x1bh\\x1ceh\\x1bh\\x1fh!\\x85\\x94R\\x94(h!)}\\x94h%h\\x1bsNt\\x94bh\\x1ch\\x1fh!\\x85\\x94R\\x94(h!)}\\x94h%h\\x1csNt\\x94bub\\x8c\\twildcards\\x94h\\x06\\x8c\\tWildcards\\x94\\x93\\x94)\\x81\\x94(\\x8c\\rrefactor-test\\x94\\x8c\\x0228\\x94\\x8c\\x05omega\\x94\\x8c\\x05basic\\x94e}\\x94(h\\x0f}\\x94(\\x8c\\x08exp_name\\x94K\\x00N\\x86\\x94\\x8c\\x08compound\\x94K\\x01N\\x86\\x94\\x8c\\x07confgen\\x94K\\x02N\\x86\\x94\\x8c\\x04mode\\x94K\\x03N\\x86\\x94uh\\x19]\\x94(h\\x1bh\\x1ceh\\x1bh\\x1fh!\\x85\\x94R\\x94(h!)}\\x94h%h\\x1bsNt\\x94bh\\x1ch\\x1fh!\\x85\\x94R\\x94(h!)}\\x94h%h\\x1csNt\\x94b\\x8c\\x08exp_name\\x94hb\\x8c\\x08compound\\x94hc\\x8c\\x07confgen\\x94hd\\x8c\\x04mode\\x94heub\\x8c\\x07threads\\x94K\\x01\\x8c\\tresources\\x94h\\x06\\x8c\\tResources\\x94\\x93\\x94)\\x81\\x94(K\\x01K\\x01\\x8c\\x04/tmp\\x94e}\\x94(h\\x0f}\\x94(\\x8c\\x06_cores\\x94K\\x00N\\x86\\x94\\x8c\\x06_nodes\\x94K\\x01N\\x86\\x94\\x8c\\x06tmpdir\\x94K\\x02N\\x86\\x94uh\\x19]\\x94(h\\x1bh\\x1ceh\\x1bh\\x1fh!\\x85\\x94R\\x94(h!)}\\x94h%h\\x1bsNt\\x94bh\\x1ch\\x1fh!\\x85\\x94R\\x94(h!)}\\x94h%h\\x1csNt\\x94bh\\x85K\\x01h\\x87K\\x01h\\x89h\\x82ub\\x8c\\x03log\\x94h\\x06\\x8c\\x03Log\\x94\\x93\\x94)\\x81\\x94\\x8cKdata/processed/refactor-test/notebooks/28/conf_gen/omega_basic_NOE.py.ipynb\\x94a}\\x94(h\\x0f}\\x94\\x8c\\x08notebook\\x94K\\x00N\\x86\\x94sh\\x19]\\x94(h\\x1bh\\x1ceh\\x1bh\\x1fh!\\x85\\x94R\\x94(h!)}\\x94h%h\\x1bsNt\\x94bh\\x1ch\\x1fh!\\x85\\x94R\\x94(h!)}\\x94h%h\\x1csNt\\x94bh\\x9bh\\x98ub\\x8c\\x06config\\x94}\\x94(\\x8c\\x0bthreads_max\\x94K\\x0c\\x8c\\x16run_single_md_analysis\\x94\\x88\\x8c\\x11run_comp_analysis\\x94\\x89\\x8c\\x14run_heatmap_analysis\\x94\\x89\\x8c\\x0frun_method_comp\\x94\\x89\\x8c\\x0frun_eq_analysis\\x94\\x89\\x8c\\trun_omega\\x94\\x89\\x8c\\trun_rdkit\\x94\\x89\\x8c\\x19run_cheminfo_NOE_analysis\\x94\\x89\\x8c\\x12make_paper_figures\\x94\\x89\\x8c\\x13update_jupyter_book\\x94\\x88\\x8c\\x11convergence_check\\x94]\\x94\\x8c\\x10210a1ea8aa678b16\\x94a\\x8c\\x15run_convergence_check\\x94\\x89\\x8c\\x0fmethod_defaults\\x94}\\x94\\x8c\\x05igamd\\x94}\\x94(\\x8c\\x07methods\\x94]\\x94\\x8c\\x04GaMD\\x94a\\x8c\\x07default\\x94\\x8c\\x013\\x94\\x8c\\x06others\\x94\\x8c\\x03nan\\x94us\\x8c\\tshortened\\x94\\x89\\x8c\\x06stride\\x94K\\x01\\x8c\\x04ns_h\\x94G@\\x1e\\x00\\x00\\x00\\x00\\x00\\x00\\x8c\\thash_list\\x94]\\x94(]\\x94(\\x8c\\x1028159d44aa267024\\x94\\x8c\\x105ead922859f5c96d\\x94\\x8c\\x105ead922859f5c96d\\x94\\x8c\\x0255\\x94\\x8c\\x010\\x94h\\xcce]\\x94(\\x8c\\x10250c26e1ba562237\\x94\\x8c\\x10eff35c6c3e18f0a3\\x94\\x8c\\x10eff35c6c3e18f0a3\\x94\\x8c\\x0256\\x94h\\xcch\\xcce]\\x94(\\x8c\\x10210a1ea8aa678b16\\x94\\x8c\\x103595ce0609206d95\\x94\\x8c\\x10586db4c575bef492\\x94\\x8c\\x0222\\x94h\\xcch\\xcce]\\x94(\\x8c\\x10210a1ea8aa678b16\\x94\\x8c\\x10583fbeed838cced5\\x94\\x8c\\x105405e3b785af9601\\x94\\x8c\\x0222\\x94h\\xcch\\xcce]\\x94(\\x8c\\x10210a1ea8aa678b16\\x94\\x8c\\x10583fbeed838cced5\\x94\\x8c\\x105405e3b785af9601\\x94\\x8c\\x0222\\x94\\x8c\\x0bomega_basic\\x94\\x8c\\x11rdkit_ETKDGv3mmff\\x94e]\\x94(\\x8c\\x10210a1ea8aa678b16\\x94\\x8c\\x10c5389d15c56a3655\\x94\\x8c\\x103a8c4367deb63d6e\\x94\\x8c\\x0222\\x94h\\xcch\\xcce]\\x94(\\x8c\\x104f386944d88e6ef8\\x94\\x8c\\x10c99bbf5d17e8efb9\\x94\\x8c\\x10c99bbf5d17e8efb9\\x94\\x8c\\x0224\\x94h\\xcch\\xcce]\\x94(\\x8c\\x109e61be229abfc57f\\x94\\x8c\\x1013c5dee00c76dc47\\x94\\x8c\\x1013c5dee00c76dc47\\x94\\x8c\\x0249\\x94h\\xcch\\xccee\\x8c\\x12confgen_parameters\\x94}\\x94(\\x8c\\x05omega\\x94]\\x94(\\x8c\\x05basic\\x94\\x8c\\nchloroform\\x94\\x8c\\nlowEwindow\\x94\\x8c\\x0bhighEwindow\\x94\\x8c\\x06lowrms\\x94\\x8c\\x07highrms\\x94\\x8c\\x0bhighmaxconf\\x94\\x8c\\thighmaxit\\x94\\x8c\\x0chighsampling\\x94\\x8c\\rlotsdifferent\\x94e\\x8c\\x05rdkit\\x94]\\x94(\\x8c\\x05basic\\x94\\x8c\\x04ETDG\\x94\\x8c\\x07ETKDGv1\\x94\\x8c\\x07ETKDGv2\\x94\\x8c\\x07ETKDGv3\\x94\\x8c\\tsrETKDGv3\\x94\\x8c\\x03KDG\\x94\\x8c\\x08def-ETDG\\x94\\x8c\\x0bdef-ETKDGv1\\x94\\x8c\\x0bdef-ETKDGv2\\x94\\x8c\\x0bdef-ETKDGv3\\x94\\x8c\\rdef-srETKDGv3\\x94\\x8c\\x07def-KDG\\x94\\x8c\\x0chighsampling\\x94\\x8c\\rlotsdifferent\\x94eu\\x8c\\x11heatmap_compounds\\x94]\\x94(K\\x16K\\x18K7K8K!K1K2K3e\\x8c\\x0ccluster_conf\\x94}\\x94(\\x8c\\x10242ee4d4af3634ed\\x94K\\x0f\\x8c\\x10c5389d15c56a3655\\x94K\\n\\x8c\\x103c523c7ca380f925\\x94K\\n\\x8c\\x10ca1a37290d9e454e\\x94K\\x08\\x8c\\x109a100624325ec4cd\\x94K\\x06\\x8c\\x103d00b0964201e088\\x94K\\n\\x8c\\x10210a1ea8aa678b16\\x94K\\x08u\\x8c\\x08exp_name\\x94\\x8c\\rrefactor-test\\x94\\x8c\\tdata_name\\x94\\x8c\\x1722-02-2021_MacroConf-v2\\x94\\x8c\\x0cdataset_file\\x94\\x8c3data/external/22-09-2021_MacroConf-v2.1/dataset.csv\\x94\\x8c\\x0bsample_file\\x94\\x8c\\x0bsamples.tsv\\x94\\x8c\\rsample_output\\x94\\x8c\\x0fsamples_old.tsv\\x94\\x8c\\nforcefield\\x94\\x8c1libs/forcefields/leaprc.protein.ff14SB_noterminal\\x94\\x8c\\x06jb-toc\\x94\\x8c\\x13reports/jb/_toc.yml\\x94\\x8c\\x08jb-links\\x94\\x8c\\x11reports/jb/links/\\x94\\x8c\\x0cDMSO_default\\x94\\x8c\\x0eDMSO_GAFF_RESP\\x94\\x8c\\rCDCl3_default\\x94\\x8c\\nChloroform\\x94\\x8c\\x0bDMSO_params\\x94\\x8c!libs/md_solvents/dmso/frcmod.dmso\\x94\\x8c\\x08DMSO_box\\x94\\x8c!libs/md_solvents/dmso/dmsobox.off\\x94\\x8c\\x11Chloroform_params\\x94\\x8c\\x0cfrcmod.chcl3\\x94\\x8c\\x13full_analysis_files\\x94]\\x94\\x8c\\x9b../../../data/processed/refactor-test/notebooks/methods/28159d44aa267024-native-586db4c575bef492-native_omega-basic-rdkit-ETKDGv3mmff-NOE_method_comp.ipynb\\x94au\\x8c\\x04rule\\x94\\x8c\\x0bconfgen_NOE\\x94\\x8c\\x0fbench_iteration\\x94N\\x8c\\tscriptdir\\x94\\x8cG/biggin/b147/univ4859/research/03_macroconf/workflow/rules/../notebooks\\x94ub.\"); from snakemake.logging import logger; logger.printshellcmds = False; import os; os.chdir(r'/biggin/b147/univ4859/research/03_macroconf/workflow');\n",
    "######## snakemake preamble end #########\n"
   ]
  },
  {
   "cell_type": "code",
   "execution_count": 2,
   "id": "bb3d57af",
   "metadata": {
    "execution": {
     "iopub.execute_input": "2023-06-05T13:00:36.929657Z",
     "iopub.status.busy": "2023-06-05T13:00:36.927928Z",
     "iopub.status.idle": "2023-06-05T13:00:38.830835Z",
     "shell.execute_reply": "2023-06-05T13:00:38.830114Z"
    }
   },
   "outputs": [],
   "source": [
    "# Confgen NOE notebook\n",
    "\n",
    "import matplotlib\n",
    "\n",
    "#%matplotlib inline\n",
    "# matplotlib.use(\"Agg\")\n",
    "\n",
    "import mdtraj as md\n",
    "import numpy as np\n",
    "import matplotlib.pyplot as plt\n",
    "import scipy.cluster.hierarchy\n",
    "from scipy.spatial.distance import squareform\n",
    "import pandas as pd\n",
    "\n",
    "sys.path.append(os.getcwd())\n",
    "import src.noe\n",
    "import src.stats\n",
    "from src.pyreweight import reweight\n",
    "from src.utils import json_load, pickle_dump\n",
    "from scipy import stats\n",
    "from scipy.optimize import minimize\n",
    "from sklearn import metrics, utils\n",
    "import copy\n",
    "\n",
    "compound_index = int(snakemake.wildcards.compound)"
   ]
  },
  {
   "cell_type": "code",
   "execution_count": 3,
   "id": "ac4086f3",
   "metadata": {
    "execution": {
     "iopub.execute_input": "2023-06-05T13:00:38.835815Z",
     "iopub.status.busy": "2023-06-05T13:00:38.834876Z",
     "iopub.status.idle": "2023-06-05T13:00:39.655829Z",
     "shell.execute_reply": "2023-06-05T13:00:39.654635Z"
    }
   },
   "outputs": [
    {
     "name": "stdout",
     "output_type": "stream",
     "text": [
      "data  movie\t\t   samples_old.tsv    Snakefile\r\n",
      "docs  notebooks\t\t   samples_tests.tsv  snakemake-config_tests.yaml\r\n",
      "envs  pyproject.toml\t   samples_tmp.tsv    snakemake-config.yaml\r\n",
      "hpc   reports\t\t   samples.tsv\t      src\r\n",
      "libs  rules\t\t   scripts\t      src.egg-info\r\n",
      "misc  samples_example.tsv  setup.py\t      tests\r\n"
     ]
    }
   ],
   "source": [
    "!ls"
   ]
  },
  {
   "cell_type": "code",
   "execution_count": 4,
   "id": "5808e9e2",
   "metadata": {
    "execution": {
     "iopub.execute_input": "2023-06-05T13:00:39.661438Z",
     "iopub.status.busy": "2023-06-05T13:00:39.660959Z",
     "iopub.status.idle": "2023-06-05T13:00:41.246153Z",
     "shell.execute_reply": "2023-06-05T13:00:41.245347Z"
    }
   },
   "outputs": [
    {
     "name": "stdout",
     "output_type": "stream",
     "text": [
      "According to the literature reference, there is only one distinct structure in solution.\n"
     ]
    }
   ],
   "source": [
    "# read in conformers as mdtraj trajectory\n",
    "chem_info_t = md.load(snakemake.input.pdb)\n",
    "# read in NOE data\n",
    "NOE_original = src.noe.read_NOE(snakemake.input.noe)\n",
    "# read in compound details\n",
    "compound = json_load(snakemake.input.parm)\n",
    "# Read in conformer energies\n",
    "energies = np.loadtxt(snakemake.input.energies)\n",
    "# Detect cis/trans\n",
    "multi = compound.multi\n",
    "if multi:\n",
    "    print(\n",
    "        \"According to the literature reference, there are two distinct structures in solution.\"\n",
    "    )\n",
    "else:\n",
    "    print(\n",
    "        \"According to the literature reference, there is only one distinct structure in solution.\"\n",
    "    )\n",
    "\n",
    "if multi is not None:\n",
    "    multi = {v: k for k, v in multi.items()}\n",
    "    multiple = True\n",
    "    distinction = compound.distinction\n",
    "    print(\"Multiple compounds detected\")\n",
    "    # Show relevant dihedral angle for all conformers if cis/trans\n",
    "    ca_c = chem_info_t.top.select(f\"resid {distinction[0]} and name CA C\")\n",
    "    n_ca_next = chem_info_t.top.select(f\"resid {distinction[1]} and name N CA\")\n",
    "    omega = np.append(ca_c, n_ca_next)\n",
    "    t_omega_rad = md.compute_dihedrals(chem_info_t, [omega])\n",
    "    t_omega_deg = np.abs(np.degrees(t_omega_rad))\n",
    "    plt.plot(t_omega_deg)\n",
    "    plt.hlines(90, 0, chem_info_t.n_frames, color=\"red\")\n",
    "    plt.xlabel(\"Frames\")\n",
    "    plt.ylabel(\"Omega 0-1 [°]\")\n",
    "    plt.title(f\"Dihedral angle over time. Compound {compound_index}\")\n",
    "    cis = np.where(t_omega_deg <= 90)[0]\n",
    "    trans = np.where(t_omega_deg > 90)[0]\n",
    "else:\n",
    "    multiple = False"
   ]
  },
  {
   "cell_type": "code",
   "execution_count": 5,
   "id": "0a7d7c26",
   "metadata": {
    "execution": {
     "iopub.execute_input": "2023-06-05T13:00:41.250248Z",
     "iopub.status.busy": "2023-06-05T13:00:41.249851Z",
     "iopub.status.idle": "2023-06-05T13:00:41.261002Z",
     "shell.execute_reply": "2023-06-05T13:00:41.260209Z"
    }
   },
   "outputs": [
    {
     "data": {
      "text/plain": [
       "'data/interim/refactor-test/28/omega/basic/mcs_aligned.pdb'"
      ]
     },
     "execution_count": 5,
     "metadata": {},
     "output_type": "execute_result"
    }
   ],
   "source": [
    "snakemake.input.pdb"
   ]
  },
  {
   "cell_type": "code",
   "execution_count": 6,
   "id": "7887c50c",
   "metadata": {
    "execution": {
     "iopub.execute_input": "2023-06-05T13:00:41.266843Z",
     "iopub.status.busy": "2023-06-05T13:00:41.265315Z",
     "iopub.status.idle": "2023-06-05T13:00:50.391204Z",
     "shell.execute_reply": "2023-06-05T13:00:50.390378Z"
    }
   },
   "outputs": [],
   "source": [
    "# Compute NOE-statistics for individual conformers, show distributions\n",
    "rmsd = []\n",
    "mae = []\n",
    "mse = []\n",
    "fulfilled = []\n",
    "rmsd_stepwise = []\n",
    "results = {}\n",
    "for i in range(chem_info_t.n_frames):\n",
    "    NOE = copy.deepcopy(NOE_original)\n",
    "    if multiple:\n",
    "        NOE_trans, NOE_cis = NOE\n",
    "        NOE_cis_dict = NOE_cis.to_dict(orient=\"index\")\n",
    "        NOE_trans_dict = NOE_trans.to_dict(orient=\"index\")\n",
    "    else:\n",
    "        NOE_dict = NOE.to_dict(orient=\"index\")\n",
    "\n",
    "    current_conformer = chem_info_t[i]\n",
    "\n",
    "    if multiple:\n",
    "        if i in cis:\n",
    "            NOE = NOE_cis\n",
    "            NOE_dict = NOE_cis_dict\n",
    "        else:\n",
    "            NOE = NOE_trans\n",
    "            NOE_dict = NOE_trans_dict\n",
    "\n",
    "    NOE[\"md\"], _, _2, NOE_dist, _3 = src.noe.compute_NOE_mdtraj(\n",
    "        NOE_dict, current_conformer\n",
    "    )\n",
    "    # Deal with ambigous NOEs\n",
    "    NOE = NOE.explode(\"md\")\n",
    "    # and ambigous/multiple values\n",
    "    NOE = NOE.explode(\"NMR exp\")\n",
    "\n",
    "    # Remove duplicate values (keep value closest to experimental value)\n",
    "    NOE_test = NOE\n",
    "    if (NOE_test[\"NMR exp\"].to_numpy() == 0).all():\n",
    "        # if all exp values are 0: take middle between upper / lower bound as reference value\n",
    "        NOE_test[\"NMR exp\"] = (\n",
    "            NOE_test[\"upper bound\"] + NOE_test[\"lower bound\"]\n",
    "        ) * 0.5\n",
    "    NOE_test[\"dev\"] = NOE_test[\"md\"] - np.abs(NOE_test[\"NMR exp\"])\n",
    "    NOE_test[\"abs_dev\"] = np.abs(NOE_test[\"md\"] - np.abs(NOE_test[\"NMR exp\"]))\n",
    "\n",
    "    NOE_test = NOE_test.sort_values(\"abs_dev\", ascending=True)\n",
    "    NOE_test.index = NOE_test.index.astype(int)\n",
    "    NOE_test = NOE_test[~NOE_test.index.duplicated(keep=\"first\")].sort_index(\n",
    "        kind=\"mergesort\"\n",
    "    )\n",
    "\n",
    "    # drop NaN values:\n",
    "    NOE_test = NOE_test.dropna()\n",
    "\n",
    "    # Compute NOE statistics, since no bootstrap necessary, do a single iteration.. TODO: could clean this up further to pass 0, then just return the value...\n",
    "    RMSD, upper, lower = src.stats.compute_RMSD(\n",
    "        NOE_test[\"NMR exp\"], NOE_test[\"md\"], n_bootstrap=1\n",
    "    )\n",
    "    RMSD_stepwise, upper_step, lower_stepwise = src.stats.compute_RMSD_stepwise(\n",
    "        NOE_test, NOE_test[\"NMR exp\"], NOE_test[\"md\"], n_bootstrap=1\n",
    "    )\n",
    "    MAE, *_ = src.stats.compute_MAE(\n",
    "        NOE_test[\"NMR exp\"], NOE_test[\"md\"], n_bootstrap=1\n",
    "    )\n",
    "    MSE, *_ = src.stats.compute_MSE(NOE_test[\"dev\"], n_bootstrap=1)\n",
    "    fulfil = src.stats.compute_fulfilled_percentage(NOE_test)\n",
    "    rmsd.append(RMSD)\n",
    "    rmsd_stepwise.append(RMSD_stepwise)\n",
    "    mae.append(MAE)\n",
    "    mse.append(MSE)\n",
    "    fulfilled.append(fulfil)\n",
    "rmsd = np.array(rmsd)\n",
    "rmsd_stepwise = np.array(rmsd_stepwise)\n",
    "mae = np.array(mae)\n",
    "mse = np.array(mse)\n",
    "fulfilled = np.array(fulfilled)"
   ]
  },
  {
   "cell_type": "code",
   "execution_count": 7,
   "id": "16062f15",
   "metadata": {
    "execution": {
     "iopub.execute_input": "2023-06-05T13:00:50.395579Z",
     "iopub.status.busy": "2023-06-05T13:00:50.394982Z",
     "iopub.status.idle": "2023-06-05T13:00:50.414274Z",
     "shell.execute_reply": "2023-06-05T13:00:50.413591Z"
    }
   },
   "outputs": [
    {
     "data": {
      "text/html": [
       "<div>\n",
       "<style scoped>\n",
       "    .dataframe tbody tr th:only-of-type {\n",
       "        vertical-align: middle;\n",
       "    }\n",
       "\n",
       "    .dataframe tbody tr th {\n",
       "        vertical-align: top;\n",
       "    }\n",
       "\n",
       "    .dataframe thead th {\n",
       "        text-align: right;\n",
       "    }\n",
       "</style>\n",
       "<table border=\"1\" class=\"dataframe\">\n",
       "  <thead>\n",
       "    <tr style=\"text-align: right;\">\n",
       "      <th></th>\n",
       "      <th>Atom 1</th>\n",
       "      <th>Atom 2</th>\n",
       "      <th>NMR exp</th>\n",
       "      <th>lower bound</th>\n",
       "      <th>upper bound</th>\n",
       "      <th>md</th>\n",
       "      <th>dev</th>\n",
       "      <th>abs_dev</th>\n",
       "    </tr>\n",
       "  </thead>\n",
       "  <tbody>\n",
       "    <tr>\n",
       "      <th>0</th>\n",
       "      <td>(57,)</td>\n",
       "      <td>(50,)</td>\n",
       "      <td>3.47</td>\n",
       "      <td>3.17</td>\n",
       "      <td>3.77</td>\n",
       "      <td>2.420259</td>\n",
       "      <td>-1.049741</td>\n",
       "      <td>1.049741</td>\n",
       "    </tr>\n",
       "    <tr>\n",
       "      <th>1</th>\n",
       "      <td>(50,)</td>\n",
       "      <td>(37,)</td>\n",
       "      <td>2.76</td>\n",
       "      <td>2.61</td>\n",
       "      <td>2.91</td>\n",
       "      <td>2.599157</td>\n",
       "      <td>-0.160843</td>\n",
       "      <td>0.160843</td>\n",
       "    </tr>\n",
       "    <tr>\n",
       "      <th>2</th>\n",
       "      <td>(57,)</td>\n",
       "      <td>(1,)</td>\n",
       "      <td>2.50</td>\n",
       "      <td>2.39</td>\n",
       "      <td>2.61</td>\n",
       "      <td>3.779899</td>\n",
       "      <td>1.279899</td>\n",
       "      <td>1.279899</td>\n",
       "    </tr>\n",
       "    <tr>\n",
       "      <th>3</th>\n",
       "      <td>(1,)</td>\n",
       "      <td>(3,)</td>\n",
       "      <td>2.92</td>\n",
       "      <td>2.74</td>\n",
       "      <td>3.10</td>\n",
       "      <td>2.985684</td>\n",
       "      <td>0.065684</td>\n",
       "      <td>0.065684</td>\n",
       "    </tr>\n",
       "    <tr>\n",
       "      <th>4</th>\n",
       "      <td>(17,)</td>\n",
       "      <td>(19,)</td>\n",
       "      <td>2.92</td>\n",
       "      <td>2.74</td>\n",
       "      <td>3.10</td>\n",
       "      <td>2.231175</td>\n",
       "      <td>-0.688825</td>\n",
       "      <td>0.688825</td>\n",
       "    </tr>\n",
       "    <tr>\n",
       "      <th>...</th>\n",
       "      <td>...</td>\n",
       "      <td>...</td>\n",
       "      <td>...</td>\n",
       "      <td>...</td>\n",
       "      <td>...</td>\n",
       "      <td>...</td>\n",
       "      <td>...</td>\n",
       "      <td>...</td>\n",
       "    </tr>\n",
       "    <tr>\n",
       "      <th>29</th>\n",
       "      <td>(50,)</td>\n",
       "      <td>(19,)</td>\n",
       "      <td>3.85</td>\n",
       "      <td>3.43</td>\n",
       "      <td>4.27</td>\n",
       "      <td>4.321025</td>\n",
       "      <td>0.471025</td>\n",
       "      <td>0.471025</td>\n",
       "    </tr>\n",
       "    <tr>\n",
       "      <th>30</th>\n",
       "      <td>(57,)</td>\n",
       "      <td>(61, 62)</td>\n",
       "      <td>2.40</td>\n",
       "      <td>2.30</td>\n",
       "      <td>2.50</td>\n",
       "      <td>3.126626</td>\n",
       "      <td>0.726626</td>\n",
       "      <td>0.726626</td>\n",
       "    </tr>\n",
       "    <tr>\n",
       "      <th>30</th>\n",
       "      <td>(57,)</td>\n",
       "      <td>(61, 62)</td>\n",
       "      <td>2.40</td>\n",
       "      <td>2.30</td>\n",
       "      <td>2.50</td>\n",
       "      <td>3.171451</td>\n",
       "      <td>0.771451</td>\n",
       "      <td>0.771451</td>\n",
       "    </tr>\n",
       "    <tr>\n",
       "      <th>31</th>\n",
       "      <td>(57,)</td>\n",
       "      <td>(61, 62)</td>\n",
       "      <td>2.80</td>\n",
       "      <td>2.64</td>\n",
       "      <td>2.96</td>\n",
       "      <td>3.126626</td>\n",
       "      <td>0.326626</td>\n",
       "      <td>0.326626</td>\n",
       "    </tr>\n",
       "    <tr>\n",
       "      <th>31</th>\n",
       "      <td>(57,)</td>\n",
       "      <td>(61, 62)</td>\n",
       "      <td>2.80</td>\n",
       "      <td>2.64</td>\n",
       "      <td>2.96</td>\n",
       "      <td>3.171451</td>\n",
       "      <td>0.371451</td>\n",
       "      <td>0.371451</td>\n",
       "    </tr>\n",
       "  </tbody>\n",
       "</table>\n",
       "<p>62 rows × 8 columns</p>\n",
       "</div>"
      ],
      "text/plain": [
       "   Atom 1    Atom 2  NMR exp  lower bound  upper bound        md       dev  \\\n",
       "0   (57,)     (50,)     3.47         3.17         3.77  2.420259 -1.049741   \n",
       "1   (50,)     (37,)     2.76         2.61         2.91  2.599157 -0.160843   \n",
       "2   (57,)      (1,)     2.50         2.39         2.61  3.779899  1.279899   \n",
       "3    (1,)      (3,)     2.92         2.74         3.10  2.985684  0.065684   \n",
       "4   (17,)     (19,)     2.92         2.74         3.10  2.231175 -0.688825   \n",
       "..    ...       ...      ...          ...          ...       ...       ...   \n",
       "29  (50,)     (19,)     3.85         3.43         4.27  4.321025  0.471025   \n",
       "30  (57,)  (61, 62)     2.40         2.30         2.50  3.126626  0.726626   \n",
       "30  (57,)  (61, 62)     2.40         2.30         2.50  3.171451  0.771451   \n",
       "31  (57,)  (61, 62)     2.80         2.64         2.96  3.126626  0.326626   \n",
       "31  (57,)  (61, 62)     2.80         2.64         2.96  3.171451  0.371451   \n",
       "\n",
       "     abs_dev  \n",
       "0   1.049741  \n",
       "1   0.160843  \n",
       "2   1.279899  \n",
       "3   0.065684  \n",
       "4   0.688825  \n",
       "..       ...  \n",
       "29  0.471025  \n",
       "30  0.726626  \n",
       "30  0.771451  \n",
       "31  0.326626  \n",
       "31  0.371451  \n",
       "\n",
       "[62 rows x 8 columns]"
      ]
     },
     "execution_count": 7,
     "metadata": {},
     "output_type": "execute_result"
    }
   ],
   "source": [
    "NOE"
   ]
  },
  {
   "cell_type": "code",
   "execution_count": 8,
   "id": "72c516dd",
   "metadata": {
    "execution": {
     "iopub.execute_input": "2023-06-05T13:00:50.418527Z",
     "iopub.status.busy": "2023-06-05T13:00:50.417957Z",
     "iopub.status.idle": "2023-06-05T13:00:51.520247Z",
     "shell.execute_reply": "2023-06-05T13:00:51.519591Z"
    }
   },
   "outputs": [
    {
     "data": {
      "image/png": "[encoded data removed]",
      "text/plain": [
       "<Figure size 673.23x326.77 with 1 Axes>"
      ]
     },
     "metadata": {},
     "output_type": "display_data"
    }
   ],
   "source": [
    "# best choice\n",
    "if multiple:\n",
    "    if len(cis) > 0 and len(trans) > 0:\n",
    "        conformer_indices = [cis, trans]\n",
    "        dict_key = [\"cis\", \"trans\"]\n",
    "    elif len(cis) > 0 and len(trans) == 0:\n",
    "        conformer_indices = [cis]\n",
    "        dict_key = [\"cis\"]\n",
    "    elif len(trans) > 0 and len(cis) == 0:\n",
    "        conformer_indices = [trans]\n",
    "        dict_key = [\"trans\"]\n",
    "else:\n",
    "    conformer_indices = [np.arange(0, chem_info_t.n_frames)]\n",
    "    dict_key = [\"single\"]\n",
    "for key in dict_key:\n",
    "    results[key] = {}\n",
    "    results[key][\"fulfil\"] = {}\n",
    "    results[key][\"rmsd\"] = {}\n",
    "    results[key][\"rmsd_stepwise\"] = {}\n",
    "    results[key][\"mae\"] = {}\n",
    "for idx, ci in enumerate(conformer_indices):\n",
    "    best_fulfil = np.argmax(fulfilled[ci])\n",
    "    best_rmsd = np.argmin(rmsd[ci])\n",
    "    best_rmsd_stepwise = np.argmin(rmsd_stepwise[ci])\n",
    "    best_mae = np.argmin(mae[ci])\n",
    "    # Create dicts to store different values\n",
    "\n",
    "    # Save metrics\n",
    "    results[dict_key[idx]][\"fulfil\"][\"best\"] = max(fulfilled[ci])\n",
    "    results[dict_key[idx]][\"rmsd\"][\"best\"] = min(rmsd[ci])\n",
    "    results[dict_key[idx]][\"rmsd_stepwise\"][\"best\"] = min(rmsd_stepwise[ci])\n",
    "    results[dict_key[idx]][\"mae\"][\"best\"] = min(mae[ci])\n",
    "\n",
    "# Plot NOEs for single best conformer(s)\n",
    "if multiple:\n",
    "    if len(cis) > 0:\n",
    "        best_rmsd_cis = np.argmin(rmsd[cis])\n",
    "        best_rmsd_cis_stepwise = np.argmin(rmsd_stepwise[cis])\n",
    "        best_fulfilled_cis = np.argmax(fulfilled[cis])\n",
    "    #         results['cis'] = {'best': f\"{max(fulfilled[cis])}\"}\n",
    "\n",
    "    if len(trans) > 0:\n",
    "        best_rmsd_trans = np.argmin(rmsd[trans])\n",
    "        best_fulfilled_trans = np.argmax(fulfilled[trans])\n",
    "        best_rmsd_trans_stepwise = np.argmin(rmsd[trans])\n",
    "#         results['trans'] = {'best': f\"{max(fulfilled[trans])}\"}\n",
    "\n",
    "else:\n",
    "    best_rmsd = np.argmin(rmsd)\n",
    "    best_rmsd_stepwise = np.argmin(rmsd_stepwise)\n",
    "    best_fulfilled = np.argmax(fulfilled)\n",
    "#     results['single'] = {'best': f\"{max(fulfilled)}\"}\n",
    "# print(f\"best rmsd == best fulfilled: {best_rmsd == best_fulfilled}\")\n",
    "\n",
    "NOE = src.noe.read_NOE(snakemake.input.noe)\n",
    "if multiple:\n",
    "    NOE_trans, NOE_cis = NOE\n",
    "    NOE_cis_dict = NOE_cis.to_dict(orient=\"index\")\n",
    "    NOE_trans_dict = NOE_trans.to_dict(orient=\"index\")\n",
    "else:\n",
    "    NOE_dict = NOE.to_dict(orient=\"index\")\n",
    "if not multiple:\n",
    "    current_conformer = chem_info_t[best_fulfilled]\n",
    "    NOE[\"md\"], _, _2, NOE_dist, _3 = src.noe.compute_NOE_mdtraj(\n",
    "        NOE_dict, current_conformer\n",
    "    )\n",
    "    # Deal with ambigous NOEs\n",
    "    NOE = NOE.explode(\"md\")\n",
    "    # and ambigous/multiple values\n",
    "    NOE = NOE.explode(\"NMR exp\")\n",
    "\n",
    "    fig, ax = src.noe.plot_NOE(NOE)\n",
    "    fig.savefig(snakemake.output.best_NOE_plot, dpi=300)\n",
    "else:\n",
    "    if len(cis) > 0:\n",
    "        # cis\n",
    "        current_conformer = chem_info_t[best_fulfilled_cis]\n",
    "        NOE_cis[\"md\"], _, _2, NOE_dist, _3 = src.noe.compute_NOE_mdtraj(\n",
    "            NOE_cis_dict, current_conformer\n",
    "        )\n",
    "        # Deal with ambigous NOEs\n",
    "        NOE_cis = NOE_cis.explode(\"md\")\n",
    "        # and ambigous/multiple values\n",
    "        NOE_cis = NOE_cis.explode(\"NMR exp\")\n",
    "    if len(trans) > 0:\n",
    "        # trans\n",
    "        current_conformer = chem_info_t[best_fulfilled_trans]\n",
    "        NOE_trans[\"md\"], _, _2, NOE_dist, _3 = src.noe.compute_NOE_mdtraj(\n",
    "            NOE_trans_dict, current_conformer\n",
    "        )\n",
    "        # Deal with ambigous NOEs\n",
    "        NOE_trans = NOE_trans.explode(\"md\")\n",
    "        # and ambigous/multiple values\n",
    "        NOE_trans = NOE_trans.explode(\"NMR exp\")\n",
    "\n",
    "    fig, ax = plt.subplots(2, 1)\n",
    "    ax[0].set_title(\"cis\")\n",
    "    ax[1].set_title(\"trans\")\n",
    "    if len(cis) > 0:\n",
    "        fig, ax[0] = src.noe.plot_NOE(NOE_cis, fig, ax[0])\n",
    "    if len(trans) > 0:\n",
    "        fig, ax[1] = src.noe.plot_NOE(NOE_trans, fig, ax[1])\n",
    "    fig.tight_layout()\n",
    "    fig.savefig(snakemake.output.best_NOE_plot, dpi=300)"
   ]
  },
  {
   "cell_type": "code",
   "execution_count": 9,
   "id": "9ded55a0",
   "metadata": {
    "execution": {
     "iopub.execute_input": "2023-06-05T13:00:51.526113Z",
     "iopub.status.busy": "2023-06-05T13:00:51.524601Z",
     "iopub.status.idle": "2023-06-05T13:00:52.269073Z",
     "shell.execute_reply": "2023-06-05T13:00:52.268170Z"
    },
    "scrolled": true
   },
   "outputs": [
    {
     "data": {
      "image/png": "[encoded data removed]",
      "text/plain": [
       "<Figure size 800x400 with 5 Axes>"
      ]
     },
     "metadata": {},
     "output_type": "display_data"
    }
   ],
   "source": [
    "# Plot distributions of NOE statistics\n",
    "if multiple:\n",
    "    fig, axs = plt.subplots(2, 5)\n",
    "else:\n",
    "    fig, axs = plt.subplots(1, 5)\n",
    "fig.set_size_inches(8, 4)\n",
    "if multiple:\n",
    "    if len(cis) > 0:\n",
    "        axs[0][0].violinplot(rmsd[cis], showmeans=True)\n",
    "        axs[0][0].set_ylabel(\"RMSD [$\\AA$]\")\n",
    "        axs[0][0].set_title(\"RMSD\")\n",
    "        fig.suptitle(\n",
    "            f\"Compound {snakemake.wildcards.compound}. {snakemake.wildcards.confgen.capitalize()}. top:cis, bottom:trans\"\n",
    "        )  # -{snakemake.wildcards.mode}\n",
    "\n",
    "        axs[0][1].violinplot(mae[cis], showmeans=True)\n",
    "        axs[0][1].set_ylabel(\"MAE [$\\AA$]\")\n",
    "        axs[0][1].set_title(\"MAE\")\n",
    "\n",
    "        axs[0][2].violinplot(mse[cis], showmeans=True)\n",
    "        axs[0][2].set_ylabel(\"MSE [$\\AA$]\")\n",
    "        axs[0][2].set_title(\"MSE\")\n",
    "\n",
    "        axs[0][3].violinplot(fulfilled[cis], showmeans=True)\n",
    "        axs[0][3].set_ylabel(\"% NOE fulfilled [1/100 %]\")\n",
    "        axs[0][3].set_title(\"fulfilled NOEs\")\n",
    "\n",
    "        axs[0][4].violinplot(rmsd_stepwise[cis], showmeans=True)\n",
    "        axs[0][4].set_ylabel(\"RMSD stepwise [$\\AA$]\")\n",
    "        axs[0][4].set_title(\"RMSD stepwise\")\n",
    "\n",
    "    if len(trans) > 0:\n",
    "        # trans\n",
    "        axs[1][0].violinplot(rmsd[trans], showmeans=True)\n",
    "        axs[1][0].set_ylabel(\"RMSD [$\\AA$]\")\n",
    "        axs[1][0].set_title(\"RMSD\")\n",
    "\n",
    "        axs[1][1].violinplot(mae[trans], showmeans=True)\n",
    "        axs[1][1].set_ylabel(\"MAE [$\\AA$]\")\n",
    "        axs[1][1].set_title(\"MAE\")\n",
    "\n",
    "        axs[1][2].violinplot(mse[trans], showmeans=True)\n",
    "        axs[1][2].set_ylabel(\"MSE [$\\AA$]\")\n",
    "        axs[1][2].set_title(\"MSE\")\n",
    "\n",
    "        axs[1][3].violinplot(fulfilled[trans], showmeans=True)\n",
    "        axs[1][3].set_ylabel(\"% NOE fulfilled [1/100 %]\")\n",
    "        axs[1][3].set_title(\"% NOE fulfilled\")\n",
    "\n",
    "        axs[1][4].violinplot(rmsd_stepwise[trans], showmeans=True)\n",
    "        axs[1][4].set_ylabel(\"RMSD stepwise [$\\AA$]\")\n",
    "        axs[1][4].set_title(\"RMSD stepwise\")\n",
    "else:\n",
    "    axs[0].violinplot(rmsd, showmeans=True)\n",
    "    axs[0].set_ylabel(\"RMSD [$\\AA$]\")\n",
    "    axs[0].set_title(\"RMSD\")\n",
    "    fig.suptitle(\n",
    "        f\"Compound {snakemake.wildcards.compound.capitalize()}. {snakemake.wildcards.confgen.capitalize()}\"\n",
    "    )  # -{snakemake.wildcards.mode}\n",
    "\n",
    "    axs[1].violinplot(mae, showmeans=True)\n",
    "    axs[1].set_ylabel(\"MAE [$\\AA$]\")\n",
    "    axs[1].set_title(\"MAE\")\n",
    "\n",
    "    axs[2].violinplot(mse, showmeans=True)\n",
    "    axs[2].set_ylabel(\"MSE [$\\AA$]\")\n",
    "    axs[2].set_title(\"MSE\")\n",
    "\n",
    "    axs[3].violinplot(fulfilled, showmeans=True)\n",
    "    axs[3].set_ylabel(\"% NOE fulfilled [1/100 %]\")\n",
    "    axs[3].set_title(\"% NOE fulfilled\")\n",
    "\n",
    "    axs[4].violinplot(rmsd_stepwise, showmeans=True)\n",
    "    axs[4].set_ylabel(\"RMSD stepwise [$\\AA$]\")\n",
    "    axs[4].set_title(\"RMSD stepwise\")\n",
    "    \n",
    "for ax in axs.flatten():\n",
    "    ax.get_xaxis().set_visible(False)\n",
    "fig.tight_layout()\n",
    "fig.savefig(snakemake.output.NOE_violin_plot, dpi=300)"
   ]
  },
  {
   "cell_type": "code",
   "execution_count": 10,
   "id": "50a909f7",
   "metadata": {
    "execution": {
     "iopub.execute_input": "2023-06-05T13:00:52.273720Z",
     "iopub.status.busy": "2023-06-05T13:00:52.273363Z",
     "iopub.status.idle": "2023-06-05T13:00:52.290864Z",
     "shell.execute_reply": "2023-06-05T13:00:52.290062Z"
    }
   },
   "outputs": [],
   "source": [
    "# Bundle analysis\n",
    "bundle_sizes = [1, 3, 5, 10, 30]\n",
    "\n",
    "\n",
    "def bundle_analysis(indices, NOE=None, regular_average=False, weights=None):\n",
    "    \"\"\"\n",
    "    perform bundle analysis for given conformer indices.\n",
    "    optionally can pass a NOE object.\n",
    "    Performs NOE averaging by default. Set regular_average=True to perform simple mean computation.\n",
    "    optionally pass weights to weigh list of indices. (not yet implements..)\n",
    "    \"\"\"\n",
    "    if NOE is None:\n",
    "        NOE = NOE_original\n",
    "    if multiple:\n",
    "        NOE_trans, NOE_cis = NOE\n",
    "        NOE_cis_dict = NOE_cis.to_dict(orient=\"index\")\n",
    "        NOE_trans_dict = NOE_trans.to_dict(orient=\"index\")\n",
    "    else:\n",
    "        NOE_dict = NOE.to_dict(orient=\"index\")\n",
    "\n",
    "    # select conformers\n",
    "    current_conformer = chem_info_t[indices]\n",
    "\n",
    "    if multiple:\n",
    "        if indices[0] in cis:\n",
    "            NOE = NOE_cis\n",
    "            NOE_dict = NOE_cis_dict\n",
    "        else:\n",
    "            NOE = NOE_trans\n",
    "            NOE_dict = NOE_trans_dict\n",
    "    if regular_average:\n",
    "        NOE[\"md\"], _, _2, NOE_dist, _3 = src.noe.compute_NOE_mdtraj(\n",
    "            NOE_dict, current_conformer, reweigh_type=3, weight_data=weights\n",
    "        )\n",
    "    else:\n",
    "        NOE[\"md\"], _, _2, NOE_dist, _3 = src.noe.compute_NOE_mdtraj(\n",
    "            NOE_dict, current_conformer, reweigh_type=0, weight_data=weights\n",
    "        )\n",
    "    # Deal with ambigous NOEs\n",
    "    NOE = NOE.explode(\"md\")\n",
    "    # and ambigous/multiple values\n",
    "    NOE = NOE.explode(\"NMR exp\")\n",
    "\n",
    "    # Remove duplicate values (keep value closest to experimental value)\n",
    "    NOE_test = NOE\n",
    "    if (NOE_test[\"NMR exp\"].to_numpy() == 0).all():\n",
    "        # if all exp values are 0: take middle between upper / lower bound as reference value\n",
    "        NOE_test[\"NMR exp\"] = (\n",
    "            NOE_test[\"upper bound\"] + NOE_test[\"lower bound\"]\n",
    "        ) * 0.5\n",
    "    NOE_test[\"dev\"] = NOE_test[\"md\"] - np.abs(NOE_test[\"NMR exp\"])\n",
    "    NOE_test[\"abs_dev\"] = np.abs(NOE_test[\"md\"] - np.abs(NOE_test[\"NMR exp\"]))\n",
    "\n",
    "    NOE_test = NOE_test.sort_values(\"abs_dev\", ascending=True)\n",
    "    NOE_test.index = NOE_test.index.astype(int)\n",
    "    NOE_test = NOE_test[~NOE_test.index.duplicated(keep=\"first\")].sort_index(\n",
    "        kind=\"mergesort\"\n",
    "    )\n",
    "\n",
    "    # drop NaN values:\n",
    "    NOE_test = NOE_test.dropna()\n",
    "\n",
    "    # Compute NOE statistics, since no bootstrap necessary, do a single iteration.. TODO: could clean this up further to pass 0, then just return the value...\n",
    "    RMSD, upper, lower = src.stats.compute_RMSD(\n",
    "        NOE_test[\"NMR exp\"], NOE_test[\"md\"], n_bootstrap=1\n",
    "    )\n",
    "    RMSD_stepwise, *_ = src.stats.compute_RMSD_stepwise(NOE_test, NOE_test[\"NMR exp\"], NOE_test[\"md\"], n_bootstrap=1)\n",
    "    MAE, *_ = src.stats.compute_MAE(\n",
    "        NOE_test[\"NMR exp\"], NOE_test[\"md\"], n_bootstrap=1\n",
    "    )\n",
    "    MSE, *_ = src.stats.compute_MSE(NOE_test[\"dev\"], n_bootstrap=1)\n",
    "    fulfil = src.stats.compute_fulfilled_percentage(NOE_test)\n",
    "    return {\"rmsd\": RMSD, \"mae\": MAE, \"mse\": MSE, \"fulfil\": fulfil, \"rmsd_stepwise\": RMSD_stepwise}"
   ]
  },
  {
   "cell_type": "code",
   "execution_count": 11,
   "id": "5ebe67c8",
   "metadata": {
    "execution": {
     "iopub.execute_input": "2023-06-05T13:00:52.297424Z",
     "iopub.status.busy": "2023-06-05T13:00:52.295746Z",
     "iopub.status.idle": "2023-06-05T13:01:01.299890Z",
     "shell.execute_reply": "2023-06-05T13:01:01.298888Z"
    }
   },
   "outputs": [],
   "source": [
    "# Random choice\n",
    "if multiple:\n",
    "    if len(cis) > 0 and len(trans) > 0:\n",
    "        conformer_indices = [cis, trans]\n",
    "        dict_key = [\"cis\", \"trans\"]\n",
    "    elif len(cis) > 0 and len(trans) == 0:\n",
    "        conformer_indices = [cis]\n",
    "        dict_key = [\"cis\"]\n",
    "    elif len(trans) > 0 and len(cis) == 0:\n",
    "        conformer_indices = [trans]\n",
    "        dict_key = [\"trans\"]\n",
    "else:\n",
    "    conformer_indices = [np.arange(0, chem_info_t.n_frames)]\n",
    "    dict_key = [\"single\"]\n",
    "for idx, ci in enumerate(conformer_indices):\n",
    "    random_choice_fulfil = []\n",
    "    random_choice_rmsd = []\n",
    "    random_choice_rmsd_stepwise = []\n",
    "    random_choice_mae = []\n",
    "    for bundle_size in bundle_sizes:\n",
    "        fulfil_total = []\n",
    "        rmsd_total = []\n",
    "        rmsd_stepwise_total = []\n",
    "        mae_total = []\n",
    "        for i in range(10):\n",
    "            # conformer_indices = np.arange(0,chem_info_t.n_frames)\n",
    "            # random bundle\n",
    "            # from numpy.random import default_rng\n",
    "            rng = np.random.default_rng()\n",
    "            # If there a only a few conformers available (less than bundle size),\n",
    "            # set bundle_size to max. available conformers\n",
    "            if bundle_size > len(ci):\n",
    "                bundle_size = len(ci)\n",
    "            indices_selection = rng.choice(ci, bundle_size, replace=False)\n",
    "            indices_selection.sort()\n",
    "            fulfil_total.append(bundle_analysis(indices_selection)[\"fulfil\"])\n",
    "            rmsd_total.append(bundle_analysis(indices_selection)[\"rmsd\"])\n",
    "            rmsd_stepwise_total.append(bundle_analysis(indices_selection)[\"rmsd_stepwise\"])\n",
    "            mae_total.append(bundle_analysis(indices_selection)[\"mae\"])\n",
    "        fulfil_total = np.array(fulfil_total)\n",
    "        rmsd_total = np.array(rmsd_total)\n",
    "        rmsd_stepwise_total = np.array(rmsd_stepwise_total)\n",
    "        mae_total = np.array(mae_total)\n",
    "        random_choice_fulfil.append(fulfil_total.mean())\n",
    "        random_choice_rmsd.append(rmsd_total.mean())\n",
    "        random_choice_rmsd_stepwise.append(rmsd_stepwise_total.mean())\n",
    "        random_choice_mae.append(mae_total.mean())\n",
    "    results[dict_key[idx]][\"bundle-size\"] = bundle_sizes\n",
    "\n",
    "    results[dict_key[idx]][\"fulfil\"][\"random\"] = random_choice_fulfil\n",
    "    results[dict_key[idx]][\"rmsd\"][\"random\"] = random_choice_rmsd\n",
    "    results[dict_key[idx]][\"rmsd_stepwise\"][\"random\"] = random_choice_rmsd_stepwise\n",
    "    results[dict_key[idx]][\"mae\"][\"random\"] = random_choice_mae"
   ]
  },
  {
   "cell_type": "code",
   "execution_count": 12,
   "id": "e3ea87d3",
   "metadata": {
    "execution": {
     "iopub.execute_input": "2023-06-05T13:01:01.304973Z",
     "iopub.status.busy": "2023-06-05T13:01:01.304627Z",
     "iopub.status.idle": "2023-06-05T13:01:02.210020Z",
     "shell.execute_reply": "2023-06-05T13:01:02.209205Z"
    }
   },
   "outputs": [],
   "source": [
    "# Lowest energy conformers\n",
    "if multiple:\n",
    "    if len(cis) > 0 and len(trans) > 0:\n",
    "        conformer_indices = [cis, trans]\n",
    "        dict_key = [\"cis\", \"trans\"]\n",
    "    elif len(cis) > 0 and len(trans) == 0:\n",
    "        conformer_indices = [cis]\n",
    "        dict_key = [\"cis\"]\n",
    "    elif len(trans) > 0 and len(cis) == 0:\n",
    "        conformer_indices = [trans]\n",
    "        dict_key = [\"trans\"]\n",
    "else:\n",
    "    conformer_indices = [np.arange(0, chem_info_t.n_frames)]\n",
    "    dict_key = [\"single\"]\n",
    "for idx, ci in enumerate(conformer_indices):\n",
    "    energy_choice_fulfil = []\n",
    "    energy_choice_rmsd = []\n",
    "    energy_choice_rmsd_stepwise = []\n",
    "    energy_choice_mae = []\n",
    "    relevant_energies = energies[ci]\n",
    "    # print(ci)\n",
    "    for bundle_size in bundle_sizes:\n",
    "        # If there a only a few conformers available (less than bundle size),\n",
    "        # set bundle_size to max. available conformers\n",
    "        if bundle_size > len(ci):\n",
    "            bundle_size = len(ci)\n",
    "        # get indices of the {bundle_size} smallest elements of energies\n",
    "        ind = np.argsort(relevant_energies)\n",
    "        min_energies_indices = ci[ind][:bundle_size]\n",
    "        # ind = np.argpartition(relevant_energies, bundle_size)[:bundle_size]\n",
    "        # min_energies_indices = ind[np.argsort(relevant_energies[ind])]\n",
    "        # print(min_energies_indices)\n",
    "        energy_choice_fulfil.append(\n",
    "            bundle_analysis(min_energies_indices)[\"fulfil\"]\n",
    "        )\n",
    "        energy_choice_rmsd.append(\n",
    "            bundle_analysis(min_energies_indices)[\"rmsd\"]\n",
    "        )\n",
    "        energy_choice_rmsd_stepwise.append(\n",
    "            bundle_analysis(min_energies_indices)[\"rmsd_stepwise\"]\n",
    "        )\n",
    "        energy_choice_mae.append(bundle_analysis(min_energies_indices)[\"mae\"])\n",
    "\n",
    "    results[dict_key[idx]][\"fulfil\"][\"low_energy\"] = energy_choice_fulfil\n",
    "    results[dict_key[idx]][\"rmsd\"][\"low_energy\"] = energy_choice_rmsd\n",
    "    results[dict_key[idx]][\"rmsd_stepwise\"][\"low_energy\"] = energy_choice_rmsd_stepwise\n",
    "    results[dict_key[idx]][\"mae\"][\"low_energy\"] = energy_choice_mae"
   ]
  },
  {
   "cell_type": "code",
   "execution_count": 13,
   "id": "50704581",
   "metadata": {
    "execution": {
     "iopub.execute_input": "2023-06-05T13:01:02.215548Z",
     "iopub.status.busy": "2023-06-05T13:01:02.214338Z",
     "iopub.status.idle": "2023-06-05T13:01:03.100409Z",
     "shell.execute_reply": "2023-06-05T13:01:03.099619Z"
    }
   },
   "outputs": [],
   "source": [
    "# LICUV\n",
    "if multiple:\n",
    "    if len(cis) > 0 and len(trans) > 0:\n",
    "        conformer_indices = [cis, trans]\n",
    "        dict_key = [\"cis\", \"trans\"]\n",
    "    elif len(cis) > 0 and len(trans) == 0:\n",
    "        conformer_indices = [cis]\n",
    "        dict_key = [\"cis\"]\n",
    "    elif len(trans) > 0 and len(cis) == 0:\n",
    "        conformer_indices = [trans]\n",
    "        dict_key = [\"trans\"]\n",
    "else:\n",
    "    conformer_indices = [np.arange(0, chem_info_t.n_frames)]\n",
    "    dict_key = [\"single\"]\n",
    "for idx, ci in enumerate(conformer_indices):\n",
    "    licuv_choice_fulfil = []\n",
    "    licuv_choice_rmsd = []\n",
    "    licuv_choice_rmsd_stepwise = []\n",
    "    licuv_choice_mae = []\n",
    "    relevant_fulfilled_values = fulfilled[ci]\n",
    "    # print(ci)\n",
    "    for bundle_size in bundle_sizes:\n",
    "        # If there a only a few conformers available (less than bundle size),\n",
    "        # set bundle_size to max. available conformers\n",
    "        if bundle_size > len(ci):\n",
    "            bundle_size = len(ci)\n",
    "        # get indices of the {bundle_size} smallest elements of energies\n",
    "        ind = np.argsort(relevant_fulfilled_values)\n",
    "        max_fulfill_indices = ci[ind][-bundle_size:]\n",
    "\n",
    "        licuv_choice_fulfil.append(\n",
    "            bundle_analysis(max_fulfill_indices)[\"fulfil\"]\n",
    "        )\n",
    "        licuv_choice_rmsd.append(bundle_analysis(max_fulfill_indices)[\"rmsd\"])\n",
    "        licuv_choice_rmsd_stepwise.append(bundle_analysis(max_fulfill_indices)[\"rmsd_stepwise\"])\n",
    "        licuv_choice_mae.append(bundle_analysis(max_fulfill_indices)[\"mae\"])\n",
    "\n",
    "    results[dict_key[idx]][\"fulfil\"][\"LICUV\"] = licuv_choice_fulfil\n",
    "    results[dict_key[idx]][\"rmsd\"][\"LICUV\"] = licuv_choice_rmsd\n",
    "    results[dict_key[idx]][\"rmsd_stepwise\"][\"LICUV\"] = licuv_choice_rmsd_stepwise\n",
    "    results[dict_key[idx]][\"mae\"][\"LICUV\"] = licuv_choice_mae"
   ]
  },
  {
   "cell_type": "code",
   "execution_count": 14,
   "id": "4b9588d2",
   "metadata": {
    "execution": {
     "iopub.execute_input": "2023-06-05T13:01:03.105328Z",
     "iopub.status.busy": "2023-06-05T13:01:03.104445Z",
     "iopub.status.idle": "2023-06-05T13:01:03.126325Z",
     "shell.execute_reply": "2023-06-05T13:01:03.125576Z"
    }
   },
   "outputs": [],
   "source": [
    "# NAMFIS, adapted from Riniker:2022\n",
    "def Namfis(indices):\n",
    "    traj = chem_info_t[indices]\n",
    "    # extract NOE distances for every conformer\n",
    "    NOEs = []\n",
    "    for current_conformer in traj:\n",
    "        # Reload NOE data\n",
    "        NOE = NOE_original\n",
    "        if multiple:\n",
    "            NOE_trans, NOE_cis = NOE\n",
    "            NOE_cis_dict = NOE_cis.to_dict(orient=\"index\")\n",
    "            NOE_trans_dict = NOE_trans.to_dict(orient=\"index\")\n",
    "        else:\n",
    "            NOE_dict = NOE.to_dict(orient=\"index\")\n",
    "        if multiple:\n",
    "            if indices[0] in cis:\n",
    "                NOE = NOE_cis\n",
    "                NOE_dict = NOE_cis_dict\n",
    "            else:\n",
    "                NOE = NOE_trans\n",
    "                NOE_dict = NOE_trans_dict\n",
    "        # Compute NOEs for current conformer\n",
    "        NOE[\"md\"], *_ = src.noe.compute_NOE_mdtraj(NOE_dict, current_conformer)\n",
    "\n",
    "        # Deal with ambigous NOEs\n",
    "        NOE = NOE.explode(\"md\")\n",
    "        # and ambigous/multiple values\n",
    "        NOE = NOE.explode(\"NMR exp\")\n",
    "        # Remove duplicate values (keep value closest to experimental value)\n",
    "        if (NOE[\"NMR exp\"].to_numpy() == 0).all():\n",
    "            # if all exp values are 0: take middle between upper / lower bound as reference value\n",
    "            NOE[\"NMR exp\"] = (NOE[\"upper bound\"] + NOE[\"lower bound\"]) * 0.5\n",
    "        NOE[\"dev\"] = NOE[\"md\"] - np.abs(NOE[\"NMR exp\"])\n",
    "        NOE[\"abs_dev\"] = np.abs(NOE[\"md\"] - np.abs(NOE[\"NMR exp\"]))\n",
    "        NOE = NOE.sort_values(\"abs_dev\", ascending=True)\n",
    "        NOE.index = NOE.index.astype(int)\n",
    "        NOE = NOE[~NOE.index.duplicated(keep=\"first\")].sort_index(\n",
    "            kind=\"mergesort\"\n",
    "        )\n",
    "        # drop NaN values:\n",
    "        NOE = NOE.dropna()\n",
    "        NOEs.append(NOE[\"md\"].values)\n",
    "    NOEs = np.array(NOEs)\n",
    "\n",
    "    # set NAMFIS parameters\n",
    "    tolerance = 3.0\n",
    "    ref_distances_ce = NOE[\"NMR exp\"].values\n",
    "    # define error scale factor for distances in different ranges\n",
    "    errors_ce = np.ones(len(ref_distances_ce)) * 0.4\n",
    "    errors_ce[ref_distances_ce < 6.0] = 0.4\n",
    "    errors_ce[ref_distances_ce < 3.5] = 0.3\n",
    "    errors_ce[ref_distances_ce < 3.0] = 0.2\n",
    "    errors_ce[ref_distances_ce < 2.5] = 0.1\n",
    "    # set distances_ce\n",
    "    distances_ce = NOEs\n",
    "\n",
    "    # Define NAMFIS objective\n",
    "    def objective(w):  # w is weights\n",
    "        deviation = ref_distances_ce - np.average(\n",
    "            distances_ce, weights=w, axis=0\n",
    "        )\n",
    "        deviation /= errors_ce\n",
    "        #     deviation = np.heaviside(deviation, 0) * deviation #only penalise upper violation\n",
    "        #     return np.sum(deviation**2) #squared deviation\n",
    "        return np.linalg.norm(deviation)  # square rooted\n",
    "\n",
    "    # Set constraints\n",
    "    cons = [\n",
    "        {\"type\": \"eq\", \"fun\": lambda w: np.sum(w) - 1}\n",
    "    ]  # weights add up to 1\n",
    "\n",
    "    cons += [  # does not allow any violation\n",
    "        {\n",
    "            \"type\": \"ineq\",\n",
    "            \"fun\": lambda w: (errors_ce + tolerance)\n",
    "            - np.absolute(\n",
    "                np.average(distances_ce, weights=w, axis=0) - ref_distances_ce\n",
    "            ),\n",
    "        }\n",
    "    ]\n",
    "\n",
    "    #     cons += [ #does not allow only upper violations\n",
    "    #                 {'type':'ineq','fun': lambda w: ref_distances_ce - np.average(distances_ce, weights = w, axis = 0) - tolerance}\n",
    "    #     ]\n",
    "\n",
    "    weights = (\n",
    "        np.random.uniform(low=0, high=1, size=len(distances_ce))\n",
    "        / len(distances_ce)\n",
    "        * 2\n",
    "    )  # uniform weights at start\n",
    "    # print(sum(weights))\n",
    "\n",
    "    # Run optimizaton\n",
    "    out = minimize(\n",
    "        objective,\n",
    "        weights,\n",
    "        constraints=tuple(cons),\n",
    "        bounds=tuple(\n",
    "            (0, 1) for _ in range(len(weights))\n",
    "        ),  # each weight constraint\n",
    "        method=\"SLSQP\",\n",
    "    )\n",
    "\n",
    "    if not out[\"success\"]:\n",
    "        logger.error(\"NAMFIS failed: {}\".format(out[\"message\"]))\n",
    "\n",
    "    weights = out[\"x\"]\n",
    "    num_conf = len(indices)\n",
    "    # list(zip([int(i) for i in np.argsort(-1 * weights)[:num_conf]], weights[np.argsort(weights * -1)[:num_conf]]))\n",
    "    return list(\n",
    "        zip(\n",
    "            [int(i) for i in np.argsort(-1 * weights)[:num_conf]],\n",
    "            weights[np.argsort(weights * -1)[:num_conf]],\n",
    "        )\n",
    "    )"
   ]
  },
  {
   "cell_type": "code",
   "execution_count": 15,
   "id": "533d6b37",
   "metadata": {
    "execution": {
     "iopub.execute_input": "2023-06-05T13:01:03.130591Z",
     "iopub.status.busy": "2023-06-05T13:01:03.130053Z",
     "iopub.status.idle": "2023-06-05T13:01:54.163521Z",
     "shell.execute_reply": "2023-06-05T13:01:54.162649Z"
    }
   },
   "outputs": [
    {
     "name": "stdout",
     "output_type": "stream",
     "text": [
      "1\n",
      "3\n",
      "5\n",
      "10\n",
      "30\n"
     ]
    }
   ],
   "source": [
    "# NAMFIS run\n",
    "if multiple:\n",
    "    if len(cis) > 0 and len(trans) > 0:\n",
    "        conformer_indices = [cis, trans]\n",
    "        dict_key = [\"cis\", \"trans\"]\n",
    "    elif len(cis) > 0 and len(trans) == 0:\n",
    "        conformer_indices = [cis]\n",
    "        dict_key = [\"cis\"]\n",
    "    elif len(trans) > 0 and len(cis) == 0:\n",
    "        conformer_indices = [trans]\n",
    "        dict_key = [\"trans\"]\n",
    "else:\n",
    "    conformer_indices = [np.arange(0, chem_info_t.n_frames)]\n",
    "    dict_key = [\"single\"]\n",
    "for idx, ci in enumerate(conformer_indices):\n",
    "    namfis_choice_fulfil = []\n",
    "    namfis_choice_rmsd = []\n",
    "    namfis_choice_rmsd_stepwise = []\n",
    "    namfis_choice_mae = []\n",
    "    namfis_results = Namfis(ci)\n",
    "    for bundle_size in bundle_sizes:\n",
    "        # If there a only a few conformers available (less than bundle size),\n",
    "        # set bundle_size to max. available conformers\n",
    "        if bundle_size > len(ci):\n",
    "            bundle_size = len(ci)\n",
    "        indices = [a[0] for a in namfis_results[:bundle_size]]\n",
    "        weights = [a[1] for a in namfis_results[:bundle_size]]\n",
    "        print(bundle_size)\n",
    "        if bundle_size == 1:\n",
    "            weights = None\n",
    "        namfis_choice_fulfil.append(\n",
    "            bundle_analysis(indices, regular_average=False, weights=weights)[\n",
    "                \"fulfil\"\n",
    "            ]\n",
    "        )\n",
    "        namfis_choice_rmsd.append(\n",
    "            bundle_analysis(indices, regular_average=False, weights=weights)[\n",
    "                \"rmsd\"\n",
    "            ]\n",
    "        )\n",
    "        namfis_choice_rmsd_stepwise.append(\n",
    "            bundle_analysis(indices, regular_average=False, weights=weights)[\n",
    "                \"rmsd_stepwise\"\n",
    "            ]\n",
    "        )\n",
    "        namfis_choice_mae.append(\n",
    "            bundle_analysis(indices, regular_average=False, weights=weights)[\n",
    "                \"mae\"\n",
    "            ]\n",
    "        )\n",
    "\n",
    "    results[dict_key[idx]][\"fulfil\"][\"NAMFIS\"] = namfis_choice_fulfil\n",
    "    results[dict_key[idx]][\"rmsd\"][\"NAMFIS\"] = namfis_choice_rmsd\n",
    "    results[dict_key[idx]][\"rmsd_stepwise\"][\"NAMFIS\"] = namfis_choice_rmsd_stepwise\n",
    "    results[dict_key[idx]][\"mae\"][\"NAMFIS\"] = namfis_choice_mae"
   ]
  },
  {
   "cell_type": "code",
   "execution_count": 16,
   "id": "a84dbe84",
   "metadata": {
    "execution": {
     "iopub.execute_input": "2023-06-05T13:01:54.168802Z",
     "iopub.status.busy": "2023-06-05T13:01:54.167227Z",
     "iopub.status.idle": "2023-06-05T13:01:54.178599Z",
     "shell.execute_reply": "2023-06-05T13:01:54.177793Z"
    }
   },
   "outputs": [
    {
     "data": {
      "text/plain": [
       "{'single': {'fulfil': {'best': 0.65625,\n",
       "   'random': [0.34375, 0.384375, 0.415625, 0.428125, 0.434375],\n",
       "   'low_energy': [0.34375, 0.46875, 0.5, 0.5, 0.53125],\n",
       "   'LICUV': [0.65625, 0.6875, 0.53125, 0.65625, 0.625],\n",
       "   'NAMFIS': [0.65625, 0.75, 0.6875, 0.75, 0.75]},\n",
       "  'rmsd': {'best': 0.265191323720278,\n",
       "   'random': [0.669983151392684,\n",
       "    0.495558475731951,\n",
       "    0.4160601840123361,\n",
       "    0.3635379481818431,\n",
       "    0.35384212306465884],\n",
       "   'low_energy': [0.46975709794268505,\n",
       "    0.5472155262142677,\n",
       "    0.5251879691720631,\n",
       "    0.43777123014621466,\n",
       "    0.3777797682987443],\n",
       "   'LICUV': [0.265191323720278,\n",
       "    0.2483247889052715,\n",
       "    0.2363930780467275,\n",
       "    0.22016806255621454,\n",
       "    0.23192294138524244],\n",
       "   'NAMFIS': [0.265191323720278,\n",
       "    0.2167294277064187,\n",
       "    0.2128130987775667,\n",
       "    0.1824609417549892,\n",
       "    0.1805849330404587]},\n",
       "  'rmsd_stepwise': {'best': 0.10971554128745843,\n",
       "   'random': [0.17611023509014948,\n",
       "    0.16605557354277123,\n",
       "    0.16027686797610738,\n",
       "    0.15611029365842952,\n",
       "    0.14922905039086626],\n",
       "   'low_energy': [0.18375425165149242,\n",
       "    0.15134810867665313,\n",
       "    0.14866068747318506,\n",
       "    0.14900713070185603,\n",
       "    0.14230249470757708],\n",
       "   'LICUV': [0.11788500752852331,\n",
       "    0.09536115561380326,\n",
       "    0.12549900398011132,\n",
       "    0.1046123797645384,\n",
       "    0.10550473923004597],\n",
       "   'NAMFIS': [0.11788500752852331,\n",
       "    0.10526751635713648,\n",
       "    0.11263880326068808,\n",
       "    0.0804479645485204,\n",
       "    0.0804479645485204]},\n",
       "  'mae': {'best': 0.2043990814685821,\n",
       "   'random': [0.47184324401617034,\n",
       "    0.3712862339737756,\n",
       "    0.3149594737762058,\n",
       "    0.2914592094780277,\n",
       "    0.27900706131221276],\n",
       "   'low_energy': [0.358798103928566,\n",
       "    0.3818014759168229,\n",
       "    0.37183243774382807,\n",
       "    0.33859152944342835,\n",
       "    0.29456048229377735],\n",
       "   'LICUV': [0.2043990814685821,\n",
       "    0.1929005296899558,\n",
       "    0.19215478154735233,\n",
       "    0.16797963930388132,\n",
       "    0.18307135822563192],\n",
       "   'NAMFIS': [0.2043990814685821,\n",
       "    0.1669774528835528,\n",
       "    0.16706477580918616,\n",
       "    0.13980452013325123,\n",
       "    0.13921864297871567]},\n",
       "  'bundle-size': [1, 3, 5, 10, 30]}}"
      ]
     },
     "execution_count": 16,
     "metadata": {},
     "output_type": "execute_result"
    }
   ],
   "source": [
    "results"
   ]
  },
  {
   "cell_type": "code",
   "execution_count": 17,
   "id": "0de6d979",
   "metadata": {
    "execution": {
     "iopub.execute_input": "2023-06-05T13:01:54.184986Z",
     "iopub.status.busy": "2023-06-05T13:01:54.183321Z",
     "iopub.status.idle": "2023-06-05T13:01:54.192706Z",
     "shell.execute_reply": "2023-06-05T13:01:54.191901Z"
    }
   },
   "outputs": [],
   "source": [
    "src.utils.json_dump(snakemake.output.fulfilled, results)"
   ]
  },
  {
   "cell_type": "code",
   "execution_count": 18,
   "id": "552d6365",
   "metadata": {
    "execution": {
     "iopub.execute_input": "2023-06-05T13:01:54.199128Z",
     "iopub.status.busy": "2023-06-05T13:01:54.197529Z",
     "iopub.status.idle": "2023-06-05T13:01:54.527336Z",
     "shell.execute_reply": "2023-06-05T13:01:54.526514Z"
    },
    "scrolled": false
   },
   "outputs": [
    {
     "data": {
      "image/png": "[encoded data removed]",
      "text/plain": [
       "<Figure size 640x480 with 1 Axes>"
      ]
     },
     "metadata": {},
     "output_type": "display_data"
    }
   ],
   "source": [
    "bundle_sizes_plot = [str(i) for i in bundle_sizes]\n",
    "plt.scatter(\n",
    "    bundle_sizes_plot, random_choice_fulfil, label=\"random\", marker=\"o\"\n",
    ")\n",
    "plt.scatter(\n",
    "    bundle_sizes_plot, energy_choice_fulfil, label=\"min-energy\", marker=\"x\"\n",
    ")\n",
    "plt.scatter(bundle_sizes_plot, licuv_choice_fulfil, label=\"LICUV\", marker=\".\")\n",
    "plt.scatter(\n",
    "    bundle_sizes_plot, namfis_choice_fulfil, label=\"NAMFIS\", marker=\"+\"\n",
    ")\n",
    "plt.legend()\n",
    "plt.xlabel(\"Bundle size\")\n",
    "plt.ylabel(\"% NOE fulfilled [1/100 %]\")\n",
    "plt.tight_layout()\n",
    "plt.savefig(snakemake.output.bundle_plot, dpi=300)"
   ]
  },
  {
   "cell_type": "code",
   "execution_count": 19,
   "id": "3e575cca",
   "metadata": {
    "execution": {
     "iopub.execute_input": "2023-06-05T13:01:54.533449Z",
     "iopub.status.busy": "2023-06-05T13:01:54.531894Z",
     "iopub.status.idle": "2023-06-05T13:01:54.537510Z",
     "shell.execute_reply": "2023-06-05T13:01:54.536749Z"
    }
   },
   "outputs": [],
   "source": [
    "# Compute solvent properties\n",
    "import mdtraj as md"
   ]
  },
  {
   "cell_type": "code",
   "execution_count": 20,
   "id": "13a96f07",
   "metadata": {
    "execution": {
     "iopub.execute_input": "2023-06-05T13:01:54.544019Z",
     "iopub.status.busy": "2023-06-05T13:01:54.541981Z",
     "iopub.status.idle": "2023-06-05T13:01:57.472976Z",
     "shell.execute_reply": "2023-06-05T13:01:57.472096Z"
    }
   },
   "outputs": [],
   "source": [
    "# compute solvent accessible surface area\n",
    "sasa = md.shrake_rupley(chem_info_t)\n",
    "total_sasa = sasa.sum(axis=1)"
   ]
  },
  {
   "cell_type": "code",
   "execution_count": 21,
   "id": "482411d6",
   "metadata": {
    "execution": {
     "iopub.execute_input": "2023-06-05T13:01:57.479277Z",
     "iopub.status.busy": "2023-06-05T13:01:57.477611Z",
     "iopub.status.idle": "2023-06-05T13:01:57.763207Z",
     "shell.execute_reply": "2023-06-05T13:01:57.762350Z"
    }
   },
   "outputs": [],
   "source": [
    "# compute polar surface area (PSA) with mdtraj, using nitrogen, oxygen and h atoms attached to either a nitrogenn or oxygen\n",
    "# atom of amino acids\n",
    "\n",
    "# select N, O, and H atoms attached to N or O\n",
    "n_o = chem_info_t.top.select('element N O')\n",
    "\n",
    "# from the trajectory, only consider n_o_h atoms\n",
    "t_n_o = chem_info_t.atom_slice(n_o)\n",
    "\n",
    "# compute polar surface area\n",
    "psa = md.shrake_rupley(t_n_o)\n",
    "\n",
    "total_psa = psa.sum(axis=1)"
   ]
  },
  {
   "cell_type": "code",
   "execution_count": 22,
   "id": "a79ca1ef",
   "metadata": {
    "execution": {
     "iopub.execute_input": "2023-06-05T13:01:57.769931Z",
     "iopub.status.busy": "2023-06-05T13:01:57.768524Z",
     "iopub.status.idle": "2023-06-05T13:01:58.037466Z",
     "shell.execute_reply": "2023-06-05T13:01:58.036402Z"
    }
   },
   "outputs": [
    {
     "data": {
      "text/plain": [
       "Text(0.5, 0, 'Total SASA [(nm)^2]')"
      ]
     },
     "execution_count": 22,
     "metadata": {},
     "output_type": "execute_result"
    },
    {
     "data": {
      "image/png": "[encoded data removed]",
      "text/plain": [
       "<Figure size 640x480 with 1 Axes>"
      ]
     },
     "metadata": {},
     "output_type": "display_data"
    }
   ],
   "source": [
    "plt.hist(total_sasa)\n",
    "plt.ylabel(\"Count\")\n",
    "plt.xlabel(\"Total SASA [(nm)^2]\")"
   ]
  },
  {
   "cell_type": "code",
   "execution_count": 23,
   "id": "24ebe78b",
   "metadata": {
    "execution": {
     "iopub.execute_input": "2023-06-05T13:01:58.041980Z",
     "iopub.status.busy": "2023-06-05T13:01:58.041535Z",
     "iopub.status.idle": "2023-06-05T13:01:58.219383Z",
     "shell.execute_reply": "2023-06-05T13:01:58.218567Z"
    }
   },
   "outputs": [
    {
     "data": {
      "text/plain": [
       "Text(0.5, 0, 'Total PSA [(nm)^2]')"
      ]
     },
     "execution_count": 23,
     "metadata": {},
     "output_type": "execute_result"
    },
    {
     "data": {
      "image/png": "[encoded data removed]",
      "text/plain": [
       "<Figure size 640x480 with 1 Axes>"
      ]
     },
     "metadata": {},
     "output_type": "display_data"
    }
   ],
   "source": [
    "plt.hist(total_psa)\n",
    "plt.ylabel(\"Count\")\n",
    "plt.xlabel(\"Total PSA [(nm)^2]\")"
   ]
  },
  {
   "cell_type": "code",
   "execution_count": 24,
   "id": "64ab496f",
   "metadata": {
    "execution": {
     "iopub.execute_input": "2023-06-05T13:01:58.225967Z",
     "iopub.status.busy": "2023-06-05T13:01:58.224073Z",
     "iopub.status.idle": "2023-06-05T13:01:58.230468Z",
     "shell.execute_reply": "2023-06-05T13:01:58.229675Z"
    }
   },
   "outputs": [],
   "source": [
    "# minimum means most likely! \n",
    "\n",
    "# compute average sasa\n",
    "minimum_sasa = np.mean(total_sasa)"
   ]
  },
  {
   "cell_type": "code",
   "execution_count": 25,
   "id": "a3d1a035",
   "metadata": {
    "execution": {
     "iopub.execute_input": "2023-06-05T13:01:58.236544Z",
     "iopub.status.busy": "2023-06-05T13:01:58.234961Z",
     "iopub.status.idle": "2023-06-05T13:01:58.240877Z",
     "shell.execute_reply": "2023-06-05T13:01:58.239941Z"
    }
   },
   "outputs": [],
   "source": [
    "minimum_psa = np.mean(total_psa)"
   ]
  },
  {
   "cell_type": "code",
   "execution_count": 26,
   "id": "0e6a7e1a",
   "metadata": {
    "execution": {
     "iopub.execute_input": "2023-06-05T13:01:58.252975Z",
     "iopub.status.busy": "2023-06-05T13:01:58.244470Z",
     "iopub.status.idle": "2023-06-05T13:01:58.256981Z",
     "shell.execute_reply": "2023-06-05T13:01:58.256141Z"
    }
   },
   "outputs": [],
   "source": [
    "# save sasa and psa to json\n",
    "solv_props = {}\n",
    "solv_props[\"minimum_sasa\"] = float(minimum_sasa)\n",
    "solv_props[\"minimum_psa\"] = float(minimum_psa)"
   ]
  },
  {
   "cell_type": "code",
   "execution_count": 27,
   "id": "8216898d",
   "metadata": {
    "execution": {
     "iopub.execute_input": "2023-06-05T13:01:58.260972Z",
     "iopub.status.busy": "2023-06-05T13:01:58.260440Z",
     "iopub.status.idle": "2023-06-05T13:01:58.270333Z",
     "shell.execute_reply": "2023-06-05T13:01:58.269379Z"
    }
   },
   "outputs": [],
   "source": [
    "from src.utils import json_dump, pickle_dump\n",
    "json_dump(snakemake.output.solvation_properties, solv_props)\n",
    "pickle_dump(snakemake.output.sasa, total_sasa)\n",
    "pickle_dump(snakemake.output.psa, total_psa)"
   ]
  },
  {
   "cell_type": "code",
   "execution_count": null,
   "id": "f30ec3f7",
   "metadata": {},
   "outputs": [],
   "source": []
  }
 ],
 "metadata": {
  "kernelspec": {
   "display_name": "Python 3 (ipykernel)",
   "language": "python",
   "name": "python3"
  },
  "language_info": {
   "codemirror_mode": {
    "name": "ipython",
    "version": 3
   },
   "file_extension": ".py",
   "mimetype": "text/x-python",
   "name": "python",
   "nbconvert_exporter": "python",
   "pygments_lexer": "ipython3",
   "version": "3.7.12"
  }
 },
 "nbformat": 4,
 "nbformat_minor": 5
}
