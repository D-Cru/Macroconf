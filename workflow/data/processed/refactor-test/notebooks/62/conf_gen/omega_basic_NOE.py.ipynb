{
 "cells": [
  {
   "cell_type": "code",
   "execution_count": 1,
   "id": "c4c411a2",
   "metadata": {
    "execution": {
     "iopub.execute_input": "2023-06-05T12:59:30.085717Z",
     "iopub.status.busy": "2023-06-05T12:59:30.085341Z",
     "iopub.status.idle": "2023-06-05T12:59:30.153593Z",
     "shell.execute_reply": "2023-06-05T12:59:30.152570Z"
    },
    "tags": [
     "snakemake-job-properties"
    ]
   },
   "outputs": [],
   "source": [
    "\n",
    "######## snakemake preamble start (automatically inserted, do not edit) ########\n",
    "import sys; sys.path.extend(['/biggin/b147/univ4859/miniconda3/envs/snakemake/lib/python3.10/site-packages', '/biggin/b147/univ4859/research/03_macroconf/workflow/rules/../notebooks']); import pickle; snakemake = pickle.loads(b\"\\x80\\x04\\x95m\\x11\\x00\\x00\\x00\\x00\\x00\\x00\\x8c\\x10snakemake.script\\x94\\x8c\\tSnakemake\\x94\\x93\\x94)\\x81\\x94}\\x94(\\x8c\\x05input\\x94\\x8c\\x0csnakemake.io\\x94\\x8c\\nInputFiles\\x94\\x93\\x94)\\x81\\x94(\\x8c9data/interim/refactor-test/62/omega/basic/mcs_aligned.pdb\\x94\\x8c&data/interim/refactor-test/62/NOE.json\\x94\\x8c'data/interim/refactor-test/62/data.json\\x94\\x8c;data/interim/refactor-test/62/omega/basic/conf_energies.txt\\x94e}\\x94(\\x8c\\x06_names\\x94}\\x94(\\x8c\\x03pdb\\x94K\\x00N\\x86\\x94\\x8c\\x03noe\\x94K\\x01N\\x86\\x94\\x8c\\x04parm\\x94K\\x02N\\x86\\x94\\x8c\\x08energies\\x94K\\x03N\\x86\\x94u\\x8c\\x12_allowed_overrides\\x94]\\x94(\\x8c\\x05index\\x94\\x8c\\x04sort\\x94eh\\x1b\\x8c\\tfunctools\\x94\\x8c\\x07partial\\x94\\x93\\x94h\\x06\\x8c\\x19Namedlist._used_attribute\\x94\\x93\\x94\\x85\\x94R\\x94(h!)}\\x94\\x8c\\x05_name\\x94h\\x1bsNt\\x94bh\\x1ch\\x1fh!\\x85\\x94R\\x94(h!)}\\x94h%h\\x1csNt\\x94bh\\x11h\\nh\\x13h\\x0bh\\x15h\\x0ch\\x17h\\rub\\x8c\\x06output\\x94h\\x06\\x8c\\x0bOutputFiles\\x94\\x93\\x94)\\x81\\x94(\\x8cIdata/processed/refactor-test/results/62/conf_gen/omega/basic/best_NOE.svg\\x94\\x8cQdata/processed/refactor-test/results/62/conf_gen/omega/basic/NOE_distribution.svg\\x94\\x8cOdata/processed/refactor-test/results/62/conf_gen/omega/basic/NOE_fulfilled.json\\x94\\x8cLdata/processed/refactor-test/results/62/conf_gen/omega/basic/bundle_plot.svg\\x94\\x8cFdata/processed/refactor-test/results/62/conf_gen/omega/basic/sasa.json\\x94\\x8cEdata/processed/refactor-test/results/62/conf_gen/omega/basic/psa.json\\x94\\x8cVdata/processed/refactor-test/results/62/conf_gen/omega/basic/solvation_properties.json\\x94e}\\x94(h\\x0f}\\x94(\\x8c\\rbest_NOE_plot\\x94K\\x00N\\x86\\x94\\x8c\\x0fNOE_violin_plot\\x94K\\x01N\\x86\\x94\\x8c\\tfulfilled\\x94K\\x02N\\x86\\x94\\x8c\\x0bbundle_plot\\x94K\\x03N\\x86\\x94\\x8c\\x04sasa\\x94K\\x04N\\x86\\x94\\x8c\\x03psa\\x94K\\x05N\\x86\\x94\\x8c\\x14solvation_properties\\x94K\\x06N\\x86\\x94uh\\x19]\\x94(h\\x1bh\\x1ceh\\x1bh\\x1fh!\\x85\\x94R\\x94(h!)}\\x94h%h\\x1bsNt\\x94bh\\x1ch\\x1fh!\\x85\\x94R\\x94(h!)}\\x94h%h\\x1csNt\\x94bh8h/h:h0h<h1h>h2h@h3hBh4hDh5ub\\x8c\\x06params\\x94h\\x06\\x8c\\x06Params\\x94\\x93\\x94)\\x81\\x94}\\x94(h\\x0f}\\x94h\\x19]\\x94(h\\x1bh\\x1ceh\\x1bh\\x1fh!\\x85\\x94R\\x94(h!)}\\x94h%h\\x1bsNt\\x94bh\\x1ch\\x1fh!\\x85\\x94R\\x94(h!)}\\x94h%h\\x1csNt\\x94bub\\x8c\\twildcards\\x94h\\x06\\x8c\\tWildcards\\x94\\x93\\x94)\\x81\\x94(\\x8c\\rrefactor-test\\x94\\x8c\\x0262\\x94\\x8c\\x05omega\\x94\\x8c\\x05basic\\x94e}\\x94(h\\x0f}\\x94(\\x8c\\x08exp_name\\x94K\\x00N\\x86\\x94\\x8c\\x08compound\\x94K\\x01N\\x86\\x94\\x8c\\x07confgen\\x94K\\x02N\\x86\\x94\\x8c\\x04mode\\x94K\\x03N\\x86\\x94uh\\x19]\\x94(h\\x1bh\\x1ceh\\x1bh\\x1fh!\\x85\\x94R\\x94(h!)}\\x94h%h\\x1bsNt\\x94bh\\x1ch\\x1fh!\\x85\\x94R\\x94(h!)}\\x94h%h\\x1csNt\\x94b\\x8c\\x08exp_name\\x94hb\\x8c\\x08compound\\x94hc\\x8c\\x07confgen\\x94hd\\x8c\\x04mode\\x94heub\\x8c\\x07threads\\x94K\\x01\\x8c\\tresources\\x94h\\x06\\x8c\\tResources\\x94\\x93\\x94)\\x81\\x94(K\\x01K\\x01\\x8c\\x04/tmp\\x94e}\\x94(h\\x0f}\\x94(\\x8c\\x06_cores\\x94K\\x00N\\x86\\x94\\x8c\\x06_nodes\\x94K\\x01N\\x86\\x94\\x8c\\x06tmpdir\\x94K\\x02N\\x86\\x94uh\\x19]\\x94(h\\x1bh\\x1ceh\\x1bh\\x1fh!\\x85\\x94R\\x94(h!)}\\x94h%h\\x1bsNt\\x94bh\\x1ch\\x1fh!\\x85\\x94R\\x94(h!)}\\x94h%h\\x1csNt\\x94bh\\x85K\\x01h\\x87K\\x01h\\x89h\\x82ub\\x8c\\x03log\\x94h\\x06\\x8c\\x03Log\\x94\\x93\\x94)\\x81\\x94\\x8cKdata/processed/refactor-test/notebooks/62/conf_gen/omega_basic_NOE.py.ipynb\\x94a}\\x94(h\\x0f}\\x94\\x8c\\x08notebook\\x94K\\x00N\\x86\\x94sh\\x19]\\x94(h\\x1bh\\x1ceh\\x1bh\\x1fh!\\x85\\x94R\\x94(h!)}\\x94h%h\\x1bsNt\\x94bh\\x1ch\\x1fh!\\x85\\x94R\\x94(h!)}\\x94h%h\\x1csNt\\x94bh\\x9bh\\x98ub\\x8c\\x06config\\x94}\\x94(\\x8c\\x0bthreads_max\\x94K\\x0c\\x8c\\x16run_single_md_analysis\\x94\\x88\\x8c\\x11run_comp_analysis\\x94\\x89\\x8c\\x14run_heatmap_analysis\\x94\\x89\\x8c\\x0frun_method_comp\\x94\\x89\\x8c\\x0frun_eq_analysis\\x94\\x89\\x8c\\trun_omega\\x94\\x89\\x8c\\trun_rdkit\\x94\\x89\\x8c\\x19run_cheminfo_NOE_analysis\\x94\\x89\\x8c\\x12make_paper_figures\\x94\\x89\\x8c\\x13update_jupyter_book\\x94\\x88\\x8c\\x11convergence_check\\x94]\\x94\\x8c\\x10210a1ea8aa678b16\\x94a\\x8c\\x15run_convergence_check\\x94\\x89\\x8c\\x0fmethod_defaults\\x94}\\x94\\x8c\\x05igamd\\x94}\\x94(\\x8c\\x07methods\\x94]\\x94\\x8c\\x04GaMD\\x94a\\x8c\\x07default\\x94\\x8c\\x013\\x94\\x8c\\x06others\\x94\\x8c\\x03nan\\x94us\\x8c\\tshortened\\x94\\x89\\x8c\\x06stride\\x94K\\x01\\x8c\\x04ns_h\\x94G@\\x1e\\x00\\x00\\x00\\x00\\x00\\x00\\x8c\\thash_list\\x94]\\x94(]\\x94(\\x8c\\x1028159d44aa267024\\x94\\x8c\\x105ead922859f5c96d\\x94\\x8c\\x105ead922859f5c96d\\x94\\x8c\\x0255\\x94\\x8c\\x010\\x94h\\xcce]\\x94(\\x8c\\x10250c26e1ba562237\\x94\\x8c\\x10eff35c6c3e18f0a3\\x94\\x8c\\x10eff35c6c3e18f0a3\\x94\\x8c\\x0256\\x94h\\xcch\\xcce]\\x94(\\x8c\\x10210a1ea8aa678b16\\x94\\x8c\\x103595ce0609206d95\\x94\\x8c\\x10586db4c575bef492\\x94\\x8c\\x0222\\x94h\\xcch\\xcce]\\x94(\\x8c\\x10210a1ea8aa678b16\\x94\\x8c\\x10583fbeed838cced5\\x94\\x8c\\x105405e3b785af9601\\x94\\x8c\\x0222\\x94h\\xcch\\xcce]\\x94(\\x8c\\x10210a1ea8aa678b16\\x94\\x8c\\x10583fbeed838cced5\\x94\\x8c\\x105405e3b785af9601\\x94\\x8c\\x0222\\x94\\x8c\\x0bomega_basic\\x94\\x8c\\x11rdkit_ETKDGv3mmff\\x94e]\\x94(\\x8c\\x10210a1ea8aa678b16\\x94\\x8c\\x10c5389d15c56a3655\\x94\\x8c\\x103a8c4367deb63d6e\\x94\\x8c\\x0222\\x94h\\xcch\\xcce]\\x94(\\x8c\\x104f386944d88e6ef8\\x94\\x8c\\x10c99bbf5d17e8efb9\\x94\\x8c\\x10c99bbf5d17e8efb9\\x94\\x8c\\x0224\\x94h\\xcch\\xcce]\\x94(\\x8c\\x109e61be229abfc57f\\x94\\x8c\\x1013c5dee00c76dc47\\x94\\x8c\\x1013c5dee00c76dc47\\x94\\x8c\\x0249\\x94h\\xcch\\xccee\\x8c\\x12confgen_parameters\\x94}\\x94(\\x8c\\x05omega\\x94]\\x94(\\x8c\\x05basic\\x94\\x8c\\nchloroform\\x94\\x8c\\nlowEwindow\\x94\\x8c\\x0bhighEwindow\\x94\\x8c\\x06lowrms\\x94\\x8c\\x07highrms\\x94\\x8c\\x0bhighmaxconf\\x94\\x8c\\thighmaxit\\x94\\x8c\\x0chighsampling\\x94\\x8c\\rlotsdifferent\\x94e\\x8c\\x05rdkit\\x94]\\x94(\\x8c\\x05basic\\x94\\x8c\\x04ETDG\\x94\\x8c\\x07ETKDGv1\\x94\\x8c\\x07ETKDGv2\\x94\\x8c\\x07ETKDGv3\\x94\\x8c\\tsrETKDGv3\\x94\\x8c\\x03KDG\\x94\\x8c\\x08def-ETDG\\x94\\x8c\\x0bdef-ETKDGv1\\x94\\x8c\\x0bdef-ETKDGv2\\x94\\x8c\\x0bdef-ETKDGv3\\x94\\x8c\\rdef-srETKDGv3\\x94\\x8c\\x07def-KDG\\x94\\x8c\\x0chighsampling\\x94\\x8c\\rlotsdifferent\\x94eu\\x8c\\x11heatmap_compounds\\x94]\\x94(K\\x16K\\x18K7K8K!K1K2K3e\\x8c\\x0ccluster_conf\\x94}\\x94(\\x8c\\x10242ee4d4af3634ed\\x94K\\x0f\\x8c\\x10c5389d15c56a3655\\x94K\\n\\x8c\\x103c523c7ca380f925\\x94K\\n\\x8c\\x10ca1a37290d9e454e\\x94K\\x08\\x8c\\x109a100624325ec4cd\\x94K\\x06\\x8c\\x103d00b0964201e088\\x94K\\n\\x8c\\x10210a1ea8aa678b16\\x94K\\x08u\\x8c\\x08exp_name\\x94\\x8c\\rrefactor-test\\x94\\x8c\\tdata_name\\x94\\x8c\\x1722-02-2021_MacroConf-v2\\x94\\x8c\\x0cdataset_file\\x94\\x8c3data/external/22-09-2021_MacroConf-v2.1/dataset.csv\\x94\\x8c\\x0bsample_file\\x94\\x8c\\x0bsamples.tsv\\x94\\x8c\\rsample_output\\x94\\x8c\\x0fsamples_old.tsv\\x94\\x8c\\nforcefield\\x94\\x8c1libs/forcefields/leaprc.protein.ff14SB_noterminal\\x94\\x8c\\x06jb-toc\\x94\\x8c\\x13reports/jb/_toc.yml\\x94\\x8c\\x08jb-links\\x94\\x8c\\x11reports/jb/links/\\x94\\x8c\\x0cDMSO_default\\x94\\x8c\\x0eDMSO_GAFF_RESP\\x94\\x8c\\rCDCl3_default\\x94\\x8c\\nChloroform\\x94\\x8c\\x0bDMSO_params\\x94\\x8c!libs/md_solvents/dmso/frcmod.dmso\\x94\\x8c\\x08DMSO_box\\x94\\x8c!libs/md_solvents/dmso/dmsobox.off\\x94\\x8c\\x11Chloroform_params\\x94\\x8c\\x0cfrcmod.chcl3\\x94\\x8c\\x13full_analysis_files\\x94]\\x94\\x8c\\x9b../../../data/processed/refactor-test/notebooks/methods/28159d44aa267024-native-586db4c575bef492-native_omega-basic-rdkit-ETKDGv3mmff-NOE_method_comp.ipynb\\x94au\\x8c\\x04rule\\x94\\x8c\\x0bconfgen_NOE\\x94\\x8c\\x0fbench_iteration\\x94N\\x8c\\tscriptdir\\x94\\x8cG/biggin/b147/univ4859/research/03_macroconf/workflow/rules/../notebooks\\x94ub.\"); from snakemake.logging import logger; logger.printshellcmds = False; import os; os.chdir(r'/biggin/b147/univ4859/research/03_macroconf/workflow');\n",
    "######## snakemake preamble end #########\n"
   ]
  },
  {
   "cell_type": "code",
   "execution_count": 2,
   "id": "bb3d57af",
   "metadata": {
    "execution": {
     "iopub.execute_input": "2023-06-05T12:59:30.157660Z",
     "iopub.status.busy": "2023-06-05T12:59:30.157283Z",
     "iopub.status.idle": "2023-06-05T12:59:32.546916Z",
     "shell.execute_reply": "2023-06-05T12:59:32.546115Z"
    }
   },
   "outputs": [],
   "source": [
    "# Confgen NOE notebook\n",
    "\n",
    "import matplotlib\n",
    "\n",
    "#%matplotlib inline\n",
    "# matplotlib.use(\"Agg\")\n",
    "\n",
    "import mdtraj as md\n",
    "import numpy as np\n",
    "import matplotlib.pyplot as plt\n",
    "import scipy.cluster.hierarchy\n",
    "from scipy.spatial.distance import squareform\n",
    "import pandas as pd\n",
    "\n",
    "sys.path.append(os.getcwd())\n",
    "import src.noe\n",
    "import src.stats\n",
    "from src.pyreweight import reweight\n",
    "from src.utils import json_load, pickle_dump\n",
    "from scipy import stats\n",
    "from scipy.optimize import minimize\n",
    "from sklearn import metrics, utils\n",
    "import copy\n",
    "\n",
    "compound_index = int(snakemake.wildcards.compound)"
   ]
  },
  {
   "cell_type": "code",
   "execution_count": 3,
   "id": "ac4086f3",
   "metadata": {
    "execution": {
     "iopub.execute_input": "2023-06-05T12:59:32.551477Z",
     "iopub.status.busy": "2023-06-05T12:59:32.550876Z",
     "iopub.status.idle": "2023-06-05T12:59:33.423272Z",
     "shell.execute_reply": "2023-06-05T12:59:33.422209Z"
    }
   },
   "outputs": [
    {
     "name": "stdout",
     "output_type": "stream",
     "text": [
      "data  movie\t\t   samples_old.tsv    Snakefile\r\n",
      "docs  notebooks\t\t   samples_tests.tsv  snakemake-config_tests.yaml\r\n",
      "envs  pyproject.toml\t   samples_tmp.tsv    snakemake-config.yaml\r\n",
      "hpc   reports\t\t   samples.tsv\t      src\r\n",
      "libs  rules\t\t   scripts\t      src.egg-info\r\n",
      "misc  samples_example.tsv  setup.py\t      tests\r\n"
     ]
    }
   ],
   "source": [
    "!ls"
   ]
  },
  {
   "cell_type": "code",
   "execution_count": 4,
   "id": "5808e9e2",
   "metadata": {
    "execution": {
     "iopub.execute_input": "2023-06-05T12:59:33.428764Z",
     "iopub.status.busy": "2023-06-05T12:59:33.428401Z",
     "iopub.status.idle": "2023-06-05T12:59:34.944149Z",
     "shell.execute_reply": "2023-06-05T12:59:34.943310Z"
    }
   },
   "outputs": [
    {
     "name": "stdout",
     "output_type": "stream",
     "text": [
      "According to the literature reference, there is only one distinct structure in solution.\n"
     ]
    }
   ],
   "source": [
    "# read in conformers as mdtraj trajectory\n",
    "chem_info_t = md.load(snakemake.input.pdb)\n",
    "# read in NOE data\n",
    "NOE_original = src.noe.read_NOE(snakemake.input.noe)\n",
    "# read in compound details\n",
    "compound = json_load(snakemake.input.parm)\n",
    "# Read in conformer energies\n",
    "energies = np.loadtxt(snakemake.input.energies)\n",
    "# Detect cis/trans\n",
    "multi = compound.multi\n",
    "if multi:\n",
    "    print(\n",
    "        \"According to the literature reference, there are two distinct structures in solution.\"\n",
    "    )\n",
    "else:\n",
    "    print(\n",
    "        \"According to the literature reference, there is only one distinct structure in solution.\"\n",
    "    )\n",
    "\n",
    "if multi is not None:\n",
    "    multi = {v: k for k, v in multi.items()}\n",
    "    multiple = True\n",
    "    distinction = compound.distinction\n",
    "    print(\"Multiple compounds detected\")\n",
    "    # Show relevant dihedral angle for all conformers if cis/trans\n",
    "    ca_c = chem_info_t.top.select(f\"resid {distinction[0]} and name CA C\")\n",
    "    n_ca_next = chem_info_t.top.select(f\"resid {distinction[1]} and name N CA\")\n",
    "    omega = np.append(ca_c, n_ca_next)\n",
    "    t_omega_rad = md.compute_dihedrals(chem_info_t, [omega])\n",
    "    t_omega_deg = np.abs(np.degrees(t_omega_rad))\n",
    "    plt.plot(t_omega_deg)\n",
    "    plt.hlines(90, 0, chem_info_t.n_frames, color=\"red\")\n",
    "    plt.xlabel(\"Frames\")\n",
    "    plt.ylabel(\"Omega 0-1 [°]\")\n",
    "    plt.title(f\"Dihedral angle over time. Compound {compound_index}\")\n",
    "    cis = np.where(t_omega_deg <= 90)[0]\n",
    "    trans = np.where(t_omega_deg > 90)[0]\n",
    "else:\n",
    "    multiple = False"
   ]
  },
  {
   "cell_type": "code",
   "execution_count": 5,
   "id": "0a7d7c26",
   "metadata": {
    "execution": {
     "iopub.execute_input": "2023-06-05T12:59:34.949440Z",
     "iopub.status.busy": "2023-06-05T12:59:34.948574Z",
     "iopub.status.idle": "2023-06-05T12:59:34.957770Z",
     "shell.execute_reply": "2023-06-05T12:59:34.956595Z"
    }
   },
   "outputs": [
    {
     "data": {
      "text/plain": [
       "'data/interim/refactor-test/62/omega/basic/mcs_aligned.pdb'"
      ]
     },
     "execution_count": 5,
     "metadata": {},
     "output_type": "execute_result"
    }
   ],
   "source": [
    "snakemake.input.pdb"
   ]
  },
  {
   "cell_type": "code",
   "execution_count": 6,
   "id": "7887c50c",
   "metadata": {
    "execution": {
     "iopub.execute_input": "2023-06-05T12:59:34.962479Z",
     "iopub.status.busy": "2023-06-05T12:59:34.961969Z",
     "iopub.status.idle": "2023-06-05T12:59:48.323646Z",
     "shell.execute_reply": "2023-06-05T12:59:48.322616Z"
    }
   },
   "outputs": [],
   "source": [
    "# Compute NOE-statistics for individual conformers, show distributions\n",
    "rmsd = []\n",
    "mae = []\n",
    "mse = []\n",
    "fulfilled = []\n",
    "rmsd_stepwise = []\n",
    "results = {}\n",
    "for i in range(chem_info_t.n_frames):\n",
    "    NOE = copy.deepcopy(NOE_original)\n",
    "    if multiple:\n",
    "        NOE_trans, NOE_cis = NOE\n",
    "        NOE_cis_dict = NOE_cis.to_dict(orient=\"index\")\n",
    "        NOE_trans_dict = NOE_trans.to_dict(orient=\"index\")\n",
    "    else:\n",
    "        NOE_dict = NOE.to_dict(orient=\"index\")\n",
    "\n",
    "    current_conformer = chem_info_t[i]\n",
    "\n",
    "    if multiple:\n",
    "        if i in cis:\n",
    "            NOE = NOE_cis\n",
    "            NOE_dict = NOE_cis_dict\n",
    "        else:\n",
    "            NOE = NOE_trans\n",
    "            NOE_dict = NOE_trans_dict\n",
    "\n",
    "    NOE[\"md\"], _, _2, NOE_dist, _3 = src.noe.compute_NOE_mdtraj(\n",
    "        NOE_dict, current_conformer\n",
    "    )\n",
    "    # Deal with ambigous NOEs\n",
    "    NOE = NOE.explode(\"md\")\n",
    "    # and ambigous/multiple values\n",
    "    NOE = NOE.explode(\"NMR exp\")\n",
    "\n",
    "    # Remove duplicate values (keep value closest to experimental value)\n",
    "    NOE_test = NOE\n",
    "    if (NOE_test[\"NMR exp\"].to_numpy() == 0).all():\n",
    "        # if all exp values are 0: take middle between upper / lower bound as reference value\n",
    "        NOE_test[\"NMR exp\"] = (\n",
    "            NOE_test[\"upper bound\"] + NOE_test[\"lower bound\"]\n",
    "        ) * 0.5\n",
    "    NOE_test[\"dev\"] = NOE_test[\"md\"] - np.abs(NOE_test[\"NMR exp\"])\n",
    "    NOE_test[\"abs_dev\"] = np.abs(NOE_test[\"md\"] - np.abs(NOE_test[\"NMR exp\"]))\n",
    "\n",
    "    NOE_test = NOE_test.sort_values(\"abs_dev\", ascending=True)\n",
    "    NOE_test.index = NOE_test.index.astype(int)\n",
    "    NOE_test = NOE_test[~NOE_test.index.duplicated(keep=\"first\")].sort_index(\n",
    "        kind=\"mergesort\"\n",
    "    )\n",
    "\n",
    "    # drop NaN values:\n",
    "    NOE_test = NOE_test.dropna()\n",
    "\n",
    "    # Compute NOE statistics, since no bootstrap necessary, do a single iteration.. TODO: could clean this up further to pass 0, then just return the value...\n",
    "    RMSD, upper, lower = src.stats.compute_RMSD(\n",
    "        NOE_test[\"NMR exp\"], NOE_test[\"md\"], n_bootstrap=1\n",
    "    )\n",
    "    RMSD_stepwise, upper_step, lower_stepwise = src.stats.compute_RMSD_stepwise(\n",
    "        NOE_test, NOE_test[\"NMR exp\"], NOE_test[\"md\"], n_bootstrap=1\n",
    "    )\n",
    "    MAE, *_ = src.stats.compute_MAE(\n",
    "        NOE_test[\"NMR exp\"], NOE_test[\"md\"], n_bootstrap=1\n",
    "    )\n",
    "    MSE, *_ = src.stats.compute_MSE(NOE_test[\"dev\"], n_bootstrap=1)\n",
    "    fulfil = src.stats.compute_fulfilled_percentage(NOE_test)\n",
    "    rmsd.append(RMSD)\n",
    "    rmsd_stepwise.append(RMSD_stepwise)\n",
    "    mae.append(MAE)\n",
    "    mse.append(MSE)\n",
    "    fulfilled.append(fulfil)\n",
    "rmsd = np.array(rmsd)\n",
    "rmsd_stepwise = np.array(rmsd_stepwise)\n",
    "mae = np.array(mae)\n",
    "mse = np.array(mse)\n",
    "fulfilled = np.array(fulfilled)"
   ]
  },
  {
   "cell_type": "code",
   "execution_count": 7,
   "id": "16062f15",
   "metadata": {
    "execution": {
     "iopub.execute_input": "2023-06-05T12:59:48.328179Z",
     "iopub.status.busy": "2023-06-05T12:59:48.327777Z",
     "iopub.status.idle": "2023-06-05T12:59:48.374531Z",
     "shell.execute_reply": "2023-06-05T12:59:48.373762Z"
    }
   },
   "outputs": [
    {
     "data": {
      "text/html": [
       "<div>\n",
       "<style scoped>\n",
       "    .dataframe tbody tr th:only-of-type {\n",
       "        vertical-align: middle;\n",
       "    }\n",
       "\n",
       "    .dataframe tbody tr th {\n",
       "        vertical-align: top;\n",
       "    }\n",
       "\n",
       "    .dataframe thead th {\n",
       "        text-align: right;\n",
       "    }\n",
       "</style>\n",
       "<table border=\"1\" class=\"dataframe\">\n",
       "  <thead>\n",
       "    <tr style=\"text-align: right;\">\n",
       "      <th></th>\n",
       "      <th>Atom 1</th>\n",
       "      <th>Atom 2</th>\n",
       "      <th>NMR exp</th>\n",
       "      <th>lower bound</th>\n",
       "      <th>upper bound</th>\n",
       "      <th>md</th>\n",
       "      <th>dev</th>\n",
       "      <th>abs_dev</th>\n",
       "    </tr>\n",
       "  </thead>\n",
       "  <tbody>\n",
       "    <tr>\n",
       "      <th>0</th>\n",
       "      <td>(3,)</td>\n",
       "      <td>(1,)</td>\n",
       "      <td>3.5</td>\n",
       "      <td>2.3</td>\n",
       "      <td>4.7</td>\n",
       "      <td>3.008138</td>\n",
       "      <td>-0.491862</td>\n",
       "      <td>0.491862</td>\n",
       "    </tr>\n",
       "    <tr>\n",
       "      <th>1</th>\n",
       "      <td>(3,)</td>\n",
       "      <td>(16,)</td>\n",
       "      <td>3.5</td>\n",
       "      <td>2.3</td>\n",
       "      <td>4.7</td>\n",
       "      <td>2.271701</td>\n",
       "      <td>-1.228299</td>\n",
       "      <td>1.228299</td>\n",
       "    </tr>\n",
       "    <tr>\n",
       "      <th>2</th>\n",
       "      <td>(3,)</td>\n",
       "      <td>(32,)</td>\n",
       "      <td>4.5</td>\n",
       "      <td>2.9</td>\n",
       "      <td>6.1</td>\n",
       "      <td>5.352382</td>\n",
       "      <td>0.852382</td>\n",
       "      <td>0.852382</td>\n",
       "    </tr>\n",
       "    <tr>\n",
       "      <th>3</th>\n",
       "      <td>(18,)</td>\n",
       "      <td>(16,)</td>\n",
       "      <td>3.5</td>\n",
       "      <td>2.3</td>\n",
       "      <td>4.7</td>\n",
       "      <td>2.969316</td>\n",
       "      <td>-0.530684</td>\n",
       "      <td>0.530684</td>\n",
       "    </tr>\n",
       "    <tr>\n",
       "      <th>4</th>\n",
       "      <td>(18,)</td>\n",
       "      <td>(32,)</td>\n",
       "      <td>3.5</td>\n",
       "      <td>2.3</td>\n",
       "      <td>4.7</td>\n",
       "      <td>2.262321</td>\n",
       "      <td>-1.237679</td>\n",
       "      <td>1.237679</td>\n",
       "    </tr>\n",
       "    <tr>\n",
       "      <th>...</th>\n",
       "      <td>...</td>\n",
       "      <td>...</td>\n",
       "      <td>...</td>\n",
       "      <td>...</td>\n",
       "      <td>...</td>\n",
       "      <td>...</td>\n",
       "      <td>...</td>\n",
       "      <td>...</td>\n",
       "    </tr>\n",
       "    <tr>\n",
       "      <th>198</th>\n",
       "      <td>(130, 131)</td>\n",
       "      <td>(136, 137)</td>\n",
       "      <td>4.5</td>\n",
       "      <td>2.9</td>\n",
       "      <td>6.1</td>\n",
       "      <td>3.868592</td>\n",
       "      <td>-0.631408</td>\n",
       "      <td>0.631408</td>\n",
       "    </tr>\n",
       "    <tr>\n",
       "      <th>199</th>\n",
       "      <td>(133, 134)</td>\n",
       "      <td>(121,)</td>\n",
       "      <td>4.5</td>\n",
       "      <td>2.9</td>\n",
       "      <td>6.1</td>\n",
       "      <td>4.521025</td>\n",
       "      <td>0.021025</td>\n",
       "      <td>0.021025</td>\n",
       "    </tr>\n",
       "    <tr>\n",
       "      <th>199</th>\n",
       "      <td>(133, 134)</td>\n",
       "      <td>(121,)</td>\n",
       "      <td>4.5</td>\n",
       "      <td>2.9</td>\n",
       "      <td>6.1</td>\n",
       "      <td>4.833307</td>\n",
       "      <td>0.333307</td>\n",
       "      <td>0.333307</td>\n",
       "    </tr>\n",
       "    <tr>\n",
       "      <th>200</th>\n",
       "      <td>(133, 134)</td>\n",
       "      <td>(119,)</td>\n",
       "      <td>4.5</td>\n",
       "      <td>2.9</td>\n",
       "      <td>6.1</td>\n",
       "      <td>3.844794</td>\n",
       "      <td>-0.655206</td>\n",
       "      <td>0.655206</td>\n",
       "    </tr>\n",
       "    <tr>\n",
       "      <th>200</th>\n",
       "      <td>(133, 134)</td>\n",
       "      <td>(119,)</td>\n",
       "      <td>4.5</td>\n",
       "      <td>2.9</td>\n",
       "      <td>6.1</td>\n",
       "      <td>5.148885</td>\n",
       "      <td>0.648885</td>\n",
       "      <td>0.648885</td>\n",
       "    </tr>\n",
       "  </tbody>\n",
       "</table>\n",
       "<p>598 rows × 8 columns</p>\n",
       "</div>"
      ],
      "text/plain": [
       "         Atom 1      Atom 2  NMR exp  lower bound  upper bound        md  \\\n",
       "0          (3,)        (1,)      3.5          2.3          4.7  3.008138   \n",
       "1          (3,)       (16,)      3.5          2.3          4.7  2.271701   \n",
       "2          (3,)       (32,)      4.5          2.9          6.1  5.352382   \n",
       "3         (18,)       (16,)      3.5          2.3          4.7  2.969316   \n",
       "4         (18,)       (32,)      3.5          2.3          4.7  2.262321   \n",
       "..          ...         ...      ...          ...          ...       ...   \n",
       "198  (130, 131)  (136, 137)      4.5          2.9          6.1  3.868592   \n",
       "199  (133, 134)      (121,)      4.5          2.9          6.1  4.521025   \n",
       "199  (133, 134)      (121,)      4.5          2.9          6.1  4.833307   \n",
       "200  (133, 134)      (119,)      4.5          2.9          6.1  3.844794   \n",
       "200  (133, 134)      (119,)      4.5          2.9          6.1  5.148885   \n",
       "\n",
       "          dev   abs_dev  \n",
       "0   -0.491862  0.491862  \n",
       "1   -1.228299  1.228299  \n",
       "2    0.852382  0.852382  \n",
       "3   -0.530684  0.530684  \n",
       "4   -1.237679  1.237679  \n",
       "..        ...       ...  \n",
       "198 -0.631408  0.631408  \n",
       "199  0.021025  0.021025  \n",
       "199  0.333307  0.333307  \n",
       "200 -0.655206  0.655206  \n",
       "200  0.648885  0.648885  \n",
       "\n",
       "[598 rows x 8 columns]"
      ]
     },
     "execution_count": 7,
     "metadata": {},
     "output_type": "execute_result"
    }
   ],
   "source": [
    "NOE"
   ]
  },
  {
   "cell_type": "code",
   "execution_count": 8,
   "id": "72c516dd",
   "metadata": {
    "execution": {
     "iopub.execute_input": "2023-06-05T12:59:48.380863Z",
     "iopub.status.busy": "2023-06-05T12:59:48.379454Z",
     "iopub.status.idle": "2023-06-05T12:59:55.592951Z",
     "shell.execute_reply": "2023-06-05T12:59:55.592027Z"
    }
   },
   "outputs": [
    {
     "data": {
      "image/png": "[encoded data removed]",
      "text/plain": [
       "<Figure size 673.23x326.77 with 1 Axes>"
      ]
     },
     "metadata": {},
     "output_type": "display_data"
    }
   ],
   "source": [
    "# best choice\n",
    "if multiple:\n",
    "    if len(cis) > 0 and len(trans) > 0:\n",
    "        conformer_indices = [cis, trans]\n",
    "        dict_key = [\"cis\", \"trans\"]\n",
    "    elif len(cis) > 0 and len(trans) == 0:\n",
    "        conformer_indices = [cis]\n",
    "        dict_key = [\"cis\"]\n",
    "    elif len(trans) > 0 and len(cis) == 0:\n",
    "        conformer_indices = [trans]\n",
    "        dict_key = [\"trans\"]\n",
    "else:\n",
    "    conformer_indices = [np.arange(0, chem_info_t.n_frames)]\n",
    "    dict_key = [\"single\"]\n",
    "for key in dict_key:\n",
    "    results[key] = {}\n",
    "    results[key][\"fulfil\"] = {}\n",
    "    results[key][\"rmsd\"] = {}\n",
    "    results[key][\"rmsd_stepwise\"] = {}\n",
    "    results[key][\"mae\"] = {}\n",
    "for idx, ci in enumerate(conformer_indices):\n",
    "    best_fulfil = np.argmax(fulfilled[ci])\n",
    "    best_rmsd = np.argmin(rmsd[ci])\n",
    "    best_rmsd_stepwise = np.argmin(rmsd_stepwise[ci])\n",
    "    best_mae = np.argmin(mae[ci])\n",
    "    # Create dicts to store different values\n",
    "\n",
    "    # Save metrics\n",
    "    results[dict_key[idx]][\"fulfil\"][\"best\"] = max(fulfilled[ci])\n",
    "    results[dict_key[idx]][\"rmsd\"][\"best\"] = min(rmsd[ci])\n",
    "    results[dict_key[idx]][\"rmsd_stepwise\"][\"best\"] = min(rmsd_stepwise[ci])\n",
    "    results[dict_key[idx]][\"mae\"][\"best\"] = min(mae[ci])\n",
    "\n",
    "# Plot NOEs for single best conformer(s)\n",
    "if multiple:\n",
    "    if len(cis) > 0:\n",
    "        best_rmsd_cis = np.argmin(rmsd[cis])\n",
    "        best_rmsd_cis_stepwise = np.argmin(rmsd_stepwise[cis])\n",
    "        best_fulfilled_cis = np.argmax(fulfilled[cis])\n",
    "    #         results['cis'] = {'best': f\"{max(fulfilled[cis])}\"}\n",
    "\n",
    "    if len(trans) > 0:\n",
    "        best_rmsd_trans = np.argmin(rmsd[trans])\n",
    "        best_fulfilled_trans = np.argmax(fulfilled[trans])\n",
    "        best_rmsd_trans_stepwise = np.argmin(rmsd[trans])\n",
    "#         results['trans'] = {'best': f\"{max(fulfilled[trans])}\"}\n",
    "\n",
    "else:\n",
    "    best_rmsd = np.argmin(rmsd)\n",
    "    best_rmsd_stepwise = np.argmin(rmsd_stepwise)\n",
    "    best_fulfilled = np.argmax(fulfilled)\n",
    "#     results['single'] = {'best': f\"{max(fulfilled)}\"}\n",
    "# print(f\"best rmsd == best fulfilled: {best_rmsd == best_fulfilled}\")\n",
    "\n",
    "NOE = src.noe.read_NOE(snakemake.input.noe)\n",
    "if multiple:\n",
    "    NOE_trans, NOE_cis = NOE\n",
    "    NOE_cis_dict = NOE_cis.to_dict(orient=\"index\")\n",
    "    NOE_trans_dict = NOE_trans.to_dict(orient=\"index\")\n",
    "else:\n",
    "    NOE_dict = NOE.to_dict(orient=\"index\")\n",
    "if not multiple:\n",
    "    current_conformer = chem_info_t[best_fulfilled]\n",
    "    NOE[\"md\"], _, _2, NOE_dist, _3 = src.noe.compute_NOE_mdtraj(\n",
    "        NOE_dict, current_conformer\n",
    "    )\n",
    "    # Deal with ambigous NOEs\n",
    "    NOE = NOE.explode(\"md\")\n",
    "    # and ambigous/multiple values\n",
    "    NOE = NOE.explode(\"NMR exp\")\n",
    "\n",
    "    fig, ax = src.noe.plot_NOE(NOE)\n",
    "    fig.savefig(snakemake.output.best_NOE_plot, dpi=300)\n",
    "else:\n",
    "    if len(cis) > 0:\n",
    "        # cis\n",
    "        current_conformer = chem_info_t[best_fulfilled_cis]\n",
    "        NOE_cis[\"md\"], _, _2, NOE_dist, _3 = src.noe.compute_NOE_mdtraj(\n",
    "            NOE_cis_dict, current_conformer\n",
    "        )\n",
    "        # Deal with ambigous NOEs\n",
    "        NOE_cis = NOE_cis.explode(\"md\")\n",
    "        # and ambigous/multiple values\n",
    "        NOE_cis = NOE_cis.explode(\"NMR exp\")\n",
    "    if len(trans) > 0:\n",
    "        # trans\n",
    "        current_conformer = chem_info_t[best_fulfilled_trans]\n",
    "        NOE_trans[\"md\"], _, _2, NOE_dist, _3 = src.noe.compute_NOE_mdtraj(\n",
    "            NOE_trans_dict, current_conformer\n",
    "        )\n",
    "        # Deal with ambigous NOEs\n",
    "        NOE_trans = NOE_trans.explode(\"md\")\n",
    "        # and ambigous/multiple values\n",
    "        NOE_trans = NOE_trans.explode(\"NMR exp\")\n",
    "\n",
    "    fig, ax = plt.subplots(2, 1)\n",
    "    ax[0].set_title(\"cis\")\n",
    "    ax[1].set_title(\"trans\")\n",
    "    if len(cis) > 0:\n",
    "        fig, ax[0] = src.noe.plot_NOE(NOE_cis, fig, ax[0])\n",
    "    if len(trans) > 0:\n",
    "        fig, ax[1] = src.noe.plot_NOE(NOE_trans, fig, ax[1])\n",
    "    fig.tight_layout()\n",
    "    fig.savefig(snakemake.output.best_NOE_plot, dpi=300)"
   ]
  },
  {
   "cell_type": "code",
   "execution_count": 9,
   "id": "9ded55a0",
   "metadata": {
    "execution": {
     "iopub.execute_input": "2023-06-05T12:59:55.597513Z",
     "iopub.status.busy": "2023-06-05T12:59:55.597192Z",
     "iopub.status.idle": "2023-06-05T12:59:56.345778Z",
     "shell.execute_reply": "2023-06-05T12:59:56.345002Z"
    },
    "scrolled": true
   },
   "outputs": [
    {
     "data": {
      "image/png": "[encoded data removed]",
      "text/plain": [
       "<Figure size 800x400 with 5 Axes>"
      ]
     },
     "metadata": {},
     "output_type": "display_data"
    }
   ],
   "source": [
    "# Plot distributions of NOE statistics\n",
    "if multiple:\n",
    "    fig, axs = plt.subplots(2, 5)\n",
    "else:\n",
    "    fig, axs = plt.subplots(1, 5)\n",
    "fig.set_size_inches(8, 4)\n",
    "if multiple:\n",
    "    if len(cis) > 0:\n",
    "        axs[0][0].violinplot(rmsd[cis], showmeans=True)\n",
    "        axs[0][0].set_ylabel(\"RMSD [$\\AA$]\")\n",
    "        axs[0][0].set_title(\"RMSD\")\n",
    "        fig.suptitle(\n",
    "            f\"Compound {snakemake.wildcards.compound}. {snakemake.wildcards.confgen.capitalize()}. top:cis, bottom:trans\"\n",
    "        )  # -{snakemake.wildcards.mode}\n",
    "\n",
    "        axs[0][1].violinplot(mae[cis], showmeans=True)\n",
    "        axs[0][1].set_ylabel(\"MAE [$\\AA$]\")\n",
    "        axs[0][1].set_title(\"MAE\")\n",
    "\n",
    "        axs[0][2].violinplot(mse[cis], showmeans=True)\n",
    "        axs[0][2].set_ylabel(\"MSE [$\\AA$]\")\n",
    "        axs[0][2].set_title(\"MSE\")\n",
    "\n",
    "        axs[0][3].violinplot(fulfilled[cis], showmeans=True)\n",
    "        axs[0][3].set_ylabel(\"% NOE fulfilled [1/100 %]\")\n",
    "        axs[0][3].set_title(\"fulfilled NOEs\")\n",
    "\n",
    "        axs[0][4].violinplot(rmsd_stepwise[cis], showmeans=True)\n",
    "        axs[0][4].set_ylabel(\"RMSD stepwise [$\\AA$]\")\n",
    "        axs[0][4].set_title(\"RMSD stepwise\")\n",
    "\n",
    "    if len(trans) > 0:\n",
    "        # trans\n",
    "        axs[1][0].violinplot(rmsd[trans], showmeans=True)\n",
    "        axs[1][0].set_ylabel(\"RMSD [$\\AA$]\")\n",
    "        axs[1][0].set_title(\"RMSD\")\n",
    "\n",
    "        axs[1][1].violinplot(mae[trans], showmeans=True)\n",
    "        axs[1][1].set_ylabel(\"MAE [$\\AA$]\")\n",
    "        axs[1][1].set_title(\"MAE\")\n",
    "\n",
    "        axs[1][2].violinplot(mse[trans], showmeans=True)\n",
    "        axs[1][2].set_ylabel(\"MSE [$\\AA$]\")\n",
    "        axs[1][2].set_title(\"MSE\")\n",
    "\n",
    "        axs[1][3].violinplot(fulfilled[trans], showmeans=True)\n",
    "        axs[1][3].set_ylabel(\"% NOE fulfilled [1/100 %]\")\n",
    "        axs[1][3].set_title(\"% NOE fulfilled\")\n",
    "\n",
    "        axs[1][4].violinplot(rmsd_stepwise[trans], showmeans=True)\n",
    "        axs[1][4].set_ylabel(\"RMSD stepwise [$\\AA$]\")\n",
    "        axs[1][4].set_title(\"RMSD stepwise\")\n",
    "else:\n",
    "    axs[0].violinplot(rmsd, showmeans=True)\n",
    "    axs[0].set_ylabel(\"RMSD [$\\AA$]\")\n",
    "    axs[0].set_title(\"RMSD\")\n",
    "    fig.suptitle(\n",
    "        f\"Compound {snakemake.wildcards.compound.capitalize()}. {snakemake.wildcards.confgen.capitalize()}\"\n",
    "    )  # -{snakemake.wildcards.mode}\n",
    "\n",
    "    axs[1].violinplot(mae, showmeans=True)\n",
    "    axs[1].set_ylabel(\"MAE [$\\AA$]\")\n",
    "    axs[1].set_title(\"MAE\")\n",
    "\n",
    "    axs[2].violinplot(mse, showmeans=True)\n",
    "    axs[2].set_ylabel(\"MSE [$\\AA$]\")\n",
    "    axs[2].set_title(\"MSE\")\n",
    "\n",
    "    axs[3].violinplot(fulfilled, showmeans=True)\n",
    "    axs[3].set_ylabel(\"% NOE fulfilled [1/100 %]\")\n",
    "    axs[3].set_title(\"% NOE fulfilled\")\n",
    "\n",
    "    axs[4].violinplot(rmsd_stepwise, showmeans=True)\n",
    "    axs[4].set_ylabel(\"RMSD stepwise [$\\AA$]\")\n",
    "    axs[4].set_title(\"RMSD stepwise\")\n",
    "    \n",
    "for ax in axs.flatten():\n",
    "    ax.get_xaxis().set_visible(False)\n",
    "fig.tight_layout()\n",
    "fig.savefig(snakemake.output.NOE_violin_plot, dpi=300)"
   ]
  },
  {
   "cell_type": "code",
   "execution_count": 10,
   "id": "50a909f7",
   "metadata": {
    "execution": {
     "iopub.execute_input": "2023-06-05T12:59:56.351226Z",
     "iopub.status.busy": "2023-06-05T12:59:56.349739Z",
     "iopub.status.idle": "2023-06-05T12:59:56.365985Z",
     "shell.execute_reply": "2023-06-05T12:59:56.365205Z"
    }
   },
   "outputs": [],
   "source": [
    "# Bundle analysis\n",
    "bundle_sizes = [1, 3, 5, 10, 30]\n",
    "\n",
    "\n",
    "def bundle_analysis(indices, NOE=None, regular_average=False, weights=None):\n",
    "    \"\"\"\n",
    "    perform bundle analysis for given conformer indices.\n",
    "    optionally can pass a NOE object.\n",
    "    Performs NOE averaging by default. Set regular_average=True to perform simple mean computation.\n",
    "    optionally pass weights to weigh list of indices. (not yet implements..)\n",
    "    \"\"\"\n",
    "    if NOE is None:\n",
    "        NOE = NOE_original\n",
    "    if multiple:\n",
    "        NOE_trans, NOE_cis = NOE\n",
    "        NOE_cis_dict = NOE_cis.to_dict(orient=\"index\")\n",
    "        NOE_trans_dict = NOE_trans.to_dict(orient=\"index\")\n",
    "    else:\n",
    "        NOE_dict = NOE.to_dict(orient=\"index\")\n",
    "\n",
    "    # select conformers\n",
    "    current_conformer = chem_info_t[indices]\n",
    "\n",
    "    if multiple:\n",
    "        if indices[0] in cis:\n",
    "            NOE = NOE_cis\n",
    "            NOE_dict = NOE_cis_dict\n",
    "        else:\n",
    "            NOE = NOE_trans\n",
    "            NOE_dict = NOE_trans_dict\n",
    "    if regular_average:\n",
    "        NOE[\"md\"], _, _2, NOE_dist, _3 = src.noe.compute_NOE_mdtraj(\n",
    "            NOE_dict, current_conformer, reweigh_type=3, weight_data=weights\n",
    "        )\n",
    "    else:\n",
    "        NOE[\"md\"], _, _2, NOE_dist, _3 = src.noe.compute_NOE_mdtraj(\n",
    "            NOE_dict, current_conformer, reweigh_type=0, weight_data=weights\n",
    "        )\n",
    "    # Deal with ambigous NOEs\n",
    "    NOE = NOE.explode(\"md\")\n",
    "    # and ambigous/multiple values\n",
    "    NOE = NOE.explode(\"NMR exp\")\n",
    "\n",
    "    # Remove duplicate values (keep value closest to experimental value)\n",
    "    NOE_test = NOE\n",
    "    if (NOE_test[\"NMR exp\"].to_numpy() == 0).all():\n",
    "        # if all exp values are 0: take middle between upper / lower bound as reference value\n",
    "        NOE_test[\"NMR exp\"] = (\n",
    "            NOE_test[\"upper bound\"] + NOE_test[\"lower bound\"]\n",
    "        ) * 0.5\n",
    "    NOE_test[\"dev\"] = NOE_test[\"md\"] - np.abs(NOE_test[\"NMR exp\"])\n",
    "    NOE_test[\"abs_dev\"] = np.abs(NOE_test[\"md\"] - np.abs(NOE_test[\"NMR exp\"]))\n",
    "\n",
    "    NOE_test = NOE_test.sort_values(\"abs_dev\", ascending=True)\n",
    "    NOE_test.index = NOE_test.index.astype(int)\n",
    "    NOE_test = NOE_test[~NOE_test.index.duplicated(keep=\"first\")].sort_index(\n",
    "        kind=\"mergesort\"\n",
    "    )\n",
    "\n",
    "    # drop NaN values:\n",
    "    NOE_test = NOE_test.dropna()\n",
    "\n",
    "    # Compute NOE statistics, since no bootstrap necessary, do a single iteration.. TODO: could clean this up further to pass 0, then just return the value...\n",
    "    RMSD, upper, lower = src.stats.compute_RMSD(\n",
    "        NOE_test[\"NMR exp\"], NOE_test[\"md\"], n_bootstrap=1\n",
    "    )\n",
    "    RMSD_stepwise, *_ = src.stats.compute_RMSD_stepwise(NOE_test, NOE_test[\"NMR exp\"], NOE_test[\"md\"], n_bootstrap=1)\n",
    "    MAE, *_ = src.stats.compute_MAE(\n",
    "        NOE_test[\"NMR exp\"], NOE_test[\"md\"], n_bootstrap=1\n",
    "    )\n",
    "    MSE, *_ = src.stats.compute_MSE(NOE_test[\"dev\"], n_bootstrap=1)\n",
    "    fulfil = src.stats.compute_fulfilled_percentage(NOE_test)\n",
    "    return {\"rmsd\": RMSD, \"mae\": MAE, \"mse\": MSE, \"fulfil\": fulfil, \"rmsd_stepwise\": RMSD_stepwise}"
   ]
  },
  {
   "cell_type": "code",
   "execution_count": 11,
   "id": "5ebe67c8",
   "metadata": {
    "execution": {
     "iopub.execute_input": "2023-06-05T12:59:56.372051Z",
     "iopub.status.busy": "2023-06-05T12:59:56.370603Z",
     "iopub.status.idle": "2023-06-05T13:00:44.202913Z",
     "shell.execute_reply": "2023-06-05T13:00:44.201865Z"
    }
   },
   "outputs": [],
   "source": [
    "# Random choice\n",
    "if multiple:\n",
    "    if len(cis) > 0 and len(trans) > 0:\n",
    "        conformer_indices = [cis, trans]\n",
    "        dict_key = [\"cis\", \"trans\"]\n",
    "    elif len(cis) > 0 and len(trans) == 0:\n",
    "        conformer_indices = [cis]\n",
    "        dict_key = [\"cis\"]\n",
    "    elif len(trans) > 0 and len(cis) == 0:\n",
    "        conformer_indices = [trans]\n",
    "        dict_key = [\"trans\"]\n",
    "else:\n",
    "    conformer_indices = [np.arange(0, chem_info_t.n_frames)]\n",
    "    dict_key = [\"single\"]\n",
    "for idx, ci in enumerate(conformer_indices):\n",
    "    random_choice_fulfil = []\n",
    "    random_choice_rmsd = []\n",
    "    random_choice_rmsd_stepwise = []\n",
    "    random_choice_mae = []\n",
    "    for bundle_size in bundle_sizes:\n",
    "        fulfil_total = []\n",
    "        rmsd_total = []\n",
    "        rmsd_stepwise_total = []\n",
    "        mae_total = []\n",
    "        for i in range(10):\n",
    "            # conformer_indices = np.arange(0,chem_info_t.n_frames)\n",
    "            # random bundle\n",
    "            # from numpy.random import default_rng\n",
    "            rng = np.random.default_rng()\n",
    "            # If there a only a few conformers available (less than bundle size),\n",
    "            # set bundle_size to max. available conformers\n",
    "            if bundle_size > len(ci):\n",
    "                bundle_size = len(ci)\n",
    "            indices_selection = rng.choice(ci, bundle_size, replace=False)\n",
    "            indices_selection.sort()\n",
    "            fulfil_total.append(bundle_analysis(indices_selection)[\"fulfil\"])\n",
    "            rmsd_total.append(bundle_analysis(indices_selection)[\"rmsd\"])\n",
    "            rmsd_stepwise_total.append(bundle_analysis(indices_selection)[\"rmsd_stepwise\"])\n",
    "            mae_total.append(bundle_analysis(indices_selection)[\"mae\"])\n",
    "        fulfil_total = np.array(fulfil_total)\n",
    "        rmsd_total = np.array(rmsd_total)\n",
    "        rmsd_stepwise_total = np.array(rmsd_stepwise_total)\n",
    "        mae_total = np.array(mae_total)\n",
    "        random_choice_fulfil.append(fulfil_total.mean())\n",
    "        random_choice_rmsd.append(rmsd_total.mean())\n",
    "        random_choice_rmsd_stepwise.append(rmsd_stepwise_total.mean())\n",
    "        random_choice_mae.append(mae_total.mean())\n",
    "    results[dict_key[idx]][\"bundle-size\"] = bundle_sizes\n",
    "\n",
    "    results[dict_key[idx]][\"fulfil\"][\"random\"] = random_choice_fulfil\n",
    "    results[dict_key[idx]][\"rmsd\"][\"random\"] = random_choice_rmsd\n",
    "    results[dict_key[idx]][\"rmsd_stepwise\"][\"random\"] = random_choice_rmsd_stepwise\n",
    "    results[dict_key[idx]][\"mae\"][\"random\"] = random_choice_mae"
   ]
  },
  {
   "cell_type": "code",
   "execution_count": 12,
   "id": "e3ea87d3",
   "metadata": {
    "execution": {
     "iopub.execute_input": "2023-06-05T13:00:44.207965Z",
     "iopub.status.busy": "2023-06-05T13:00:44.207624Z",
     "iopub.status.idle": "2023-06-05T13:00:48.713122Z",
     "shell.execute_reply": "2023-06-05T13:00:48.712353Z"
    }
   },
   "outputs": [],
   "source": [
    "# Lowest energy conformers\n",
    "if multiple:\n",
    "    if len(cis) > 0 and len(trans) > 0:\n",
    "        conformer_indices = [cis, trans]\n",
    "        dict_key = [\"cis\", \"trans\"]\n",
    "    elif len(cis) > 0 and len(trans) == 0:\n",
    "        conformer_indices = [cis]\n",
    "        dict_key = [\"cis\"]\n",
    "    elif len(trans) > 0 and len(cis) == 0:\n",
    "        conformer_indices = [trans]\n",
    "        dict_key = [\"trans\"]\n",
    "else:\n",
    "    conformer_indices = [np.arange(0, chem_info_t.n_frames)]\n",
    "    dict_key = [\"single\"]\n",
    "for idx, ci in enumerate(conformer_indices):\n",
    "    energy_choice_fulfil = []\n",
    "    energy_choice_rmsd = []\n",
    "    energy_choice_rmsd_stepwise = []\n",
    "    energy_choice_mae = []\n",
    "    relevant_energies = energies[ci]\n",
    "    # print(ci)\n",
    "    for bundle_size in bundle_sizes:\n",
    "        # If there a only a few conformers available (less than bundle size),\n",
    "        # set bundle_size to max. available conformers\n",
    "        if bundle_size > len(ci):\n",
    "            bundle_size = len(ci)\n",
    "        # get indices of the {bundle_size} smallest elements of energies\n",
    "        ind = np.argsort(relevant_energies)\n",
    "        min_energies_indices = ci[ind][:bundle_size]\n",
    "        # ind = np.argpartition(relevant_energies, bundle_size)[:bundle_size]\n",
    "        # min_energies_indices = ind[np.argsort(relevant_energies[ind])]\n",
    "        # print(min_energies_indices)\n",
    "        energy_choice_fulfil.append(\n",
    "            bundle_analysis(min_energies_indices)[\"fulfil\"]\n",
    "        )\n",
    "        energy_choice_rmsd.append(\n",
    "            bundle_analysis(min_energies_indices)[\"rmsd\"]\n",
    "        )\n",
    "        energy_choice_rmsd_stepwise.append(\n",
    "            bundle_analysis(min_energies_indices)[\"rmsd_stepwise\"]\n",
    "        )\n",
    "        energy_choice_mae.append(bundle_analysis(min_energies_indices)[\"mae\"])\n",
    "\n",
    "    results[dict_key[idx]][\"fulfil\"][\"low_energy\"] = energy_choice_fulfil\n",
    "    results[dict_key[idx]][\"rmsd\"][\"low_energy\"] = energy_choice_rmsd\n",
    "    results[dict_key[idx]][\"rmsd_stepwise\"][\"low_energy\"] = energy_choice_rmsd_stepwise\n",
    "    results[dict_key[idx]][\"mae\"][\"low_energy\"] = energy_choice_mae"
   ]
  },
  {
   "cell_type": "code",
   "execution_count": 13,
   "id": "50704581",
   "metadata": {
    "execution": {
     "iopub.execute_input": "2023-06-05T13:00:48.718138Z",
     "iopub.status.busy": "2023-06-05T13:00:48.717633Z",
     "iopub.status.idle": "2023-06-05T13:00:53.364438Z",
     "shell.execute_reply": "2023-06-05T13:00:53.363656Z"
    }
   },
   "outputs": [],
   "source": [
    "# LICUV\n",
    "if multiple:\n",
    "    if len(cis) > 0 and len(trans) > 0:\n",
    "        conformer_indices = [cis, trans]\n",
    "        dict_key = [\"cis\", \"trans\"]\n",
    "    elif len(cis) > 0 and len(trans) == 0:\n",
    "        conformer_indices = [cis]\n",
    "        dict_key = [\"cis\"]\n",
    "    elif len(trans) > 0 and len(cis) == 0:\n",
    "        conformer_indices = [trans]\n",
    "        dict_key = [\"trans\"]\n",
    "else:\n",
    "    conformer_indices = [np.arange(0, chem_info_t.n_frames)]\n",
    "    dict_key = [\"single\"]\n",
    "for idx, ci in enumerate(conformer_indices):\n",
    "    licuv_choice_fulfil = []\n",
    "    licuv_choice_rmsd = []\n",
    "    licuv_choice_rmsd_stepwise = []\n",
    "    licuv_choice_mae = []\n",
    "    relevant_fulfilled_values = fulfilled[ci]\n",
    "    # print(ci)\n",
    "    for bundle_size in bundle_sizes:\n",
    "        # If there a only a few conformers available (less than bundle size),\n",
    "        # set bundle_size to max. available conformers\n",
    "        if bundle_size > len(ci):\n",
    "            bundle_size = len(ci)\n",
    "        # get indices of the {bundle_size} smallest elements of energies\n",
    "        ind = np.argsort(relevant_fulfilled_values)\n",
    "        max_fulfill_indices = ci[ind][-bundle_size:]\n",
    "\n",
    "        licuv_choice_fulfil.append(\n",
    "            bundle_analysis(max_fulfill_indices)[\"fulfil\"]\n",
    "        )\n",
    "        licuv_choice_rmsd.append(bundle_analysis(max_fulfill_indices)[\"rmsd\"])\n",
    "        licuv_choice_rmsd_stepwise.append(bundle_analysis(max_fulfill_indices)[\"rmsd_stepwise\"])\n",
    "        licuv_choice_mae.append(bundle_analysis(max_fulfill_indices)[\"mae\"])\n",
    "\n",
    "    results[dict_key[idx]][\"fulfil\"][\"LICUV\"] = licuv_choice_fulfil\n",
    "    results[dict_key[idx]][\"rmsd\"][\"LICUV\"] = licuv_choice_rmsd\n",
    "    results[dict_key[idx]][\"rmsd_stepwise\"][\"LICUV\"] = licuv_choice_rmsd_stepwise\n",
    "    results[dict_key[idx]][\"mae\"][\"LICUV\"] = licuv_choice_mae"
   ]
  },
  {
   "cell_type": "code",
   "execution_count": 14,
   "id": "4b9588d2",
   "metadata": {
    "execution": {
     "iopub.execute_input": "2023-06-05T13:00:53.368894Z",
     "iopub.status.busy": "2023-06-05T13:00:53.368472Z",
     "iopub.status.idle": "2023-06-05T13:00:53.386474Z",
     "shell.execute_reply": "2023-06-05T13:00:53.385704Z"
    }
   },
   "outputs": [],
   "source": [
    "# NAMFIS, adapted from Riniker:2022\n",
    "def Namfis(indices):\n",
    "    traj = chem_info_t[indices]\n",
    "    # extract NOE distances for every conformer\n",
    "    NOEs = []\n",
    "    for current_conformer in traj:\n",
    "        # Reload NOE data\n",
    "        NOE = NOE_original\n",
    "        if multiple:\n",
    "            NOE_trans, NOE_cis = NOE\n",
    "            NOE_cis_dict = NOE_cis.to_dict(orient=\"index\")\n",
    "            NOE_trans_dict = NOE_trans.to_dict(orient=\"index\")\n",
    "        else:\n",
    "            NOE_dict = NOE.to_dict(orient=\"index\")\n",
    "        if multiple:\n",
    "            if indices[0] in cis:\n",
    "                NOE = NOE_cis\n",
    "                NOE_dict = NOE_cis_dict\n",
    "            else:\n",
    "                NOE = NOE_trans\n",
    "                NOE_dict = NOE_trans_dict\n",
    "        # Compute NOEs for current conformer\n",
    "        NOE[\"md\"], *_ = src.noe.compute_NOE_mdtraj(NOE_dict, current_conformer)\n",
    "\n",
    "        # Deal with ambigous NOEs\n",
    "        NOE = NOE.explode(\"md\")\n",
    "        # and ambigous/multiple values\n",
    "        NOE = NOE.explode(\"NMR exp\")\n",
    "        # Remove duplicate values (keep value closest to experimental value)\n",
    "        if (NOE[\"NMR exp\"].to_numpy() == 0).all():\n",
    "            # if all exp values are 0: take middle between upper / lower bound as reference value\n",
    "            NOE[\"NMR exp\"] = (NOE[\"upper bound\"] + NOE[\"lower bound\"]) * 0.5\n",
    "        NOE[\"dev\"] = NOE[\"md\"] - np.abs(NOE[\"NMR exp\"])\n",
    "        NOE[\"abs_dev\"] = np.abs(NOE[\"md\"] - np.abs(NOE[\"NMR exp\"]))\n",
    "        NOE = NOE.sort_values(\"abs_dev\", ascending=True)\n",
    "        NOE.index = NOE.index.astype(int)\n",
    "        NOE = NOE[~NOE.index.duplicated(keep=\"first\")].sort_index(\n",
    "            kind=\"mergesort\"\n",
    "        )\n",
    "        # drop NaN values:\n",
    "        NOE = NOE.dropna()\n",
    "        NOEs.append(NOE[\"md\"].values)\n",
    "    NOEs = np.array(NOEs)\n",
    "\n",
    "    # set NAMFIS parameters\n",
    "    tolerance = 3.0\n",
    "    ref_distances_ce = NOE[\"NMR exp\"].values\n",
    "    # define error scale factor for distances in different ranges\n",
    "    errors_ce = np.ones(len(ref_distances_ce)) * 0.4\n",
    "    errors_ce[ref_distances_ce < 6.0] = 0.4\n",
    "    errors_ce[ref_distances_ce < 3.5] = 0.3\n",
    "    errors_ce[ref_distances_ce < 3.0] = 0.2\n",
    "    errors_ce[ref_distances_ce < 2.5] = 0.1\n",
    "    # set distances_ce\n",
    "    distances_ce = NOEs\n",
    "\n",
    "    # Define NAMFIS objective\n",
    "    def objective(w):  # w is weights\n",
    "        deviation = ref_distances_ce - np.average(\n",
    "            distances_ce, weights=w, axis=0\n",
    "        )\n",
    "        deviation /= errors_ce\n",
    "        #     deviation = np.heaviside(deviation, 0) * deviation #only penalise upper violation\n",
    "        #     return np.sum(deviation**2) #squared deviation\n",
    "        return np.linalg.norm(deviation)  # square rooted\n",
    "\n",
    "    # Set constraints\n",
    "    cons = [\n",
    "        {\"type\": \"eq\", \"fun\": lambda w: np.sum(w) - 1}\n",
    "    ]  # weights add up to 1\n",
    "\n",
    "    cons += [  # does not allow any violation\n",
    "        {\n",
    "            \"type\": \"ineq\",\n",
    "            \"fun\": lambda w: (errors_ce + tolerance)\n",
    "            - np.absolute(\n",
    "                np.average(distances_ce, weights=w, axis=0) - ref_distances_ce\n",
    "            ),\n",
    "        }\n",
    "    ]\n",
    "\n",
    "    #     cons += [ #does not allow only upper violations\n",
    "    #                 {'type':'ineq','fun': lambda w: ref_distances_ce - np.average(distances_ce, weights = w, axis = 0) - tolerance}\n",
    "    #     ]\n",
    "\n",
    "    weights = (\n",
    "        np.random.uniform(low=0, high=1, size=len(distances_ce))\n",
    "        / len(distances_ce)\n",
    "        * 2\n",
    "    )  # uniform weights at start\n",
    "    # print(sum(weights))\n",
    "\n",
    "    # Run optimizaton\n",
    "    out = minimize(\n",
    "        objective,\n",
    "        weights,\n",
    "        constraints=tuple(cons),\n",
    "        bounds=tuple(\n",
    "            (0, 1) for _ in range(len(weights))\n",
    "        ),  # each weight constraint\n",
    "        method=\"SLSQP\",\n",
    "    )\n",
    "\n",
    "    if not out[\"success\"]:\n",
    "        logger.error(\"NAMFIS failed: {}\".format(out[\"message\"]))\n",
    "\n",
    "    weights = out[\"x\"]\n",
    "    num_conf = len(indices)\n",
    "    # list(zip([int(i) for i in np.argsort(-1 * weights)[:num_conf]], weights[np.argsort(weights * -1)[:num_conf]]))\n",
    "    return list(\n",
    "        zip(\n",
    "            [int(i) for i in np.argsort(-1 * weights)[:num_conf]],\n",
    "            weights[np.argsort(weights * -1)[:num_conf]],\n",
    "        )\n",
    "    )"
   ]
  },
  {
   "cell_type": "code",
   "execution_count": 15,
   "id": "533d6b37",
   "metadata": {
    "execution": {
     "iopub.execute_input": "2023-06-05T13:00:53.392321Z",
     "iopub.status.busy": "2023-06-05T13:00:53.390815Z",
     "iopub.status.idle": "2023-06-05T13:02:22.568531Z",
     "shell.execute_reply": "2023-06-05T13:02:22.567795Z"
    }
   },
   "outputs": [
    {
     "name": "stdout",
     "output_type": "stream",
     "text": [
      "1\n",
      "3\n",
      "5\n",
      "10\n",
      "30\n"
     ]
    }
   ],
   "source": [
    "# NAMFIS run\n",
    "if multiple:\n",
    "    if len(cis) > 0 and len(trans) > 0:\n",
    "        conformer_indices = [cis, trans]\n",
    "        dict_key = [\"cis\", \"trans\"]\n",
    "    elif len(cis) > 0 and len(trans) == 0:\n",
    "        conformer_indices = [cis]\n",
    "        dict_key = [\"cis\"]\n",
    "    elif len(trans) > 0 and len(cis) == 0:\n",
    "        conformer_indices = [trans]\n",
    "        dict_key = [\"trans\"]\n",
    "else:\n",
    "    conformer_indices = [np.arange(0, chem_info_t.n_frames)]\n",
    "    dict_key = [\"single\"]\n",
    "for idx, ci in enumerate(conformer_indices):\n",
    "    namfis_choice_fulfil = []\n",
    "    namfis_choice_rmsd = []\n",
    "    namfis_choice_rmsd_stepwise = []\n",
    "    namfis_choice_mae = []\n",
    "    namfis_results = Namfis(ci)\n",
    "    for bundle_size in bundle_sizes:\n",
    "        # If there a only a few conformers available (less than bundle size),\n",
    "        # set bundle_size to max. available conformers\n",
    "        if bundle_size > len(ci):\n",
    "            bundle_size = len(ci)\n",
    "        indices = [a[0] for a in namfis_results[:bundle_size]]\n",
    "        weights = [a[1] for a in namfis_results[:bundle_size]]\n",
    "        print(bundle_size)\n",
    "        if bundle_size == 1:\n",
    "            weights = None\n",
    "        namfis_choice_fulfil.append(\n",
    "            bundle_analysis(indices, regular_average=False, weights=weights)[\n",
    "                \"fulfil\"\n",
    "            ]\n",
    "        )\n",
    "        namfis_choice_rmsd.append(\n",
    "            bundle_analysis(indices, regular_average=False, weights=weights)[\n",
    "                \"rmsd\"\n",
    "            ]\n",
    "        )\n",
    "        namfis_choice_rmsd_stepwise.append(\n",
    "            bundle_analysis(indices, regular_average=False, weights=weights)[\n",
    "                \"rmsd_stepwise\"\n",
    "            ]\n",
    "        )\n",
    "        namfis_choice_mae.append(\n",
    "            bundle_analysis(indices, regular_average=False, weights=weights)[\n",
    "                \"mae\"\n",
    "            ]\n",
    "        )\n",
    "\n",
    "    results[dict_key[idx]][\"fulfil\"][\"NAMFIS\"] = namfis_choice_fulfil\n",
    "    results[dict_key[idx]][\"rmsd\"][\"NAMFIS\"] = namfis_choice_rmsd\n",
    "    results[dict_key[idx]][\"rmsd_stepwise\"][\"NAMFIS\"] = namfis_choice_rmsd_stepwise\n",
    "    results[dict_key[idx]][\"mae\"][\"NAMFIS\"] = namfis_choice_mae"
   ]
  },
  {
   "cell_type": "code",
   "execution_count": 16,
   "id": "a84dbe84",
   "metadata": {
    "execution": {
     "iopub.execute_input": "2023-06-05T13:02:22.572772Z",
     "iopub.status.busy": "2023-06-05T13:02:22.572060Z",
     "iopub.status.idle": "2023-06-05T13:02:22.583956Z",
     "shell.execute_reply": "2023-06-05T13:02:22.583027Z"
    }
   },
   "outputs": [
    {
     "data": {
      "text/plain": [
       "{'single': {'fulfil': {'best': 0.9104477611940298,\n",
       "   'random': [0.7925373134328358,\n",
       "    0.8532338308457712,\n",
       "    0.862686567164179,\n",
       "    0.8716417910447761,\n",
       "    0.916915422885572],\n",
       "   'low_energy': [0.8308457711442786,\n",
       "    0.8656716417910447,\n",
       "    0.8905472636815921,\n",
       "    0.9054726368159204,\n",
       "    0.9353233830845771],\n",
       "   'LICUV': [0.9104477611940298,\n",
       "    0.9353233830845771,\n",
       "    0.9552238805970149,\n",
       "    0.9402985074626866,\n",
       "    0.9502487562189055],\n",
       "   'NAMFIS': [0.845771144278607,\n",
       "    0.9402985074626866,\n",
       "    0.9353233830845771,\n",
       "    0.945273631840796,\n",
       "    0.945273631840796]},\n",
       "  'rmsd': {'best': 1.010257710183077,\n",
       "   'random': [1.799721772515777,\n",
       "    1.1509357146564148,\n",
       "    1.1572349744170316,\n",
       "    1.0486809115572604,\n",
       "    0.8650079437154817],\n",
       "   'low_energy': [1.4396257486012514,\n",
       "    1.2870230182117193,\n",
       "    0.9641573346008309,\n",
       "    0.8831899251521634,\n",
       "    0.7905781314145321],\n",
       "   'LICUV': [1.010257710183077,\n",
       "    0.8856954267820742,\n",
       "    0.7467798262243026,\n",
       "    0.7754824083368008,\n",
       "    0.7518018689349404],\n",
       "   'NAMFIS': [1.1148138290433478,\n",
       "    0.746901734954857,\n",
       "    0.7633871340022916,\n",
       "    0.7482099254274315,\n",
       "    0.7482099252128803]},\n",
       "  'rmsd_stepwise': {'best': 0.457605709180542,\n",
       "   'random': [0.7077110722164865,\n",
       "    0.5988906531029572,\n",
       "    0.5785391373211188,\n",
       "    0.5614783285399587,\n",
       "    0.44807353985605813],\n",
       "   'low_energy': [0.6427939635699684,\n",
       "    0.5789422504475155,\n",
       "    0.5141287369997471,\n",
       "    0.4813434764163291,\n",
       "    0.39404775324926794],\n",
       "   'LICUV': [0.457605709180542,\n",
       "    0.3889646929199467,\n",
       "    0.32545414117806243,\n",
       "    0.37964371881256087,\n",
       "    0.3421471563770702],\n",
       "   'NAMFIS': [0.5871340291272547,\n",
       "    0.34561935177071307,\n",
       "    0.36357812740368217,\n",
       "    0.33509484808622514,\n",
       "    0.33509484808622514]},\n",
       "  'mae': {'best': 0.6736349679937409,\n",
       "   'random': [1.0964751584019825,\n",
       "    0.798764437472843,\n",
       "    0.7993700620942713,\n",
       "    0.7638515797676689,\n",
       "    0.6721482361813764],\n",
       "   'low_energy': [0.9054617371725203,\n",
       "    0.8596273248044739,\n",
       "    0.7162825199141447,\n",
       "    0.6604530180386974,\n",
       "    0.6178565359621665],\n",
       "   'LICUV': [0.6736349679937409,\n",
       "    0.6260470046731469,\n",
       "    0.5728953990506773,\n",
       "    0.5901358205107893,\n",
       "    0.5990313688948643],\n",
       "   'NAMFIS': [0.7693645758415333,\n",
       "    0.5861795920906646,\n",
       "    0.6002442576023571,\n",
       "    0.5854136476273804,\n",
       "    0.5854136474655428]},\n",
       "  'bundle-size': [1, 3, 5, 10, 30]}}"
      ]
     },
     "execution_count": 16,
     "metadata": {},
     "output_type": "execute_result"
    }
   ],
   "source": [
    "results"
   ]
  },
  {
   "cell_type": "code",
   "execution_count": 17,
   "id": "0de6d979",
   "metadata": {
    "execution": {
     "iopub.execute_input": "2023-06-05T13:02:22.587777Z",
     "iopub.status.busy": "2023-06-05T13:02:22.587400Z",
     "iopub.status.idle": "2023-06-05T13:02:22.594881Z",
     "shell.execute_reply": "2023-06-05T13:02:22.593989Z"
    }
   },
   "outputs": [],
   "source": [
    "src.utils.json_dump(snakemake.output.fulfilled, results)"
   ]
  },
  {
   "cell_type": "code",
   "execution_count": 18,
   "id": "552d6365",
   "metadata": {
    "execution": {
     "iopub.execute_input": "2023-06-05T13:02:22.598782Z",
     "iopub.status.busy": "2023-06-05T13:02:22.598298Z",
     "iopub.status.idle": "2023-06-05T13:02:22.915505Z",
     "shell.execute_reply": "2023-06-05T13:02:22.915006Z"
    },
    "scrolled": false
   },
   "outputs": [
    {
     "data": {
      "image/png": "[encoded data removed]",
      "text/plain": [
       "<Figure size 640x480 with 1 Axes>"
      ]
     },
     "metadata": {},
     "output_type": "display_data"
    }
   ],
   "source": [
    "bundle_sizes_plot = [str(i) for i in bundle_sizes]\n",
    "plt.scatter(\n",
    "    bundle_sizes_plot, random_choice_fulfil, label=\"random\", marker=\"o\"\n",
    ")\n",
    "plt.scatter(\n",
    "    bundle_sizes_plot, energy_choice_fulfil, label=\"min-energy\", marker=\"x\"\n",
    ")\n",
    "plt.scatter(bundle_sizes_plot, licuv_choice_fulfil, label=\"LICUV\", marker=\".\")\n",
    "plt.scatter(\n",
    "    bundle_sizes_plot, namfis_choice_fulfil, label=\"NAMFIS\", marker=\"+\"\n",
    ")\n",
    "plt.legend()\n",
    "plt.xlabel(\"Bundle size\")\n",
    "plt.ylabel(\"% NOE fulfilled [1/100 %]\")\n",
    "plt.tight_layout()\n",
    "plt.savefig(snakemake.output.bundle_plot, dpi=300)"
   ]
  },
  {
   "cell_type": "code",
   "execution_count": 19,
   "id": "3e575cca",
   "metadata": {
    "execution": {
     "iopub.execute_input": "2023-06-05T13:02:22.918855Z",
     "iopub.status.busy": "2023-06-05T13:02:22.918294Z",
     "iopub.status.idle": "2023-06-05T13:02:22.921786Z",
     "shell.execute_reply": "2023-06-05T13:02:22.921136Z"
    }
   },
   "outputs": [],
   "source": [
    "# Compute solvent properties\n",
    "import mdtraj as md"
   ]
  },
  {
   "cell_type": "code",
   "execution_count": 20,
   "id": "13a96f07",
   "metadata": {
    "execution": {
     "iopub.execute_input": "2023-06-05T13:02:22.926402Z",
     "iopub.status.busy": "2023-06-05T13:02:22.925347Z",
     "iopub.status.idle": "2023-06-05T13:02:25.977456Z",
     "shell.execute_reply": "2023-06-05T13:02:25.976661Z"
    }
   },
   "outputs": [],
   "source": [
    "# compute solvent accessible surface area\n",
    "sasa = md.shrake_rupley(chem_info_t)\n",
    "total_sasa = sasa.sum(axis=1)"
   ]
  },
  {
   "cell_type": "code",
   "execution_count": 21,
   "id": "482411d6",
   "metadata": {
    "execution": {
     "iopub.execute_input": "2023-06-05T13:02:25.982797Z",
     "iopub.status.busy": "2023-06-05T13:02:25.981323Z",
     "iopub.status.idle": "2023-06-05T13:02:26.345774Z",
     "shell.execute_reply": "2023-06-05T13:02:26.345070Z"
    }
   },
   "outputs": [],
   "source": [
    "# compute polar surface area (PSA) with mdtraj, using nitrogen, oxygen and h atoms attached to either a nitrogenn or oxygen\n",
    "# atom of amino acids\n",
    "\n",
    "# select N, O, and H atoms attached to N or O\n",
    "n_o = chem_info_t.top.select('element N O')\n",
    "\n",
    "# from the trajectory, only consider n_o_h atoms\n",
    "t_n_o = chem_info_t.atom_slice(n_o)\n",
    "\n",
    "# compute polar surface area\n",
    "psa = md.shrake_rupley(t_n_o)\n",
    "\n",
    "total_psa = psa.sum(axis=1)"
   ]
  },
  {
   "cell_type": "code",
   "execution_count": 22,
   "id": "a79ca1ef",
   "metadata": {
    "execution": {
     "iopub.execute_input": "2023-06-05T13:02:26.351669Z",
     "iopub.status.busy": "2023-06-05T13:02:26.350516Z",
     "iopub.status.idle": "2023-06-05T13:02:26.510691Z",
     "shell.execute_reply": "2023-06-05T13:02:26.509892Z"
    }
   },
   "outputs": [
    {
     "data": {
      "text/plain": [
       "Text(0.5, 0, 'Total SASA [(nm)^2]')"
      ]
     },
     "execution_count": 22,
     "metadata": {},
     "output_type": "execute_result"
    },
    {
     "data": {
      "image/png": "[encoded data removed]",
      "text/plain": [
       "<Figure size 640x480 with 1 Axes>"
      ]
     },
     "metadata": {},
     "output_type": "display_data"
    }
   ],
   "source": [
    "plt.hist(total_sasa)\n",
    "plt.ylabel(\"Count\")\n",
    "plt.xlabel(\"Total SASA [(nm)^2]\")"
   ]
  },
  {
   "cell_type": "code",
   "execution_count": 23,
   "id": "24ebe78b",
   "metadata": {
    "execution": {
     "iopub.execute_input": "2023-06-05T13:02:26.514870Z",
     "iopub.status.busy": "2023-06-05T13:02:26.514456Z",
     "iopub.status.idle": "2023-06-05T13:02:26.669116Z",
     "shell.execute_reply": "2023-06-05T13:02:26.668426Z"
    }
   },
   "outputs": [
    {
     "data": {
      "text/plain": [
       "Text(0.5, 0, 'Total PSA [(nm)^2]')"
      ]
     },
     "execution_count": 23,
     "metadata": {},
     "output_type": "execute_result"
    },
    {
     "data": {
      "image/png": "[encoded data removed]",
      "text/plain": [
       "<Figure size 640x480 with 1 Axes>"
      ]
     },
     "metadata": {},
     "output_type": "display_data"
    }
   ],
   "source": [
    "plt.hist(total_psa)\n",
    "plt.ylabel(\"Count\")\n",
    "plt.xlabel(\"Total PSA [(nm)^2]\")"
   ]
  },
  {
   "cell_type": "code",
   "execution_count": 24,
   "id": "64ab496f",
   "metadata": {
    "execution": {
     "iopub.execute_input": "2023-06-05T13:02:26.673100Z",
     "iopub.status.busy": "2023-06-05T13:02:26.672450Z",
     "iopub.status.idle": "2023-06-05T13:02:26.676016Z",
     "shell.execute_reply": "2023-06-05T13:02:26.675429Z"
    }
   },
   "outputs": [],
   "source": [
    "# minimum means most likely! \n",
    "\n",
    "# compute average sasa\n",
    "minimum_sasa = np.mean(total_sasa)"
   ]
  },
  {
   "cell_type": "code",
   "execution_count": 25,
   "id": "a3d1a035",
   "metadata": {
    "execution": {
     "iopub.execute_input": "2023-06-05T13:02:26.679718Z",
     "iopub.status.busy": "2023-06-05T13:02:26.679075Z",
     "iopub.status.idle": "2023-06-05T13:02:26.682847Z",
     "shell.execute_reply": "2023-06-05T13:02:26.682166Z"
    }
   },
   "outputs": [],
   "source": [
    "minimum_psa = np.mean(total_psa)"
   ]
  },
  {
   "cell_type": "code",
   "execution_count": 26,
   "id": "0e6a7e1a",
   "metadata": {
    "execution": {
     "iopub.execute_input": "2023-06-05T13:02:26.686647Z",
     "iopub.status.busy": "2023-06-05T13:02:26.685928Z",
     "iopub.status.idle": "2023-06-05T13:02:26.690024Z",
     "shell.execute_reply": "2023-06-05T13:02:26.689249Z"
    }
   },
   "outputs": [],
   "source": [
    "# save sasa and psa to json\n",
    "solv_props = {}\n",
    "solv_props[\"minimum_sasa\"] = float(minimum_sasa)\n",
    "solv_props[\"minimum_psa\"] = float(minimum_psa)"
   ]
  },
  {
   "cell_type": "code",
   "execution_count": 27,
   "id": "8216898d",
   "metadata": {
    "execution": {
     "iopub.execute_input": "2023-06-05T13:02:26.694106Z",
     "iopub.status.busy": "2023-06-05T13:02:26.693319Z",
     "iopub.status.idle": "2023-06-05T13:02:26.702820Z",
     "shell.execute_reply": "2023-06-05T13:02:26.702109Z"
    }
   },
   "outputs": [],
   "source": [
    "from src.utils import json_dump, pickle_dump\n",
    "json_dump(snakemake.output.solvation_properties, solv_props)\n",
    "pickle_dump(snakemake.output.sasa, total_sasa)\n",
    "pickle_dump(snakemake.output.psa, total_psa)"
   ]
  },
  {
   "cell_type": "code",
   "execution_count": null,
   "id": "f30ec3f7",
   "metadata": {},
   "outputs": [],
   "source": []
  }
 ],
 "metadata": {
  "kernelspec": {
   "display_name": "Python 3 (ipykernel)",
   "language": "python",
   "name": "python3"
  },
  "language_info": {
   "codemirror_mode": {
    "name": "ipython",
    "version": 3
   },
   "file_extension": ".py",
   "mimetype": "text/x-python",
   "name": "python",
   "nbconvert_exporter": "python",
   "pygments_lexer": "ipython3",
   "version": "3.7.12"
  }
 },
 "nbformat": 4,
 "nbformat_minor": 5
}
