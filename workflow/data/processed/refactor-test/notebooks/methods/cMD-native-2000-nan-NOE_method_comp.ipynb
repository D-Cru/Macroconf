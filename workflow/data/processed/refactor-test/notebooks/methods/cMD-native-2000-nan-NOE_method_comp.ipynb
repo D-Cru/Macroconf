{
 "cells": [
  {
   "cell_type": "code",
   "execution_count": 1,
   "id": "d0f8ba33",
   "metadata": {
    "execution": {
     "iopub.execute_input": "2022-10-19T18:50:23.249662Z",
     "iopub.status.busy": "2022-10-19T18:50:23.249012Z",
     "iopub.status.idle": "2022-10-19T18:50:23.360764Z",
     "shell.execute_reply": "2022-10-19T18:50:23.359841Z"
    },
    "tags": [
     "snakemake-job-properties"
    ]
   },
   "outputs": [],
   "source": [
    "\n",
    "######## snakemake preamble start (automatically inserted, do not edit) ########\n",
    "import sys; sys.path.extend(['/biggin/b147/univ4859/miniconda3/envs/snakemake/lib/python3.9/site-packages', '/biggin/b147/univ4859/research/03_macroconf/workflow/rules/../notebooks']); import pickle; snakemake = pickle.loads(b'\\x80\\x04\\x95\\x1d \\x00\\x00\\x00\\x00\\x00\\x00\\x8c\\x10snakemake.script\\x94\\x8c\\tSnakemake\\x94\\x93\\x94)\\x81\\x94}\\x94(\\x8c\\x05input\\x94\\x8c\\x0csnakemake.io\\x94\\x8c\\nInputFiles\\x94\\x93\\x94)\\x81\\x94(\\x8cVdata/processed/refactor-test/results/55/H2O/cMD/2000/0/5ead922859f5c96d_noe_stats.json\\x94\\x8cVdata/processed/refactor-test/results/56/H2O/cMD/2000/0/eff35c6c3e18f0a3_noe_stats.json\\x94\\x8cVdata/processed/refactor-test/results/57/H2O/cMD/2000/0/5dc9eaf6e041f3f2_noe_stats.json\\x94\\x8cVdata/processed/refactor-test/results/58/H2O/cMD/2000/0/f9df090456539245_noe_stats.json\\x94\\x8cVdata/processed/refactor-test/results/59/H2O/cMD/2000/0/cc9e4f8eb83eb5e7_noe_stats.json\\x94\\x8cVdata/processed/refactor-test/results/60/H2O/cMD/2000/0/36cc5f966dea67cb_noe_stats.json\\x94\\x8cVdata/processed/refactor-test/results/61/H2O/cMD/2000/0/167326bf49040dbd_noe_stats.json\\x94\\x8cVdata/processed/refactor-test/results/62/H2O/cMD/2000/0/474e13185acfa1a8_noe_stats.json\\x94\\x8cVdata/processed/refactor-test/results/63/H2O/cMD/2000/0/8db033dcdd7bf626_noe_stats.json\\x94\\x8cVdata/processed/refactor-test/results/64/H2O/cMD/2000/0/811158a8b531154d_noe_stats.json\\x94\\x8cVdata/processed/refactor-test/results/65/H2O/cMD/2000/0/45750abf2112f0e2_noe_stats.json\\x94\\x8cVdata/processed/refactor-test/results/66/H2O/cMD/2000/0/8b69117d53937901_noe_stats.json\\x94\\x8cVdata/processed/refactor-test/results/68/H2O/cMD/2000/0/11a7fb1e6aad7905_noe_stats.json\\x94\\x8c^data/processed/refactor-test/results/1_1/Chloroform/cMD/2000/0/f2825d3690a271d0_noe_stats.json\\x94\\x8cbdata/processed/refactor-test/results/1_2/DMSO_GAFF_RESP/cMD/2000/0/421b10c8566b49cb_noe_stats.json\\x94\\x8cadata/processed/refactor-test/results/22/DMSO_GAFF_RESP/cMD/2000/0/79804846e6901cf6_noe_stats.json\\x94\\x8cadata/processed/refactor-test/results/24/DMSO_GAFF_RESP/cMD/2000/0/2f45361261b805e5_noe_stats.json\\x94\\x8cadata/processed/refactor-test/results/27/DMSO_GAFF_RESP/cMD/2000/0/334abba1d29a4378_noe_stats.json\\x94\\x8cadata/processed/refactor-test/results/28/DMSO_GAFF_RESP/cMD/2000/0/74633fb83c0d5f89_noe_stats.json\\x94\\x8cadata/processed/refactor-test/results/29/DMSO_GAFF_RESP/cMD/2000/0/c4209a995bd14e57_noe_stats.json\\x94\\x8cadata/processed/refactor-test/results/30/DMSO_GAFF_RESP/cMD/2000/0/126bbd887309df40_noe_stats.json\\x94\\x8cadata/processed/refactor-test/results/31/DMSO_GAFF_RESP/cMD/2000/0/d1d453ef88c14913_noe_stats.json\\x94\\x8cadata/processed/refactor-test/results/32/DMSO_GAFF_RESP/cMD/2000/0/fa08f684840cbc89_noe_stats.json\\x94\\x8cadata/processed/refactor-test/results/33/DMSO_GAFF_RESP/cMD/2000/0/a03586fd58d627cd_noe_stats.json\\x94\\x8cadata/processed/refactor-test/results/35/DMSO_GAFF_RESP/cMD/2000/0/ae86721015402cfa_noe_stats.json\\x94\\x8cadata/processed/refactor-test/results/36/DMSO_GAFF_RESP/cMD/2000/0/13607ce653c1715e_noe_stats.json\\x94\\x8cadata/processed/refactor-test/results/38/DMSO_GAFF_RESP/cMD/2000/0/439e771e612e69f6_noe_stats.json\\x94\\x8cadata/processed/refactor-test/results/39/DMSO_GAFF_RESP/cMD/2000/0/30d5ac208620d9ce_noe_stats.json\\x94\\x8cadata/processed/refactor-test/results/40/DMSO_GAFF_RESP/cMD/2000/0/4e7bd481d58354ec_noe_stats.json\\x94\\x8cadata/processed/refactor-test/results/41/DMSO_GAFF_RESP/cMD/2000/0/152ec36e3269fbd5_noe_stats.json\\x94\\x8cadata/processed/refactor-test/results/42/DMSO_GAFF_RESP/cMD/2000/0/e3a36fd0612b2ce3_noe_stats.json\\x94\\x8cadata/processed/refactor-test/results/49/DMSO_GAFF_RESP/cMD/2000/0/b0163eba7e6d9b80_noe_stats.json\\x94\\x8cadata/processed/refactor-test/results/50/DMSO_GAFF_RESP/cMD/2000/0/4b93d27539017144_noe_stats.json\\x94\\x8cadata/processed/refactor-test/results/51/DMSO_GAFF_RESP/cMD/2000/0/26e5e96f1ec47099_noe_stats.json\\x94\\x8cVdata/processed/refactor-test/results/52/H2O/cMD/2000/0/777fb4f8db256554_noe_stats.json\\x94e}\\x94(\\x8c\\x06_names\\x94}\\x94(\\x8c\\x14run_5ead922859f5c96d\\x94K\\x00N\\x86\\x94\\x8c\\x14run_eff35c6c3e18f0a3\\x94K\\x01N\\x86\\x94\\x8c\\x14run_5dc9eaf6e041f3f2\\x94K\\x02N\\x86\\x94\\x8c\\x14run_f9df090456539245\\x94K\\x03N\\x86\\x94\\x8c\\x14run_cc9e4f8eb83eb5e7\\x94K\\x04N\\x86\\x94\\x8c\\x14run_36cc5f966dea67cb\\x94K\\x05N\\x86\\x94\\x8c\\x14run_167326bf49040dbd\\x94K\\x06N\\x86\\x94\\x8c\\x14run_474e13185acfa1a8\\x94K\\x07N\\x86\\x94\\x8c\\x14run_8db033dcdd7bf626\\x94K\\x08N\\x86\\x94\\x8c\\x14run_811158a8b531154d\\x94K\\tN\\x86\\x94\\x8c\\x14run_45750abf2112f0e2\\x94K\\nN\\x86\\x94\\x8c\\x14run_8b69117d53937901\\x94K\\x0bN\\x86\\x94\\x8c\\x14run_11a7fb1e6aad7905\\x94K\\x0cN\\x86\\x94\\x8c\\x14run_f2825d3690a271d0\\x94K\\rN\\x86\\x94\\x8c\\x14run_421b10c8566b49cb\\x94K\\x0eN\\x86\\x94\\x8c\\x14run_79804846e6901cf6\\x94K\\x0fN\\x86\\x94\\x8c\\x14run_2f45361261b805e5\\x94K\\x10N\\x86\\x94\\x8c\\x14run_334abba1d29a4378\\x94K\\x11N\\x86\\x94\\x8c\\x14run_74633fb83c0d5f89\\x94K\\x12N\\x86\\x94\\x8c\\x14run_c4209a995bd14e57\\x94K\\x13N\\x86\\x94\\x8c\\x14run_126bbd887309df40\\x94K\\x14N\\x86\\x94\\x8c\\x14run_d1d453ef88c14913\\x94K\\x15N\\x86\\x94\\x8c\\x14run_fa08f684840cbc89\\x94K\\x16N\\x86\\x94\\x8c\\x14run_a03586fd58d627cd\\x94K\\x17N\\x86\\x94\\x8c\\x14run_ae86721015402cfa\\x94K\\x18N\\x86\\x94\\x8c\\x14run_13607ce653c1715e\\x94K\\x19N\\x86\\x94\\x8c\\x14run_439e771e612e69f6\\x94K\\x1aN\\x86\\x94\\x8c\\x14run_30d5ac208620d9ce\\x94K\\x1bN\\x86\\x94\\x8c\\x14run_4e7bd481d58354ec\\x94K\\x1cN\\x86\\x94\\x8c\\x14run_152ec36e3269fbd5\\x94K\\x1dN\\x86\\x94\\x8c\\x14run_e3a36fd0612b2ce3\\x94K\\x1eN\\x86\\x94\\x8c\\x14run_b0163eba7e6d9b80\\x94K\\x1fN\\x86\\x94\\x8c\\x14run_4b93d27539017144\\x94K N\\x86\\x94\\x8c\\x14run_26e5e96f1ec47099\\x94K!N\\x86\\x94\\x8c\\x14run_777fb4f8db256554\\x94K\"N\\x86\\x94u\\x8c\\x12_allowed_overrides\\x94]\\x94(\\x8c\\x05index\\x94\\x8c\\x04sort\\x94ehx\\x8c\\tfunctools\\x94\\x8c\\x07partial\\x94\\x93\\x94h\\x06\\x8c\\x19Namedlist._used_attribute\\x94\\x93\\x94\\x85\\x94R\\x94(h~)}\\x94\\x8c\\x05_name\\x94hxsNt\\x94bhyh|h~\\x85\\x94R\\x94(h~)}\\x94h\\x82hysNt\\x94bh0h\\nh2h\\x0bh4h\\x0ch6h\\rh8h\\x0eh:h\\x0fh<h\\x10h>h\\x11h@h\\x12hBh\\x13hDh\\x14hFh\\x15hHh\\x16hJh\\x17hLh\\x18hNh\\x19hPh\\x1ahRh\\x1bhTh\\x1chVh\\x1dhXh\\x1ehZh\\x1fh\\\\h h^h!h`h\"hbh#hdh$hfh%hhh&hjh\\'hlh(hnh)hph*hrh+hth,ub\\x8c\\x06output\\x94h\\x06\\x8c\\x0bOutputFiles\\x94\\x93\\x94)\\x81\\x94(\\x8cHdata/processed/refactor-test/results/methods/cMD-native-2000-nan-NOE.png\\x94\\x8cSdata/processed/refactor-test/results/methods/cMD-native-2000-nan-NOE_fulfilled.json\\x94e}\\x94(h.}\\x94(\\x8c\\x04plot\\x94K\\x00N\\x86\\x94\\x8c\\x04data\\x94K\\x01N\\x86\\x94uhv]\\x94(hxhyehxh|h~\\x85\\x94R\\x94(h~)}\\x94h\\x82hxsNt\\x94bhyh|h~\\x85\\x94R\\x94(h~)}\\x94h\\x82hysNt\\x94bh\\x90h\\x8ch\\x92h\\x8dub\\x8c\\x06params\\x94h\\x06\\x8c\\x06Params\\x94\\x93\\x94)\\x81\\x94}\\x94(h.}\\x94hv]\\x94(hxhyehxh|h~\\x85\\x94R\\x94(h~)}\\x94h\\x82hxsNt\\x94bhyh|h~\\x85\\x94R\\x94(h~)}\\x94h\\x82hysNt\\x94bub\\x8c\\twildcards\\x94h\\x06\\x8c\\tWildcards\\x94\\x93\\x94)\\x81\\x94(\\x8c\\rrefactor-test\\x94\\x8c\\x03cMD\\x94\\x8c\\x06native\\x94\\x8c\\x042000\\x94\\x8c\\x03nan\\x94e}\\x94(h.}\\x94(\\x8c\\x08exp_name\\x94K\\x00N\\x86\\x94\\x8c\\x06method\\x94K\\x01N\\x86\\x94\\x8c\\x07solvent\\x94K\\x02N\\x86\\x94\\x8c\\x07simtime\\x94K\\x03N\\x86\\x94\\x8c\\x05igamd\\x94K\\x04N\\x86\\x94uhv]\\x94(hxhyehxh|h~\\x85\\x94R\\x94(h~)}\\x94h\\x82hxsNt\\x94bhyh|h~\\x85\\x94R\\x94(h~)}\\x94h\\x82hysNt\\x94b\\x8c\\x08exp_name\\x94h\\xb0\\x8c\\x06method\\x94h\\xb1\\x8c\\x07solvent\\x94h\\xb2\\x8c\\x07simtime\\x94h\\xb3\\x8c\\x05igamd\\x94h\\xb4ub\\x8c\\x07threads\\x94K\\x02\\x8c\\tresources\\x94h\\x06\\x8c\\tResources\\x94\\x93\\x94)\\x81\\x94(K\\x02K\\x01\\x8c\\x04/tmp\\x94e}\\x94(h.}\\x94(\\x8c\\x06_cores\\x94K\\x00N\\x86\\x94\\x8c\\x06_nodes\\x94K\\x01N\\x86\\x94\\x8c\\x06tmpdir\\x94K\\x02N\\x86\\x94uhv]\\x94(hxhyehxh|h~\\x85\\x94R\\x94(h~)}\\x94h\\x82hxsNt\\x94bhyh|h~\\x85\\x94R\\x94(h~)}\\x94h\\x82hysNt\\x94bh\\xd7K\\x02h\\xd9K\\x01h\\xdbh\\xd4ub\\x8c\\x03log\\x94h\\x06\\x8c\\x03Log\\x94\\x93\\x94)\\x81\\x94\\x8cXdata/processed/refactor-test/notebooks/methods/cMD-native-2000-nan-NOE_method_comp.ipynb\\x94a}\\x94(h.}\\x94\\x8c\\x08notebook\\x94K\\x00N\\x86\\x94shv]\\x94(hxhyehxh|h~\\x85\\x94R\\x94(h~)}\\x94h\\x82hxsNt\\x94bhyh|h~\\x85\\x94R\\x94(h~)}\\x94h\\x82hysNt\\x94bh\\xedh\\xeaub\\x8c\\x06config\\x94}\\x94(\\x8c\\x0bthreads_max\\x94K\\x0c\\x8c\\x16run_single_md_analysis\\x94\\x89\\x8c\\x11run_comp_analysis\\x94\\x89\\x8c\\x14run_heatmap_analysis\\x94\\x89\\x8c\\x0frun_method_comp\\x94\\x89\\x8c\\x0frun_eq_analysis\\x94\\x89\\x8c\\trun_omega\\x94\\x89\\x8c\\trun_rdkit\\x94\\x89\\x8c\\x19run_cheminfo_NOE_analysis\\x94\\x89\\x8c\\x12make_paper_figures\\x94\\x88\\x8c\\x13update_jupyter_book\\x94\\x88\\x8c\\x11convergence_check\\x94]\\x94\\x8c\\x10210a1ea8aa678b16\\x94a\\x8c\\x15run_convergence_check\\x94\\x89\\x8c\\x0fmethod_defaults\\x94}\\x94\\x8c\\x05igamd\\x94}\\x94(\\x8c\\x07methods\\x94]\\x94\\x8c\\x04GaMD\\x94a\\x8c\\x07default\\x94\\x8c\\x013\\x94\\x8c\\x06others\\x94\\x8c\\x03nan\\x94us\\x8c\\tshortened\\x94\\x89\\x8c\\x06stride\\x94K\\x01\\x8c\\x04ns_h\\x94G@\\x1e\\x00\\x00\\x00\\x00\\x00\\x00\\x8c\\thash_list\\x94]\\x94(]\\x94(\\x8c\\x1028159d44aa267024\\x94\\x8c\\x105ead922859f5c96d\\x94\\x8c\\x105ead922859f5c96d\\x94\\x8c\\x0255\\x94\\x8c\\x010\\x94j\\x1e\\x01\\x00\\x00e]\\x94(\\x8c\\x10250c26e1ba562237\\x94\\x8c\\x10eff35c6c3e18f0a3\\x94\\x8c\\x10eff35c6c3e18f0a3\\x94\\x8c\\x0256\\x94j\\x1e\\x01\\x00\\x00j\\x1e\\x01\\x00\\x00e]\\x94(\\x8c\\x10210a1ea8aa678b16\\x94\\x8c\\x103595ce0609206d95\\x94\\x8c\\x10586db4c575bef492\\x94\\x8c\\x0222\\x94j\\x1e\\x01\\x00\\x00j\\x1e\\x01\\x00\\x00e]\\x94(\\x8c\\x10210a1ea8aa678b16\\x94\\x8c\\x10583fbeed838cced5\\x94\\x8c\\x105405e3b785af9601\\x94\\x8c\\x0222\\x94j\\x1e\\x01\\x00\\x00j\\x1e\\x01\\x00\\x00e]\\x94(\\x8c\\x10210a1ea8aa678b16\\x94\\x8c\\x10583fbeed838cced5\\x94\\x8c\\x105405e3b785af9601\\x94\\x8c\\x0222\\x94\\x8c\\x0bomega_basic\\x94\\x8c\\x11rdkit_ETKDGv3mmff\\x94e]\\x94(\\x8c\\x10210a1ea8aa678b16\\x94\\x8c\\x10c5389d15c56a3655\\x94\\x8c\\x103a8c4367deb63d6e\\x94\\x8c\\x0222\\x94j\\x1e\\x01\\x00\\x00j\\x1e\\x01\\x00\\x00e]\\x94(\\x8c\\x104f386944d88e6ef8\\x94\\x8c\\x10c99bbf5d17e8efb9\\x94\\x8c\\x10c99bbf5d17e8efb9\\x94\\x8c\\x0224\\x94j\\x1e\\x01\\x00\\x00j\\x1e\\x01\\x00\\x00e]\\x94(\\x8c\\x109e61be229abfc57f\\x94\\x8c\\x1013c5dee00c76dc47\\x94\\x8c\\x1013c5dee00c76dc47\\x94\\x8c\\x0249\\x94j\\x1e\\x01\\x00\\x00j\\x1e\\x01\\x00\\x00ee\\x8c\\x12confgen_parameters\\x94}\\x94(\\x8c\\x05omega\\x94]\\x94(\\x8c\\x05basic\\x94\\x8c\\nchloroform\\x94\\x8c\\nlowEwindow\\x94\\x8c\\x0bhighEwindow\\x94\\x8c\\x06lowrms\\x94\\x8c\\x07highrms\\x94\\x8c\\x0bhighmaxconf\\x94\\x8c\\thighmaxit\\x94\\x8c\\x0chighsampling\\x94\\x8c\\rlotsdifferent\\x94e\\x8c\\x05rdkit\\x94]\\x94(\\x8c\\x05basic\\x94\\x8c\\x04ETDG\\x94\\x8c\\x07ETKDGv1\\x94\\x8c\\x07ETKDGv2\\x94\\x8c\\x07ETKDGv3\\x94\\x8c\\tsrETKDGv3\\x94\\x8c\\x03KDG\\x94\\x8c\\x08def-ETDG\\x94\\x8c\\x0bdef-ETKDGv1\\x94\\x8c\\x0bdef-ETKDGv2\\x94\\x8c\\x0bdef-ETKDGv3\\x94\\x8c\\rdef-srETKDGv3\\x94\\x8c\\x07def-KDG\\x94\\x8c\\x0chighsampling\\x94\\x8c\\rlotsdifferent\\x94eu\\x8c\\x11heatmap_compounds\\x94]\\x94(K\\x16K\\x18K7K8K!K1K2K3e\\x8c\\x0ccluster_conf\\x94}\\x94(\\x8c\\x10242ee4d4af3634ed\\x94K\\x0f\\x8c\\x10c5389d15c56a3655\\x94K\\n\\x8c\\x103c523c7ca380f925\\x94K\\n\\x8c\\x10ca1a37290d9e454e\\x94K\\x08\\x8c\\x109a100624325ec4cd\\x94K\\x06\\x8c\\x103d00b0964201e088\\x94K\\n\\x8c\\x10210a1ea8aa678b16\\x94K\\x08u\\x8c\\x08exp_name\\x94\\x8c\\rrefactor-test\\x94\\x8c\\tdata_name\\x94\\x8c\\x1722-02-2021_MacroConf-v2\\x94\\x8c\\x0cdataset_file\\x94\\x8c3data/external/22-09-2021_MacroConf-v2.1/dataset.csv\\x94\\x8c\\x0bsample_file\\x94\\x8c\\x0bsamples.tsv\\x94\\x8c\\rsample_output\\x94\\x8c\\x0fsamples_old.tsv\\x94\\x8c\\nforcefield\\x94\\x8c1libs/forcefields/leaprc.protein.ff14SB_noterminal\\x94\\x8c\\x06jb-toc\\x94\\x8c\\x13reports/jb/_toc.yml\\x94\\x8c\\x08jb-links\\x94\\x8c\\x11reports/jb/links/\\x94\\x8c\\x0cDMSO_default\\x94\\x8c\\x0eDMSO_GAFF_RESP\\x94\\x8c\\rCDCl3_default\\x94\\x8c\\nChloroform\\x94\\x8c\\x0bDMSO_params\\x94\\x8c!libs/md_solvents/dmso/frcmod.dmso\\x94\\x8c\\x08DMSO_box\\x94\\x8c!libs/md_solvents/dmso/dmsobox.off\\x94\\x8c\\x11Chloroform_params\\x94\\x8c\\x0cfrcmod.chcl3\\x94\\x8c\\x13full_analysis_files\\x94]\\x94\\x8c\\x9b../../../data/processed/refactor-test/notebooks/methods/28159d44aa267024-native-586db4c575bef492-native_omega-basic-rdkit-ETKDGv3mmff-NOE_method_comp.ipynb\\x94au\\x8c\\x04rule\\x94\\x8c\\x0fmd_comp_methods\\x94\\x8c\\x0fbench_iteration\\x94N\\x8c\\tscriptdir\\x94\\x8cG/biggin/b147/univ4859/research/03_macroconf/workflow/rules/../notebooks\\x94ub.'); from snakemake.logging import logger; logger.printshellcmds = False; import os; os.chdir(r'/biggin/b147/univ4859/research/03_macroconf/workflow');\n",
    "######## snakemake preamble end #########\n"
   ]
  },
  {
   "cell_type": "code",
   "execution_count": 2,
   "id": "c57259de",
   "metadata": {
    "execution": {
     "iopub.execute_input": "2022-10-19T18:50:23.365706Z",
     "iopub.status.busy": "2022-10-19T18:50:23.365307Z",
     "iopub.status.idle": "2022-10-19T18:50:25.775005Z",
     "shell.execute_reply": "2022-10-19T18:50:25.774296Z"
    }
   },
   "outputs": [],
   "source": [
    "import src.utils\n",
    "import pandas as pd\n",
    "import numpy as np\n",
    "import matplotlib.pyplot as plt\n",
    "import seaborn as sns"
   ]
  },
  {
   "cell_type": "code",
   "execution_count": 3,
   "id": "0ba5eeea",
   "metadata": {
    "execution": {
     "iopub.execute_input": "2022-10-19T18:50:25.779681Z",
     "iopub.status.busy": "2022-10-19T18:50:25.779291Z",
     "iopub.status.idle": "2022-10-19T18:50:25.912404Z",
     "shell.execute_reply": "2022-10-19T18:50:25.911731Z"
    }
   },
   "outputs": [],
   "source": [
    "stats_i = src.utils.json_load(snakemake.input[0])\n",
    "_,v = next(iter(stats_i.items()))\n",
    "v = pd.DataFrame.from_dict(v)\n",
    "v = v.columns.to_list()\n",
    "remover = ['stat', 'up', 'low']\n",
    "[v.remove(r) for r in remover]\n",
    "# Make temp storage\n",
    "percentage_fulfilled = {}\n",
    "rmsd = {}\n",
    "mae = {}\n",
    "# for different bundles\n",
    "for i in v:\n",
    "    percentage_fulfilled[i] = {}\n",
    "    rmsd[i] = {}\n",
    "    mae[i] = {}\n",
    "\n",
    "for i in snakemake.input:\n",
    "    for j in v:\n",
    "        stats = src.utils.json_load(i)\n",
    "        hash = i[-31:-15]\n",
    "        compound_id = i.split(\"/\")[4]\n",
    "\n",
    "        for k in stats.keys():\n",
    "            stats_df = pd.DataFrame.from_dict(stats[k])\n",
    "            percentage_fulfilled[j][f\"{hash}-{compound_id}_{k}\"] = stats_df[stats_df['stat'] == 'percentage_fulfilled'][j].values.tolist()[0]\n",
    "            rmsd[j][f\"{hash}-{compound_id}_{k}\"] = stats_df[stats_df['stat'] == 'RMSD'][j].values.tolist()[0]\n",
    "            mae[j][f\"{hash}-{compound_id}_{k}\"] = stats_df[stats_df['stat'] == 'MAE'][j].values.tolist()[0]\n",
    "\n",
    "\n",
    "######\n",
    "#         multiple = False\n",
    "#         if \"cis\" in stats or \"trans\" in stats:\n",
    "#             multiple = True\n",
    "#         if multiple:\n",
    "#             stats_cis = stats.cis\n",
    "#             stats_trans = stats.trans\n",
    "#             stats_cis = pd.DataFrame.from_dict(stats_cis)\n",
    "#             stats_trans = pd.DataFrame.from_dict(stats_trans)\n",
    "#         else:\n",
    "#             test_NOE = pd.read_json(i)\n",
    "\n",
    "#         if multiple:\n",
    "#             if \"stat\" in stats_cis:\n",
    "#                 percentage_fulfilled[f\"{hash}-{compound_id}_cis\"] = stats_cis[stats_cis['stat'] == 'percentage_fulfilled'].value.values.tolist()[0]\n",
    "#                 rmsd[f\"{hash}-{compound_id}_cis\"] = stats_cis[stats_cis['stat'] == 'RMSD'].value.values.tolist()[0]\n",
    "#                 mae[f\"{hash}-{compound_id}_cis\"] = stats_cis[stats_cis['stat'] == 'MAE'].value.values.tolist()[0]\n",
    "#             if \"stat\" in stats_trans:\n",
    "#                 percentage_fulfilled[f\"{hash}-{compound_id}_trans\"] = stats_trans[stats_trans['stat'] == 'percentage_fulfilled'].value.values.tolist()[0]\n",
    "#                 rmsd[f\"{hash}-{compound_id}_trans\"] = stats_trans[stats_trans['stat'] == 'RMSD'].value.values.tolist()[0]\n",
    "#                 mae[f\"{hash}-{compound_id}_trans\"] = stats_trans[stats_trans['stat'] == 'MAE'].value.values.tolist()[0]\n",
    "#         else:\n",
    "#             percentage_fulfilled[f\"{hash}-{compound_id}\"] = test_NOE[test_NOE['stat'] == 'percentage_fulfilled'].value.values.tolist()[0]\n",
    "#             rmsd[f\"{hash}-{compound_id}\"] = test_NOE[test_NOE['stat'] == 'RMSD'].value.values.tolist()[0]\n",
    "#             mae[f\"{hash}-{compound_id}\"] = test_NOE[test_NOE['stat'] == 'MAE'].value.values.tolist()[0]\n"
   ]
  },
  {
   "cell_type": "code",
   "execution_count": 4,
   "id": "fcaeea49",
   "metadata": {
    "execution": {
     "iopub.execute_input": "2022-10-19T18:50:25.917720Z",
     "iopub.status.busy": "2022-10-19T18:50:25.917381Z",
     "iopub.status.idle": "2022-10-19T18:50:25.927306Z",
     "shell.execute_reply": "2022-10-19T18:50:25.926685Z"
    }
   },
   "outputs": [
    {
     "data": {
      "text/plain": [
       "{'single': {'stat': {'0': 'MAE',\n",
       "   '1': 'MSE',\n",
       "   '2': 'RMSD',\n",
       "   '3': 'pearsonr',\n",
       "   '4': 'kendalltau',\n",
       "   '5': 'chisq',\n",
       "   '6': 'percentage_fulfilled'},\n",
       "  'value': {'0': 0.4708736472922214,\n",
       "   '1': -0.016160695857287587,\n",
       "   '2': 0.6367809107214436,\n",
       "   '3': 0.445323853032235,\n",
       "   '4': 0.4234481691088764,\n",
       "   '5': 4.4581631014256695,\n",
       "   '6': 0.5294117647058824},\n",
       "  'up': {'0': 0.6222842730330914,\n",
       "   '1': 0.20351663122276967,\n",
       "   '2': 0.8224162251916239,\n",
       "   '3': 0.7177847575444943,\n",
       "   '4': 0.6222619560145976,\n",
       "   '5': 7.783250366056514,\n",
       "   '6': 0.0},\n",
       "  'low': {'0': 0.3368837079854347,\n",
       "   '1': 0.0,\n",
       "   '2': 0.4370236691499456,\n",
       "   '3': 0.19047451687119044,\n",
       "   '4': 0.20769068439345267,\n",
       "   '5': 1.9458741023047048,\n",
       "   '6': 0.0},\n",
       "  'most-populated-1': {'0': 0.5595587183447444,\n",
       "   '1': 0.21243483178755784,\n",
       "   '2': 0.714309397258778,\n",
       "   '3': nan,\n",
       "   '4': nan,\n",
       "   '5': nan,\n",
       "   '6': 0.47058823529411764}}}"
      ]
     },
     "execution_count": 4,
     "metadata": {},
     "output_type": "execute_result"
    }
   ],
   "source": [
    "stats_i"
   ]
  },
  {
   "cell_type": "code",
   "execution_count": 5,
   "id": "7c2709a4",
   "metadata": {
    "execution": {
     "iopub.execute_input": "2022-10-19T18:50:25.929812Z",
     "iopub.status.busy": "2022-10-19T18:50:25.929501Z",
     "iopub.status.idle": "2022-10-19T18:50:26.207604Z",
     "shell.execute_reply": "2022-10-19T18:50:26.206631Z"
    }
   },
   "outputs": [
    {
     "data": {
      "image/png": "[encoded data removed]",
      "text/plain": [
       "<Figure size 432x288 with 1 Axes>"
      ]
     },
     "metadata": {
      "needs_background": "light"
     },
     "output_type": "display_data"
    }
   ],
   "source": [
    "plt.scatter(percentage_fulfilled['value'].values(), percentage_fulfilled['value'].keys(), )\n",
    "plt.title(f\"{snakemake.wildcards.method}: {snakemake.wildcards.simtime} ns\")\n",
    "plt.savefig(snakemake.output.plot)"
   ]
  },
  {
   "cell_type": "code",
   "execution_count": 6,
   "id": "46a8f316",
   "metadata": {
    "execution": {
     "iopub.execute_input": "2022-10-19T18:50:26.212307Z",
     "iopub.status.busy": "2022-10-19T18:50:26.212073Z",
     "iopub.status.idle": "2022-10-19T18:50:26.214842Z",
     "shell.execute_reply": "2022-10-19T18:50:26.214331Z"
    }
   },
   "outputs": [],
   "source": [
    "output = {\n",
    "    'RMSD': rmsd,\n",
    "    'MAE': mae,\n",
    "    'percentage_fulfilled': percentage_fulfilled\n",
    "}"
   ]
  },
  {
   "cell_type": "code",
   "execution_count": 7,
   "id": "e0986fef",
   "metadata": {
    "execution": {
     "iopub.execute_input": "2022-10-19T18:50:26.217615Z",
     "iopub.status.busy": "2022-10-19T18:50:26.217396Z",
     "iopub.status.idle": "2022-10-19T18:50:26.224470Z",
     "shell.execute_reply": "2022-10-19T18:50:26.223890Z"
    }
   },
   "outputs": [
    {
     "data": {
      "text/plain": [
       "{'RMSD': {'value': {'5ead922859f5c96d-55_single': 0.6367809107214436,\n",
       "   'eff35c6c3e18f0a3-56_single': 0.893306701936269,\n",
       "   '5dc9eaf6e041f3f2-57_single': 1.0275977816584871,\n",
       "   'f9df090456539245-58_single': 0.9478973321238335,\n",
       "   'cc9e4f8eb83eb5e7-59_single': 0.8518657453104627,\n",
       "   '36cc5f966dea67cb-60_single': 1.0135211093995975,\n",
       "   '167326bf49040dbd-61_single': 1.1927771088333396,\n",
       "   '474e13185acfa1a8-62_single': 0.8140445966064057,\n",
       "   '8db033dcdd7bf626-63_single': 1.1811036825125771,\n",
       "   '811158a8b531154d-64_single': 1.194363846325554,\n",
       "   '45750abf2112f0e2-65_single': 1.2372345499332031,\n",
       "   '8b69117d53937901-66_single': 1.2902162697836617,\n",
       "   '11a7fb1e6aad7905-68_single': 0.8655397581799613,\n",
       "   'f2825d3690a271d0-1_1_single': 0.27415639562264227,\n",
       "   '421b10c8566b49cb-1_2_single': 0.3615751620995413,\n",
       "   '79804846e6901cf6-22_single': 0.8128999246625285,\n",
       "   '2f45361261b805e5-24_trans': 1.1509150518244258,\n",
       "   '334abba1d29a4378-27_single': 0.5592577541120208,\n",
       "   '74633fb83c0d5f89-28_single': 0.49645101295689376,\n",
       "   'c4209a995bd14e57-29_single': 0.6204023834297856,\n",
       "   '126bbd887309df40-30_single': 0.6996460311078699,\n",
       "   'd1d453ef88c14913-31_single': 0.5140914708234909,\n",
       "   'fa08f684840cbc89-32_single': 0.6247247539367264,\n",
       "   'a03586fd58d627cd-33_single': 0.872170785124032,\n",
       "   'ae86721015402cfa-35_single': 0.6704443817706397,\n",
       "   '13607ce653c1715e-36_single': 0.2606017280766182,\n",
       "   '439e771e612e69f6-38_single': 0.7592054915922472,\n",
       "   '30d5ac208620d9ce-39_single': 0.5667234039907985,\n",
       "   '4e7bd481d58354ec-40_single': 0.9289237190825659,\n",
       "   '152ec36e3269fbd5-41_single': 0.632895192257853,\n",
       "   'e3a36fd0612b2ce3-42_single': 0.5302836049060237,\n",
       "   'b0163eba7e6d9b80-49_trans': 0.62598796165135,\n",
       "   '4b93d27539017144-50_trans': 0.3857318471862661,\n",
       "   '26e5e96f1ec47099-51_single': 0.4236641642228154,\n",
       "   '777fb4f8db256554-52_cis': 0.45702024311005246},\n",
       "  'most-populated-1': {'5ead922859f5c96d-55_single': 0.714309397258778,\n",
       "   'eff35c6c3e18f0a3-56_single': 1.1523574617391348,\n",
       "   '5dc9eaf6e041f3f2-57_single': 0.998567362370518,\n",
       "   'f9df090456539245-58_single': 1.074112385942084,\n",
       "   'cc9e4f8eb83eb5e7-59_single': 0.8963060981917546,\n",
       "   '36cc5f966dea67cb-60_single': 1.0191601418638965,\n",
       "   '167326bf49040dbd-61_single': 1.1515288976988762,\n",
       "   '474e13185acfa1a8-62_single': 1.4557497407339492,\n",
       "   '8db033dcdd7bf626-63_single': 1.016186291527228,\n",
       "   '811158a8b531154d-64_single': 1.094978693129572,\n",
       "   '45750abf2112f0e2-65_single': 1.1937066384684925,\n",
       "   '8b69117d53937901-66_single': 1.1015620560556896,\n",
       "   '11a7fb1e6aad7905-68_single': 0.701279780592595,\n",
       "   'f2825d3690a271d0-1_1_single': 0.4910472274198761,\n",
       "   '421b10c8566b49cb-1_2_single': 0.62188285097231,\n",
       "   '79804846e6901cf6-22_single': 0.8184113695825387,\n",
       "   '2f45361261b805e5-24_trans': 1.180827200820233,\n",
       "   '334abba1d29a4378-27_single': 0.71066140217055,\n",
       "   '74633fb83c0d5f89-28_single': 0.6217878887535659,\n",
       "   'c4209a995bd14e57-29_single': 0.6870434420277679,\n",
       "   '126bbd887309df40-30_single': 0.7566578350888269,\n",
       "   'd1d453ef88c14913-31_single': 0.5095815273401035,\n",
       "   'fa08f684840cbc89-32_single': 0.617317229086944,\n",
       "   'a03586fd58d627cd-33_single': 0.9365747990975447,\n",
       "   'ae86721015402cfa-35_single': 0.851112038709749,\n",
       "   '13607ce653c1715e-36_single': 0.41961002221054294,\n",
       "   '439e771e612e69f6-38_single': 0.8513357234854549,\n",
       "   '30d5ac208620d9ce-39_single': 0.7473736163332314,\n",
       "   '4e7bd481d58354ec-40_single': 1.1976289090956087,\n",
       "   '152ec36e3269fbd5-41_single': 0.7164269993026429,\n",
       "   'e3a36fd0612b2ce3-42_single': 0.6894377129596264,\n",
       "   'b0163eba7e6d9b80-49_trans': 0.6551460887152154,\n",
       "   '4b93d27539017144-50_trans': 0.4307091236697994,\n",
       "   '26e5e96f1ec47099-51_single': 0.6465629727770261,\n",
       "   '777fb4f8db256554-52_cis': 0.5419487162591733}},\n",
       " 'MAE': {'value': {'5ead922859f5c96d-55_single': 0.4708736472922214,\n",
       "   'eff35c6c3e18f0a3-56_single': 0.4808951565507503,\n",
       "   '5dc9eaf6e041f3f2-57_single': 0.8813456776486164,\n",
       "   'f9df090456539245-58_single': 0.768763671069283,\n",
       "   'cc9e4f8eb83eb5e7-59_single': 0.6776081379979435,\n",
       "   '36cc5f966dea67cb-60_single': 0.7908681764431248,\n",
       "   '167326bf49040dbd-61_single': 0.8268107732352423,\n",
       "   '474e13185acfa1a8-62_single': 0.6671149863580358,\n",
       "   '8db033dcdd7bf626-63_single': 0.9832555707923445,\n",
       "   '811158a8b531154d-64_single': 0.880442637785372,\n",
       "   '45750abf2112f0e2-65_single': 1.0816051150025598,\n",
       "   '8b69117d53937901-66_single': 1.1249389201456523,\n",
       "   '11a7fb1e6aad7905-68_single': 0.7170311439300086,\n",
       "   'f2825d3690a271d0-1_1_single': 0.2093344188594614,\n",
       "   '421b10c8566b49cb-1_2_single': 0.26526811285804824,\n",
       "   '79804846e6901cf6-22_single': 0.6176054393740255,\n",
       "   '2f45361261b805e5-24_trans': 0.6703512170835707,\n",
       "   '334abba1d29a4378-27_single': 0.40573430522059384,\n",
       "   '74633fb83c0d5f89-28_single': 0.3298796655111532,\n",
       "   'c4209a995bd14e57-29_single': 0.4424219095921496,\n",
       "   '126bbd887309df40-30_single': 0.43761045606005783,\n",
       "   'd1d453ef88c14913-31_single': 0.35741151566095963,\n",
       "   'fa08f684840cbc89-32_single': 0.4163032831626371,\n",
       "   'a03586fd58d627cd-33_single': 0.6009898871581439,\n",
       "   'ae86721015402cfa-35_single': 0.31533214688143596,\n",
       "   '13607ce653c1715e-36_single': 0.19877138091753335,\n",
       "   '439e771e612e69f6-38_single': 0.46498349533320604,\n",
       "   '30d5ac208620d9ce-39_single': 0.3709278986347745,\n",
       "   '4e7bd481d58354ec-40_single': 0.5854651489577614,\n",
       "   '152ec36e3269fbd5-41_single': 0.4085417708372778,\n",
       "   'e3a36fd0612b2ce3-42_single': 0.37762315547994296,\n",
       "   'b0163eba7e6d9b80-49_trans': 0.4108895278835223,\n",
       "   '4b93d27539017144-50_trans': 0.2729973937466233,\n",
       "   '26e5e96f1ec47099-51_single': 0.35184672141984963,\n",
       "   '777fb4f8db256554-52_cis': 0.3378294072282443},\n",
       "  'most-populated-1': {'5ead922859f5c96d-55_single': 0.5595587183447444,\n",
       "   'eff35c6c3e18f0a3-56_single': 0.7156608486175536,\n",
       "   '5dc9eaf6e041f3f2-57_single': 0.6626346740457747,\n",
       "   'f9df090456539245-58_single': 0.6987976673990488,\n",
       "   'cc9e4f8eb83eb5e7-59_single': 0.6591569402638604,\n",
       "   '36cc5f966dea67cb-60_single': 0.7101052159612827,\n",
       "   '167326bf49040dbd-61_single': 0.7957647509627288,\n",
       "   '474e13185acfa1a8-62_single': 0.9813856823527395,\n",
       "   '8db033dcdd7bf626-63_single': 0.8073721871231541,\n",
       "   '811158a8b531154d-64_single': 0.7341016542911529,\n",
       "   '45750abf2112f0e2-65_single': 0.9447466551678853,\n",
       "   '8b69117d53937901-66_single': 0.9226052761077881,\n",
       "   '11a7fb1e6aad7905-68_single': 0.5353220562602199,\n",
       "   'f2825d3690a271d0-1_1_single': 0.3616158747673035,\n",
       "   '421b10c8566b49cb-1_2_single': 0.4837068623304368,\n",
       "   '79804846e6901cf6-22_single': 0.6575844573974607,\n",
       "   '2f45361261b805e5-24_trans': 0.6133234073804771,\n",
       "   '334abba1d29a4378-27_single': 0.47429355697631836,\n",
       "   '74633fb83c0d5f89-28_single': 0.4167423975467681,\n",
       "   'c4209a995bd14e57-29_single': 0.5066341766234366,\n",
       "   '126bbd887309df40-30_single': 0.5157560779109144,\n",
       "   'd1d453ef88c14913-31_single': 0.34636890087127675,\n",
       "   'fa08f684840cbc89-32_single': 0.403409847319126,\n",
       "   'a03586fd58d627cd-33_single': 0.6727693533897399,\n",
       "   'ae86721015402cfa-35_single': 0.5442941603167304,\n",
       "   '13607ce653c1715e-36_single': 0.3054877727681939,\n",
       "   '439e771e612e69f6-38_single': 0.5544333131313323,\n",
       "   '30d5ac208620d9ce-39_single': 0.5020738386338756,\n",
       "   '4e7bd481d58354ec-40_single': 0.7924156241581357,\n",
       "   '152ec36e3269fbd5-41_single': 0.470673124725754,\n",
       "   'e3a36fd0612b2ce3-42_single': 0.467660837502315,\n",
       "   'b0163eba7e6d9b80-49_trans': 0.43933454036712644,\n",
       "   '4b93d27539017144-50_trans': 0.31670905885242273,\n",
       "   '26e5e96f1ec47099-51_single': 0.47392014169692975,\n",
       "   '777fb4f8db256554-52_cis': 0.4397054407331677}},\n",
       " 'percentage_fulfilled': {'value': {'5ead922859f5c96d-55_single': 0.5294117647058824,\n",
       "   'eff35c6c3e18f0a3-56_single': 0.5581395348837209,\n",
       "   '5dc9eaf6e041f3f2-57_single': 0.9027777777777778,\n",
       "   'f9df090456539245-58_single': 0.8125,\n",
       "   'cc9e4f8eb83eb5e7-59_single': 0.9,\n",
       "   '36cc5f966dea67cb-60_single': 0.9090909090909091,\n",
       "   '167326bf49040dbd-61_single': 0.8351648351648352,\n",
       "   '474e13185acfa1a8-62_single': 0.9303482587064676,\n",
       "   '8db033dcdd7bf626-63_single': 0.7121212121212122,\n",
       "   '811158a8b531154d-64_single': 0.87,\n",
       "   '45750abf2112f0e2-65_single': 0.7475728155339806,\n",
       "   '8b69117d53937901-66_single': 0.6808510638297872,\n",
       "   '11a7fb1e6aad7905-68_single': 0.9302325581395349,\n",
       "   'f2825d3690a271d0-1_1_single': 1.0,\n",
       "   '421b10c8566b49cb-1_2_single': 1.0,\n",
       "   '79804846e6901cf6-22_single': 0.5909090909090909,\n",
       "   '2f45361261b805e5-24_trans': 0.8478260869565217,\n",
       "   '334abba1d29a4378-27_single': 0.36,\n",
       "   '74633fb83c0d5f89-28_single': 0.53125,\n",
       "   'c4209a995bd14e57-29_single': 0.3548387096774194,\n",
       "   '126bbd887309df40-30_single': 0.3333333333333333,\n",
       "   'd1d453ef88c14913-31_single': 0.52,\n",
       "   'fa08f684840cbc89-32_single': 0.3125,\n",
       "   'a03586fd58d627cd-33_single': 0.375,\n",
       "   'ae86721015402cfa-35_single': 0.6551724137931034,\n",
       "   '13607ce653c1715e-36_single': 0.6363636363636364,\n",
       "   '439e771e612e69f6-38_single': 0.6,\n",
       "   '30d5ac208620d9ce-39_single': 0.6774193548387096,\n",
       "   '4e7bd481d58354ec-40_single': 0.5517241379310345,\n",
       "   '152ec36e3269fbd5-41_single': 0.7027027027027027,\n",
       "   'e3a36fd0612b2ce3-42_single': 0.5862068965517241,\n",
       "   'b0163eba7e6d9b80-49_trans': 0.4583333333333333,\n",
       "   '4b93d27539017144-50_trans': 0.5238095238095238,\n",
       "   '26e5e96f1ec47099-51_single': 0.55,\n",
       "   '777fb4f8db256554-52_cis': 1.0},\n",
       "  'most-populated-1': {'5ead922859f5c96d-55_single': 0.47058823529411764,\n",
       "   'eff35c6c3e18f0a3-56_single': 0.5581395348837209,\n",
       "   '5dc9eaf6e041f3f2-57_single': 0.9583333333333334,\n",
       "   'f9df090456539245-58_single': 0.921875,\n",
       "   'cc9e4f8eb83eb5e7-59_single': 0.888235294117647,\n",
       "   '36cc5f966dea67cb-60_single': 0.875,\n",
       "   '167326bf49040dbd-61_single': 0.8571428571428571,\n",
       "   '474e13185acfa1a8-62_single': 0.7960199004975125,\n",
       "   '8db033dcdd7bf626-63_single': 0.8787878787878788,\n",
       "   '811158a8b531154d-64_single': 0.91,\n",
       "   '45750abf2112f0e2-65_single': 0.7961165048543689,\n",
       "   '8b69117d53937901-66_single': 0.8936170212765957,\n",
       "   '11a7fb1e6aad7905-68_single': 0.9534883720930233,\n",
       "   'f2825d3690a271d0-1_1_single': 0.9375,\n",
       "   '421b10c8566b49cb-1_2_single': 0.75,\n",
       "   '79804846e6901cf6-22_single': 0.5909090909090909,\n",
       "   '2f45361261b805e5-24_trans': 0.782608695652174,\n",
       "   '334abba1d29a4378-27_single': 0.4,\n",
       "   '74633fb83c0d5f89-28_single': 0.3125,\n",
       "   'c4209a995bd14e57-29_single': 0.3225806451612903,\n",
       "   '126bbd887309df40-30_single': 0.24242424242424243,\n",
       "   'd1d453ef88c14913-31_single': 0.44,\n",
       "   'fa08f684840cbc89-32_single': 0.5,\n",
       "   'a03586fd58d627cd-33_single': 0.20833333333333334,\n",
       "   'ae86721015402cfa-35_single': 0.3103448275862069,\n",
       "   '13607ce653c1715e-36_single': 0.5454545454545454,\n",
       "   '439e771e612e69f6-38_single': 0.475,\n",
       "   '30d5ac208620d9ce-39_single': 0.5483870967741935,\n",
       "   '4e7bd481d58354ec-40_single': 0.5172413793103449,\n",
       "   '152ec36e3269fbd5-41_single': 0.6756756756756757,\n",
       "   'e3a36fd0612b2ce3-42_single': 0.6551724137931034,\n",
       "   'b0163eba7e6d9b80-49_trans': 0.4166666666666667,\n",
       "   '4b93d27539017144-50_trans': 0.42857142857142855,\n",
       "   '26e5e96f1ec47099-51_single': 0.55,\n",
       "   '777fb4f8db256554-52_cis': 0.9444444444444444}}}"
      ]
     },
     "execution_count": 7,
     "metadata": {},
     "output_type": "execute_result"
    }
   ],
   "source": [
    "output"
   ]
  },
  {
   "cell_type": "code",
   "execution_count": 8,
   "id": "8827711e",
   "metadata": {
    "execution": {
     "iopub.execute_input": "2022-10-19T18:50:26.226603Z",
     "iopub.status.busy": "2022-10-19T18:50:26.226364Z",
     "iopub.status.idle": "2022-10-19T18:50:26.344718Z",
     "shell.execute_reply": "2022-10-19T18:50:26.343605Z"
    }
   },
   "outputs": [],
   "source": [
    "src.utils.json_dump(snakemake.output.data, output)"
   ]
  },
  {
   "cell_type": "code",
   "execution_count": null,
   "id": "b2b1776c",
   "metadata": {},
   "outputs": [],
   "source": []
  }
 ],
 "metadata": {
  "interpreter": {
   "hash": "e885641f5d15292e734dfd87be8b96e25b1f2f75cfe4f2af2fabd4ab738eeb5e"
  },
  "kernelspec": {
   "display_name": "Python 3 (ipykernel)",
   "language": "python",
   "name": "python3"
  },
  "language_info": {
   "codemirror_mode": {
    "name": "ipython",
    "version": 3
   },
   "file_extension": ".py",
   "mimetype": "text/x-python",
   "name": "python",
   "nbconvert_exporter": "python",
   "pygments_lexer": "ipython3",
   "version": "3.7.12"
  }
 },
 "nbformat": 4,
 "nbformat_minor": 5
}
