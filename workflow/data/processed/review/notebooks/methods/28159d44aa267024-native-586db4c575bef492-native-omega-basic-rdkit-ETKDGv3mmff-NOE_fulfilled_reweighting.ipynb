{
 "cells": [
  {
   "cell_type": "code",
   "execution_count": 1,
   "id": "64ff1c75",
   "metadata": {
    "execution": {
     "iopub.execute_input": "2023-06-07T11:17:49.796532Z",
     "iopub.status.busy": "2023-06-07T11:17:49.795951Z",
     "iopub.status.idle": "2023-06-07T11:17:50.012252Z",
     "shell.execute_reply": "2023-06-07T11:17:50.010951Z"
    },
    "tags": [
     "snakemake-job-properties"
    ]
   },
   "outputs": [],
   "source": [
    "\n",
    "######## snakemake preamble start (automatically inserted, do not edit) ########\n",
    "import sys; sys.path.extend(['/biggin/b147/univ4859/miniconda3/envs/snakemake/lib/python3.10/site-packages', '/biggin/b147/univ4859/research/03_macroconf/workflow/rules/../notebooks']); import pickle; snakemake = pickle.loads(b'\\x80\\x04\\x95\\xf0\\x0f\\x00\\x00\\x00\\x00\\x00\\x00\\x8c\\x10snakemake.script\\x94\\x8c\\tSnakemake\\x94\\x93\\x94)\\x81\\x94}\\x94(\\x8c\\x05input\\x94\\x8c\\x0csnakemake.io\\x94\\x8c\\nInputFiles\\x94\\x93\\x94)\\x81\\x94(\\x8cRdata/processed/refactor-test/results/methods/GaMD-native-2000-3-NOE_fulfilled.json\\x94\\x8cRdata/processed/review/results/methods/GaMDbol-native-2000-3-NOE_fulfilled_bol.json\\x94e}\\x94(\\x8c\\x06_names\\x94}\\x94(\\x8c\\x07gamd_mc\\x94K\\x00N\\x86\\x94\\x8c\\x08gamd_bol\\x94K\\x01N\\x86\\x94u\\x8c\\x12_allowed_overrides\\x94]\\x94(\\x8c\\x05index\\x94\\x8c\\x04sort\\x94eh\\x15\\x8c\\tfunctools\\x94\\x8c\\x07partial\\x94\\x93\\x94h\\x06\\x8c\\x19Namedlist._used_attribute\\x94\\x93\\x94\\x85\\x94R\\x94(h\\x1b)}\\x94\\x8c\\x05_name\\x94h\\x15sNt\\x94bh\\x16h\\x19h\\x1b\\x85\\x94R\\x94(h\\x1b)}\\x94h\\x1fh\\x16sNt\\x94bh\\x0fh\\nh\\x11h\\x0bub\\x8c\\x06output\\x94h\\x06\\x8c\\x0bOutputFiles\\x94\\x93\\x94)\\x81\\x94(\\x8c\\x84data/processed/review/results/methods/28159d44aa267024-native-586db4c575bef492-native_omega-basic-rdkit-ETKDGv3mmff-NOE-all_1_rw.svg\\x94\\x8c\\x88data/processed/review/results/methods/28159d44aa267024-native-586db4c575bef492-native_omega-basic-rdkit-ETKDGv3mmff-NOE-all_sig_1_rw.svg\\x94e}\\x94(h\\r}\\x94(\\x8c\\x05plot1\\x94K\\x00N\\x86\\x94\\x8c\\tplot1_sig\\x94K\\x01N\\x86\\x94uh\\x13]\\x94(h\\x15h\\x16eh\\x15h\\x19h\\x1b\\x85\\x94R\\x94(h\\x1b)}\\x94h\\x1fh\\x15sNt\\x94bh\\x16h\\x19h\\x1b\\x85\\x94R\\x94(h\\x1b)}\\x94h\\x1fh\\x16sNt\\x94bh-h)h/h*ub\\x8c\\x06params\\x94h\\x06\\x8c\\x06Params\\x94\\x93\\x94)\\x81\\x94}\\x94(h\\r}\\x94h\\x13]\\x94(h\\x15h\\x16eh\\x15h\\x19h\\x1b\\x85\\x94R\\x94(h\\x1b)}\\x94h\\x1fh\\x15sNt\\x94bh\\x16h\\x19h\\x1b\\x85\\x94R\\x94(h\\x1b)}\\x94h\\x1fh\\x16sNt\\x94bub\\x8c\\twildcards\\x94h\\x06\\x8c\\tWildcards\\x94\\x93\\x94)\\x81\\x94(\\x8c/28159d44aa267024-native-586db4c575bef492-native\\x94\\x8c\\x1domega-basic-rdkit-ETKDGv3mmff\\x94e}\\x94(h\\r}\\x94(\\x8c\\x07methods\\x94K\\x00N\\x86\\x94\\x8c\\tconf_gens\\x94K\\x01N\\x86\\x94uh\\x13]\\x94(h\\x15h\\x16eh\\x15h\\x19h\\x1b\\x85\\x94R\\x94(h\\x1b)}\\x94h\\x1fh\\x15sNt\\x94bh\\x16h\\x19h\\x1b\\x85\\x94R\\x94(h\\x1b)}\\x94h\\x1fh\\x16sNt\\x94b\\x8c\\x07methods\\x94hM\\x8c\\tconf_gens\\x94hNub\\x8c\\x07threads\\x94K\\x02\\x8c\\tresources\\x94h\\x06\\x8c\\tResources\\x94\\x93\\x94)\\x81\\x94(K\\x02K\\x01\\x8c\\x04/tmp\\x94e}\\x94(h\\r}\\x94(\\x8c\\x06_cores\\x94K\\x00N\\x86\\x94\\x8c\\x06_nodes\\x94K\\x01N\\x86\\x94\\x8c\\x06tmpdir\\x94K\\x02N\\x86\\x94uh\\x13]\\x94(h\\x15h\\x16eh\\x15h\\x19h\\x1b\\x85\\x94R\\x94(h\\x1b)}\\x94h\\x1fh\\x15sNt\\x94bh\\x16h\\x19h\\x1b\\x85\\x94R\\x94(h\\x1b)}\\x94h\\x1fh\\x16sNt\\x94bhhK\\x02hjK\\x01hlheub\\x8c\\x03log\\x94h\\x06\\x8c\\x03Log\\x94\\x93\\x94)\\x81\\x94\\x8c\\x95data/processed/review/notebooks/methods/28159d44aa267024-native-586db4c575bef492-native-omega-basic-rdkit-ETKDGv3mmff-NOE_fulfilled_reweighting.ipynb\\x94a}\\x94(h\\r}\\x94\\x8c\\x08notebook\\x94K\\x00N\\x86\\x94sh\\x13]\\x94(h\\x15h\\x16eh\\x15h\\x19h\\x1b\\x85\\x94R\\x94(h\\x1b)}\\x94h\\x1fh\\x15sNt\\x94bh\\x16h\\x19h\\x1b\\x85\\x94R\\x94(h\\x1b)}\\x94h\\x1fh\\x16sNt\\x94bh~h{ub\\x8c\\x06config\\x94}\\x94(\\x8c\\x0bthreads_max\\x94K\\x0c\\x8c\\x16run_single_md_analysis\\x94\\x88\\x8c\\x11run_comp_analysis\\x94\\x89\\x8c\\x14run_heatmap_analysis\\x94\\x89\\x8c\\x0frun_method_comp\\x94\\x89\\x8c\\x0frun_eq_analysis\\x94\\x89\\x8c\\trun_omega\\x94\\x89\\x8c\\trun_rdkit\\x94\\x89\\x8c\\x19run_cheminfo_NOE_analysis\\x94\\x89\\x8c\\x12make_paper_figures\\x94\\x89\\x8c\\x13update_jupyter_book\\x94\\x88\\x8c\\x11convergence_check\\x94]\\x94\\x8c\\x10210a1ea8aa678b16\\x94a\\x8c\\x15run_convergence_check\\x94\\x89\\x8c\\x0fmethod_defaults\\x94}\\x94\\x8c\\x05igamd\\x94}\\x94(\\x8c\\x07methods\\x94]\\x94\\x8c\\x04GaMD\\x94a\\x8c\\x07default\\x94\\x8c\\x013\\x94\\x8c\\x06others\\x94\\x8c\\x03nan\\x94us\\x8c\\tshortened\\x94\\x89\\x8c\\x06stride\\x94K\\x01\\x8c\\x04ns_h\\x94G@\\x1e\\x00\\x00\\x00\\x00\\x00\\x00\\x8c\\thash_list\\x94]\\x94(]\\x94(\\x8c\\x1028159d44aa267024\\x94\\x8c\\x105ead922859f5c96d\\x94\\x8c\\x105ead922859f5c96d\\x94\\x8c\\x0255\\x94\\x8c\\x010\\x94h\\xafe]\\x94(\\x8c\\x10250c26e1ba562237\\x94\\x8c\\x10eff35c6c3e18f0a3\\x94\\x8c\\x10eff35c6c3e18f0a3\\x94\\x8c\\x0256\\x94h\\xafh\\xafe]\\x94(\\x8c\\x10210a1ea8aa678b16\\x94\\x8c\\x103595ce0609206d95\\x94\\x8c\\x10586db4c575bef492\\x94\\x8c\\x0222\\x94h\\xafh\\xafe]\\x94(\\x8c\\x10210a1ea8aa678b16\\x94\\x8c\\x10583fbeed838cced5\\x94\\x8c\\x105405e3b785af9601\\x94\\x8c\\x0222\\x94h\\xafh\\xafe]\\x94(\\x8c\\x10210a1ea8aa678b16\\x94\\x8c\\x10583fbeed838cced5\\x94\\x8c\\x105405e3b785af9601\\x94\\x8c\\x0222\\x94\\x8c\\x0bomega_basic\\x94\\x8c\\x11rdkit_ETKDGv3mmff\\x94e]\\x94(\\x8c\\x10210a1ea8aa678b16\\x94\\x8c\\x10c5389d15c56a3655\\x94\\x8c\\x103a8c4367deb63d6e\\x94\\x8c\\x0222\\x94h\\xafh\\xafe]\\x94(\\x8c\\x104f386944d88e6ef8\\x94\\x8c\\x10c99bbf5d17e8efb9\\x94\\x8c\\x10c99bbf5d17e8efb9\\x94\\x8c\\x0224\\x94h\\xafh\\xafe]\\x94(\\x8c\\x109e61be229abfc57f\\x94\\x8c\\x1013c5dee00c76dc47\\x94\\x8c\\x1013c5dee00c76dc47\\x94\\x8c\\x0249\\x94h\\xafh\\xafee\\x8c\\x12confgen_parameters\\x94}\\x94(\\x8c\\x05omega\\x94]\\x94(\\x8c\\x05basic\\x94\\x8c\\nchloroform\\x94\\x8c\\nlowEwindow\\x94\\x8c\\x0bhighEwindow\\x94\\x8c\\x06lowrms\\x94\\x8c\\x07highrms\\x94\\x8c\\x0bhighmaxconf\\x94\\x8c\\thighmaxit\\x94\\x8c\\x0chighsampling\\x94\\x8c\\rlotsdifferent\\x94e\\x8c\\x05rdkit\\x94]\\x94(\\x8c\\x05basic\\x94\\x8c\\x04ETDG\\x94\\x8c\\x07ETKDGv1\\x94\\x8c\\x07ETKDGv2\\x94\\x8c\\x07ETKDGv3\\x94\\x8c\\tsrETKDGv3\\x94\\x8c\\x03KDG\\x94\\x8c\\x08def-ETDG\\x94\\x8c\\x0bdef-ETKDGv1\\x94\\x8c\\x0bdef-ETKDGv2\\x94\\x8c\\x0bdef-ETKDGv3\\x94\\x8c\\rdef-srETKDGv3\\x94\\x8c\\x07def-KDG\\x94\\x8c\\x0chighsampling\\x94\\x8c\\rlotsdifferent\\x94eu\\x8c\\x11heatmap_compounds\\x94]\\x94(K\\x16K\\x18K7K8K!K1K2K3e\\x8c\\x0ccluster_conf\\x94}\\x94(\\x8c\\x10242ee4d4af3634ed\\x94K\\x0f\\x8c\\x10c5389d15c56a3655\\x94K\\n\\x8c\\x103c523c7ca380f925\\x94K\\n\\x8c\\x10ca1a37290d9e454e\\x94K\\x08\\x8c\\x109a100624325ec4cd\\x94K\\x06\\x8c\\x103d00b0964201e088\\x94K\\n\\x8c\\x10210a1ea8aa678b16\\x94K\\x08u\\x8c\\x08exp_name\\x94\\x8c\\rrefactor-test\\x94\\x8c\\tdata_name\\x94\\x8c\\x1722-02-2021_MacroConf-v2\\x94\\x8c\\x0cdataset_file\\x94\\x8c3data/external/22-09-2021_MacroConf-v2.1/dataset.csv\\x94\\x8c\\x0bsample_file\\x94\\x8c\\x0bsamples.tsv\\x94\\x8c\\rsample_output\\x94\\x8c\\x0fsamples_old.tsv\\x94\\x8c\\nforcefield\\x94\\x8c1libs/forcefields/leaprc.protein.ff14SB_noterminal\\x94\\x8c\\x06jb-toc\\x94\\x8c\\x13reports/jb/_toc.yml\\x94\\x8c\\x08jb-links\\x94\\x8c\\x11reports/jb/links/\\x94\\x8c\\x0cDMSO_default\\x94\\x8c\\x0eDMSO_GAFF_RESP\\x94\\x8c\\rCDCl3_default\\x94\\x8c\\nChloroform\\x94\\x8c\\x0bDMSO_params\\x94\\x8c!libs/md_solvents/dmso/frcmod.dmso\\x94\\x8c\\x08DMSO_box\\x94\\x8c!libs/md_solvents/dmso/dmsobox.off\\x94\\x8c\\x11Chloroform_params\\x94\\x8c\\x0cfrcmod.chcl3\\x94\\x8c\\x13full_analysis_files\\x94]\\x94\\x8c\\x9b../../../data/processed/refactor-test/notebooks/methods/28159d44aa267024-native-586db4c575bef492-native_omega-basic-rdkit-ETKDGv3mmff-NOE_method_comp.ipynb\\x94au\\x8c\\x04rule\\x94\\x8c\\x17md_comp_reweighting_bol\\x94\\x8c\\x0fbench_iteration\\x94N\\x8c\\tscriptdir\\x94\\x8cG/biggin/b147/univ4859/research/03_macroconf/workflow/rules/../notebooks\\x94ub.'); from snakemake.logging import logger; logger.printshellcmds = False; import os; os.chdir(r'/biggin/b147/univ4859/research/03_macroconf/workflow');\n",
    "######## snakemake preamble end #########\n"
   ]
  },
  {
   "cell_type": "markdown",
   "id": "50d8fe7a",
   "metadata": {},
   "outputs": [],
   "source": [
    "# Method Comparison\n",
    "Comparison of MD and cheminformatics methods."
   ]
  },
  {
   "cell_type": "code",
   "execution_count": 2,
   "id": "5c223bec",
   "metadata": {
    "execution": {
     "iopub.execute_input": "2023-06-07T11:17:50.017222Z",
     "iopub.status.busy": "2023-06-07T11:17:50.016826Z",
     "iopub.status.idle": "2023-06-07T11:17:51.250548Z",
     "shell.execute_reply": "2023-06-07T11:17:51.249996Z"
    },
    "tags": [
     "hide-cell"
    ]
   },
   "outputs": [
    {
     "name": "stderr",
     "output_type": "stream",
     "text": [
      "/tmp/ipykernel_139540/1737975291.py:12: MatplotlibDeprecationWarning: The seaborn styles shipped by Matplotlib are deprecated since 3.6, as they no longer correspond to the styles shipped by seaborn. However, they will remain available as 'seaborn-v0_8-<style>'. Alternatively, directly use the seaborn API instead.\n",
      "  plt.style.use(\"seaborn-paper\")\n"
     ]
    }
   ],
   "source": [
    "# from src.utils import json_load\n",
    "import src.utils\n",
    "import pandas as pd\n",
    "import numpy as np\n",
    "import matplotlib.pyplot as plt\n",
    "import seaborn as sns\n",
    "from scipy import stats\n",
    "from statannotations.Annotator import Annotator\n",
    "import statsmodels\n",
    "import itertools\n",
    "\n",
    "plt.style.use(\"seaborn-paper\")\n",
    "plt.rcParams[\"svg.fonttype\"] = \"none\"\n",
    "sns.set_context(\"paper\")\n",
    "\n",
    "# set matplotlib font sizes\n",
    "SMALL_SIZE = 13\n",
    "MEDIUM_SIZE = 14\n",
    "BIGGER_SIZE = 16\n",
    "\n",
    "plt.rc(\"font\", size=MEDIUM_SIZE)  # controls default text sizes\n",
    "plt.rc(\"axes\", titlesize=MEDIUM_SIZE)  # fontsize of the axes title\n",
    "plt.rc(\"axes\", labelsize=MEDIUM_SIZE)  # fontsize of the x and y labels\n",
    "plt.rc(\"xtick\", labelsize=SMALL_SIZE)  # fontsize of the tick labels\n",
    "plt.rc(\"ytick\", labelsize=SMALL_SIZE)  # fontsize of the tick labels\n",
    "plt.rc(\"legend\", fontsize=MEDIUM_SIZE)  # legend fontsize\n",
    "plt.rc(\"figure\", titlesize=BIGGER_SIZE)  # fontsize of the figure title\n",
    "\n",
    "DPI = 600"
   ]
  },
  {
   "cell_type": "code",
   "execution_count": 3,
   "id": "ae64eb7a",
   "metadata": {
    "execution": {
     "iopub.execute_input": "2023-06-07T11:17:51.254771Z",
     "iopub.status.busy": "2023-06-07T11:17:51.254505Z",
     "iopub.status.idle": "2023-06-07T11:17:51.257820Z",
     "shell.execute_reply": "2023-06-07T11:17:51.257320Z"
    },
    "scrolled": true
   },
   "outputs": [],
   "source": [
    "# myorder = [0,1,4,2,3]\n",
    "# mylist = [snakemake.input[i] for i in myorder]\n",
    "# snakemake.input = mylist"
   ]
  },
  {
   "cell_type": "code",
   "execution_count": 4,
   "id": "fe9b61c5",
   "metadata": {
    "execution": {
     "iopub.execute_input": "2023-06-07T11:17:51.260835Z",
     "iopub.status.busy": "2023-06-07T11:17:51.260684Z",
     "iopub.status.idle": "2023-06-07T11:17:51.265886Z",
     "shell.execute_reply": "2023-06-07T11:17:51.265424Z"
    },
    "tags": [
     "hide-cell"
    ]
   },
   "outputs": [],
   "source": [
    "method_len = int(len(snakemake.wildcards.methods.split(\"-\")) / 2) + 1\n",
    "confgen_len = int(len(snakemake.wildcards.conf_gens.split(\"-\")) / 2)\n",
    "\n",
    "results = [\n",
    "    src.utils.json_load(i) for i in snakemake.input[0 : 2 * method_len : 2]\n",
    "]\n",
    "file_names = snakemake.input[0:method_len]\n",
    "if len(snakemake.input) < (method_len + confgen_len):\n",
    "    add_confgens = False\n",
    "else:\n",
    "    confgen = [src.utils.json_load(i) for i in snakemake.input[method_len:]]\n",
    "    confgen_names = []\n",
    "    for i, j in zip(\n",
    "        snakemake.wildcards.conf_gens.split(\"-\")[0::2],\n",
    "        snakemake.wildcards.conf_gens.split(\"-\")[1::2],\n",
    "    ):\n",
    "        confgen_names.append(\"-\".join([i, j]))\n",
    "    add_confgens = True"
   ]
  },
  {
   "cell_type": "code",
   "execution_count": 5,
   "id": "d2a93ca4",
   "metadata": {
    "execution": {
     "iopub.execute_input": "2023-06-07T11:17:51.268893Z",
     "iopub.status.busy": "2023-06-07T11:17:51.268743Z",
     "iopub.status.idle": "2023-06-07T11:17:51.273736Z",
     "shell.execute_reply": "2023-06-07T11:17:51.273282Z"
    }
   },
   "outputs": [
    {
     "data": {
      "text/plain": [
       "2"
      ]
     },
     "execution_count": 5,
     "metadata": {},
     "output_type": "execute_result"
    }
   ],
   "source": [
    "confgen_len"
   ]
  },
  {
   "cell_type": "code",
   "execution_count": 6,
   "id": "1e36d1ea",
   "metadata": {
    "execution": {
     "iopub.execute_input": "2023-06-07T11:17:51.277469Z",
     "iopub.status.busy": "2023-06-07T11:17:51.277251Z",
     "iopub.status.idle": "2023-06-07T11:17:51.290821Z",
     "shell.execute_reply": "2023-06-07T11:17:51.290159Z"
    },
    "tags": [
     "hide-cell"
    ]
   },
   "outputs": [],
   "source": [
    "df = pd.DataFrame()\n",
    "dfs = {\n",
    "    \"RMSD\": pd.DataFrame(),\n",
    "    \"MAE\": pd.DataFrame(),\n",
    "    \"percentage_fulfilled\": pd.DataFrame(),\n",
    "    \"RMSD_stepwise\": pd.DataFrame(),\n",
    "}\n",
    "# Load methods\n",
    "for a in file_names:\n",
    "    method_dict = src.utils.json_load(a)\n",
    "    method_dict_n = {}\n",
    "    for key_o, value_o in method_dict.items():\n",
    "        df3 = pd.DataFrame.from_dict(method_dict[\"RMSD\"])\n",
    "        method_dict_n[key_o] = {}\n",
    "        for key, value in value_o.items():\n",
    "            tmp_dict = {}\n",
    "            #             print(key, value)\n",
    "            for k, v in value.items():\n",
    "                tmp_k = k.split(\"-\")[1]\n",
    "                if tmp_k.split(\"_\")[-1] == \"single\":\n",
    "                    tmp_k = tmp_k.split(\"_\")[0:-1]\n",
    "                    tmp_k = \"_\".join(tmp_k)\n",
    "                tmp_dict[tmp_k] = v\n",
    "            method_dict_n[key_o][\n",
    "                f\"{key}-{a.split('/')[5].split('NOE')[0]}\"\n",
    "            ] = tmp_dict\n",
    "        df2 = pd.DataFrame.from_dict(method_dict_n[key_o])\n",
    "        dfs[key_o] = pd.concat([dfs[key_o], df2], axis=1)"
   ]
  },
  {
   "cell_type": "code",
   "execution_count": 7,
   "id": "fdf98512",
   "metadata": {
    "execution": {
     "iopub.execute_input": "2023-06-07T11:17:51.293977Z",
     "iopub.status.busy": "2023-06-07T11:17:51.293829Z",
     "iopub.status.idle": "2023-06-07T11:17:51.301597Z",
     "shell.execute_reply": "2023-06-07T11:17:51.301130Z"
    },
    "tags": [
     "hide-cell"
    ]
   },
   "outputs": [],
   "source": [
    "confgen_keys = {\"RMSD\": \"rmsd\", \"MAE\": \"mae\", \"percentage_fulfilled\": \"fulfil\", \"RMSD_stepwise\": \"rmsd_stepwise\"}\n",
    "if add_confgens:\n",
    "    for c, n in zip(confgen, confgen_names):\n",
    "        for key, value in dfs.items():\n",
    "            confgen_key = confgen_keys[key]\n",
    "            c[confgen_key][\"licuv\"] = {\n",
    "                k.split(\"_single\")[0]: v\n",
    "                for k, v in c[confgen_key][\"licuv\"].items()\n",
    "            }\n",
    "            c[confgen_key][\"namfis\"] = {\n",
    "                k.split(\"_single\")[0]: v\n",
    "                for k, v in c[confgen_key][\"namfis\"].items()\n",
    "            }\n",
    "            c[confgen_key][\"low_energy\"] = {\n",
    "                k.split(\"_single\")[0]: v\n",
    "                for k, v in c[confgen_key][\"low_energy\"].items()\n",
    "            }\n",
    "            c[confgen_key][\"random\"] = {\n",
    "                k.split(\"_single\")[0]: v\n",
    "                for k, v in c[confgen_key][\"random\"].items()\n",
    "            }\n",
    "            df2 = pd.DataFrame.from_dict(\n",
    "                c[confgen_key][\"best\"],\n",
    "                orient=\"index\",\n",
    "                columns=[f\"{n} {'best'}\"],\n",
    "                dtype=float,\n",
    "            )\n",
    "            l_columns = [f\"{n} licuv {l}\" for l in [1, 3, 5, 10, 30]]\n",
    "            df3 = pd.DataFrame.from_dict(\n",
    "                c[confgen_key][\"licuv\"],\n",
    "                orient=\"index\",\n",
    "                columns=[f\"{n}-licuv-{l}\" for l in [1, 3, 5, 10, 30]],\n",
    "                dtype=float,\n",
    "            )\n",
    "            df3 = df3.drop(\n",
    "                columns=[f\"{n}-licuv-{l}\" for l in [1, 3, 5, 30]]\n",
    "            )  # 10,\n",
    "            df4 = pd.DataFrame.from_dict(\n",
    "                c[confgen_key][\"low_energy\"],\n",
    "                orient=\"index\",\n",
    "                columns=[f\"{n}-low_energy-{l}\" for l in [1, 3, 5, 10, 30]],\n",
    "                dtype=float,\n",
    "            )\n",
    "            df4 = df4.drop(\n",
    "                columns=[f\"{n}-low_energy-{l}\" for l in [1, 3, 5, 30]]\n",
    "            )  # 10,\n",
    "            df5 = pd.DataFrame.from_dict(\n",
    "                c[confgen_key][\"random\"],\n",
    "                orient=\"index\",\n",
    "                columns=[f\"{n}-random-{l}\" for l in [1, 3, 5, 10, 30]],\n",
    "                dtype=float,\n",
    "            )\n",
    "            df5 = df5.drop(\n",
    "                columns=[f\"{n}-random-{l}\" for l in [3, 5, 30]]\n",
    "            )  # 10,\n",
    "            df6 = pd.DataFrame.from_dict(\n",
    "                c[confgen_key][\"namfis\"],\n",
    "                orient=\"index\",\n",
    "                columns=[f\"{n}-namfis-{l}\" for l in [1, 3, 5, 10, 30]],\n",
    "                dtype=float,\n",
    "            )\n",
    "            df6 = df6.drop(\n",
    "                columns=[f\"{n}-namfis-{l}\" for l in [1, 3, 5, 30]]\n",
    "            )  # 10,\n",
    "            dfs[key] = pd.concat([dfs[key], df2, df3, df4, df5, df6], axis=1)"
   ]
  },
  {
   "cell_type": "code",
   "execution_count": 8,
   "id": "80a37e76",
   "metadata": {
    "execution": {
     "iopub.execute_input": "2023-06-07T11:17:51.304553Z",
     "iopub.status.busy": "2023-06-07T11:17:51.304403Z",
     "iopub.status.idle": "2023-06-07T11:17:51.313341Z",
     "shell.execute_reply": "2023-06-07T11:17:51.312571Z"
    },
    "tags": [
     "hide-cell"
    ]
   },
   "outputs": [],
   "source": [
    "dfs[\"percentage_fulfilled\"].rename(\n",
    "    columns=lambda x: x.replace(\"value-\", \"ensemble \")\n",
    "    .replace(\"most-populated-1-\", \"cluster \")\n",
    "    .replace(\"-H2O-2000-nan-\", \"\")\n",
    "    .replace(\"-native-2000-nan-\", \"\")\n",
    "    .replace(\"-native-2000-3-\", \"\")\n",
    "    .replace(\"omega-basic\", \"Omega\")\n",
    "    .replace(\"rdkit-ETKDGv3mmff\", \"RDKit \")\n",
    "    .replace(\"-\", \" \")\n",
    "    .replace(\"  \", \" \")\n",
    "    .replace(\"namfis\", \"NAMFIS\")\n",
    "    .replace(\"licuv\", \"LICUV\"),\n",
    "    inplace=True,\n",
    ")\n",
    "\n",
    "dfs[\"RMSD\"].rename(\n",
    "    columns=lambda x: x.replace(\"value-\", \"ensemble \")\n",
    "    .replace(\"most-populated-1-\", \"cluster \")\n",
    "    .replace(\"-H2O-2000-nan-\", \"\")\n",
    "    .replace(\"-native-2000-nan-\", \"\")\n",
    "    .replace(\"-native-2000-3-\", \"\")\n",
    "    .replace(\"omega-basic\", \"Omega\")\n",
    "    .replace(\"rdkit-ETKDGv3mmff\", \"RDKit \")\n",
    "    .replace(\"-\", \" \")\n",
    "    .replace(\"  \", \" \")\n",
    "    .replace(\"namfis\", \"NAMFIS\")\n",
    "    .replace(\"licuv\", \"LICUV\"),\n",
    "    inplace=True,\n",
    ")\n",
    "\n",
    "dfs[\"RMSD_stepwise\"].rename(\n",
    "    columns=lambda x: x.replace(\"value-\", \"ensemble \")\n",
    "    .replace(\"most-populated-1-\", \"cluster \")\n",
    "    .replace(\"-H2O-2000-nan-\", \"\")\n",
    "    .replace(\"-native-2000-nan-\", \"\")\n",
    "    .replace(\"-native-2000-3-\", \"\")\n",
    "    .replace(\"omega-basic\", \"Omega\")\n",
    "    .replace(\"rdkit-ETKDGv3mmff\", \"RDKit \")\n",
    "    .replace(\"-\", \" \")\n",
    "    .replace(\"  \", \" \")\n",
    "    .replace(\"namfis\", \"NAMFIS\")\n",
    "    .replace(\"licuv\", \"LICUV\"),\n",
    "    inplace=True,\n",
    ")\n",
    "\n",
    "dfs[\"percentage_fulfilled\"].index = (\n",
    "    dfs[\"percentage_fulfilled\"]\n",
    "    .index.str.replace(\"_cis\", \"c\")\n",
    "    .str.replace(\"_trans\", \"t\")\n",
    ")\n",
    "dfs[\"RMSD\"].index = (\n",
    "    dfs[\"RMSD\"].index.str.replace(\"_cis\", \"c\").str.replace(\"_trans\", \"t\")\n",
    ")\n",
    "\n",
    "dfs[\"RMSD_stepwise\"].index = (\n",
    "    dfs[\"RMSD_stepwise\"].index.str.replace(\"_cis\", \"c\").str.replace(\"_trans\", \"t\")\n",
    ")\n",
    "\n",
    "# Sort by index\n",
    "dfs[\"percentage_fulfilled\"] = dfs[\"percentage_fulfilled\"].sort_index()\n",
    "dfs[\"RMSD\"] = dfs[\"RMSD\"].sort_index()\n",
    "dfs[\"RMSD_stepwise\"] = dfs[\"RMSD_stepwise\"].sort_index()"
   ]
  },
  {
   "cell_type": "code",
   "execution_count": 9,
   "id": "3134abbd",
   "metadata": {
    "execution": {
     "iopub.execute_input": "2023-06-07T11:17:51.316925Z",
     "iopub.status.busy": "2023-06-07T11:17:51.316690Z",
     "iopub.status.idle": "2023-06-07T11:17:51.320439Z",
     "shell.execute_reply": "2023-06-07T11:17:51.319935Z"
    }
   },
   "outputs": [],
   "source": [
    "dfs[\"percentage_fulfilled\"] *= 100"
   ]
  },
  {
   "cell_type": "code",
   "execution_count": 10,
   "id": "61ed1fea",
   "metadata": {
    "execution": {
     "iopub.execute_input": "2023-06-07T11:17:51.323529Z",
     "iopub.status.busy": "2023-06-07T11:17:51.323298Z",
     "iopub.status.idle": "2023-06-07T11:17:51.327480Z",
     "shell.execute_reply": "2023-06-07T11:17:51.326706Z"
    },
    "tags": [
     "hide-cell"
    ]
   },
   "outputs": [],
   "source": [
    "# fig, axs = plt.subplots(\n",
    "#     2, 2, figsize=(12, 6), gridspec_kw={\"width_ratios\": [3, 1]}\n",
    "# )\n",
    "# df = dfs[\"percentage_fulfilled\"]\n",
    "# df = df.drop(columns=[\"cluster GaMD\", \"cluster cMD\"])\n",
    "\n",
    "# methods_label = {a: idx for idx, a in enumerate(df)}\n",
    "# methods_short = {\n",
    "#     \" \".join(a.split(\"-\")[0:2])\n",
    "#     .replace(\"value\", \"\")\n",
    "#     .replace(\"basic\", \"Macrocycle\"): idx\n",
    "#     for idx, a in enumerate(df)\n",
    "# }\n",
    "# # Scatter plot % fulfilled\n",
    "# for column in df:\n",
    "#     axs[0, 0].scatter(\n",
    "#         df.index.tolist(),\n",
    "#         df[column].tolist(),\n",
    "#         label=\" \".join(column.split(\"-\")[0:4]),\n",
    "#     )\n",
    "# axs[0, 0].set_ylabel(\"% NOE fulfilled\")\n",
    "# axs[0, 0].set_xlabel(\"Compounds\")\n",
    "# axs[0, 0].set_ylim([0, 1])\n",
    "\n",
    "# # Significance heatmap\n",
    "# t_test_results = np.zeros(shape=(len(methods_label), len(methods_label)))\n",
    "# wilkoxon_results = np.zeros(shape=(len(methods_label), len(methods_label)))\n",
    "# fig.autofmt_xdate(rotation=45, ha=\"center\")\n",
    "\n",
    "# method_pairs = []\n",
    "# for a in df:\n",
    "#     for b in df:\n",
    "#         a_idx = methods_label[a]\n",
    "#         b_idx = methods_label[b]\n",
    "#         if a == b:\n",
    "#             t_test_results[a_idx, b_idx] = 1\n",
    "#             wilkoxon_results[a_idx, b_idx] = 1\n",
    "#         else:\n",
    "#             t_test_results[a_idx, b_idx] = stats.ttest_rel(df[a], df[b], nan_policy=\"omit\").pvalue\n",
    "#             wilkoxon_results[a_idx, b_idx] = stats.wilcoxon(df[a], df[b]).pvalue\n",
    "#             method_pairs.append(tuple([a, b]))\n",
    "# unique_combinations = set(frozenset(combination) for combination in method_pairs)\n",
    "# method_pairs = [tuple(combination) for combination in unique_combinations]\n",
    "\n",
    "# # now multi test correction\n",
    "# pvalues = [t_test_results[methods_label[a], methods_label[b]] for (a, b) in method_pairs]\n",
    "# _, p_values_corrected, *_ = statsmodels.stats.multitest.multipletests(pvalues)\n",
    "\n",
    "\n",
    "# colorpalette = sns.color_palette(\"vlag\", as_cmap=True)\n",
    "# sns.heatmap(\n",
    "#     t_test_results,\n",
    "#     vmin=0,\n",
    "#     vmax=0.1,\n",
    "#     xticklabels=methods_short.keys(),\n",
    "#     yticklabels=methods_short.keys(),\n",
    "#     ax=axs[0, 1],\n",
    "#     annot=True,\n",
    "#     cmap=colorpalette,\n",
    "# )\n",
    "# axs[0, 1].set_title(\"Paired t-test\")\n",
    "# sns.heatmap(\n",
    "#     wilkoxon_results,\n",
    "#     vmin=0,\n",
    "#     vmax=0.1,\n",
    "#     xticklabels=methods_short.keys(),\n",
    "#     yticklabels=methods_short.keys(),\n",
    "#     ax=axs[1, 1],\n",
    "#     annot=True,\n",
    "#     cmap=colorpalette,\n",
    "# )\n",
    "# axs[1, 1].set_title(\"Wilcoxon signed rank test\")\n",
    "\n",
    "# # Scatter plot RMSD\n",
    "# df = dfs[\"RMSD\"]\n",
    "# df = df.drop(columns=[\"cluster GaMD\", \"cluster cMD\"])\n",
    "# for column in df:\n",
    "#     axs[1, 0].scatter(\n",
    "#         df.index.tolist(),\n",
    "#         df[column].tolist(),\n",
    "#         label=\" \".join(column.split(\"-\")[0:4]),\n",
    "#     )\n",
    "# handles, labels = axs[1, 0].get_legend_handles_labels()\n",
    "# fig.legend(handles, labels, loc=\"lower center\")\n",
    "# axs[1, 0].set_ylabel(\"RMSD [$\\AA$]\")\n",
    "# axs[1, 0].set_xlabel(\"Compounds\")\n",
    "\n",
    "# for tick in axs[1, 0].xaxis.get_major_ticks()[1::2]:\n",
    "#     tick.set_pad(25)\n",
    "\n",
    "# fig.autofmt_xdate(rotation=45, ha=\"center\")\n",
    "# plt.setp(axs[1, 1].get_xticklabels(), rotation=45, ha='right')\n",
    "# fig.tight_layout()\n",
    "# # fig.savefig(snakemake.output.plot, dpi=300)"
   ]
  },
  {
   "cell_type": "code",
   "execution_count": 11,
   "id": "687e74c4",
   "metadata": {
    "execution": {
     "iopub.execute_input": "2023-06-07T11:17:51.330881Z",
     "iopub.status.busy": "2023-06-07T11:17:51.330737Z",
     "iopub.status.idle": "2023-06-07T11:17:51.338033Z",
     "shell.execute_reply": "2023-06-07T11:17:51.337577Z"
    }
   },
   "outputs": [],
   "source": [
    "def upper_tri_indexing(A):\n",
    "    m = A.shape[0]\n",
    "    r,c = np.triu_indices(m,1)\n",
    "    return A[r,c]\n",
    "\n",
    "def upper_tri_index(A):\n",
    "    m = A.shape[0]\n",
    "    r,c = np.triu_indices(m,1)\n",
    "    return (r,c)\n",
    "\n",
    "def compute_pvalues(df, methods_label, p_pairs):\n",
    "    # Significance heatmap\n",
    "    t_test_results = np.zeros(shape=(len(methods_label), len(methods_label))) - 1\n",
    "    wilkoxon_results = np.zeros(shape=(len(methods_label), len(methods_label))) - 1\n",
    "    \n",
    "    method_pairs = []\n",
    "    for a in df:\n",
    "        for b in df:\n",
    "            a_idx = methods_label[a]\n",
    "            b_idx = methods_label[b]\n",
    "            if a == b:\n",
    "                t_test_results[a_idx, b_idx] = 1\n",
    "                wilkoxon_results[a_idx, b_idx] = 1\n",
    "            else:\n",
    "                t_test_results[a_idx, b_idx] = stats.ttest_rel(df[a], df[b], nan_policy=\"omit\").pvalue\n",
    "                wilkoxon_results[a_idx, b_idx] = stats.wilcoxon(df[a], df[b], nan_policy=\"omit\").pvalue\n",
    "                \n",
    "                method_pairs.append(tuple([a, b]))\n",
    "    unique_combinations = set(frozenset(combination) for combination in method_pairs)\n",
    "    method_pairs = [tuple(combination) for combination in unique_combinations]\n",
    "    if p_pairs is not None:\n",
    "        method_pairs = p_pairs\n",
    "    \n",
    "    \n",
    "    # multiple correction\n",
    "    p_values_raw = np.concatenate((upper_tri_indexing(t_test_results), upper_tri_indexing(wilkoxon_results)))\n",
    "    _, p_values_corrected, *_ = statsmodels.stats.multitest.multipletests(p_values_raw, method='holm')\n",
    "    t_test_corrected = p_values_corrected[:len(p_values_corrected)//2]\n",
    "    wilxox_test_corrected = p_values_corrected[len(p_values_corrected)//2:]\n",
    "    assert len(t_test_corrected) == len(wilxox_test_corrected)\n",
    "    t_test_results[upper_tri_index(t_test_results)] = t_test_corrected\n",
    "    wilkoxon_results[upper_tri_index(wilkoxon_results)] = wilxox_test_corrected\n",
    "    \n",
    "    # Round p values to 3 figs\n",
    "    t_test_results = t_test_results.round(3)\n",
    "    wilkoxon_results = wilkoxon_results.round(3)\n",
    "    pvalues = [t_test_results[methods_label[a], methods_label[b]] for (a, b) in method_pairs]\n",
    "    return (t_test_results, wilkoxon_results, method_pairs, pvalues)"
   ]
  },
  {
   "cell_type": "code",
   "execution_count": 12,
   "id": "793bac9e",
   "metadata": {
    "execution": {
     "iopub.execute_input": "2023-06-07T11:17:51.340953Z",
     "iopub.status.busy": "2023-06-07T11:17:51.340812Z",
     "iopub.status.idle": "2023-06-07T11:17:51.511080Z",
     "shell.execute_reply": "2023-06-07T11:17:51.510616Z"
    }
   },
   "outputs": [
    {
     "name": "stderr",
     "output_type": "stream",
     "text": [
      "/biggin/b147/univ4859/research/snakemake_conda/3e8edaaa94bd3d458d1bfb3dd0ec6b2c_/lib/python3.11/site-packages/scipy/stats/_morestats.py:3414: UserWarning: Exact p-value calculation does not work if there are zeros. Switching to normal approximation.\n",
      "  warnings.warn(\"Exact p-value calculation does not work if there are \"\n",
      "/biggin/b147/univ4859/research/snakemake_conda/3e8edaaa94bd3d458d1bfb3dd0ec6b2c_/lib/python3.11/site-packages/scipy/stats/_morestats.py:3428: UserWarning: Sample size too small for normal approximation.\n",
      "  warnings.warn(\"Sample size too small for normal approximation.\")\n"
     ]
    }
   ],
   "source": [
    "def arange_data(df_raw, columns):\n",
    "    df = df_raw[columns]\n",
    "    \n",
    "    methods_label = {a: idx for idx, a in enumerate(df)}\n",
    "    methods_short = {\n",
    "    \" \".join(a.split(\"-\")[0:2])\n",
    "    .replace(\"value\", \"\")\n",
    "    .replace(\"basic\", \"Macrocycle\"): idx\n",
    "    for idx, a in enumerate(df)\n",
    "    }\n",
    "    return (df,methods_short)\n",
    "\n",
    "\n",
    "# compute p-values and correct them!\n",
    "p_value_store = {}\n",
    "\n",
    "# %NOE fulfilled\n",
    "# ['percentage_fulfilled', 'RMSD']\n",
    "df, methods_short = arange_data(dfs[\"percentage_fulfilled\"], dfs[\"percentage_fulfilled\"].columns)\n",
    "t_test_results, wilkoxon_results, method_pairs, pvalues = compute_pvalues(df,methods_short, p_pairs=None)\n",
    "p_value_store['percentage_fulfilled'] = {'t_test': t_test_results, 'w_test':wilkoxon_results, 'methods': methods_short}\n",
    "\n",
    "# RMSD\n",
    "df, methods_short = arange_data(dfs[\"RMSD\"], dfs[\"RMSD\"].columns)\n",
    "t_test_results, wilkoxon_results, method_pairs, pvalues = compute_pvalues(df,methods_short, p_pairs=None)\n",
    "p_value_store['RMSD'] = {'t_test': t_test_results, 'w_test':wilkoxon_results, 'methods': methods_short}\n",
    "\n",
    "# RMSD_stepwise\n",
    "df, methods_short = arange_data(dfs[\"RMSD_stepwise\"], dfs[\"RMSD_stepwise\"].columns)\n",
    "t_test_results, wilkoxon_results, method_pairs, pvalues = compute_pvalues(df,methods_short, p_pairs=None)\n",
    "p_value_store['RMSD_stepwise'] = {'t_test': t_test_results, 'w_test':wilkoxon_results, 'methods': methods_short}\n",
    "\n",
    "# Get p-values\n",
    "def get_p_value_matrix(metric, methods):\n",
    "    method_list = p_value_store[metric][\"methods\"]\n",
    "    method_idx = [method_list[m] for m in methods]\n",
    "    t_test_matrix = p_value_store[metric]['t_test'][np.ix_(method_idx, method_idx)]\n",
    "    w_test_matrix = p_value_store[metric]['w_test'][np.ix_(method_idx, method_idx)]\n",
    "    \n",
    "    # Adjust for swapped rows/columns\n",
    "    for a,m1 in zip(range(t_test_matrix.shape[0]), method_idx):\n",
    "        for b,m2 in zip(range(t_test_matrix.shape[1]), method_idx):\n",
    "            if a <= b:\n",
    "                if m1 > m2:\n",
    "                    #swap indices, since we swapped rows/columns\n",
    "                    tmp = t_test_matrix[a,b]\n",
    "                    t_test_matrix[a,b] = t_test_matrix[b,a]\n",
    "                    t_test_matrix[b,a] = tmp\n",
    "                    \n",
    "                    tmp = w_test_matrix[a,b]\n",
    "                    w_test_matrix[a,b] = w_test_matrix[b,a]\n",
    "                    w_test_matrix[b,a] = tmp\n",
    "\n",
    "    # check that matrices are correct, i.e. that upper triangular has corrected values\n",
    "    for a in range(t_test_matrix.shape[0]):\n",
    "        for b in range(t_test_matrix.shape[1]):\n",
    "            if a <= b:\n",
    "                assert t_test_matrix[a,b] >= t_test_matrix[b,a]\n",
    "                assert w_test_matrix[a,b] >= w_test_matrix[b,a]\n",
    "    return t_test_matrix, w_test_matrix\n",
    "\n",
    "\n",
    "def get_p_value_1d(metric, method_pairs):\n",
    "    method_list = p_value_store[metric][\"methods\"]\n",
    "    t_1d = []\n",
    "    w_1d = []\n",
    "    \n",
    "    for a,b in method_pairs:\n",
    "        a_idx = method_list[a]\n",
    "        b_idx = method_list[b]\n",
    "        \n",
    "        # ensure retrival of corrected values only (upper triangular matrix)\n",
    "        if a_idx <= b_idx:\n",
    "            t_1d.append(p_value_store[metric]['t_test'][a_idx,b_idx])\n",
    "            w_1d.append(p_value_store[metric]['w_test'][a_idx,b_idx])\n",
    "        else:\n",
    "            t_1d.append(p_value_store[metric]['t_test'][b_idx,a_idx])\n",
    "            w_1d.append(p_value_store[metric]['w_test'][b_idx,a_idx])\n",
    "    return method_pairs, t_1d, w_1d "
   ]
  },
  {
   "cell_type": "code",
   "execution_count": 13,
   "id": "e430ca62",
   "metadata": {
    "execution": {
     "iopub.execute_input": "2023-06-07T11:17:51.514404Z",
     "iopub.status.busy": "2023-06-07T11:17:51.514264Z",
     "iopub.status.idle": "2023-06-07T11:17:51.519266Z",
     "shell.execute_reply": "2023-06-07T11:17:51.518845Z"
    }
   },
   "outputs": [],
   "source": [
    "def plot_scatter(df, ax, label, limit=None):\n",
    "    # Scatter plot % fulfilled\n",
    "    max_value = []\n",
    "    for column in df:\n",
    "        ax.scatter(\n",
    "            df.index.tolist(),\n",
    "            df[column].tolist(),\n",
    "            label=\" \".join(column.split(\"-\")[0:4]),\n",
    "        )\n",
    "        max_value.append(max(df[column].tolist()))\n",
    "    \n",
    "    ax.set_ylabel(label)\n",
    "    ax.set_xlabel(\"Compounds\")\n",
    "    if limit is not None:\n",
    "        ax.set_ylim(limit)\n",
    "    else:\n",
    "        ax.set_ylim([0,max(max_value)*1.1])\n",
    "    return ax\n",
    "    \n",
    "def plot_boxplot(df, ax, label_pairs, pvalues, limit=None):\n",
    "    # Distributions\n",
    "    sns.boxplot(data=df, ax=ax, showmeans=True)\n",
    "#     ax.set_title(\"Distributions\")\n",
    "#     if limit is None:\n",
    "#         ax.set_ylim([0,100])\n",
    "    \n",
    "    # Plot p-values in boxplot\n",
    "#     if len(label_pairs) > 0:\n",
    "#         annotator = Annotator(ax, label_pairs, data=df)\n",
    "#         annotator.set_pvalues(pvalues)\n",
    "#         annotator.configure(verbose=2, comparisons_correction=None, fontsize='x-small', loc='inside')  # text_offset=0, \n",
    "#         annotator.annotate()\n",
    "    return ax\n",
    "    \n",
    "\n",
    "def plot_heatmap(ax, data, label, methods_short):\n",
    "    colorpalette = sns.color_palette(\"vlag\", as_cmap=True)\n",
    "    sns.heatmap(\n",
    "        data,\n",
    "        vmin=0,\n",
    "        vmax=0.1,\n",
    "        xticklabels=methods_short.keys(),\n",
    "        yticklabels=methods_short.keys(),\n",
    "        ax=ax,\n",
    "        annot=True,\n",
    "        cmap=colorpalette,\n",
    "        cbar=False,\n",
    "        annot_kws={'size':10},\n",
    "    )\n",
    "    ax.set_title(label)\n",
    "    return ax"
   ]
  },
  {
   "cell_type": "code",
   "execution_count": 14,
   "id": "73f49f09",
   "metadata": {
    "execution": {
     "iopub.execute_input": "2023-06-07T11:17:51.522043Z",
     "iopub.status.busy": "2023-06-07T11:17:51.521919Z",
     "iopub.status.idle": "2023-06-07T11:17:51.528045Z",
     "shell.execute_reply": "2023-06-07T11:17:51.527650Z"
    }
   },
   "outputs": [],
   "source": [
    "def make_plots(dfs, metrics, labels, methods, path1, path2, p_pairs=None):\n",
    "    fig1, axs1 = plt.subplots(\n",
    "        2,\n",
    "        2,\n",
    "        figsize=(10, 6),\n",
    "        gridspec_kw={\"width_ratios\": [3, 1]},\n",
    "        sharey=\"row\",\n",
    "        sharex=\"col\",\n",
    "    )\n",
    "    fig2, axs2 = plt.subplots(\n",
    "        2,\n",
    "        2,\n",
    "        figsize=(10, 10),\n",
    "        gridspec_kw={\"width_ratios\": [1, 1]},\n",
    "        sharex=True,\n",
    "        sharey=True,\n",
    "    )\n",
    "\n",
    "    # % fulfilled\n",
    "    df, methods_short = arange_data(dfs[metrics[0]], methods)\n",
    "\n",
    "    # get p-values\n",
    "    t_test_results, wilkoxon_results = get_p_value_matrix(metrics[0], methods_short)\n",
    "    method_pairs, pvalues, _ = get_p_value_1d(metrics[0], p_pairs)\n",
    "    # Scatter plot\n",
    "    axs1[0,0] = plot_scatter(df, axs1[0,0], labels[0])\n",
    "\n",
    "    # plot distributions\n",
    "    axs1[0,1] = plot_boxplot(df, axs1[0,1], method_pairs, pvalues)\n",
    "\n",
    "    # plot heatmaps\n",
    "    axs2[0,0] = plot_heatmap(axs2[0,0], t_test_results, f\"Paired t-test ({labels[0].split('[')[0]})\", methods_short)\n",
    "    axs2[0,1] = plot_heatmap(axs2[0,1], wilkoxon_results, f\"Wilcoxon signed rank test \\n({labels[0].split('[')[0]})\", methods_short)\n",
    "\n",
    "    # RMSD\n",
    "    df, methods_short = arange_data(dfs[metrics[1]], methods)\n",
    "\n",
    "    # get p-values\n",
    "    t_test_results, wilkoxon_results = get_p_value_matrix(metrics[1], methods_short)\n",
    "    method_pairs, pvalues, _ = get_p_value_1d(metrics[1], p_pairs)\n",
    "    print(method_pairs)\n",
    "    # Scatter plot\n",
    "    axs1[1,0] = plot_scatter(df, axs1[1,0], labels[1])\n",
    "\n",
    "    # plot distributions\n",
    "    axs1[1,1] = plot_boxplot(df, axs1[1,1], method_pairs, pvalues)\n",
    "\n",
    "    # plot heatmaps\n",
    "    axs2[1,0] = plot_heatmap(axs2[1,0], t_test_results,f\"Paired t-test ({labels[1].split('[')[0]})\", methods_short)\n",
    "    axs2[1,1] = plot_heatmap(axs2[1,1], wilkoxon_results,f\"Wilcoxon signed rank test ({labels[1].split('[')[0]})\", methods_short)\n",
    "\n",
    "    # Clean up figures\n",
    "\n",
    "    handles, labels = axs1[1, 0].get_legend_handles_labels()\n",
    "    fig1.legend(handles, labels, loc=\"upper left\", ncol=2, bbox_to_anchor=(0.1,0.1))\n",
    "    for tick in axs1[1, 0].xaxis.get_major_ticks()[1::2]:\n",
    "        tick.set_pad(25)\n",
    "\n",
    "    fig1.autofmt_xdate(rotation=45, ha=\"center\")\n",
    "    plt.setp(axs1[1, 1].get_xticklabels(), rotation=45, ha='right') # ha is the same as horizontalalignment\n",
    "    fig2.autofmt_xdate(rotation=90, ha=\"center\")\n",
    "    fig1.tight_layout()\n",
    "    fig1.savefig(path1, dpi=300)\n",
    "    fig2.tight_layout()\n",
    "    fig2.savefig(path2, dpi=300)"
   ]
  },
  {
   "cell_type": "code",
   "execution_count": 15,
   "id": "f068fa1c",
   "metadata": {
    "execution": {
     "iopub.execute_input": "2023-06-07T11:17:51.530746Z",
     "iopub.status.busy": "2023-06-07T11:17:51.530624Z",
     "iopub.status.idle": "2023-06-07T11:17:52.450902Z",
     "shell.execute_reply": "2023-06-07T11:17:52.450470Z"
    }
   },
   "outputs": [
    {
     "name": "stderr",
     "output_type": "stream",
     "text": [
      "/biggin/b147/univ4859/research/snakemake_conda/3e8edaaa94bd3d458d1bfb3dd0ec6b2c_/lib/python3.11/site-packages/seaborn/categorical.py:82: FutureWarning: iteritems is deprecated and will be removed in a future version. Use .items instead.\n",
      "  plot_data = [np.asarray(s, float) for k, s in iter_data]\n",
      "/biggin/b147/univ4859/research/snakemake_conda/3e8edaaa94bd3d458d1bfb3dd0ec6b2c_/lib/python3.11/site-packages/seaborn/categorical.py:82: FutureWarning: iteritems is deprecated and will be removed in a future version. Use .items instead.\n",
      "  plot_data = [np.asarray(s, float) for k, s in iter_data]\n"
     ]
    },
    {
     "name": "stdout",
     "output_type": "stream",
     "text": [
      "[('ensemble GaMD', 'ensemble GaMDbol')]\n"
     ]
    },
    {
     "data": {
      "image/png": "[encoded data removed]",
      "text/plain": [
       "<Figure size 1000x600 with 4 Axes>"
      ]
     },
     "metadata": {},
     "output_type": "display_data"
    },
    {
     "data": {
      "image/png": "[encoded data removed]",
      "text/plain": [
       "<Figure size 1000x1000 with 4 Axes>"
      ]
     },
     "metadata": {},
     "output_type": "display_data"
    }
   ],
   "source": [
    "make_plots(\n",
    "    dfs,\n",
    "    ['percentage_fulfilled', 'RMSD'],\n",
    "    [\"% of NOE distance\\nrestraints satisfied [%]\", \"RMSD [$\\AA$]\"],\n",
    "    [\"ensemble GaMD\", \"ensemble GaMDbol\"],\n",
    "    snakemake.output.plot1,\n",
    "    snakemake.output.plot1_sig,\n",
    "    [(\"ensemble GaMD\", \"ensemble GaMDbol\")]\n",
    ")"
   ]
  },
  {
   "cell_type": "code",
   "execution_count": 16,
   "id": "752ab10c",
   "metadata": {
    "execution": {
     "iopub.execute_input": "2023-06-07T11:17:52.454833Z",
     "iopub.status.busy": "2023-06-07T11:17:52.454685Z",
     "iopub.status.idle": "2023-06-07T11:17:52.468209Z",
     "shell.execute_reply": "2023-06-07T11:17:52.467778Z"
    },
    "scrolled": true
   },
   "outputs": [
    {
     "data": {
      "text/html": [
       "<div>\n",
       "<style scoped>\n",
       "    .dataframe tbody tr th:only-of-type {\n",
       "        vertical-align: middle;\n",
       "    }\n",
       "\n",
       "    .dataframe tbody tr th {\n",
       "        vertical-align: top;\n",
       "    }\n",
       "\n",
       "    .dataframe thead th {\n",
       "        text-align: right;\n",
       "    }\n",
       "</style>\n",
       "<table border=\"1\" class=\"dataframe\">\n",
       "  <thead>\n",
       "    <tr style=\"text-align: right;\">\n",
       "      <th></th>\n",
       "      <th>count</th>\n",
       "      <th>mean</th>\n",
       "      <th>std</th>\n",
       "      <th>min</th>\n",
       "      <th>25%</th>\n",
       "      <th>50%</th>\n",
       "      <th>75%</th>\n",
       "      <th>max</th>\n",
       "    </tr>\n",
       "  </thead>\n",
       "  <tbody>\n",
       "    <tr>\n",
       "      <th>ensemble GaMD</th>\n",
       "      <td>37.0</td>\n",
       "      <td>74.41</td>\n",
       "      <td>18.73</td>\n",
       "      <td>20.83</td>\n",
       "      <td>62.79</td>\n",
       "      <td>75.76</td>\n",
       "      <td>88.89</td>\n",
       "      <td>100.00</td>\n",
       "    </tr>\n",
       "    <tr>\n",
       "      <th>cluster GaMD</th>\n",
       "      <td>36.0</td>\n",
       "      <td>66.76</td>\n",
       "      <td>22.50</td>\n",
       "      <td>20.83</td>\n",
       "      <td>44.81</td>\n",
       "      <td>68.49</td>\n",
       "      <td>87.50</td>\n",
       "      <td>94.19</td>\n",
       "    </tr>\n",
       "    <tr>\n",
       "      <th>ensemble GaMDbol</th>\n",
       "      <td>37.0</td>\n",
       "      <td>63.69</td>\n",
       "      <td>23.28</td>\n",
       "      <td>15.62</td>\n",
       "      <td>44.00</td>\n",
       "      <td>72.82</td>\n",
       "      <td>83.53</td>\n",
       "      <td>93.75</td>\n",
       "    </tr>\n",
       "  </tbody>\n",
       "</table>\n",
       "</div>"
      ],
      "text/plain": [
       "                  count   mean    std    min    25%    50%    75%     max\n",
       "ensemble GaMD      37.0  74.41  18.73  20.83  62.79  75.76  88.89  100.00\n",
       "cluster GaMD       36.0  66.76  22.50  20.83  44.81  68.49  87.50   94.19\n",
       "ensemble GaMDbol   37.0  63.69  23.28  15.62  44.00  72.82  83.53   93.75"
      ]
     },
     "execution_count": 16,
     "metadata": {},
     "output_type": "execute_result"
    }
   ],
   "source": [
    "dfs[\"percentage_fulfilled\"].describe().round(decimals = 2).T"
   ]
  },
  {
   "cell_type": "code",
   "execution_count": 17,
   "id": "5c148f5b",
   "metadata": {
    "execution": {
     "iopub.execute_input": "2023-06-07T11:17:52.470778Z",
     "iopub.status.busy": "2023-06-07T11:17:52.470649Z",
     "iopub.status.idle": "2023-06-07T11:17:52.481527Z",
     "shell.execute_reply": "2023-06-07T11:17:52.481133Z"
    }
   },
   "outputs": [
    {
     "data": {
      "text/html": [
       "<div>\n",
       "<style scoped>\n",
       "    .dataframe tbody tr th:only-of-type {\n",
       "        vertical-align: middle;\n",
       "    }\n",
       "\n",
       "    .dataframe tbody tr th {\n",
       "        vertical-align: top;\n",
       "    }\n",
       "\n",
       "    .dataframe thead th {\n",
       "        text-align: right;\n",
       "    }\n",
       "</style>\n",
       "<table border=\"1\" class=\"dataframe\">\n",
       "  <thead>\n",
       "    <tr style=\"text-align: right;\">\n",
       "      <th></th>\n",
       "      <th>count</th>\n",
       "      <th>mean</th>\n",
       "      <th>std</th>\n",
       "      <th>min</th>\n",
       "      <th>25%</th>\n",
       "      <th>50%</th>\n",
       "      <th>75%</th>\n",
       "      <th>max</th>\n",
       "    </tr>\n",
       "  </thead>\n",
       "  <tbody>\n",
       "    <tr>\n",
       "      <th>ensemble GaMD</th>\n",
       "      <td>37.0</td>\n",
       "      <td>0.62</td>\n",
       "      <td>0.35</td>\n",
       "      <td>0.19</td>\n",
       "      <td>0.34</td>\n",
       "      <td>0.46</td>\n",
       "      <td>0.88</td>\n",
       "      <td>1.34</td>\n",
       "    </tr>\n",
       "    <tr>\n",
       "      <th>cluster GaMD</th>\n",
       "      <td>36.0</td>\n",
       "      <td>0.73</td>\n",
       "      <td>0.27</td>\n",
       "      <td>0.23</td>\n",
       "      <td>0.52</td>\n",
       "      <td>0.74</td>\n",
       "      <td>0.88</td>\n",
       "      <td>1.26</td>\n",
       "    </tr>\n",
       "    <tr>\n",
       "      <th>ensemble GaMDbol</th>\n",
       "      <td>37.0</td>\n",
       "      <td>0.75</td>\n",
       "      <td>0.30</td>\n",
       "      <td>0.31</td>\n",
       "      <td>0.52</td>\n",
       "      <td>0.65</td>\n",
       "      <td>1.05</td>\n",
       "      <td>1.40</td>\n",
       "    </tr>\n",
       "  </tbody>\n",
       "</table>\n",
       "</div>"
      ],
      "text/plain": [
       "                  count  mean   std   min   25%   50%   75%   max\n",
       "ensemble GaMD      37.0  0.62  0.35  0.19  0.34  0.46  0.88  1.34\n",
       "cluster GaMD       36.0  0.73  0.27  0.23  0.52  0.74  0.88  1.26\n",
       "ensemble GaMDbol   37.0  0.75  0.30  0.31  0.52  0.65  1.05  1.40"
      ]
     },
     "execution_count": 17,
     "metadata": {},
     "output_type": "execute_result"
    }
   ],
   "source": [
    "dfs[\"RMSD\"].describe().round(decimals = 2).T"
   ]
  },
  {
   "cell_type": "code",
   "execution_count": 18,
   "id": "c2bd3793",
   "metadata": {
    "execution": {
     "iopub.execute_input": "2023-06-07T11:17:52.484385Z",
     "iopub.status.busy": "2023-06-07T11:17:52.484259Z",
     "iopub.status.idle": "2023-06-07T11:17:52.495180Z",
     "shell.execute_reply": "2023-06-07T11:17:52.494786Z"
    }
   },
   "outputs": [
    {
     "data": {
      "text/html": [
       "<div>\n",
       "<style scoped>\n",
       "    .dataframe tbody tr th:only-of-type {\n",
       "        vertical-align: middle;\n",
       "    }\n",
       "\n",
       "    .dataframe tbody tr th {\n",
       "        vertical-align: top;\n",
       "    }\n",
       "\n",
       "    .dataframe thead th {\n",
       "        text-align: right;\n",
       "    }\n",
       "</style>\n",
       "<table border=\"1\" class=\"dataframe\">\n",
       "  <thead>\n",
       "    <tr style=\"text-align: right;\">\n",
       "      <th></th>\n",
       "      <th>count</th>\n",
       "      <th>mean</th>\n",
       "      <th>std</th>\n",
       "      <th>min</th>\n",
       "      <th>25%</th>\n",
       "      <th>50%</th>\n",
       "      <th>75%</th>\n",
       "      <th>max</th>\n",
       "    </tr>\n",
       "  </thead>\n",
       "  <tbody>\n",
       "    <tr>\n",
       "      <th>ensemble GaMD</th>\n",
       "      <td>37.0</td>\n",
       "      <td>0.32</td>\n",
       "      <td>0.24</td>\n",
       "      <td>0.00</td>\n",
       "      <td>0.14</td>\n",
       "      <td>0.27</td>\n",
       "      <td>0.47</td>\n",
       "      <td>0.87</td>\n",
       "    </tr>\n",
       "    <tr>\n",
       "      <th>cluster GaMD</th>\n",
       "      <td>36.0</td>\n",
       "      <td>0.31</td>\n",
       "      <td>0.24</td>\n",
       "      <td>0.00</td>\n",
       "      <td>0.12</td>\n",
       "      <td>0.25</td>\n",
       "      <td>0.47</td>\n",
       "      <td>0.87</td>\n",
       "    </tr>\n",
       "    <tr>\n",
       "      <th>ensemble GaMDbol</th>\n",
       "      <td>37.0</td>\n",
       "      <td>0.38</td>\n",
       "      <td>0.23</td>\n",
       "      <td>0.11</td>\n",
       "      <td>0.20</td>\n",
       "      <td>0.32</td>\n",
       "      <td>0.56</td>\n",
       "      <td>0.87</td>\n",
       "    </tr>\n",
       "  </tbody>\n",
       "</table>\n",
       "</div>"
      ],
      "text/plain": [
       "                  count  mean   std   min   25%   50%   75%   max\n",
       "ensemble GaMD      37.0  0.32  0.24  0.00  0.14  0.27  0.47  0.87\n",
       "cluster GaMD       36.0  0.31  0.24  0.00  0.12  0.25  0.47  0.87\n",
       "ensemble GaMDbol   37.0  0.38  0.23  0.11  0.20  0.32  0.56  0.87"
      ]
     },
     "execution_count": 18,
     "metadata": {},
     "output_type": "execute_result"
    }
   ],
   "source": [
    "dfs[\"RMSD_stepwise\"].describe().round(decimals = 2).T"
   ]
  },
  {
   "cell_type": "code",
   "execution_count": null,
   "id": "ba7fcce2",
   "metadata": {},
   "outputs": [],
   "source": []
  }
 ],
 "metadata": {
  "celltoolbar": "Tags",
  "kernelspec": {
   "display_name": "Python 3 (ipykernel)",
   "language": "python",
   "name": "python3"
  },
  "language_info": {
   "codemirror_mode": {
    "name": "ipython",
    "version": 3
   },
   "file_extension": ".py",
   "mimetype": "text/x-python",
   "name": "python",
   "nbconvert_exporter": "python",
   "pygments_lexer": "ipython3",
   "version": "3.11.0"
  },
  "vscode": {
   "interpreter": {
    "hash": "94dababe982ee948942e7db2b95585822e0f0a0b431dbd7d908d29faa939b7a7"
   }
  }
 },
 "nbformat": 4,
 "nbformat_minor": 5
}
