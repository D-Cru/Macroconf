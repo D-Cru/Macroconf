{
 "cells": [
  {
   "cell_type": "code",
   "execution_count": 1,
   "id": "216ccea6",
   "metadata": {
    "execution": {
     "iopub.execute_input": "2021-09-29T16:09:18.675504Z",
     "iopub.status.busy": "2021-09-29T16:09:18.664539Z",
     "iopub.status.idle": "2021-09-29T16:09:18.711467Z",
     "shell.execute_reply": "2021-09-29T16:09:18.710949Z"
    },
    "tags": [
     "snakemake-job-properties"
    ]
   },
   "outputs": [],
   "source": [
    "\n",
    "######## snakemake preamble start (automatically inserted, do not edit) ########\n",
    "import sys; sys.path.extend(['/biggin/b147/univ4859/miniconda3/envs/snakemake/lib/python3.9/site-packages', '/biggin/b147/univ4859/research/03_macroconf/notebooks']); import pickle; snakemake = pickle.loads(b'\\x80\\x04\\x95\\xcc<\\x00\\x00\\x00\\x00\\x00\\x00\\x8c\\x10snakemake.script\\x94\\x8c\\tSnakemake\\x94\\x93\\x94)\\x81\\x94}\\x94(\\x8c\\x05input\\x94\\x8c\\x0csnakemake.io\\x94\\x8c\\nInputFiles\\x94\\x93\\x94)\\x81\\x94(\\x8cZdata/processed/conv_check/results/22/H2O/GaMD/2000/0/ed6dd3148ef9b069/217800_dihedrals.dat\\x94\\x8cZdata/processed/conv_check/results/22/H2O/GaMD/2000/0/ed6dd3148ef9b069/430400_dihedrals.dat\\x94\\x8cZdata/processed/conv_check/results/22/H2O/GaMD/2000/0/ed6dd3148ef9b069/371600_dihedrals.dat\\x94\\x8cYdata/processed/conv_check/results/22/H2O/GaMD/2000/0/ed6dd3148ef9b069/70500_dihedrals.dat\\x94\\x8cYdata/processed/conv_check/results/22/H2O/GaMD/2000/0/ed6dd3148ef9b069/59600_dihedrals.dat\\x94\\x8cYdata/processed/conv_check/results/22/H2O/GaMD/2000/0/ed6dd3148ef9b069/48800_dihedrals.dat\\x94\\x8cZdata/processed/conv_check/results/22/H2O/GaMD/2000/0/ed6dd3148ef9b069/192300_dihedrals.dat\\x94\\x8cZdata/processed/conv_check/results/22/H2O/GaMD/2000/0/ed6dd3148ef9b069/780200_dihedrals.dat\\x94\\x8cZdata/processed/conv_check/results/22/H2O/GaMD/2000/0/ed6dd3148ef9b069/318400_dihedrals.dat\\x94\\x8cZdata/processed/conv_check/results/22/H2O/GaMD/2000/0/ed6dd3148ef9b069/595700_dihedrals.dat\\x94\\x8cZdata/processed/conv_check/results/22/H2O/GaMD/2000/0/ed6dd3148ef9b069/253300_dihedrals.dat\\x94\\x8cZdata/processed/conv_check/results/22/H2O/GaMD/2000/0/ed6dd3148ef9b069/896900_dihedrals.dat\\x94\\x8cZdata/processed/conv_check/results/22/H2O/GaMD/2000/0/ed6dd3148ef9b069/404400_dihedrals.dat\\x94\\x8cZdata/processed/conv_check/results/22/H2O/GaMD/2000/0/ed6dd3148ef9b069/806400_dihedrals.dat\\x94\\x8cYdata/processed/conv_check/results/22/H2O/GaMD/2000/0/ed6dd3148ef9b069/41700_dihedrals.dat\\x94\\x8cZdata/processed/conv_check/results/22/H2O/GaMD/2000/0/ed6dd3148ef9b069/388000_dihedrals.dat\\x94\\x8cZdata/processed/conv_check/results/22/H2O/GaMD/2000/0/ed6dd3148ef9b069/440900_dihedrals.dat\\x94\\x8cVdata/interim/conv_check/22/H2O/11_GaMD_full/2000/0/ed6dd3148ef9b069/217800_weights.dat\\x94\\x8cVdata/interim/conv_check/22/H2O/11_GaMD_full/2000/0/ed6dd3148ef9b069/430400_weights.dat\\x94\\x8cVdata/interim/conv_check/22/H2O/11_GaMD_full/2000/0/ed6dd3148ef9b069/371600_weights.dat\\x94\\x8cUdata/interim/conv_check/22/H2O/11_GaMD_full/2000/0/ed6dd3148ef9b069/70500_weights.dat\\x94\\x8cUdata/interim/conv_check/22/H2O/11_GaMD_full/2000/0/ed6dd3148ef9b069/59600_weights.dat\\x94\\x8cUdata/interim/conv_check/22/H2O/11_GaMD_full/2000/0/ed6dd3148ef9b069/48800_weights.dat\\x94\\x8cVdata/interim/conv_check/22/H2O/11_GaMD_full/2000/0/ed6dd3148ef9b069/192300_weights.dat\\x94\\x8cVdata/interim/conv_check/22/H2O/11_GaMD_full/2000/0/ed6dd3148ef9b069/780200_weights.dat\\x94\\x8cVdata/interim/conv_check/22/H2O/11_GaMD_full/2000/0/ed6dd3148ef9b069/318400_weights.dat\\x94\\x8cVdata/interim/conv_check/22/H2O/11_GaMD_full/2000/0/ed6dd3148ef9b069/595700_weights.dat\\x94\\x8cVdata/interim/conv_check/22/H2O/11_GaMD_full/2000/0/ed6dd3148ef9b069/253300_weights.dat\\x94\\x8cVdata/interim/conv_check/22/H2O/11_GaMD_full/2000/0/ed6dd3148ef9b069/896900_weights.dat\\x94\\x8cVdata/interim/conv_check/22/H2O/11_GaMD_full/2000/0/ed6dd3148ef9b069/404400_weights.dat\\x94\\x8cVdata/interim/conv_check/22/H2O/11_GaMD_full/2000/0/ed6dd3148ef9b069/806400_weights.dat\\x94\\x8cUdata/interim/conv_check/22/H2O/11_GaMD_full/2000/0/ed6dd3148ef9b069/41700_weights.dat\\x94\\x8cVdata/interim/conv_check/22/H2O/11_GaMD_full/2000/0/ed6dd3148ef9b069/388000_weights.dat\\x94\\x8cVdata/interim/conv_check/22/H2O/11_GaMD_full/2000/0/ed6dd3148ef9b069/440900_weights.dat\\x94\\x8cRdata/interim/conv_check/22/H2O/11_GaMD_full/2000/0/ed6dd3148ef9b069/rst_217800.rst\\x94\\x8cRdata/interim/conv_check/22/H2O/11_GaMD_full/2000/0/ed6dd3148ef9b069/rst_430400.rst\\x94\\x8cRdata/interim/conv_check/22/H2O/11_GaMD_full/2000/0/ed6dd3148ef9b069/rst_371600.rst\\x94\\x8cQdata/interim/conv_check/22/H2O/11_GaMD_full/2000/0/ed6dd3148ef9b069/rst_70500.rst\\x94\\x8cQdata/interim/conv_check/22/H2O/11_GaMD_full/2000/0/ed6dd3148ef9b069/rst_59600.rst\\x94\\x8cQdata/interim/conv_check/22/H2O/11_GaMD_full/2000/0/ed6dd3148ef9b069/rst_48800.rst\\x94\\x8cRdata/interim/conv_check/22/H2O/11_GaMD_full/2000/0/ed6dd3148ef9b069/rst_192300.rst\\x94\\x8cRdata/interim/conv_check/22/H2O/11_GaMD_full/2000/0/ed6dd3148ef9b069/rst_780200.rst\\x94\\x8cRdata/interim/conv_check/22/H2O/11_GaMD_full/2000/0/ed6dd3148ef9b069/rst_318400.rst\\x94\\x8cRdata/interim/conv_check/22/H2O/11_GaMD_full/2000/0/ed6dd3148ef9b069/rst_595700.rst\\x94\\x8cRdata/interim/conv_check/22/H2O/11_GaMD_full/2000/0/ed6dd3148ef9b069/rst_253300.rst\\x94\\x8cRdata/interim/conv_check/22/H2O/11_GaMD_full/2000/0/ed6dd3148ef9b069/rst_896900.rst\\x94\\x8cRdata/interim/conv_check/22/H2O/11_GaMD_full/2000/0/ed6dd3148ef9b069/rst_404400.rst\\x94\\x8cRdata/interim/conv_check/22/H2O/11_GaMD_full/2000/0/ed6dd3148ef9b069/rst_806400.rst\\x94\\x8cQdata/interim/conv_check/22/H2O/11_GaMD_full/2000/0/ed6dd3148ef9b069/rst_41700.rst\\x94\\x8cRdata/interim/conv_check/22/H2O/11_GaMD_full/2000/0/ed6dd3148ef9b069/rst_388000.rst\\x94\\x8cRdata/interim/conv_check/22/H2O/11_GaMD_full/2000/0/ed6dd3148ef9b069/rst_440900.rst\\x94\\x8c>data/interim/conv_check/22/H2O/1_make_topology/mc_sol_2.prmtop\\x94\\x8cQdata/processed/refactor-test/results/22/H2O/GaMD/2000/0/ed6dd3148ef9b069_dPCA.dat\\x94\\x8cVdata/processed/refactor-test/results/22/H2O/GaMD/2000/0/ed6dd3148ef9b069_dihedrals.dat\\x94\\x8c\\\\data/processed/refactor-test/results/22/H2O/GaMD/2000/0/ed6dd3148ef9b069_dPCA_weights_MC.dat\\x94e}\\x94(\\x8c\\x06_names\\x94}\\x94(\\x8c\\tdihedrals\\x94K\\x00K\\x11\\x86\\x94\\x8c\\x07weights\\x94K\\x11K\"\\x86\\x94\\x8c\\x0fstarting_struct\\x94K\"K3\\x86\\x94\\x8c\\x03top\\x94K3K4\\x86\\x94\\x8c\\x07ref_pca\\x94K4K5\\x86\\x94\\x8c\\x07ref_dih\\x94K5K6\\x86\\x94\\x8c\\x0fref_pca_weights\\x94K6K7\\x86\\x94u\\x8c\\x12_allowed_overrides\\x94]\\x94(\\x8c\\x05index\\x94\\x8c\\x04sort\\x94ehT\\x8c\\tfunctools\\x94\\x8c\\x07partial\\x94\\x93\\x94h\\x06\\x8c\\x19Namedlist._used_attribute\\x94\\x93\\x94\\x85\\x94R\\x94(hZ)}\\x94\\x8c\\x05_name\\x94hTsNt\\x94bhUhXhZ\\x85\\x94R\\x94(hZ)}\\x94h^hUsNt\\x94bhDh\\x06\\x8c\\tNamedlist\\x94\\x93\\x94)\\x81\\x94(h\\nh\\x0bh\\x0ch\\rh\\x0eh\\x0fh\\x10h\\x11h\\x12h\\x13h\\x14h\\x15h\\x16h\\x17h\\x18h\\x19h\\x1ae}\\x94(hB}\\x94hR]\\x94(hThUehThXhZ\\x85\\x94R\\x94(hZ)}\\x94h^hTsNt\\x94bhUhXhZ\\x85\\x94R\\x94(hZ)}\\x94h^hUsNt\\x94bubhFhe)\\x81\\x94(h\\x1bh\\x1ch\\x1dh\\x1eh\\x1fh h!h\"h#h$h%h&h\\'h(h)h*h+e}\\x94(hB}\\x94hR]\\x94(hThUehThXhZ\\x85\\x94R\\x94(hZ)}\\x94h^hTsNt\\x94bhUhXhZ\\x85\\x94R\\x94(hZ)}\\x94h^hUsNt\\x94bubhHhe)\\x81\\x94(h,h-h.h/h0h1h2h3h4h5h6h7h8h9h:h;h<e}\\x94(hB}\\x94hR]\\x94(hThUehThXhZ\\x85\\x94R\\x94(hZ)}\\x94h^hTsNt\\x94bhUhXhZ\\x85\\x94R\\x94(hZ)}\\x94h^hUsNt\\x94bubhJhe)\\x81\\x94h=a}\\x94(hB}\\x94hR]\\x94(hThUehThXhZ\\x85\\x94R\\x94(hZ)}\\x94h^hTsNt\\x94bhUhXhZ\\x85\\x94R\\x94(hZ)}\\x94h^hUsNt\\x94bubhLhe)\\x81\\x94h>a}\\x94(hB}\\x94hR]\\x94(hThUehThXhZ\\x85\\x94R\\x94(hZ)}\\x94h^hTsNt\\x94bhUhXhZ\\x85\\x94R\\x94(hZ)}\\x94h^hUsNt\\x94bubhNhe)\\x81\\x94h?a}\\x94(hB}\\x94hR]\\x94(hThUehThXhZ\\x85\\x94R\\x94(hZ)}\\x94h^hTsNt\\x94bhUhXhZ\\x85\\x94R\\x94(hZ)}\\x94h^hUsNt\\x94bubhPhe)\\x81\\x94h@a}\\x94(hB}\\x94hR]\\x94(hThUehThXhZ\\x85\\x94R\\x94(hZ)}\\x94h^hTsNt\\x94bhUhXhZ\\x85\\x94R\\x94(hZ)}\\x94h^hUsNt\\x94bubub\\x8c\\x06output\\x94h\\x06\\x8c\\x0bOutputFiles\\x94\\x93\\x94)\\x81\\x94\\x8cYdata/processed/conv_check/results/22/H2O/GaMD/2000/0/ed6dd3148ef9b069_comparison-plot.png\\x94a}\\x94(hB}\\x94\\x8c\\x12dih_pca_comparison\\x94K\\x00N\\x86\\x94shR]\\x94(hThUehThXhZ\\x85\\x94R\\x94(hZ)}\\x94h^hTsNt\\x94bhUhXhZ\\x85\\x94R\\x94(hZ)}\\x94h^hUsNt\\x94bh\\xc1h\\xbeub\\x8c\\x06params\\x94h\\x06\\x8c\\x06Params\\x94\\x93\\x94)\\x81\\x94}\\x94(hB}\\x94hR]\\x94(hThUehThXhZ\\x85\\x94R\\x94(hZ)}\\x94h^hTsNt\\x94bhUhXhZ\\x85\\x94R\\x94(hZ)}\\x94h^hUsNt\\x94bub\\x8c\\twildcards\\x94h\\x06\\x8c\\tWildcards\\x94\\x93\\x94)\\x81\\x94(\\x8c\\x0222\\x94\\x8c\\x03H2O\\x94\\x8c\\x04GaMD\\x94\\x8c\\x042000\\x94\\x8c\\x010\\x94\\x8c\\x10ed6dd3148ef9b069\\x94e}\\x94(hB}\\x94(\\x8c\\x08compound\\x94K\\x00N\\x86\\x94\\x8c\\x07solvent\\x94K\\x01N\\x86\\x94\\x8c\\x06method\\x94K\\x02N\\x86\\x94\\x8c\\x04time\\x94K\\x03N\\x86\\x94\\x8c\\x06repeat\\x94K\\x04N\\x86\\x94\\x8c\\x05index\\x94K\\x05N\\x86\\x94uhR]\\x94(hThUehTh\\xe4hUhXhZ\\x85\\x94R\\x94(hZ)}\\x94h^hUsNt\\x94b\\x8c\\x08compound\\x94h\\xdf\\x8c\\x07solvent\\x94h\\xe0\\x8c\\x06method\\x94h\\xe1\\x8c\\x04time\\x94h\\xe2\\x8c\\x06repeat\\x94h\\xe3ub\\x8c\\x07threads\\x94K\\x02\\x8c\\tresources\\x94h\\x06\\x8c\\tResources\\x94\\x93\\x94)\\x81\\x94(K\\x02K\\x01\\x8c\\x04/tmp\\x94e}\\x94(hB}\\x94(\\x8c\\x06_cores\\x94K\\x00N\\x86\\x94\\x8c\\x06_nodes\\x94K\\x01N\\x86\\x94\\x8c\\x06tmpdir\\x94K\\x02N\\x86\\x94uhR]\\x94(hThUehThXhZ\\x85\\x94R\\x94(hZ)}\\x94h^hTsNt\\x94bhUhXhZ\\x85\\x94R\\x94(hZ)}\\x94h^hUsNt\\x94bj\\x05\\x01\\x00\\x00K\\x02j\\x07\\x01\\x00\\x00K\\x01j\\t\\x01\\x00\\x00j\\x02\\x01\\x00\\x00ub\\x8c\\x03log\\x94h\\x06\\x8c\\x03Log\\x94\\x93\\x94)\\x81\\x94\\x8cWdata/processed/conv_check/notebooks/22/H2O_GaMD_2000_0_ed6dd3148ef9b069_convcheck.ipynb\\x94a}\\x94(hB}\\x94\\x8c\\x08notebook\\x94K\\x00N\\x86\\x94shR]\\x94(hThUehThXhZ\\x85\\x94R\\x94(hZ)}\\x94h^hTsNt\\x94bhUhXhZ\\x85\\x94R\\x94(hZ)}\\x94h^hUsNt\\x94bj\\x1b\\x01\\x00\\x00j\\x18\\x01\\x00\\x00ub\\x8c\\x06config\\x94}\\x94(\\x8c\\x0bthreads_max\\x94K\\x18\\x8c\\tcompounds\\x94]\\x94(K8K\\x18K\\x16K7e\\x8c\\x12confgen_parameters\\x94}\\x94(\\x8c\\x05omega\\x94]\\x94(\\x8c\\x05basic\\x94\\x8c\\nchloroform\\x94\\x8c\\nlowEwindow\\x94\\x8c\\x0bhighEwindow\\x94\\x8c\\x06lowrms\\x94\\x8c\\x07highrms\\x94\\x8c\\x0bhighmaxconf\\x94\\x8c\\thighmaxit\\x94\\x8c\\x0chighsampling\\x94\\x8c\\rlotsdifferent\\x94e\\x8c\\x05rdkit\\x94]\\x94(\\x8c\\x05basic\\x94\\x8c\\x04ETDG\\x94\\x8c\\x07ETKDGv1\\x94\\x8c\\x07ETKDGv2\\x94\\x8c\\x07ETKDGv3\\x94\\x8c\\tsrETKDGv3\\x94\\x8c\\x03KDG\\x94\\x8c\\x08def-ETDG\\x94\\x8c\\x0bdef-ETKDGv1\\x94\\x8c\\x0bdef-ETKDGv2\\x94\\x8c\\x0bdef-ETKDGv3\\x94\\x8c\\rdef-srETKDGv3\\x94\\x8c\\x07def-KDG\\x94\\x8c\\x0chighsampling\\x94\\x8c\\rlotsdifferent\\x94eu\\x8c\\thash_list\\x94]\\x94(]\\x94(\\x8c\\x1094214a84a78d8392\\x94\\x8c\\x10ea902b72328019c4\\x94\\x8c\\x1005834cbd8c236ca0\\x94\\x8c\\x0222\\x94h\\xe3h\\xe3e]\\x94(\\x8c\\x10f85eb31757da7e52\\x94\\x8c\\x1005834cbd8c236ca0\\x94\\x8c\\x109eb48310b74aa061\\x94\\x8c\\x0222\\x94h\\xe3h\\xe3e]\\x94(\\x8c\\x1010236f52ef18b2a3\\x94\\x8c\\x1015ff3a3813ba7460\\x94\\x8c\\x10e36fd3c2b58d633f\\x94\\x8c\\x0222\\x94h\\xe3h\\xe3e]\\x94(\\x8c\\x10c530212023f40ad9\\x94\\x8c\\x1010236f52ef18b2a3\\x94\\x8c\\x1094214a84a78d8392\\x94\\x8c\\x0222\\x94h\\xe3h\\xe3e]\\x94(\\x8c\\x100a303e31ccdf82a5\\x94\\x8c\\x10c530212023f40ad9\\x94\\x8c\\x1010236f52ef18b2a3\\x94\\x8c\\x0222\\x94h\\xe3h\\xe3e]\\x94(\\x8c\\x100a303e31ccdf82a5\\x94\\x8c\\x106223de6c169344e9\\x94\\x8c\\x10f85eb31757da7e52\\x94\\x8c\\x0222\\x94h\\xe3h\\xe3e]\\x94(\\x8c\\x100a303e31ccdf82a5\\x94\\x8c\\x1015ff3a3813ba7460\\x94\\x8c\\x10e36fd3c2b58d633f\\x94\\x8c\\x0222\\x94h\\xe3h\\xe3e]\\x94(\\x8c\\x106223de6c169344e9\\x94\\x8c\\x10f85eb31757da7e52\\x94\\x8c\\x10b3332ce08307c920\\x94\\x8c\\x0222\\x94h\\xe3h\\xe3e]\\x94(\\x8c\\x10b3332ce08307c920\\x94\\x8c\\x101f323341d36478d5\\x94\\x8c\\x10f8f83124ccdc7c13\\x94\\x8c\\x0222\\x94h\\xe3h\\xe3e]\\x94(\\x8c\\x10e36fd3c2b58d633f\\x94\\x8c\\x10f8f83124ccdc7c13\\x94\\x8c\\x10282f14929802f7ac\\x94\\x8c\\x0222\\x94h\\xe3h\\xe3e]\\x94(\\x8c\\x100a303e31ccdf82a5\\x94\\x8c\\x10e36fd3c2b58d633f\\x94\\x8c\\x10f8f83124ccdc7c13\\x94\\x8c\\x0222\\x94h\\xe3h\\xe3e]\\x94(\\x8c\\x100a303e31ccdf82a5\\x94\\x8c\\x109eb48310b74aa061\\x94\\x8c\\x10282f14929802f7ac\\x94\\x8c\\x0222\\x94h\\xe3h\\xe3e]\\x94(\\x8c\\x105ad86a1e5e790925\\x94\\x8c\\x107e4cdc50cc70fc15\\x94\\x8c\\x104574de591364a01f\\x94\\x8c\\x0255\\x94h\\xe3h\\xe3e]\\x94(\\x8c\\x105ad86a1e5e790925\\x94\\x8c\\x10395e86cd79c14300\\x94\\x8c\\x10938ec71731842389\\x94\\x8c\\x0255\\x94h\\xe3h\\xe3e]\\x94(\\x8c\\x108374da5ea9cc35c0\\x94\\x8c\\x100a303e31ccdf82a5\\x94\\x8c\\x1010236f52ef18b2a3\\x94\\x8c\\x0222\\x94h\\xe3h\\xe3e]\\x94(\\x8c\\x10ed6dd3148ef9b069\\x94\\x8c\\x108374da5ea9cc35c0\\x94\\x8c\\x100a303e31ccdf82a5\\x94\\x8c\\x0222\\x94h\\xe3h\\xe3e]\\x94(\\x8c\\x10ed6dd3148ef9b069\\x94\\x8c\\x10c530212023f40ad9\\x94\\x8c\\x1010236f52ef18b2a3\\x94\\x8c\\x0222\\x94h\\xe3h\\xe3e]\\x94(\\x8c\\x103d00b0964201e088\\x94\\x8c\\x1009a11fd633f3a72b\\x94\\x8c\\x106a9359deeeab1adc\\x94\\x8c\\x0224\\x94h\\xe3h\\xe3e]\\x94(\\x8c\\x103d00b0964201e088\\x94\\x8c\\x105d7022b409750c68\\x94\\x8c\\x10e92cb0e6ed121828\\x94\\x8c\\x0224\\x94h\\xe3h\\xe3e]\\x94(\\x8c\\x10242ee4d4af3634ed\\x94\\x8c\\x10660d1badff741862\\x94\\x8c\\x105ad86a1e5e790925\\x94\\x8c\\x0255\\x94h\\xe3h\\xe3e]\\x94(\\x8c\\x10ed6dd3148ef9b069\\x94\\x8c\\x108374da5ea9cc35c0\\x94\\x8c\\x103c523c7ca380f925\\x94\\x8c\\x0222\\x94h\\xe3h\\xe3e]\\x94(\\x8c\\x108374da5ea9cc35c0\\x94\\x8c\\x100a303e31ccdf82a5\\x94\\x8c\\x103c523c7ca380f925\\x94\\x8c\\x0222\\x94h\\xe3h\\xe3e]\\x94(\\x8c\\x10ed6dd3148ef9b069\\x94\\x8c\\x109a100624325ec4cd\\x94\\x8c\\x109eb48310b74aa061\\x94\\x8c\\x0222\\x94h\\xe3h\\xe3e]\\x94(\\x8c\\x10242ee4d4af3634ed\\x94\\x8c\\x106163f1ecc9f26d15\\x94\\x8c\\x10938ec71731842389\\x94\\x8c\\x0255\\x94\\x8c\\x05omega\\x94\\x8c\\x05basic\\x94e]\\x94(\\x8c\\x10ed6dd3148ef9b069\\x94\\x8c\\x10db88602b153df078\\x94\\x8c\\x10c74338f1c2e97967\\x94\\x8c\\x0222\\x94h\\xe3h\\xe3e]\\x94(\\x8c\\x1004326f349933814b\\x94\\x8c\\x10db88602b153df078\\x94\\x8c\\x10c74338f1c2e97967\\x94\\x8c\\x0222\\x94h\\xe3h\\xe3e]\\x94(\\x8c\\x10ed6dd3148ef9b069\\x94\\x8c\\x10bbe75067f45d5efd\\x94\\x8c\\x109a100624325ec4cd\\x94\\x8c\\x0222\\x94h\\xe3h\\xe3e]\\x94(\\x8c\\x102088374558ed79c5\\x94\\x8c\\x10b269c69e29e2b3a6\\x94\\x8c\\x10d7cd9d09c7724d89\\x94\\x8c\\x0256\\x94\\x8c\\x05omega\\x94\\x8c\\x05basic\\x94e]\\x94(\\x8c\\x108374da5ea9cc35c0\\x94\\x8c\\x10b42d1cec1349e562\\x94\\x8c\\x103d110be4b2d63f96\\x94\\x8c\\x0222\\x94h\\xe3h\\xe3e]\\x94(\\x8c\\x10ed6dd3148ef9b069\\x94\\x8c\\x101a8e577036845661\\x94\\x8c\\x10bbe75067f45d5efd\\x94\\x8c\\x0222\\x94h\\xe3h\\xe3e]\\x94(\\x8c\\x10ed6dd3148ef9b069\\x94\\x8c\\x103d110be4b2d63f96\\x94\\x8c\\x10b42d1cec1349e562\\x94\\x8c\\x0222\\x94h\\xe3h\\xe3e]\\x94(\\x8c\\x10ed6dd3148ef9b069\\x94\\x8c\\x108374da5ea9cc35c0\\x94\\x8c\\x103c523c7ca380f925\\x94\\x8c\\x0222\\x94\\x8c\\x05omega\\x94\\x8c\\x05basic\\x94e]\\x94(\\x8c\\x10ed6dd3148ef9b069\\x94\\x8c\\x108374da5ea9cc35c0\\x94\\x8c\\x105eedf239922efaee\\x94\\x8c\\x0222\\x94\\x8c\\x05omega\\x94\\x8c\\x05basic\\x94e]\\x94(\\x8c\\x103d00b0964201e088\\x94\\x8c\\x1009a11fd633f3a72b\\x94\\x8c\\x105d7022b409750c68\\x94\\x8c\\x0224\\x94\\x8c\\x05omega\\x94\\x8c\\x05basic\\x94e]\\x94(\\x8c\\x10459a7f09ce68039a\\x94\\x8c\\x103fe88b3d3ed6d9d3\\x94\\x8c\\x10d236cb661a6d3813\\x94\\x8c\\x0222\\x94h\\xe3h\\xe3e]\\x94(\\x8c\\x10ed6dd3148ef9b069\\x94\\x8c\\x10459a7f09ce68039a\\x94\\x8c\\x101a8e577036845661\\x94\\x8c\\x0222\\x94h\\xe3h\\xe3e]\\x94(\\x8c\\x10ed6dd3148ef9b069\\x94\\x8c\\x108374da5ea9cc35c0\\x94\\x8c\\x103c523c7ca380f925\\x94\\x8c\\x0222\\x94\\x8c\\x05omega\\x94\\x8c\\nchloroform\\x94e]\\x94(\\x8c\\x10ed6dd3148ef9b069\\x94\\x8c\\x10459a7f09ce68039a\\x94\\x8c\\x10d236cb661a6d3813\\x94\\x8c\\x0222\\x94\\x8c\\x05omega\\x94\\x8c\\nchloroform\\x94e]\\x94(\\x8c\\x10ed6dd3148ef9b069\\x94\\x8c\\x108374da5ea9cc35c0\\x94\\x8c\\x10d236cb661a6d3813\\x94\\x8c\\x0222\\x94\\x8c\\x05omega\\x94\\x8c\\x05basic\\x94e]\\x94(\\x8c\\x10ed6dd3148ef9b069\\x94\\x8c\\x108374da5ea9cc35c0\\x94\\x8c\\x103c523c7ca380f925\\x94\\x8c\\x0222\\x94\\x8c\\x05rdkit\\x94\\x8c\\x05basic\\x94e]\\x94(\\x8c\\x103d00b0964201e088\\x94\\x8c\\x1009a11fd633f3a72b\\x94\\x8c\\x105d7022b409750c68\\x94\\x8c\\x0224\\x94\\x8c\\x05rdkit\\x94\\x8c\\x05basic\\x94e]\\x94(\\x8c\\x10242ee4d4af3634ed\\x94\\x8c\\x106163f1ecc9f26d15\\x94\\x8c\\x10938ec71731842389\\x94\\x8c\\x0255\\x94\\x8c\\x05rdkit\\x94\\x8c\\x05basic\\x94e]\\x94(\\x8c\\x102088374558ed79c5\\x94\\x8c\\x10b269c69e29e2b3a6\\x94\\x8c\\x10d7cd9d09c7724d89\\x94\\x8c\\x0256\\x94\\x8c\\x05rdkit\\x94\\x8c\\x05basic\\x94e]\\x94(\\x8c\\x10ed6dd3148ef9b069\\x94\\x8c\\x101a8e577036845661\\x94\\x8c\\x100e50ca04aae716d1\\x94\\x8c\\x0222\\x94h\\xe3h\\xe3e]\\x94(\\x8c\\x10ed6dd3148ef9b069\\x94\\x8c\\x10eda7330ac628c0ac\\x94\\x8c\\x109a9ddf09f5d49fad\\x94\\x8c\\x0222\\x94h\\xe3h\\xe3e]\\x94(\\x8c\\x10ed6dd3148ef9b069\\x94\\x8c\\x10a61763fc40176038\\x94\\x8c\\x10a724a76828a03101\\x94\\x8c\\x0222\\x94h\\xe3h\\xe3e]\\x94(\\x8c\\x10ed6dd3148ef9b069\\x94\\x8c\\x10459a7f09ce68039a\\x94\\x8c\\x10132fa828a7869663\\x94\\x8c\\x0222\\x94h\\xe3h\\xe3e]\\x94(\\x8c\\x10ed6dd3148ef9b069\\x94\\x8c\\x108374da5ea9cc35c0\\x94\\x8c\\x103c523c7ca380f925\\x94\\x8c\\x0222\\x94\\x8c\\x05omega\\x94\\x8c\\x05basic\\x94e]\\x94(\\x8c\\x10ed6dd3148ef9b069\\x94\\x8c\\x108374da5ea9cc35c0\\x94\\x8c\\x103c523c7ca380f925\\x94\\x8c\\x0222\\x94\\x8c\\x05omega\\x94\\x8c\\nlowEwindow\\x94e]\\x94(\\x8c\\x10ed6dd3148ef9b069\\x94\\x8c\\x108374da5ea9cc35c0\\x94\\x8c\\x103c523c7ca380f925\\x94\\x8c\\x0222\\x94\\x8c\\x05omega\\x94\\x8c\\x0bhighEwindow\\x94e]\\x94(\\x8c\\x10ed6dd3148ef9b069\\x94\\x8c\\x108374da5ea9cc35c0\\x94\\x8c\\x103c523c7ca380f925\\x94\\x8c\\x0222\\x94\\x8c\\x05omega\\x94\\x8c\\x06lowrms\\x94e]\\x94(\\x8c\\x10ed6dd3148ef9b069\\x94\\x8c\\x108374da5ea9cc35c0\\x94\\x8c\\x103c523c7ca380f925\\x94\\x8c\\x0222\\x94\\x8c\\x05omega\\x94\\x8c\\x07highrms\\x94e]\\x94(\\x8c\\x10ed6dd3148ef9b069\\x94\\x8c\\x108374da5ea9cc35c0\\x94\\x8c\\x103c523c7ca380f925\\x94\\x8c\\x0222\\x94\\x8c\\x05omega\\x94\\x8c\\x0bhighmaxconf\\x94e]\\x94(\\x8c\\x10ed6dd3148ef9b069\\x94\\x8c\\x108374da5ea9cc35c0\\x94\\x8c\\x103c523c7ca380f925\\x94\\x8c\\x0222\\x94\\x8c\\x05omega\\x94\\x8c\\x0chighsampling\\x94e]\\x94(\\x8c\\x10ed6dd3148ef9b069\\x94\\x8c\\x108374da5ea9cc35c0\\x94\\x8c\\x103c523c7ca380f925\\x94\\x8c\\x0222\\x94\\x8c\\x05omega\\x94\\x8c\\rlotsdifferent\\x94e]\\x94(\\x8c\\x10ed6dd3148ef9b069\\x94\\x8c\\x108374da5ea9cc35c0\\x94\\x8c\\x103c523c7ca380f925\\x94\\x8c\\x0222\\x94\\x8c\\x05omega\\x94\\x8c\\thighmaxit\\x94e]\\x94(\\x8c\\x10ed6dd3148ef9b069\\x94\\x8c\\x10568b39635b10fbba\\x94\\x8c\\x10c41b70cc89a57167\\x94\\x8c\\x0222\\x94h\\xe3h\\xe3e]\\x94(\\x8c\\x10ed6dd3148ef9b069\\x94\\x8c\\x108374da5ea9cc35c0\\x94\\x8c\\x10a08d58e2ed091fdb\\x94\\x8c\\x0222\\x94h\\xe3h\\xe3e]\\x94(\\x8c\\x10ed6dd3148ef9b069\\x94\\x8c\\x108374da5ea9cc35c0\\x94\\x8c\\x103c523c7ca380f925\\x94\\x8c\\x0222\\x94\\x8c\\x05rdkit\\x94\\x8c\\x07ETKDGv1\\x94e]\\x94(\\x8c\\x10ed6dd3148ef9b069\\x94\\x8c\\x108374da5ea9cc35c0\\x94\\x8c\\x103c523c7ca380f925\\x94\\x8c\\x0222\\x94\\x8c\\x05rdkit\\x94\\x8c\\x07ETKDGv2\\x94e]\\x94(\\x8c\\x10ed6dd3148ef9b069\\x94\\x8c\\x108374da5ea9cc35c0\\x94\\x8c\\x103c523c7ca380f925\\x94\\x8c\\x0222\\x94\\x8c\\x05rdkit\\x94\\x8c\\x07ETKDGv3\\x94e]\\x94(\\x8c\\x10ed6dd3148ef9b069\\x94\\x8c\\x108374da5ea9cc35c0\\x94\\x8c\\x103c523c7ca380f925\\x94\\x8c\\x0222\\x94\\x8c\\x05rdkit\\x94\\x8c\\tsrETKDGv3\\x94e]\\x94(\\x8c\\x10ed6dd3148ef9b069\\x94\\x8c\\x108374da5ea9cc35c0\\x94\\x8c\\x103c523c7ca380f925\\x94\\x8c\\x0222\\x94\\x8c\\x05rdkit\\x94\\x8c\\x04ETDG\\x94e]\\x94(\\x8c\\x10ed6dd3148ef9b069\\x94\\x8c\\x108374da5ea9cc35c0\\x94\\x8c\\x103c523c7ca380f925\\x94\\x8c\\x0222\\x94\\x8c\\x05rdkit\\x94\\x8c\\x03KDG\\x94e]\\x94(\\x8c\\x10ed6dd3148ef9b069\\x94\\x8c\\x108374da5ea9cc35c0\\x94\\x8c\\x103c523c7ca380f925\\x94\\x8c\\x0222\\x94\\x8c\\x05rdkit\\x94\\x8c\\x0bdef-ETKDGv1\\x94e]\\x94(\\x8c\\x10ed6dd3148ef9b069\\x94\\x8c\\x108374da5ea9cc35c0\\x94\\x8c\\x103c523c7ca380f925\\x94\\x8c\\x0222\\x94\\x8c\\x05rdkit\\x94\\x8c\\x0bdef-ETKDGv2\\x94e]\\x94(\\x8c\\x10ed6dd3148ef9b069\\x94\\x8c\\x108374da5ea9cc35c0\\x94\\x8c\\x103c523c7ca380f925\\x94\\x8c\\x0222\\x94\\x8c\\x05rdkit\\x94\\x8c\\x0bdef-ETKDGv3\\x94e]\\x94(\\x8c\\x10ed6dd3148ef9b069\\x94\\x8c\\x108374da5ea9cc35c0\\x94\\x8c\\x103c523c7ca380f925\\x94\\x8c\\x0222\\x94\\x8c\\x05rdkit\\x94\\x8c\\rdef-srETKDGv3\\x94e]\\x94(\\x8c\\x10ed6dd3148ef9b069\\x94\\x8c\\x108374da5ea9cc35c0\\x94\\x8c\\x103c523c7ca380f925\\x94\\x8c\\x0222\\x94\\x8c\\x05rdkit\\x94\\x8c\\x08def-ETDG\\x94e]\\x94(\\x8c\\x10ed6dd3148ef9b069\\x94\\x8c\\x108374da5ea9cc35c0\\x94\\x8c\\x103c523c7ca380f925\\x94\\x8c\\x0222\\x94\\x8c\\x05rdkit\\x94\\x8c\\x07def-KDG\\x94e]\\x94(\\x8c\\x10ed6dd3148ef9b069\\x94\\x8c\\x108374da5ea9cc35c0\\x94\\x8c\\x103c523c7ca380f925\\x94\\x8c\\x0222\\x94\\x8c\\x05rdkit\\x94\\x8c\\x0chighsampling\\x94e]\\x94(\\x8c\\x10ed6dd3148ef9b069\\x94\\x8c\\x108374da5ea9cc35c0\\x94\\x8c\\x103c523c7ca380f925\\x94\\x8c\\x0222\\x94\\x8c\\x05rdkit\\x94\\x8c\\rlotsdifferent\\x94e]\\x94(\\x8c\\x10ed6dd3148ef9b069\\x94\\x8c\\x10568b39635b10fbba\\x94\\x8c\\x10a08d58e2ed091fdb\\x94\\x8c\\x0222\\x94h\\xe3h\\xe3e]\\x94(\\x8c\\x10ed6dd3148ef9b069\\x94\\x8c\\x10568b39635b10fbba\\x94\\x8c\\x109eb48310b74aa061\\x94\\x8c\\x0222\\x94h\\xe3h\\xe3e]\\x94(\\x8c\\x10ed6dd3148ef9b069\\x94\\x8c\\x10568b39635b10fbba\\x94\\x8c\\x109eb48310b74aa061\\x94\\x8c\\x0222\\x94\\x8c\\x05omega\\x94\\x8c\\x05basic\\x94e]\\x94(\\x8c\\x10ed6dd3148ef9b069\\x94\\x8c\\x10568b39635b10fbba\\x94\\x8c\\x103471e7934b649843\\x94\\x8c\\x0222\\x94h\\xe3h\\xe3e]\\x94(\\x8c\\x10ed6dd3148ef9b069\\x94\\x8c\\x10568b39635b10fbba\\x94\\x8c\\x103471e7934b649843\\x94\\x8c\\x0222\\x94\\x8c\\x05omega\\x94\\x8c\\x05basic\\x94e]\\x94(\\x8c\\x10ed6dd3148ef9b069\\x94\\x8c\\x10a08d58e2ed091fdb\\x94\\x8c\\x103471e7934b649843\\x94\\x8c\\x0222\\x94h\\xe3h\\xe3e]\\x94(\\x8c\\x10ed6dd3148ef9b069\\x94\\x8c\\x108374da5ea9cc35c0\\x94\\x8c\\x1010236f52ef18b2a3\\x94\\x8c\\x0222\\x94h\\xe3h\\xe3e]\\x94(\\x8c\\x10ed6dd3148ef9b069\\x94\\x8c\\x109eb48310b74aa061\\x94\\x8c\\x10282f14929802f7ac\\x94\\x8c\\x0222\\x94h\\xe3h\\xe3e]\\x94(\\x8c\\x10ed6dd3148ef9b069\\x94\\x8c\\x10568b39635b10fbba\\x94\\x8c\\x10b69b248f98fa9ba0\\x94\\x8c\\x0222\\x94h\\xe3h\\xe3e]\\x94(\\x8c\\x10ed6dd3148ef9b069\\x94\\x8c\\x10568b39635b10fbba\\x94\\x8c\\x10b69b248f98fa9ba0\\x94\\x8c\\x0222\\x94h\\xe3h\\xe3e]\\x94(\\x8c\\x10ed6dd3148ef9b069\\x94\\x8c\\x10568b39635b10fbba\\x94\\x8c\\x10c41b70cc89a57167\\x94\\x8c\\x0222\\x94h\\xe3h\\xe3ee\\x8c\\x11convergence_check\\x94]\\x94\\x8c\\x10ed6dd3148ef9b069\\x94a\\x8c\\x06stride\\x94K\\n\\x8c\\x0ccluster_conf\\x94}\\x94(\\x8c\\x10242ee4d4af3634ed\\x94K\\x0f\\x8c\\x108374da5ea9cc35c0\\x94K\\n\\x8c\\x103c523c7ca380f925\\x94K\\n\\x8c\\x10ca1a37290d9e454e\\x94K\\x08\\x8c\\x109a100624325ec4cd\\x94K\\x06\\x8c\\x103d00b0964201e088\\x94K\\n\\x8c\\x10ed6dd3148ef9b069\\x94K\\x08u\\x8c\\x04ns_h\\x94G@)\\x00\\x00\\x00\\x00\\x00\\x00\\x8c\\x08exp_name\\x94\\x8c\\rrefactor-test\\x94\\x8c\\tdata_name\\x94\\x8c\\x1722-02-2021_MacroConf-v2\\x94\\x8c\\x0bsample_file\\x94\\x8c\\x0bsamples.tsv\\x94\\x8c\\rsample_output\\x94\\x8c\\x0fsamples_old.tsv\\x94\\x8c\\nforcefield\\x94\\x8c1libs/forcefields/leaprc.protein.ff14SB_noterminal\\x94\\x8c\\x0bDMSO_params\\x94\\x8c!libs/md_solvents/dmso/frcmod.dmso\\x94\\x8c\\x08DMSO_box\\x94\\x8c!libs/md_solvents/dmso/dmsobox.off\\x94\\x8c\\x11Chloroform_params\\x94\\x8c\\x0cfrcmod.chcl3\\x94\\x8c\\x16clustering_min_samples\\x94}\\x94(\\x8c\\x0222\\x94K\\n\\x8c\\x011\\x94K\"u\\x8c\\x0eaMD_clustering\\x94}\\x94(\\x8c\\x0256\\x94K\\x0c\\x8c\\x0255\\x94K\\n\\x8c\\x0222\\x94K\\x07u\\x8c\\x0ecMD_clustering\\x94}\\x94(\\x8c\\x0222\\x94K\\n\\x8c\\x0224\\x94K\\x07\\x8c\\x0255\\x94K\\x0f\\x8c\\x0256\\x94K\\x0bu\\x8c\\x0fGaMD_clustering\\x94}\\x94(\\x8c\\x0222\\x94K\\x0c\\x8c\\x0224\\x94K\\n\\x8c\\x0256\\x94K u\\x8c\\nmd_methods\\x94]\\x94(\\x8c\\x03cMD\\x94\\x8c\\x04GaMD\\x94\\x8c\\x03aMD\\x94e\\x8c\\x0bcMD_repeats\\x94K\\x01\\x8c\\x08cMD_time\\x94Kd\\x8c\\x0baMD_repeats\\x94K\\x01\\x8c\\x08aMD_time\\x94Kd\\x8c\\x0cGaMD_repeats\\x94K\\x01\\x8c\\tGaMD_time\\x94Kd\\x8c\\x08md_times\\x94N\\x8c\\x04em_1\\x94X\\xc7\\x01\\x00\\x00Minimize water\\n System minimization.\\n&cntrl\\n   imin=1, ntmin=1, !(Invoke Minimization)\\n   ntx=1, irest=0, !(read init. coords, no restart)\\n   maxcyc=20000, ncyc=15000, !(max. cycles switch to conj. grad.)\\n   drms=0.1, !(convergence criterion)\\n   ntpr=100, ntwr=100, iwrap=0, !(outputs)\\n   ntf=1, !(force eval all)\\n   cut=8.0, !(non-bonded cutoff)\\n   ntr=1, !(cartesian restraints)\\n   restraintmask=\"!:WAT\", restraint_wt=10.0, !(restrain all but water)\\n /\\n\\x94\\x8c\\x04em_2\\x94X\\xb3\\x01\\x00\\x00Relax water\\n LET WATER MOVE\\n&cntrl\\n  imin=0,\\n  ntx=1, irest=0,\\n  ntpr=500, ntwx=500, ntwv=0, ntwe=0,\\n  ntwr=5000, !(outputs)\\n  t=0.0, dt=0.002, !(timestep)\\n  nstlim=10000, iwrap=1, !(steps, wrap to box)\\n  ntt=1, !(temp. control)\\n  temp0=300.0, tempi=200.0, tautp=0.5,\\n  ntp=1, pres0=1.0 !(pressure control)\\n  ntc=2, ntf=2, !(SHAKE)\\n  ntr=1, !(cart. restraints)\\n  restraintmask=\"!:WAT\" , restraint_wt=10.0, !(restrain all but water)\\n /\\n\\x94u\\x8c\\x04rule\\x94\\x8c\\x12analyse_conv_check\\x94\\x8c\\x0fbench_iteration\\x94N\\x8c\\tscriptdir\\x94\\x8c5/biggin/b147/univ4859/research/03_macroconf/notebooks\\x94ub.'); from snakemake.logging import logger; logger.printshellcmds = False; import os; os.chdir(r'/biggin/b147/univ4859/research/03_macroconf');\n",
    "######## snakemake preamble end #########\n"
   ]
  },
  {
   "cell_type": "markdown",
   "id": "6583380a",
   "metadata": {},
   "outputs": [],
   "source": [
    "# Comparison Analysis"
   ]
  },
  {
   "cell_type": "code",
   "execution_count": 2,
   "id": "nutritional-picnic",
   "metadata": {
    "execution": {
     "iopub.execute_input": "2021-09-29T16:09:18.716997Z",
     "iopub.status.busy": "2021-09-29T16:09:18.716470Z",
     "iopub.status.idle": "2021-09-29T16:09:19.772284Z",
     "shell.execute_reply": "2021-09-29T16:09:19.771484Z"
    }
   },
   "outputs": [],
   "source": [
    "import matplotlib\n",
    "%matplotlib inline\n",
    "#matplotlib.use(\"Agg\")\n",
    "\n",
    "import mdtraj as md\n",
    "import numpy as np\n",
    "import matplotlib.pyplot as plt\n",
    "import scipy.cluster.hierarchy\n",
    "from scipy.spatial.distance import squareform\n",
    "import pandas as pd\n",
    "sys.path.append(os.getcwd())\n",
    "import src\n",
    "from src.noe import compute_NOE_mdtraj, plot_NOE\n",
    "from src.utils import json_load, dotdict\n",
    "\n",
    "import src.pyreweight\n",
    "from sklearn.manifold import TSNE\n",
    "from sklearn.cluster import DBSCAN\n",
    "from sklearn.neighbors import NearestNeighbors\n",
    "from sklearn.decomposition import PCA"
   ]
  },
  {
   "cell_type": "code",
   "execution_count": 3,
   "id": "0d824169",
   "metadata": {
    "execution": {
     "iopub.execute_input": "2021-09-29T16:09:19.776922Z",
     "iopub.status.busy": "2021-09-29T16:09:19.775995Z",
     "iopub.status.idle": "2021-09-29T16:09:19.777896Z",
     "shell.execute_reply": "2021-09-29T16:09:19.778644Z"
    }
   },
   "outputs": [],
   "source": [
    "# read in stride from config file\n",
    "stride = int(snakemake.config['stride'])\n",
    "stride = 1"
   ]
  },
  {
   "cell_type": "code",
   "execution_count": 4,
   "id": "f10b6624",
   "metadata": {
    "execution": {
     "iopub.execute_input": "2021-09-29T16:09:19.783054Z",
     "iopub.status.busy": "2021-09-29T16:09:19.782321Z",
     "iopub.status.idle": "2021-09-29T16:09:19.783357Z",
     "shell.execute_reply": "2021-09-29T16:09:19.783581Z"
    }
   },
   "outputs": [],
   "source": [
    "# snakemake.input.dihedrals"
   ]
  },
  {
   "cell_type": "code",
   "execution_count": 5,
   "id": "be81239d",
   "metadata": {
    "execution": {
     "iopub.execute_input": "2021-09-29T16:09:19.786222Z",
     "iopub.status.busy": "2021-09-29T16:09:19.785928Z",
     "iopub.status.idle": "2021-09-29T16:09:19.787495Z",
     "shell.execute_reply": "2021-09-29T16:09:19.787255Z"
    }
   },
   "outputs": [],
   "source": [
    "# snakemake.input.weights"
   ]
  },
  {
   "cell_type": "code",
   "execution_count": 6,
   "id": "af628794",
   "metadata": {
    "execution": {
     "iopub.execute_input": "2021-09-29T16:09:19.791017Z",
     "iopub.status.busy": "2021-09-29T16:09:19.790715Z",
     "iopub.status.idle": "2021-09-29T16:09:19.908522Z",
     "shell.execute_reply": "2021-09-29T16:09:19.908237Z"
    }
   },
   "outputs": [],
   "source": [
    "# load reference\n",
    "ref_dihedrals = src.utils.pickle_load(snakemake.input.ref_dih[0])\n",
    "ref_pca = src.utils.pickle_load(snakemake.input.ref_pca[0])\n",
    "ref_pca_weights = src.utils.pickle_load(snakemake.input.ref_pca_weights[0])\n",
    "ref_trafo_dihedrals = ref_pca.transform(ref_dihedrals)"
   ]
  },
  {
   "cell_type": "code",
   "execution_count": 7,
   "id": "961a6fa2",
   "metadata": {
    "execution": {
     "iopub.execute_input": "2021-09-29T16:09:19.913080Z",
     "iopub.status.busy": "2021-09-29T16:09:19.912601Z",
     "iopub.status.idle": "2021-09-29T16:10:27.866269Z",
     "shell.execute_reply": "2021-09-29T16:10:27.865392Z"
    }
   },
   "outputs": [],
   "source": [
    "trafo_dihedrals = {}\n",
    "dihedrals = {}\n",
    "for i, dihe in enumerate(snakemake.input.dihedrals):\n",
    "    dihedrals[i] = src.utils.pickle_load(dihe)\n",
    "    trafo_dihedrals[i] = ref_pca.transform(dihedrals[i])\n",
    "    # plt.scatter(trafo_dihedrals[i][:,0], trafo_dihedrals[i][:,1], marker='.', s=0.5, alpha=0.1)\n",
    "# plt.legend()\n",
    "weight_data = {}\n",
    "weights = {}\n",
    "for i, wei in enumerate(snakemake.input.weights):\n",
    "    # Reweighting:\n",
    "    weight_data[i] = np.loadtxt(wei)\n",
    "    weight_data[i] = weight_data[i][::stride]\n",
    "    weights[i] = src.reweight(trafo_dihedrals[i], wei, 'amdweight_MC', weight_data[i])\n",
    "\n",
    "# starting_strcts = {}\n",
    "# for i, start_struct in enumerate(snakemake.input.starting_struct):\n",
    "#     start_t = md.formats.AmberNetCDFRestartFile(start_struct, mode='r').read_as_traj(topology=snakemake.input.top[0]), #md.load_netcdf(start_struct, top=snakemake.input.top[0], frame=0)\n",
    "#     start_dihedrals = src.dihedrals.getReducedDihedrals(start_t)\n",
    "#     start_dihe_pca = ref_pca.transform(start_dihedrals)\n",
    "#     starting_strcts[i] = start_dihe_pca\n",
    "    \n",
    "#plt.show"
   ]
  },
  {
   "cell_type": "code",
   "execution_count": 8,
   "id": "9833768c",
   "metadata": {
    "execution": {
     "iopub.execute_input": "2021-09-29T16:10:27.872850Z",
     "iopub.status.busy": "2021-09-29T16:10:27.871991Z",
     "iopub.status.idle": "2021-09-29T16:10:27.876952Z",
     "shell.execute_reply": "2021-09-29T16:10:27.876200Z"
    }
   },
   "outputs": [
    {
     "data": {
      "text/plain": [
       "[217800,\n",
       " 430400,\n",
       " 371600,\n",
       " 70500,\n",
       " 59600,\n",
       " 48800,\n",
       " 192300,\n",
       " 780200,\n",
       " 318400,\n",
       " 595700,\n",
       " 253300,\n",
       " 896900,\n",
       " 404400,\n",
       " 806400,\n",
       " 41700,\n",
       " 388000,\n",
       " 440900]"
      ]
     },
     "execution_count": 8,
     "metadata": {},
     "output_type": "execute_result"
    }
   ],
   "source": [
    "# retrieve cluster id's (starting points in ref. simulation) from input file names\n",
    "ids = [int(id.removesuffix('_dihedrals.dat').split('/')[-1]) for id in snakemake.input.dihedrals]\n",
    "ids"
   ]
  },
  {
   "cell_type": "code",
   "execution_count": 9,
   "id": "e2ac2db8",
   "metadata": {
    "execution": {
     "iopub.execute_input": "2021-09-29T16:10:27.880094Z",
     "iopub.status.busy": "2021-09-29T16:10:27.879776Z",
     "iopub.status.idle": "2021-09-29T16:10:27.881372Z",
     "shell.execute_reply": "2021-09-29T16:10:27.881107Z"
    }
   },
   "outputs": [],
   "source": [
    "start_structs = [ref_trafo_dihedrals[id] for id in ids]"
   ]
  },
  {
   "cell_type": "code",
   "execution_count": 10,
   "id": "d85c7bd1",
   "metadata": {
    "execution": {
     "iopub.execute_input": "2021-09-29T16:10:27.884010Z",
     "iopub.status.busy": "2021-09-29T16:10:27.883690Z",
     "iopub.status.idle": "2021-09-29T16:10:27.885246Z",
     "shell.execute_reply": "2021-09-29T16:10:27.884980Z"
    }
   },
   "outputs": [],
   "source": [
    "min_ = 0\n",
    "max_ = 8\n",
    "# i=5\n",
    "# plt.scatter(trafo_dihedrals[i][:,0], trafo_dihedrals[i][:,1], c=weights[i], marker='.', s=0.5, alpha=0.1, vmin=min_, vmax=max_)\n",
    "# plt.show()"
   ]
  },
  {
   "cell_type": "code",
   "execution_count": 11,
   "id": "0a0fb42b",
   "metadata": {
    "execution": {
     "iopub.execute_input": "2021-09-29T16:10:27.957520Z",
     "iopub.status.busy": "2021-09-29T16:10:27.899831Z",
     "iopub.status.idle": "2021-09-29T16:16:27.481770Z",
     "shell.execute_reply": "2021-09-29T16:16:27.482561Z"
    }
   },
   "outputs": [
    {
     "data": {
      "image/png": "[encoded data removed]",
      "text/plain": [
       "<Figure size 576x576 with 21 Axes>"
      ]
     },
     "metadata": {
      "needs_background": "light"
     },
     "output_type": "display_data"
    }
   ],
   "source": [
    "figs_per_row = 4\n",
    "import math\n",
    "columns = math.ceil((len(trafo_dihedrals) + 1) / figs_per_row)\n",
    "fig,axs = plt.subplots(columns, figs_per_row, sharex='all', sharey='all')\n",
    "fig.set_size_inches(8,8)\n",
    "scat = {}\n",
    "scat[0] = axs.flatten()[0].scatter(ref_trafo_dihedrals[:,0], ref_trafo_dihedrals[:,1], c=ref_pca_weights, marker='.', cmap='Spectral_r', s=0.5, vmin=min_, vmax=max_) # rasterized=True\n",
    "axs.flatten()[0].set_title(\"Reference\")\n",
    "for i in range(len(trafo_dihedrals)):\n",
    "    scat[i+1] = axs.flatten()[i+1].scatter(trafo_dihedrals[i][:,0], trafo_dihedrals[i][:,1], c=weights[i], marker='.', cmap='Spectral_r', s=0.5, vmin=min_, vmax=max_) # , rasterized=True\n",
    "    axs.flatten()[i+1].plot(start_structs[i][0],start_structs[i][1], marker='x', color='black')\n",
    "    \n",
    "colorbar = fig.colorbar(scat[0], ax=axs, label=\"kcal/mol\", location='left', anchor=(1.5,0))\n",
    "fig.savefig(snakemake.output.dih_pca_comparison, bbox_inches='tight', dpi=300)\n",
    "#snakemake.output.dih_pca_comparison.removesuffix('.png') + '.svg'"
   ]
  },
  {
   "cell_type": "code",
   "execution_count": 12,
   "id": "4f8e48ab",
   "metadata": {
    "execution": {
     "iopub.execute_input": "2021-09-29T16:16:27.487261Z",
     "iopub.status.busy": "2021-09-29T16:16:27.486320Z",
     "iopub.status.idle": "2021-09-29T16:16:27.488254Z",
     "shell.execute_reply": "2021-09-29T16:16:27.488997Z"
    }
   },
   "outputs": [],
   "source": [
    "# blue is post equilibrium starting point\n",
    "# red is pre equilibrium starting point..."
   ]
  },
  {
   "cell_type": "raw",
   "id": "9441fc10",
   "metadata": {},
   "outputs": [],
   "source": []
  },
  {
   "cell_type": "raw",
   "id": "db1bab8e",
   "metadata": {},
   "outputs": [],
   "source": [
    "compound_index = int(snakemake.wildcards.compound_dir)\n",
    "print(f\"Analysing Compound {compound_index}\")"
   ]
  },
  {
   "cell_type": "raw",
   "id": "56cb070f",
   "metadata": {},
   "outputs": [],
   "source": [
    "compound = json_load(snakemake.input.parm)\n",
    "multi = compound.multi\n",
    "multi"
   ]
  },
  {
   "cell_type": "raw",
   "id": "c441ba29",
   "metadata": {},
   "outputs": [],
   "source": [
    "if multi is not None:\n",
    "    multi = {v: k for k, v in multi.items()}\n",
    "    multiple = True\n",
    "    print('Multiple compounds detected')\n",
    "else:\n",
    "    multiple = False\n",
    "    print('Single compound only (no exp. cis/trans data known)')"
   ]
  },
  {
   "cell_type": "raw",
   "id": "74128658",
   "metadata": {},
   "outputs": [],
   "source": [
    "# Load Trajectories"
   ]
  },
  {
   "cell_type": "raw",
   "id": "31fe5130",
   "metadata": {},
   "outputs": [],
   "source": [
    "snakemake.input"
   ]
  },
  {
   "cell_type": "raw",
   "id": "e96c1604",
   "metadata": {},
   "outputs": [],
   "source": [
    "#trajs = {}\n",
    "methods = {}\n",
    "repeats = {}\n",
    "simtime = {}\n",
    "solvent = {}\n",
    "boosting = {}\n",
    "for i in range(3):\n",
    "    #protein = md.load_frame(snakemake.input[f\"traj_{i}\"], 0, top=snakemake.input[f\"top_{i}\"])\n",
    "    #protein = protein.topology.select('protein')\n",
    "    # Load topology\n",
    "    #trajs[i] = md.load(snakemake.input[f\"traj_{i}\"], top=snakemake.input[f\"top_{i}\"], atom_indices=protein, stride=stride)\n",
    "    # save methods\n",
    "    methods[i] = snakemake.params[f\"sample_{i}\"]['method']\n",
    "    simtime[i] = snakemake.params[f\"sample_{i}\"]['simtime']\n",
    "    repeats[i] = snakemake.params[f\"sample_{i}\"]['repeats']\n",
    "    solvent[i] = snakemake.params[f\"sample_{i}\"]['solvent']\n",
    "    if snakemake.params[f\"sample_{i}\"]['igamd'] != \"nan\":\n",
    "        boost = snakemake.params[f\"sample_{i}\"]['igamd']\n",
    "        if boost == str(3):\n",
    "            boosting[i] = \"boost: dual\"\n",
    "        elif boost == str(2):\n",
    "            boosting[i] = \"boost: dihe\"\n",
    "        elif boost == str(1):\n",
    "            boosting[i] = \"boost: totE\"\n",
    "    else:\n",
    "        boosting[i] = \"\"\n",
    "    \n",
    "    # Remove solvent\n",
    "    #trajs[i] = trajs[i].restrict_atoms(trajs[i].topology.select('protein'))\n",
    "    #if snakemake.params[f\"sample_{i}\"]['method'] == \"GaMD\":\n",
    "        #trajs[i] = trajs[i][int(26000/stride):]\n",
    "        #print(\"GAMD\")\n",
    "    # Superpose\n",
    "    #trajs[i].superpose(trajs[i], 0)\n",
    "    #snakemake.input[f\"out_{i}\"]"
   ]
  },
  {
   "cell_type": "raw",
   "id": "5c711a44",
   "metadata": {},
   "outputs": [],
   "source": [
    "#trajs"
   ]
  },
  {
   "cell_type": "raw",
   "id": "0d925233",
   "metadata": {},
   "outputs": [],
   "source": [
    "snakemake.input['out_0']"
   ]
  },
  {
   "cell_type": "raw",
   "id": "f72001b5",
   "metadata": {},
   "outputs": [],
   "source": [
    "if snakemake.wildcards.confgen != \"0\":\n",
    "    chem_info_t = md.load(snakemake.input.cheminfoconfs)\n",
    "    print(chem_info_t)"
   ]
  },
  {
   "cell_type": "raw",
   "id": "0732796c",
   "metadata": {},
   "outputs": [],
   "source": [
    "if multiple:\n",
    "    cis = []\n",
    "    trans = []\n",
    "    for i in range(3):\n",
    "#         ca_c = trajs[i].top.select(f\"resid 0 and name CA C\")\n",
    "#         n_ca_next = trajs[i].top.select(f\"resid 1 and name N CA\")\n",
    "\n",
    "#         omega = np.append(ca_c, n_ca_next)\n",
    "#         t_omega_rad = md.compute_dihedrals(trajs[i], [omega])\n",
    "#         t_omega_deg = np.abs(np.degrees(t_omega_rad))\n",
    "#         plt.plot(t_omega_deg)\n",
    "#         plt.hlines(90, 0, 50000, color='red')\n",
    "        cis_temp, trans_temp = src.utils.pickle_load(snakemake.input[f\"multiple_{i}\"])\n",
    "        cis.append(cis_temp)\n",
    "        trans.append(trans_temp)\n",
    "        #t_a[trans]"
   ]
  },
  {
   "cell_type": "raw",
   "id": "e1512859",
   "metadata": {},
   "outputs": [],
   "source": [
    "dihe_all = {}\n",
    "for i in range(3):\n",
    "    dihe_all[i] = src.utils.pickle_load(snakemake.input[f\"red_dihe_{i}\"])\n"
   ]
  },
  {
   "cell_type": "raw",
   "id": "1f172ab6",
   "metadata": {},
   "outputs": [],
   "source": [
    "if snakemake.wildcards.confgen != \"0\":\n",
    "    dihe_conf = src.dihedrals.getReducedDihedrals(chem_info_t)"
   ]
  },
  {
   "cell_type": "raw",
   "id": "2cb34648",
   "metadata": {},
   "outputs": [],
   "source": [
    "dihe_all[0].shape"
   ]
  },
  {
   "cell_type": "raw",
   "id": "137c0388",
   "metadata": {},
   "outputs": [],
   "source": [
    "dihe = {}\n",
    "pca = src.utils.pickle_load(snakemake.input.dPCA_0)#PCA(n_components=2)\n",
    "dihe[0] = pca.transform(dihe_all[0])\n",
    "dihe[0].shape\n",
    "# Now apply the same transformation to second and third\n",
    "dihe[1] = pca.transform(dihe_all[1])\n",
    "dihe[2] = pca.transform(dihe_all[2])"
   ]
  },
  {
   "cell_type": "raw",
   "id": "4a84c980",
   "metadata": {},
   "outputs": [],
   "source": [
    "if snakemake.wildcards.confgen != \"0\":\n",
    "    dihe_red_conf = pca.transform(dihe_conf)"
   ]
  },
  {
   "cell_type": "raw",
   "id": "760ddb90",
   "metadata": {},
   "outputs": [],
   "source": [
    "for i in range(3):\n",
    "    plt.scatter(dihe[i][:,0], dihe[i][:,1], marker='.', s=0.5, alpha=0.1, label=methods[i])\n",
    "plt.legend()\n",
    "if snakemake.wildcards.confgen != \"0\":\n",
    "    plt.scatter(dihe_red_conf[:,0], dihe_red_conf[:,1], marker='.')\n",
    "plt.show()"
   ]
  },
  {
   "cell_type": "raw",
   "id": "b3fcb99c",
   "metadata": {},
   "outputs": [],
   "source": [
    "# How much of the variance is explained by the 2 components?"
   ]
  },
  {
   "cell_type": "raw",
   "id": "0ab58414",
   "metadata": {},
   "outputs": [],
   "source": [
    "print(f\"The two components explain {sum(pca.explained_variance_ratio_):.2%} of the variance\")"
   ]
  },
  {
   "cell_type": "raw",
   "id": "40a08489",
   "metadata": {},
   "outputs": [],
   "source": [
    "#snakemake.input[f\"weights_{1}\"]"
   ]
  },
  {
   "cell_type": "raw",
   "id": "58e97513",
   "metadata": {},
   "outputs": [],
   "source": [
    "# Reweighting:\n",
    "weights = {}\n",
    "weight_data = {}\n",
    "for i in range(3):\n",
    "    # The following would read pre-computed weights. But does not work here b/c computed for wrong PCA space!\n",
    "    #weights[i] = src.utils.pickle_load(snakemake.input[f\"dPCA_weights_MC_{i}\"])\n",
    "    if methods[i] != 'cMD':\n",
    "        weight_data[i] = np.loadtxt(snakemake.input[f\"weights_{i}\"])\n",
    "        weight_data[i] = weight_data[i][::stride]\n",
    "        weights[i] = src.reweight(dihe[i], snakemake.input[f\"weights_{i}\"], 'amdweight_MC', weight_data[i])\n",
    "    else:\n",
    "        weights[i] = src.reweight(dihe[i], None, 'noweight')"
   ]
  },
  {
   "cell_type": "raw",
   "id": "b166a01d",
   "metadata": {},
   "outputs": [],
   "source": [
    "weights[2].max()"
   ]
  },
  {
   "cell_type": "raw",
   "id": "72ce0f17",
   "metadata": {},
   "outputs": [],
   "source": [
    "weights[2].min()"
   ]
  },
  {
   "cell_type": "raw",
   "id": "d7c53011",
   "metadata": {},
   "outputs": [],
   "source": [
    "zs = np.concatenate([weights[0], weights[1], weights[2]], axis=0)\n",
    "min_, max_ = zs.min(), zs.max()\n",
    "min_ = 0\n",
    "max_ = 8"
   ]
  },
  {
   "cell_type": "raw",
   "id": "99584560",
   "metadata": {},
   "outputs": [],
   "source": [
    "# Plot re-weighted PCA plots\n",
    "fig, axs = plt.subplots(1,4, sharex='all', sharey='all')\n",
    "fig.set_size_inches(16,4)\n",
    "scat = {}\n",
    "for i in range(3):\n",
    "    scat[i] = axs[i].scatter(dihe[i][:,0], dihe[i][:,1], c=weights[i], marker='.', cmap='Spectral_r', s=0.5, vmin=min_, vmax=max_)\n",
    "    axs[i].set_title(f\"{methods[i]}: {simtime[i]} ns (r# {repeats[i]}).\\n {solvent[i]}, {boosting[i]}\")\n",
    "    axs[3].scatter(dihe[i][:,0], dihe[i][:,1], marker='.', s=0.5, alpha=0.1, label=f\"#{i}\")\n",
    "\n",
    "if snakemake.wildcards.confgen != \"0\":\n",
    "    plt.scatter(dihe_red_conf[:,0], dihe_red_conf[:,1], marker='.', color='red', label=f\"{snakemake.wildcards.confgen}-{snakemake.wildcards.mode}\")\n",
    "    \n",
    "lgnd = axs[3].legend(bbox_to_anchor=(1.05,1), loc='upper left')\n",
    "for handle in lgnd.legendHandles:\n",
    "    handle.set_sizes([30.0])\n",
    "    handle.set_alpha(1)\n",
    "\n",
    "\n",
    "\n",
    "axs[3].set_title('Overlay')\n",
    "\n",
    "colorbar = fig.colorbar(scat[0], ax=axs, label=\"kcal/mol\", location='left', anchor=(1.5,0))\n",
    "#fig.tight_layout()\n",
    "fig.savefig(snakemake.output.pca_dihe, bbox_inches='tight')"
   ]
  },
  {
   "cell_type": "raw",
   "id": "cec103a1",
   "metadata": {},
   "outputs": [],
   "source": [
    "# Load cluster data\n",
    "clusters = []\n",
    "for i in range(3):\n",
    "    print(snakemake.input[f'clusters_{i}'])\n",
    "    try:\n",
    "        clust_struct = md.load(snakemake.input[f'clusters_{i}'])\n",
    "    except:\n",
    "        clust_struct = None\n",
    "    clusters.append(clust_struct)"
   ]
  },
  {
   "cell_type": "raw",
   "id": "78003938",
   "metadata": {},
   "outputs": [],
   "source": [
    "# Transform clusters in pca\n",
    "clusters_dih = []\n",
    "[clusters_dih.append(src.dihedrals.getReducedDihedrals(clus)) for clus in clusters]\n",
    "cluster_pca = []\n",
    "[cluster_pca.append(pca.transform(clus)) for clus in clusters_dih]"
   ]
  },
  {
   "cell_type": "raw",
   "id": "45b0c1a2",
   "metadata": {},
   "outputs": [],
   "source": [
    "# Plot Clusters\n",
    "fig, ax = plt.subplots()\n",
    "\n",
    "for i in range(3):\n",
    "    ax.scatter(dihe[i][:,0], dihe[i][:,1], marker='.', s=0.5, alpha=0.1, c='grey')\n",
    "\n",
    "# Plot clusters\n",
    "for clus, method in zip(cluster_pca, list(methods.values())):\n",
    "    ax.scatter(clus[:,0], clus[:,1], marker='^', label=method)\n",
    "    for i, txt in enumerate(np.arange(len(clus[:,0]))):\n",
    "        ax.annotate(txt, (clus[i,0], clus[i,1], ))\n",
    "ax.legend()\n",
    "ax.set_title(\"Different clusters on dPCA plot\")\n",
    "fig.savefig(snakemake.output.cluster_pca)"
   ]
  },
  {
   "cell_type": "raw",
   "id": "793a8518",
   "metadata": {},
   "outputs": [],
   "source": [
    "print(\"Backbone RMSD between clusters. Array indices correspond to the cluster number in plot above.\")\n",
    "from itertools import combinations_with_replacement\n",
    "cluster_pairs = list(combinations_with_replacement(clusters, 2))\n",
    "method_pairs = list(combinations_with_replacement(list(methods.values()), 2))\n",
    "for v, w in zip(cluster_pairs, method_pairs):\n",
    "    i, j = v\n",
    "    i_n, j_n = w\n",
    "    print(f\"RMSD between {i_n} - {j_n}\")\n",
    "    rmsd = np.zeros((i.n_frames, j.n_frames))\n",
    "    for a in range(i.n_frames):\n",
    "        for b in range(j.n_frames):\n",
    "            rmsd[a,b] = md.rmsd(i[a], j[b], atom_indices = i.top.select('backbone')) * 10\n",
    "    print(rmsd)"
   ]
  },
  {
   "cell_type": "raw",
   "id": "030a54f4",
   "metadata": {},
   "outputs": [],
   "source": []
  },
  {
   "cell_type": "raw",
   "id": "7b5bb986",
   "metadata": {},
   "outputs": [],
   "source": [
    "NOE = src.noe.read_NOE(snakemake.input.noe)"
   ]
  },
  {
   "cell_type": "raw",
   "id": "5fd25a4e",
   "metadata": {},
   "outputs": [],
   "source": [
    "# NOE_dist = {}\n",
    "# NOE_store = {}\n",
    "# NOE_dist_cis={}\n",
    "# NOE_dist_trans={}\n",
    "# NOE_store_cis = {}\n",
    "# NOE_store_trans = {}\n",
    "# for i in range(3):\n",
    "#     NOE_output = {}\n",
    "#     if methods[i] != \"cMD\":\n",
    "#         if multiple:\n",
    "#             fig, axs = plt.subplots(2,1)\n",
    "#             fig.set_size_inches(10,6)\n",
    "#             NOE_trans, NOE_cis = NOE\n",
    "#             NOE_cis_dict = NOE_cis.to_dict(orient='index')\n",
    "#             NOE_trans_dict = NOE_trans.to_dict(orient='index')\n",
    "#             if len(cis[i]) > 0:\n",
    "#                 NOE_cis['md'],NOE_cis['lower'],NOE_cis['upper'],NOE_dist_cis[i], pmf_plot_cis = compute_NOE_mdtraj(NOE_cis_dict, trajs[i][cis[i]], snakemake.input[f\"weights_{i}\"], 1, weight_data=weight_data[i][cis[i]])\n",
    "#                 NOE_output[f\"{multi['cis']}\"] = NOE_cis.to_dict(orient='index')\n",
    "#                 # Deal with ambigous NOEs\n",
    "#                 NOE_cis = NOE_cis.explode(['md', 'lower', 'upper'])\n",
    "#                 # and ambigous/multiple values\n",
    "#                 NOE_cis = NOE_cis.explode('NMR exp')\n",
    "#                 fig, axs[1] = plot_NOE(NOE_cis, fig, axs[1])\n",
    "#                 axs[1].set_title(f\"Compound {multi['cis']} (cis)\")\n",
    "#                 NOE_store_cis[i] = NOE_cis\n",
    "#             else:\n",
    "#                 print(\"Cis skipped because no frames are cis.\")\n",
    "#             if len(trans[i]) > 0:\n",
    "#                 NOE_trans['md'],NOE_trans['lower'],NOE_trans['upper'],NOE_dist_trans[i], pmf_plot_trans = compute_NOE_mdtraj(NOE_trans_dict, trajs[i][trans[i]], snakemake.input[f\"weights_{i}\"], 1, weight_data=weight_data[i][trans[i]])\n",
    "#                 NOE_output[f\"{multi['trans']}\"] = NOE_trans.to_dict(orient='index')\n",
    "#                 # Deal with ambigous NOEs\n",
    "#                 NOE_trans = NOE_trans.explode(['md', 'lower', 'upper'])\n",
    "#                 # and ambigous/multiple values\n",
    "#                 NOE_trans = NOE_trans.explode('NMR exp')\n",
    "#                 fig, axs[0] = plot_NOE(NOE_trans, fig, axs[0])\n",
    "#                 axs[0].set_title(f\"Compound {multi['trans']} (trans)\")\n",
    "#                 NOE_store_trans[i] = NOE_trans\n",
    "#             else:\n",
    "#                 print(\"Trans skipped because no frames are cis\")\n",
    "#             #NOE_output = {f\"{multi[cis]}\": NOE_cis, f\"{multi[trans]}\": NOE_trans}\n",
    "#             #src.utils.json_dump(snakemake.output.noe_result, NOE_output)\n",
    "#         else:\n",
    "#             NOE = src.noe.read_NOE(snakemake.input.noe)\n",
    "#             NOE_dict = NOE.to_dict(orient='index')\n",
    "#             NOE['md'], NOE['lower'], NOE['upper'], NOE_dist[i], pmf_plot = src.noe.compute_NOE_mdtraj(NOE_dict, trajs[i], snakemake.input[f\"weights_{i}\"], 1, weight_data=weight_data[i])\n",
    "#             plt.close()\n",
    "#             # Save NOE dict\n",
    "#             NOE_output = {f\"{compound_index}\": NOE.to_dict(orient='index')}\n",
    "#             # save as .json file\n",
    "#             #src.utils.json_dump(snakemake.output.noe_result, NOE_output)\n",
    "#             # Deal with ambigous NOEs\n",
    "#             #NOE = NOE.explode('md')\n",
    "#             NOE = NOE.explode(['md', 'lower', 'upper'])\n",
    "#             # and ambigous/multiple values\n",
    "#             NOE = NOE.explode('NMR exp')\n",
    "#             fig, ax = plot_NOE(NOE)\n",
    "#             ax.set_title(f\"Compound {compound_index}. NOE\")\n",
    "#             fig.tight_layout()\n",
    "#             #fig.savefig(snakemake.output.noe_plot)\n",
    "#             NOE_store[i] = NOE\n",
    "#     else:\n",
    "#         print(\"cMD - no reweighted NOEs performed.\")\n",
    "#         if multiple:\n",
    "#             fig, axs = plt.subplots(2,1)\n",
    "#             fig.set_size_inches(10,6)\n",
    "#             NOE_trans, NOE_cis = NOE\n",
    "#             NOE_cis_dict = NOE_cis.to_dict(orient='index')\n",
    "#             NOE_trans_dict = NOE_trans.to_dict(orient='index')\n",
    "#             if len(cis[i]) > 0:\n",
    "#                 NOE_cis['md'],_,_2,NOE_dist_cis, pmf_plot_cis = compute_NOE_mdtraj(NOE_cis_dict, t[cis[i]], snakemake.input.weights, 1, cis[i])\n",
    "#                 NOE_output[f\"{multi['cis']}\"] = NOE_cis.to_dict(orient='index')\n",
    "#                 # Deal with ambigous NOEs\n",
    "#                 NOE_cis = NOE_cis.explode('md')\n",
    "#                 # and ambigous/multiple values\n",
    "#                 NOE_cis = NOE_cis.explode('NMR exp')\n",
    "#                 fig, axs[1] = plot_NOE(NOE_cis, fig, axs[1])\n",
    "#                 axs[1].set_title(f\"Compound {multi['cis']} (cis)\")\n",
    "#             else:\n",
    "#                 print(\"Cis skipped because no frames are cis.\")\n",
    "#             if len(trans[i]) > 0:\n",
    "#                 NOE_trans['md'],_,_2,NOE_dist_trans, pmf_plot_trans = compute_NOE_mdtraj(NOE_trans_dict, t[trans[i]], snakemake.input.weights, 1, trans[i])\n",
    "#                 NOE_output[f\"{multi['trans']}\"] = NOE_trans.to_dict(orient='index')\n",
    "#                 # Deal with ambigous NOEs\n",
    "#                 NOE_trans = NOE_trans.explode('md')\n",
    "#                 # and ambigous/multiple values\n",
    "#                 NOE_trans = NOE_trans.explode('NMR exp')\n",
    "#                 fig, axs[0] = plot_NOE(NOE_trans, fig, axs[0])\n",
    "#                 axs[0].set_title(f\"Compound {multi['trans']} (trans)\")\n",
    "#             else:\n",
    "#                 print(\"Trans skipped because no frames are cis\")\n",
    "#             #NOE_output = {f\"{multi[cis]}\": NOE_cis, f\"{multi[trans]}\": NOE_trans}\n",
    "#             src.utils.json_dump(snakemake.output.noe_result, NOE_output)\n",
    "#         else:\n",
    "#             NOE = src.noe.read_NOE(snakemake.input.noe)\n",
    "#             NOE_dict = NOE.to_dict(orient='index')\n",
    "#             NOE['md'], NOE['lower'], NOE['upper'], NOE_dist[i], pmf_plot = src.noe.compute_NOE_mdtraj(NOE_dict, trajs[i])\n",
    "#             plt.close()\n",
    "#             # Save NOE dict\n",
    "#             NOE_output = {f\"{compound_index}\": NOE.to_dict(orient='index')}\n",
    "#             # save as .json file\n",
    "#             #src.utils.json_dump(snakemake.output.noe_result, NOE_output)\n",
    "#             # Deal with ambigous NOEs\n",
    "#             #NOE = NOE.explode('md')\n",
    "#             NOE = NOE.explode(['md', 'lower', 'upper'])\n",
    "#             # and ambigous/multiple values\n",
    "#             NOE = NOE.explode('NMR exp')\n",
    "#             fig, ax = plot_NOE(NOE)\n",
    "#             ax.set_title(f\"Compound {compound_index}. NOE\")\n",
    "#             fig.tight_layout()\n",
    "#             #fig.savefig(snakemake.output.noe_plot)\n",
    "#             NOE_store[i] = NOE\n",
    "#     print(f\"Done {i}\")"
   ]
  },
  {
   "cell_type": "raw",
   "id": "2e5865d8",
   "metadata": {},
   "outputs": [],
   "source": [
    "if not multiple:\n",
    "    NOE = src.noe.read_NOE(snakemake.input.noe)\n",
    "    NOE = NOE.explode('NMR exp')\n",
    "    NOE_dist = {}\n",
    "    NOE_store = {}\n",
    "    NOE_dist_cis={}\n",
    "    NOE_dist_trans={}\n",
    "    NOE_store_cis = {}\n",
    "    NOE_store_trans = {}\n",
    "    for i in range(3):\n",
    "        NOE_output = {}\n",
    "        if methods[i] != \"cMD\":\n",
    "            if multiple:\n",
    "                if len(cis[i]) > 0:\n",
    "                    NOE_dist_cis[i] = src.utils.pickle_load(snakemake.input[f\"NOE_dist_{0}\"])[cis]\n",
    "                    #NOE_store_cis[i] = NOE_cis\n",
    "                else:\n",
    "                    print(\"Cis skipped because no frames are cis.\")\n",
    "                if len(trans[i]) > 0:\n",
    "                    NOE_dist_trans[i] = src.utils.pickle_load(snakemake.input[f\"NOE_dist_{0}\"])[trans]\n",
    "                    #NOE_store_trans[i] = NOE_trans\n",
    "                else:\n",
    "                    print(\"Trans skipped because no frames are cis\")\n",
    "            else:\n",
    "                NOE_dist[i] = src.utils.pickle_load(snakemake.input[f\"NOE_dist_{0}\"])\n",
    "    #     \n",
    "    #     print(f\"Done {i}\")"
   ]
  },
  {
   "cell_type": "raw",
   "id": "b3163460",
   "metadata": {},
   "outputs": [],
   "source": [
    "# # plot PCA, colored by NOE\n",
    "# NOE_select = 11"
   ]
  },
  {
   "cell_type": "raw",
   "id": "d036d0a3",
   "metadata": {},
   "outputs": [],
   "source": [
    "# plotting color deviation would be better maybe?\n",
    "# activate below for plotting pca, colored by NOE value"
   ]
  },
  {
   "cell_type": "raw",
   "id": "15a1235f",
   "metadata": {},
   "outputs": [],
   "source": [
    "# if not multiple:\n",
    "#     for NOE_select in range(len(NOE_dist[0])):\n",
    "#         if np.all(~np.isnan(NOE_dist[0][NOE_select][0])):\n",
    "#             zs = np.concatenate([NOE_dist[0][NOE_select][0], NOE_dist[1][NOE_select][0], NOE_dist[2][NOE_select][0]], axis=0)\n",
    "#         else:\n",
    "#             zs=np.array([0,0])\n",
    "#             min_, max_ = zs.min(), zs.max()\n",
    "#             continue\n",
    "#         # Plot re-weighted PCA plots\n",
    "#         for a in range(len(NOE_dist[1][NOE_select])):\n",
    "#             # here we select NOE_store[1], but 0, 2 could be used too (exp value is the same)\n",
    "#             NOE_exp = NOE[NOE.index == str(NOE_select)]['NMR exp'][0]\n",
    "#             #NOE_md = NOE_store[a][NOE_store[a].index == str(NOE_select)]['md'][a]\n",
    "#             fig, axs = plt.subplots(1,4, sharex='all', sharey='all')\n",
    "#             fig.set_size_inches(16,4)\n",
    "#             fig.suptitle(f\"Compound {compound_index}. NOE #{NOE_select} (amb # {a}). exp={NOE_exp}.\")\n",
    "\n",
    "#             for i in range(3):\n",
    "#                 scat = axs[i].scatter(dihe[i][:,0], dihe[i][:,1], c=NOE_dist[i][NOE_select][a], marker='.', s=0.5, vmin=0, vmax=8)\n",
    "#                 axs[i].set_title(f\"{methods[i]}: {simtime[i]} ns (r# {repeats[i]})\")\n",
    "#                 axs[3].scatter(dihe[i][:,0], dihe[i][:,1], marker='.', s=0.5, alpha=0.1, label=methods[i])\n",
    "\n",
    "#             lgnd = axs[3].legend()\n",
    "#             for handle in lgnd.legendHandles:\n",
    "#                 handle.set_sizes([30.0])\n",
    "#                 handle.set_alpha(1)\n",
    "\n",
    "#             axs[3].set_title('Overlay')\n",
    "\n",
    "#             colorbar = fig.colorbar(scat, ax=axs, label=\"NOE [A]\")"
   ]
  },
  {
   "cell_type": "raw",
   "id": "6d3f447d",
   "metadata": {
    "scrolled": false
   },
   "outputs": [],
   "source": [
    "# if not multiple:\n",
    "#     for NOE_select in range(len(NOE_dist[0])):\n",
    "#         if np.all(~np.isnan(NOE_dist[0][NOE_select][0])):\n",
    "#             zs = np.concatenate([NOE_dist[0][NOE_select][0], NOE_dist[1][NOE_select][0], NOE_dist[2][NOE_select][0]], axis=0)\n",
    "#         else:\n",
    "#             zs=np.array([0,0])\n",
    "#             min_, max_ = zs.min(), zs.max()\n",
    "#             continue\n",
    "#         # Plot re-weighted PCA plots\n",
    "#         for a in range(len(NOE_dist[1][NOE_select])):\n",
    "#             # here we select NOE_store[1], but 0, 2 could be used too (exp value is the same)\n",
    "#             NOE_exp = NOE_store[1][NOE_store[1].index == str(NOE_select)]['NMR exp'][a]\n",
    "#             #NOE_md = NOE_store[a][NOE_store[a].index == str(NOE_select)]['md'][a]\n",
    "#             fig, axs = plt.subplots(1,4, sharex='all', sharey='all')\n",
    "#             fig.set_size_inches(16,4)\n",
    "#             fig.suptitle(f\"Compound {compound_index}. NOE #{NOE_select} (amb # {a}). exp={NOE_exp}.\")\n",
    "\n",
    "#             for i in range(3):\n",
    "#                 scat = axs[i].scatter(dihe[i][:,0], dihe[i][:,1], c=NOE_dist[i][NOE_select][a], marker='.', s=0.5, vmin=0, vmax=8)\n",
    "#                 axs[i].set_title(f\"{methods[i]}: {simtime[i]} ns (r# {repeats[i]})\")\n",
    "#                 axs[3].scatter(dihe[i][:,0], dihe[i][:,1], marker='.', s=0.5, alpha=0.1, label=methods[i])\n",
    "\n",
    "#             lgnd = axs[3].legend()\n",
    "#             for handle in lgnd.legendHandles:\n",
    "#                 handle.set_sizes([30.0])\n",
    "#                 handle.set_alpha(1)\n",
    "\n",
    "#             axs[3].set_title('Overlay')\n",
    "\n",
    "#             colorbar = fig.colorbar(scat, ax=axs, label=\"NOE [A]\")"
   ]
  },
  {
   "cell_type": "raw",
   "id": "790eaf60",
   "metadata": {},
   "outputs": [],
   "source": [
    "# if not multiple:\n",
    "#     zs = np.concatenate([weights[0], weights[1], weights[2]], axis=0)\n",
    "#     min_, max_ = zs.min(), zs.max()"
   ]
  },
  {
   "cell_type": "raw",
   "id": "dff3488f",
   "metadata": {},
   "outputs": [],
   "source": [
    "# if not multiple:\n",
    "#     # Plot NOE-PCA plots\n",
    "#     for a in range(len(NOE_dist[1][NOE_select])):\n",
    "#         NOE_exp = NOE_store[a][NOE_store[a].index == str(NOE_select)]['NMR exp'][a]\n",
    "#         NOE_md = NOE_store[a][NOE_store[a].index == str(NOE_select)]['md'][a]\n",
    "#         fig, axs = plt.subplots(1,4, sharex='all', sharey='all')\n",
    "#         fig.set_size_inches(16,4)\n",
    "#         fig.suptitle(f\"Compound {compound_index}. NOE #{NOE_select}. ambiguous NOE# {a}. exp={NOE_exp}. md={NOE_md}\")\n",
    "\n",
    "#         for i in range(3):\n",
    "#             scat = axs[i].scatter(dihe[i][:,0], NOE_dist[i][NOE_select][a], c=weights[i], cmap='Spectral_r', marker='.', s=0.5, vmin=min_, vmax=max_)\n",
    "#             axs[i].set_title(f\"{methods[i]}: {simtime[i]} ns (r# {repeats[i]})\")\n",
    "#             axs[3].scatter(dihe[i][:,0], dihe[i][:,1], marker='.', s=0.5, alpha=0.1, label=methods[i])\n",
    "\n",
    "#         lgnd = axs[3].legend()\n",
    "#         for handle in lgnd.legendHandles:\n",
    "#             handle.set_sizes([30.0])\n",
    "#             handle.set_alpha(1)\n",
    "\n",
    "#         axs[3].set_title('Overlay')\n",
    "\n",
    "#         colorbar = fig.colorbar(scat, ax=axs, label=\"kcal/mol\")"
   ]
  },
  {
   "cell_type": "raw",
   "id": "e481dddf",
   "metadata": {},
   "outputs": [],
   "source": [
    "# THIS WAS THE END OF THE SCRIPT. BELOW IS OLD."
   ]
  },
  {
   "cell_type": "raw",
   "id": "c5ad7299",
   "metadata": {},
   "outputs": [],
   "source": [
    "# # 1d PMF reweighted NOEs\n",
    "# NOE_output = {}\n",
    "# if snakemake.params.method != \"cMD\":\n",
    "#     if multiple:\n",
    "#         fig, axs = plt.subplots(2,1)\n",
    "#         fig.set_size_inches(10,6)\n",
    "#         NOE_trans, NOE_cis = NOE\n",
    "#         NOE_cis_dict = NOE_cis.to_dict(orient='index')\n",
    "#         NOE_trans_dict = NOE_trans.to_dict(orient='index')\n",
    "#         if len(cis) > 0:\n",
    "#             NOE_cis['md'],_,_2,NOE_dist_cis, pmf_plot_cis = compute_NOE_mdtraj(NOE_cis_dict, t[cis], snakemake.input.weights, 1, cis)\n",
    "#             NOE_output[f\"{multi['cis']}\"] = NOE_cis.to_dict(orient='index')\n",
    "#             # Deal with ambigous NOEs\n",
    "#             NOE_cis = NOE_cis.explode('md')\n",
    "#             # and ambigous/multiple values\n",
    "#             NOE_cis = NOE_cis.explode('NMR exp')\n",
    "#             fig, axs[1] = plot_NOE(NOE_cis, fig, axs[1])\n",
    "#             axs[1].set_title(f\"Compound {multi['cis']} (cis)\")\n",
    "#         else:\n",
    "#             print(\"Cis skipped because no frames are cis.\")\n",
    "#         if len(trans) > 0:\n",
    "#             NOE_trans['md'],_,_2,NOE_dist_trans, pmf_plot_trans = compute_NOE_mdtraj(NOE_trans_dict, t[trans], snakemake.input.weights, 1, trans)\n",
    "#             NOE_output[f\"{multi['trans']}\"] = NOE_trans.to_dict(orient='index')\n",
    "#             # Deal with ambigous NOEs\n",
    "#             NOE_trans = NOE_trans.explode('md')\n",
    "#             # and ambigous/multiple values\n",
    "#             NOE_trans = NOE_trans.explode('NMR exp')\n",
    "#             fig, axs[0] = plot_NOE(NOE_trans, fig, axs[0])\n",
    "#             axs[0].set_title(f\"Compound {multi['trans']} (trans)\")\n",
    "#         else:\n",
    "#             print(\"Trans skipped because no frames are cis\")\n",
    "#         #NOE_output = {f\"{multi[cis]}\": NOE_cis, f\"{multi[trans]}\": NOE_trans}\n",
    "#         src.utils.json_dump(snakemake.output.noe_result, NOE_output)\n",
    "#     else:\n",
    "#         NOE = src.noe.read_NOE(NOE_path)\n",
    "#         NOE_dict = NOE.to_dict(orient='index')\n",
    "#         NOE['md'], NOE['lower'], NOE['upper'], _, pmf_plot = src.noe.compute_NOE_mdtraj(NOE_dict, t, snakemake.input.weights, 1)\n",
    "#         plt.close()\n",
    "#         # Save NOE dict\n",
    "#         NOE_output = {f\"{compound_index}\": NOE.to_dict(orient='index')}\n",
    "#         # save as .json file\n",
    "#         src.utils.json_dump(snakemake.output.noe_result, NOE_output)\n",
    "#         # Deal with ambigous NOEs\n",
    "#         #NOE = NOE.explode('md')\n",
    "#         NOE = NOE.explode(['md', 'lower', 'upper'])\n",
    "#         # and ambigous/multiple values\n",
    "#         NOE = NOE.explode('NMR exp')\n",
    "#         fig, ax = plot_NOE(NOE)\n",
    "#         ax.set_title(f\"Compound {compound_index}. NOE\")\n",
    "#         fig.tight_layout()\n",
    "#         fig.savefig(snakemake.output.noe_plot)\n",
    "# else:\n",
    "#     print(\"cMD - no reweighted NOEs performed.\")"
   ]
  },
  {
   "cell_type": "raw",
   "id": "ec6892d6",
   "metadata": {},
   "outputs": [],
   "source": [
    "# Load GaMD"
   ]
  },
  {
   "cell_type": "raw",
   "id": "ae71b329",
   "metadata": {},
   "outputs": [],
   "source": [
    "# trajectory reference:\n",
    "# t_x: production trajectory of method x\n",
    "# t_x_full: full trajectory of method x (equilibration & production)"
   ]
  },
  {
   "cell_type": "raw",
   "id": "cd199f6e",
   "metadata": {},
   "outputs": [],
   "source": [
    "# t_g = md.load(snakemake.input.ga_traj, top=snakemake.input.top)\n",
    "# print(t_g)\n",
    "# # Remove solvent from trajectory\n",
    "# t_g = t_g.restrict_atoms(t_g.topology.select('protein'))\n",
    "# t_g"
   ]
  },
  {
   "cell_type": "raw",
   "id": "9ef0b93b",
   "metadata": {},
   "outputs": [],
   "source": [
    "# t_g_full = t_g\n",
    "# t_g = t_g[-50000:]\n",
    "# t_g"
   ]
  },
  {
   "cell_type": "raw",
   "id": "5c4a77ed",
   "metadata": {},
   "outputs": [],
   "source": [
    "# if has_cis_trans:\n",
    "#     # split trajectory into 2 by defined feature\n",
    "    \n",
    "#     t_g_cis\n",
    "#     t_g_trans\n",
    "    "
   ]
  },
  {
   "cell_type": "raw",
   "id": "3c4c0aeb",
   "metadata": {},
   "outputs": [],
   "source": [
    "# Load aMD"
   ]
  },
  {
   "cell_type": "raw",
   "id": "14561558",
   "metadata": {},
   "outputs": [],
   "source": [
    "# t_a = md.load(snakemake.input.a_traj, top=snakemake.input.top)\n",
    "# print(t_a)\n",
    "# # Remove solvent from trajectory\n",
    "# t_a = t_a.restrict_atoms(t_a.topology.select('protein'))\n",
    "# t_a"
   ]
  },
  {
   "cell_type": "raw",
   "id": "683473c2",
   "metadata": {},
   "outputs": [],
   "source": [
    "# t_c = md.load(snakemake.input.c_traj, top=snakemake.input.top)\n",
    "# print(t_c)\n",
    "# # Remove solvent from trajectory\n",
    "# t_c = t_c.restrict_atoms(t_c.topology.select('protein'))\n",
    "# t_c"
   ]
  },
  {
   "cell_type": "raw",
   "id": "d4d44d9d",
   "metadata": {},
   "outputs": [],
   "source": [
    "# t_g.superpose(t_g, 0)\n",
    "# t_a.superpose(t_a, 0)\n",
    "# t_c.superpose(t_c, 0)"
   ]
  },
  {
   "cell_type": "raw",
   "id": "016cf665",
   "metadata": {},
   "outputs": [],
   "source": [
    "# if multiple:\n",
    "#     ca_c = t_g.top.select(f\"resid 0 and name CA C\")\n",
    "#     n_ca_next = t_g.top.select(f\"resid 1 and name N CA\")\n",
    "\n",
    "#     omega = np.append(ca_c, n_ca_next)\n",
    "#     t_omega_rad = md.compute_dihedrals(t_a, [omega])\n",
    "#     t_omega_deg = np.abs(np.degrees(t_omega_rad))\n",
    "#     plt.plot(t_omega_deg)\n",
    "#     plt.hlines(90, 0, 50000, color='red')"
   ]
  },
  {
   "cell_type": "raw",
   "id": "7e7631a5",
   "metadata": {},
   "outputs": [],
   "source": [
    "# if multiple:\n",
    "#     cis = np.where(t_omega_deg <= 90)[0]\n",
    "#     trans = np.where(t_omega_deg > 90)[0]\n",
    "\n",
    "#     t_a[trans]"
   ]
  },
  {
   "cell_type": "raw",
   "id": "5962d1d1",
   "metadata": {},
   "outputs": [],
   "source": [
    "# *_, omega = src.dihedrals.getDihedrals(t_c)\n",
    "# omega_deg = np.abs(np.degrees(omega))\n",
    "# plt.plot(omega_deg)\n",
    "# plt.show()"
   ]
  },
  {
   "cell_type": "raw",
   "id": "2da87eb6",
   "metadata": {},
   "outputs": [],
   "source": [
    "# Principle Component Analysis (PCA)"
   ]
  },
  {
   "cell_type": "raw",
   "id": "60cdea9f",
   "metadata": {},
   "outputs": [],
   "source": [
    "# dihedral variable reference:\n",
    "# x_dihe: (reduced) dihedral angles of method x (via PCA)\n",
    "# x_dihe_all: full dihedral angles of method x"
   ]
  },
  {
   "cell_type": "raw",
   "id": "c25edc02",
   "metadata": {},
   "outputs": [],
   "source": [
    "# g_dihe_all = src.dihedrals.getReducedDihedrals(t_g)\n",
    "# a_dihe_all = src.dihedrals.getReducedDihedrals(t_a)\n",
    "# c_dihe_all = src.dihedrals.getReducedDihedrals(t_c)"
   ]
  },
  {
   "cell_type": "raw",
   "id": "19e9a9ff",
   "metadata": {},
   "outputs": [],
   "source": [
    "# pca4 = PCA(n_components=2)\n",
    "# g_dihe = pca4.fit_transform(g_dihe_all)\n",
    "# g_dihe.shape"
   ]
  },
  {
   "cell_type": "raw",
   "id": "5865f13e",
   "metadata": {},
   "outputs": [],
   "source": [
    "# Now apply the same transformation to a_dihe, c_dihe"
   ]
  },
  {
   "cell_type": "raw",
   "id": "9e4c7921",
   "metadata": {},
   "outputs": [],
   "source": [
    "# a_dihe = pca4.transform(a_dihe_all)\n",
    "# c_dihe = pca4.transform(c_dihe_all)"
   ]
  },
  {
   "cell_type": "raw",
   "id": "ebd78e72",
   "metadata": {},
   "outputs": [],
   "source": [
    "# plt.scatter(g_dihe[:,0], g_dihe[:,1], marker='.', s=0.5, alpha=1)\n",
    "# plt.scatter(c_dihe[:,0], c_dihe[:,1], marker='.', s=0.5, alpha=0.02)\n",
    "# plt.scatter(a_dihe[:,0], a_dihe[:,1], marker='.', s=0.5, alpha=0.02)\n",
    "# plt.show()"
   ]
  },
  {
   "cell_type": "raw",
   "id": "32676b49",
   "metadata": {},
   "outputs": [],
   "source": [
    "# How much of the variance is explained by the 2 components?"
   ]
  },
  {
   "cell_type": "raw",
   "id": "8a096ab0",
   "metadata": {},
   "outputs": [],
   "source": [
    "# print(f\"The two components explain {sum(pca4.explained_variance_ratio_):.2%} of the variance\")"
   ]
  },
  {
   "cell_type": "raw",
   "id": "1993e37c",
   "metadata": {},
   "outputs": [],
   "source": [
    "# g_weights = src.reweight(g_dihe, snakemake.input.ga_weights, 'amdweight_MC')\n",
    "# a_weights = src.reweight(a_dihe, snakemake.input.a_weights, 'amdweight_MC')\n",
    "# c_weights = src.reweight(c_dihe, None, 'noweight')"
   ]
  },
  {
   "cell_type": "raw",
   "id": "e9d73b1f",
   "metadata": {},
   "outputs": [],
   "source": [
    "# # Plot re-weighted PCA plots\n",
    "# fig, axs = plt.subplots(1,4, sharex='all', sharey='all')\n",
    "# fig.set_size_inches(16,4)\n",
    "\n",
    "# # for ax in axs:\n",
    "# #     ax.set\n",
    "\n",
    "# axs[0].scatter(g_dihe[:,0], g_dihe[:,1], c=g_weights, marker='.', cmap='Spectral_r', s=0.5)\n",
    "# axs[0].set_title('GaMD')\n",
    "\n",
    "# axs[1].scatter(a_dihe[:,0], a_dihe[:,1], c=a_weights, marker='.', cmap='Spectral_r', s=0.5)\n",
    "# axs[1].set_title('aMD')\n",
    "\n",
    "# axs[2].scatter(c_dihe[:,0], c_dihe[:,1], c=c_weights, marker='.', cmap='Spectral_r', s=0.5)\n",
    "# axs[2].set_title('cMD')\n",
    "\n",
    "# axs[3].scatter(g_dihe[:,0], g_dihe[:,1], marker='.', s=0.5, alpha=1, label='GaMD')\n",
    "# axs[3].scatter(a_dihe[:,0], a_dihe[:,1], marker='.', s=0.5, alpha=0.1, label='aMD')\n",
    "# axs[3].scatter(c_dihe[:,0], c_dihe[:,1], marker='.', s=0.5, alpha=0.1, label='cMD')\n",
    "# lgnd = axs[3].legend()\n",
    "# for handle in lgnd.legendHandles:\n",
    "#     handle.set_sizes([30.0])\n",
    "#     handle.set_alpha(1)\n",
    "\n",
    "# axs[3].set_title('Overlay')\n",
    "    \n",
    "# fig.savefig(snakemake.output.pca_dihe)"
   ]
  },
  {
   "cell_type": "raw",
   "id": "9f106700",
   "metadata": {},
   "outputs": [],
   "source": [
    "# # Load cluster data\n",
    "# clus_g = md.load(snakemake.input.ga_clus)\n",
    "# clus_a = md.load(snakemake.input.a_clus)\n",
    "# clus_c = md.load(snakemake.input.c_clus)\n",
    "# clusters = [clus_g, clus_a, clus_c]"
   ]
  },
  {
   "cell_type": "raw",
   "id": "8f106144",
   "metadata": {},
   "outputs": [],
   "source": [
    "# # Transform clusters in pca\n",
    "# clusters_dih = []\n",
    "# [clusters_dih.append(src.dihedrals.getReducedDihedrals(clus)) for clus in clusters]\n",
    "# cluster_pca = []\n",
    "# [cluster_pca.append(pca4.transform(clus)) for clus in clusters_dih]"
   ]
  },
  {
   "cell_type": "raw",
   "id": "2bc713ca",
   "metadata": {},
   "outputs": [],
   "source": [
    "# # Plot Clusters\n",
    "# fig, ax = plt.subplots()\n",
    "\n",
    "# methods = [\"GaMD\", \"aMD\", \"cMD\"]\n",
    "# ax.scatter(g_dihe[:,0], g_dihe[:,1], marker='.', s=0.5, alpha=0.1, c='grey')\n",
    "# ax.scatter(a_dihe[:,0], a_dihe[:,1], marker='.', s=0.5, alpha=0.1, c='grey')\n",
    "# ax.scatter(c_dihe[:,0], c_dihe[:,1], marker='.', s=0.5, alpha=0.1, c='grey')\n",
    "\n",
    "\n",
    "# # Plot clusters\n",
    "# for clus, method in zip(cluster_pca, methods):\n",
    "#     ax.scatter(clus[:,0], clus[:,1], marker='^', label=method)\n",
    "#     for i, txt in enumerate(np.arange(len(clus[:,0]))):\n",
    "#         ax.annotate(txt, (clus[i,0], clus[i,1], ))\n",
    "# ax.legend()\n",
    "# ax.set_title(\"Different clusters on dPCA plot\")\n",
    "# fig.savefig(snakemake.output.cluster_pca)"
   ]
  },
  {
   "cell_type": "raw",
   "id": "a32e1baa",
   "metadata": {},
   "outputs": [],
   "source": [
    "# print(\"Backbone RMSD between clusters. Array indices correspond to the cluster number in plot above.\")\n",
    "# from itertools import combinations_with_replacement\n",
    "# cluster_pairs = list(combinations_with_replacement(clusters, 2))\n",
    "# method_pairs = list(combinations_with_replacement(methods, 2))\n",
    "# for v, w in zip(cluster_pairs, method_pairs):\n",
    "#     i, j = v\n",
    "#     i_n, j_n = w\n",
    "#     print(f\"RMSD between {i_n} - {j_n}\")\n",
    "#     rmsd = np.zeros((i.n_frames, j.n_frames))\n",
    "#     for a in range(i.n_frames):\n",
    "#         for b in range(j.n_frames):\n",
    "#             rmsd[a,b] = md.rmsd(i[a], j[b], atom_indices = i.top.select('backbone')) * 10\n",
    "#     print(rmsd)"
   ]
  },
  {
   "cell_type": "raw",
   "id": "a449e6cf",
   "metadata": {},
   "outputs": [],
   "source": []
  },
  {
   "cell_type": "raw",
   "id": "d52c6a68",
   "metadata": {},
   "outputs": [],
   "source": []
  }
 ],
 "metadata": {
  "kernelspec": {
   "display_name": "Python 3 (ipykernel)",
   "language": "python",
   "name": "python3"
  },
  "language_info": {
   "codemirror_mode": {
    "name": "ipython",
    "version": 3
   },
   "file_extension": ".py",
   "mimetype": "text/x-python",
   "name": "python",
   "nbconvert_exporter": "python",
   "pygments_lexer": "ipython3",
   "version": "3.9.7"
  }
 },
 "nbformat": 4,
 "nbformat_minor": 5
}
