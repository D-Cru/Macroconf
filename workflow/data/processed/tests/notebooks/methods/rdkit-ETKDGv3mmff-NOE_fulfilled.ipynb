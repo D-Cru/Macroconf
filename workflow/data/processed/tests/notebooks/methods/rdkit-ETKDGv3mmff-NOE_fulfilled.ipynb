{
 "cells": [
  {
   "cell_type": "code",
   "execution_count": 1,
   "id": "45264b00",
   "metadata": {
    "execution": {
     "iopub.execute_input": "2022-10-24T13:09:52.981042Z",
     "iopub.status.busy": "2022-10-24T13:09:52.980310Z",
     "iopub.status.idle": "2022-10-24T13:09:53.027548Z",
     "shell.execute_reply": "2022-10-24T13:09:53.026632Z"
    },
    "tags": [
     "snakemake-job-properties"
    ]
   },
   "outputs": [],
   "source": [
    "\n",
    "######## snakemake preamble start (automatically inserted, do not edit) ########\n",
    "import sys; sys.path.extend(['/biggin/b147/univ4859/miniconda3/envs/snakemake/lib/python3.9/site-packages', '/biggin/b147/univ4859/research/macroconf_sparse_test/03_macroconf/workflow/rules/../notebooks']); import pickle; snakemake = pickle.loads(b'\\x80\\x04\\x95\\xa5\\x0b\\x00\\x00\\x00\\x00\\x00\\x00\\x8c\\x10snakemake.script\\x94\\x8c\\tSnakemake\\x94\\x93\\x94)\\x81\\x94}\\x94(\\x8c\\x05input\\x94\\x8c\\x0csnakemake.io\\x94\\x8c\\nInputFiles\\x94\\x93\\x94)\\x81\\x94\\x8cMdata/processed/tests/results/24/conf_gen/rdkit/ETKDGv3mmff/NOE_fulfilled.json\\x94a}\\x94(\\x8c\\x06_names\\x94}\\x94\\x8c\\x0224\\x94K\\x00N\\x86\\x94s\\x8c\\x12_allowed_overrides\\x94]\\x94(\\x8c\\x05index\\x94\\x8c\\x04sort\\x94eh\\x12\\x8c\\tfunctools\\x94\\x8c\\x07partial\\x94\\x93\\x94h\\x06\\x8c\\x19Namedlist._used_attribute\\x94\\x93\\x94\\x85\\x94R\\x94(h\\x18)}\\x94\\x8c\\x05_name\\x94h\\x12sNt\\x94bh\\x13h\\x16h\\x18\\x85\\x94R\\x94(h\\x18)}\\x94h\\x1ch\\x13sNt\\x94bh\\x0eh\\nub\\x8c\\x06output\\x94h\\x06\\x8c\\x0bOutputFiles\\x94\\x93\\x94)\\x81\\x94\\x8cIdata/processed/tests/results/methods/rdkit-ETKDGv3mmff-NOE_fulfilled.json\\x94a}\\x94(h\\x0c}\\x94\\x8c\\x04data\\x94K\\x00N\\x86\\x94sh\\x10]\\x94(h\\x12h\\x13eh\\x12h\\x16h\\x18\\x85\\x94R\\x94(h\\x18)}\\x94h\\x1ch\\x12sNt\\x94bh\\x13h\\x16h\\x18\\x85\\x94R\\x94(h\\x18)}\\x94h\\x1ch\\x13sNt\\x94bh)h&ub\\x8c\\x06params\\x94h\\x06\\x8c\\x06Params\\x94\\x93\\x94)\\x81\\x94}\\x94(h\\x0c}\\x94h\\x10]\\x94(h\\x12h\\x13eh\\x12h\\x16h\\x18\\x85\\x94R\\x94(h\\x18)}\\x94h\\x1ch\\x12sNt\\x94bh\\x13h\\x16h\\x18\\x85\\x94R\\x94(h\\x18)}\\x94h\\x1ch\\x13sNt\\x94bub\\x8c\\twildcards\\x94h\\x06\\x8c\\tWildcards\\x94\\x93\\x94)\\x81\\x94(\\x8c\\x05tests\\x94\\x8c\\x05rdkit\\x94\\x8c\\x0bETKDGv3mmff\\x94e}\\x94(h\\x0c}\\x94(\\x8c\\x08exp_name\\x94K\\x00N\\x86\\x94\\x8c\\x07confgen\\x94K\\x01N\\x86\\x94\\x8c\\x04mode\\x94K\\x02N\\x86\\x94uh\\x10]\\x94(h\\x12h\\x13eh\\x12h\\x16h\\x18\\x85\\x94R\\x94(h\\x18)}\\x94h\\x1ch\\x12sNt\\x94bh\\x13h\\x16h\\x18\\x85\\x94R\\x94(h\\x18)}\\x94h\\x1ch\\x13sNt\\x94b\\x8c\\x08exp_name\\x94hG\\x8c\\x07confgen\\x94hH\\x8c\\x04mode\\x94hIub\\x8c\\x07threads\\x94K\\x02\\x8c\\tresources\\x94h\\x06\\x8c\\tResources\\x94\\x93\\x94)\\x81\\x94(K\\x02K\\x01\\x8c\\x04/tmp\\x94e}\\x94(h\\x0c}\\x94(\\x8c\\x06_cores\\x94K\\x00N\\x86\\x94\\x8c\\x06_nodes\\x94K\\x01N\\x86\\x94\\x8c\\x06tmpdir\\x94K\\x02N\\x86\\x94uh\\x10]\\x94(h\\x12h\\x13eh\\x12h\\x16h\\x18\\x85\\x94R\\x94(h\\x18)}\\x94h\\x1ch\\x12sNt\\x94bh\\x13h\\x16h\\x18\\x85\\x94R\\x94(h\\x18)}\\x94h\\x1ch\\x13sNt\\x94bhfK\\x02hhK\\x01hjhcub\\x8c\\x03log\\x94h\\x06\\x8c\\x03Log\\x94\\x93\\x94)\\x81\\x94\\x8cLdata/processed/tests/notebooks/methods/rdkit-ETKDGv3mmff-NOE_fulfilled.ipynb\\x94a}\\x94(h\\x0c}\\x94\\x8c\\x08notebook\\x94K\\x00N\\x86\\x94sh\\x10]\\x94(h\\x12h\\x13eh\\x12h\\x16h\\x18\\x85\\x94R\\x94(h\\x18)}\\x94h\\x1ch\\x12sNt\\x94bh\\x13h\\x16h\\x18\\x85\\x94R\\x94(h\\x18)}\\x94h\\x1ch\\x13sNt\\x94bh|hyub\\x8c\\x06config\\x94}\\x94(\\x8c\\x0bthreads_max\\x94K\\x0c\\x8c\\x16run_single_md_analysis\\x94\\x88\\x8c\\x11run_comp_analysis\\x94\\x88\\x8c\\x14run_heatmap_analysis\\x94\\x88\\x8c\\x0frun_method_comp\\x94\\x89\\x8c\\x0frun_eq_analysis\\x94\\x88\\x8c\\trun_omega\\x94\\x88\\x8c\\trun_rdkit\\x94\\x88\\x8c\\x19run_cheminfo_NOE_analysis\\x94\\x88\\x8c\\x12make_paper_figures\\x94\\x89\\x8c\\x13update_jupyter_book\\x94\\x89\\x8c\\x11convergence_check\\x94]\\x94\\x8c\\x107f5696daa1cbe87d\\x94a\\x8c\\x15run_convergence_check\\x94\\x89\\x8c\\x0fmethod_defaults\\x94}\\x94\\x8c\\x05igamd\\x94}\\x94(\\x8c\\x07methods\\x94]\\x94\\x8c\\x04GaMD\\x94a\\x8c\\x07default\\x94\\x8c\\x013\\x94\\x8c\\x06others\\x94\\x8c\\x03nan\\x94us\\x8c\\tshortened\\x94\\x89\\x8c\\x06stride\\x94K\\x01\\x8c\\x04ns_h\\x94G@\\x1e\\x00\\x00\\x00\\x00\\x00\\x00\\x8c\\thash_list\\x94]\\x94]\\x94(\\x8c\\x107f5696daa1cbe87d\\x94\\x8c\\x10a033db1075c6b36c\\x94\\x8c\\x10214b8ec88026de74\\x94\\x8c\\x0224\\x94\\x8c\\x0bomega_basic\\x94\\x8c\\x11rdkit_ETKDGv3mmff\\x94ea\\x8c\\x12confgen_parameters\\x94}\\x94(\\x8c\\x05omega\\x94]\\x94(\\x8c\\x05basic\\x94\\x8c\\nchloroform\\x94\\x8c\\nlowEwindow\\x94\\x8c\\x0bhighEwindow\\x94\\x8c\\x06lowrms\\x94\\x8c\\x07highrms\\x94\\x8c\\x0bhighmaxconf\\x94\\x8c\\thighmaxit\\x94\\x8c\\x0chighsampling\\x94\\x8c\\rlotsdifferent\\x94e\\x8c\\x05rdkit\\x94]\\x94(\\x8c\\x05basic\\x94\\x8c\\x04ETDG\\x94\\x8c\\x07ETKDGv1\\x94\\x8c\\x07ETKDGv2\\x94\\x8c\\x07ETKDGv3\\x94\\x8c\\tsrETKDGv3\\x94\\x8c\\x03KDG\\x94\\x8c\\x08def-ETDG\\x94\\x8c\\x0bdef-ETKDGv1\\x94\\x8c\\x0bdef-ETKDGv2\\x94\\x8c\\x0bdef-ETKDGv3\\x94\\x8c\\rdef-srETKDGv3\\x94\\x8c\\x07def-KDG\\x94\\x8c\\x0chighsampling\\x94\\x8c\\rlotsdifferent\\x94eu\\x8c\\x11heatmap_compounds\\x94]\\x94(K\\x16K\\x18e\\x8c\\x08exp_name\\x94\\x8c\\x05tests\\x94\\x8c\\tdata_name\\x94\\x8c\\x1722-02-2021_MacroConf-v2\\x94\\x8c\\x0cdataset_file\\x94\\x8c3data/external/22-09-2021_MacroConf-v2.1/dataset.csv\\x94\\x8c\\x0bsample_file\\x94\\x8c\\x11samples_tests.tsv\\x94\\x8c\\rsample_output\\x94\\x8c\\x0fsamples_old.tsv\\x94\\x8c\\nforcefield\\x94\\x8c1libs/forcefields/leaprc.protein.ff14SB_noterminal\\x94\\x8c\\x06jb-toc\\x94\\x8c\\x13reports/jb/_toc.yml\\x94\\x8c\\x08jb-links\\x94\\x8c\\x11reports/jb/links/\\x94\\x8c\\x0cDMSO_default\\x94\\x8c\\x0eDMSO_GAFF_RESP\\x94\\x8c\\rCDCl3_default\\x94\\x8c\\nChloroform\\x94\\x8c\\x0bDMSO_params\\x94\\x8c!libs/md_solvents/dmso/frcmod.dmso\\x94\\x8c\\x08DMSO_box\\x94\\x8c!libs/md_solvents/dmso/dmsobox.off\\x94\\x8c\\x11Chloroform_params\\x94\\x8c\\x0cfrcmod.chcl3\\x94\\x8c\\x13full_analysis_files\\x94]\\x94\\x8c\\x9b../../../data/processed/refactor-test/notebooks/methods/28159d44aa267024-native-586db4c575bef492-native_omega-basic-rdkit-ETKDGv3mmff-NOE_method_comp.ipynb\\x94au\\x8c\\x04rule\\x94\\x8c\\x14confgen_comp_methods\\x94\\x8c\\x0fbench_iteration\\x94N\\x8c\\tscriptdir\\x94\\x8c]/biggin/b147/univ4859/research/macroconf_sparse_test/03_macroconf/workflow/rules/../notebooks\\x94ub.'); from snakemake.logging import logger; logger.printshellcmds = False; import os; os.chdir(r'/biggin/b147/univ4859/research/macroconf_sparse_test/03_macroconf/workflow');\n",
    "######## snakemake preamble end #########\n"
   ]
  },
  {
   "cell_type": "code",
   "execution_count": 2,
   "id": "c57259de",
   "metadata": {
    "execution": {
     "iopub.execute_input": "2022-10-24T13:09:53.031784Z",
     "iopub.status.busy": "2022-10-24T13:09:53.031212Z",
     "iopub.status.idle": "2022-10-24T13:09:54.258028Z",
     "shell.execute_reply": "2022-10-24T13:09:54.257373Z"
    }
   },
   "outputs": [],
   "source": [
    "import src.utils\n",
    "import pandas as pd\n",
    "import numpy as np\n",
    "import matplotlib.pyplot as plt\n",
    "import seaborn as sns"
   ]
  },
  {
   "cell_type": "code",
   "execution_count": 3,
   "id": "0ba5eeea",
   "metadata": {
    "execution": {
     "iopub.execute_input": "2022-10-24T13:09:54.263175Z",
     "iopub.status.busy": "2022-10-24T13:09:54.262774Z",
     "iopub.status.idle": "2022-10-24T13:09:54.272741Z",
     "shell.execute_reply": "2022-10-24T13:09:54.272236Z"
    }
   },
   "outputs": [],
   "source": [
    "results = {}\n",
    "for metric in ['fulfil', 'rmsd', 'mae']:\n",
    "    percentage_fulfilled = {}\n",
    "    energy = {}\n",
    "    random = {}\n",
    "    bundle_sizes = {}\n",
    "    licuv = {}\n",
    "    namfis = {}\n",
    "    for i in snakemake.input:\n",
    "        stats = src.utils.json_load(i)\n",
    "        compound_id = i.split(\"/\")[4]\n",
    "        if ('cis' in stats) or ('trans' in stats):\n",
    "            if ('cis' in stats):\n",
    "                percentage_fulfilled[f\"{compound_id}_cis\"] = stats['cis'][metric]['best']\n",
    "                energy[f\"{compound_id}_cis\"] = stats['cis'][metric]['low_energy']\n",
    "                random[f\"{compound_id}_cis\"] = stats['cis'][metric]['random']\n",
    "                bundle_sizes[f\"{compound_id}_cis\"] = stats['cis']['bundle-size']\n",
    "                licuv[f\"{compound_id}_cis\"] = stats['cis'][metric]['LICUV']\n",
    "                namfis[f\"{compound_id}_cis\"] = stats['cis'][metric]['NAMFIS']\n",
    "            if ('trans' in stats):\n",
    "                percentage_fulfilled[f\"{compound_id}_trans\"] = stats['trans'][metric]['best']\n",
    "                energy[f\"{compound_id}_trans\"] = stats['trans'][metric]['low_energy']\n",
    "                random[f\"{compound_id}_trans\"] = stats['trans'][metric]['random']\n",
    "                bundle_sizes[f\"{compound_id}_trans\"] = stats['trans']['bundle-size']\n",
    "                licuv[f\"{compound_id}_trans\"] = stats['trans'][metric]['LICUV']\n",
    "                namfis[f\"{compound_id}_trans\"] = stats['trans'][metric]['NAMFIS']\n",
    "        else:\n",
    "            percentage_fulfilled[f\"{compound_id}\"] = stats['single'][metric]['best']\n",
    "            energy[f\"{compound_id}_single\"] = stats['single'][metric]['low_energy']\n",
    "            random[f\"{compound_id}_single\"] = stats['single'][metric]['random']\n",
    "            bundle_sizes[f\"{compound_id}_single\"] = stats['single']['bundle-size']\n",
    "            licuv[f\"{compound_id}_single\"] = stats['single'][metric]['LICUV']\n",
    "            namfis[f\"{compound_id}_single\"] = stats['single'][metric]['NAMFIS']\n",
    "    results[metric] = {\n",
    "    'best': percentage_fulfilled,\n",
    "    'low_energy': energy,\n",
    "    'random': random,\n",
    "    'bundle_size': bundle_sizes,\n",
    "    'licuv': licuv,\n",
    "    'namfis': namfis\n",
    "    }"
   ]
  },
  {
   "cell_type": "code",
   "execution_count": 4,
   "id": "7c2709a4",
   "metadata": {
    "execution": {
     "iopub.execute_input": "2022-10-24T13:09:54.275516Z",
     "iopub.status.busy": "2022-10-24T13:09:54.275229Z",
     "iopub.status.idle": "2022-10-24T13:09:54.277834Z",
     "shell.execute_reply": "2022-10-24T13:09:54.277367Z"
    }
   },
   "outputs": [],
   "source": [
    "# plt.scatter(percentage_fulfilled.values(), percentage_fulfilled.keys(), )\n",
    "#plt.title(f\"{snakemake.wildcards.method}: {snakemake.wildcards.simtime} ns\")\n",
    "#plt.savefig(snakemake.output.plot)"
   ]
  },
  {
   "cell_type": "code",
   "execution_count": 5,
   "id": "8827711e",
   "metadata": {
    "execution": {
     "iopub.execute_input": "2022-10-24T13:09:54.281060Z",
     "iopub.status.busy": "2022-10-24T13:09:54.280802Z",
     "iopub.status.idle": "2022-10-24T13:09:54.285313Z",
     "shell.execute_reply": "2022-10-24T13:09:54.284685Z"
    }
   },
   "outputs": [],
   "source": [
    "src.utils.json_dump(snakemake.output.data, results)"
   ]
  },
  {
   "cell_type": "code",
   "execution_count": 6,
   "id": "7eb9ca19",
   "metadata": {
    "execution": {
     "iopub.execute_input": "2022-10-24T13:09:54.288270Z",
     "iopub.status.busy": "2022-10-24T13:09:54.288014Z",
     "iopub.status.idle": "2022-10-24T13:09:54.299351Z",
     "shell.execute_reply": "2022-10-24T13:09:54.298819Z"
    }
   },
   "outputs": [
    {
     "data": {
      "text/plain": [
       "{'fulfil': {'best': {'24_cis': 0.6153846153846154,\n",
       "   '24_trans': 0.6739130434782609},\n",
       "  'low_energy': {'24_cis': [0.5384615384615384,\n",
       "    0.6410256410256411,\n",
       "    0.5641025641025641,\n",
       "    0.5641025641025641,\n",
       "    0.5641025641025641],\n",
       "   '24_trans': [0.6086956521739131,\n",
       "    0.5652173913043478,\n",
       "    0.6086956521739131,\n",
       "    0.6521739130434783,\n",
       "    0.6086956521739131]},\n",
       "  'random': {'24_cis': [0.5615384615384615,\n",
       "    0.5692307692307692,\n",
       "    0.5641025641025641,\n",
       "    0.5641025641025641,\n",
       "    0.5641025641025641],\n",
       "   '24_trans': [0.5630434782608695,\n",
       "    0.5934782608695651,\n",
       "    0.6065217391304348,\n",
       "    0.6239130434782608,\n",
       "    0.6347826086956522]},\n",
       "  'bundle_size': {'24_cis': [1, 3, 5, 10, 30], '24_trans': [1, 3, 5, 10, 30]},\n",
       "  'licuv': {'24_cis': [0.6153846153846154,\n",
       "    0.5897435897435898,\n",
       "    0.5641025641025641,\n",
       "    0.5641025641025641,\n",
       "    0.5641025641025641],\n",
       "   '24_trans': [0.6739130434782609,\n",
       "    0.6956521739130435,\n",
       "    0.6956521739130435,\n",
       "    0.717391304347826,\n",
       "    0.6956521739130435]},\n",
       "  'namfis': {'24_cis': [0.5652173913043478,\n",
       "    0.6086956521739131,\n",
       "    0.5652173913043478,\n",
       "    0.5652173913043478,\n",
       "    0.5652173913043478],\n",
       "   '24_trans': [0.5434782608695652,\n",
       "    0.5652173913043478,\n",
       "    0.5652173913043478,\n",
       "    0.5652173913043478,\n",
       "    0.5652173913043478]}},\n",
       " 'rmsd': {'best': {'24_cis': 1.958427507812223,\n",
       "   '24_trans': 1.3505379015240249},\n",
       "  'low_energy': {'24_cis': [2.106279355112305,\n",
       "    1.7887131355654815,\n",
       "    1.718093798648491,\n",
       "    1.718093798648491,\n",
       "    1.718093798648491],\n",
       "   '24_trans': [1.9973540429361973,\n",
       "    1.9513826893875448,\n",
       "    1.7926547978040537,\n",
       "    1.7388968545670205,\n",
       "    1.6118664871322206]},\n",
       "  'random': {'24_cis': [2.088663760539441,\n",
       "    1.8574209307191176,\n",
       "    1.718093798648491,\n",
       "    1.718093798648491,\n",
       "    1.718093798648491],\n",
       "   '24_trans': [2.0404737799862604,\n",
       "    1.8665600180880848,\n",
       "    1.6029595060446336,\n",
       "    1.5797467200128887,\n",
       "    1.4299437067016305]},\n",
       "  'bundle_size': {'24_cis': [1, 3, 5, 10, 30], '24_trans': [1, 3, 5, 10, 30]},\n",
       "  'licuv': {'24_cis': [1.958427507812223,\n",
       "    1.6617816744703107,\n",
       "    1.718093798648491,\n",
       "    1.718093798648491,\n",
       "    1.718093798648491],\n",
       "   '24_trans': [2.0043087693709736,\n",
       "    1.7637235561238354,\n",
       "    1.5730122143969973,\n",
       "    1.4221029797856075,\n",
       "    1.3675981714182321]},\n",
       "  'namfis': {'24_cis': [1.7903662970620569,\n",
       "    1.4598400595667864,\n",
       "    1.452707259856315,\n",
       "    1.452707259856315,\n",
       "    1.452707259856315],\n",
       "   '24_trans': [2.16723758726857,\n",
       "    2.021025927868989,\n",
       "    2.0292811586902966,\n",
       "    2.0292811569276914,\n",
       "    2.029281155641835]}},\n",
       " 'mae': {'best': {'24_cis': 1.335617775550255, '24_trans': 1.0033112459597378},\n",
       "  'low_energy': {'24_cis': [1.418661645253499,\n",
       "    1.2250988043793556,\n",
       "    1.1810487605475124,\n",
       "    1.1810487605475124,\n",
       "    1.1810487605475124],\n",
       "   '24_trans': [1.3560189365304032,\n",
       "    1.3575899271776384,\n",
       "    1.2023023481371697,\n",
       "    1.1769876363898681,\n",
       "    1.1024156982347286]},\n",
       "  'random': {'24_cis': [1.392613870327289,\n",
       "    1.2396970122297213,\n",
       "    1.1810487605475122,\n",
       "    1.1810487605475122,\n",
       "    1.1810487605475122],\n",
       "   '24_trans': [1.4341138172253316,\n",
       "    1.2894378364903811,\n",
       "    1.108163412651228,\n",
       "    1.0877905525146927,\n",
       "    1.0158696343678986]},\n",
       "  'bundle_size': {'24_cis': [1, 3, 5, 10, 30], '24_trans': [1, 3, 5, 10, 30]},\n",
       "  'licuv': {'24_cis': [1.355359397301307,\n",
       "    1.1546468314758478,\n",
       "    1.1810487605475124,\n",
       "    1.1810487605475124,\n",
       "    1.1810487605475124],\n",
       "   '24_trans': [1.289936317360919,\n",
       "    1.1244354483245633,\n",
       "    1.0252939971169126,\n",
       "    0.967203373378403,\n",
       "    0.9275060559800766]},\n",
       "  'namfis': {'24_cis': [1.3245560990209162,\n",
       "    1.03322390281608,\n",
       "    1.0247079676882378,\n",
       "    1.0247079676882378,\n",
       "    1.0247079676882378],\n",
       "   '24_trans': [1.5410861475571338,\n",
       "    1.423576975728771,\n",
       "    1.410725307222745,\n",
       "    1.4107253061469336,\n",
       "    1.410725305295676]}}}"
      ]
     },
     "execution_count": 6,
     "metadata": {},
     "output_type": "execute_result"
    }
   ],
   "source": [
    "results"
   ]
  },
  {
   "cell_type": "code",
   "execution_count": null,
   "id": "9f8a8d2c",
   "metadata": {},
   "outputs": [],
   "source": []
  }
 ],
 "metadata": {
  "interpreter": {
   "hash": "e885641f5d15292e734dfd87be8b96e25b1f2f75cfe4f2af2fabd4ab738eeb5e"
  },
  "kernelspec": {
   "display_name": "Python 3 (ipykernel)",
   "language": "python",
   "name": "python3"
  },
  "language_info": {
   "codemirror_mode": {
    "name": "ipython",
    "version": 3
   },
   "file_extension": ".py",
   "mimetype": "text/x-python",
   "name": "python",
   "nbconvert_exporter": "python",
   "pygments_lexer": "ipython3",
   "version": "3.7.12"
  }
 },
 "nbformat": 4,
 "nbformat_minor": 5
}
