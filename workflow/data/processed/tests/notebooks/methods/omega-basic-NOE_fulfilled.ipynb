{
 "cells": [
  {
   "cell_type": "code",
   "execution_count": 1,
   "id": "a9195902",
   "metadata": {
    "execution": {
     "iopub.execute_input": "2022-10-24T13:09:53.006437Z",
     "iopub.status.busy": "2022-10-24T13:09:53.005934Z",
     "iopub.status.idle": "2022-10-24T13:09:53.053851Z",
     "shell.execute_reply": "2022-10-24T13:09:53.053220Z"
    },
    "tags": [
     "snakemake-job-properties"
    ]
   },
   "outputs": [],
   "source": [
    "\n",
    "######## snakemake preamble start (automatically inserted, do not edit) ########\n",
    "import sys; sys.path.extend(['/biggin/b147/univ4859/miniconda3/envs/snakemake/lib/python3.9/site-packages', '/biggin/b147/univ4859/research/macroconf_sparse_test/03_macroconf/workflow/rules/../notebooks']); import pickle; snakemake = pickle.loads(b'\\x80\\x04\\x95\\x8d\\x0b\\x00\\x00\\x00\\x00\\x00\\x00\\x8c\\x10snakemake.script\\x94\\x8c\\tSnakemake\\x94\\x93\\x94)\\x81\\x94}\\x94(\\x8c\\x05input\\x94\\x8c\\x0csnakemake.io\\x94\\x8c\\nInputFiles\\x94\\x93\\x94)\\x81\\x94\\x8cGdata/processed/tests/results/24/conf_gen/omega/basic/NOE_fulfilled.json\\x94a}\\x94(\\x8c\\x06_names\\x94}\\x94\\x8c\\x0224\\x94K\\x00N\\x86\\x94s\\x8c\\x12_allowed_overrides\\x94]\\x94(\\x8c\\x05index\\x94\\x8c\\x04sort\\x94eh\\x12\\x8c\\tfunctools\\x94\\x8c\\x07partial\\x94\\x93\\x94h\\x06\\x8c\\x19Namedlist._used_attribute\\x94\\x93\\x94\\x85\\x94R\\x94(h\\x18)}\\x94\\x8c\\x05_name\\x94h\\x12sNt\\x94bh\\x13h\\x16h\\x18\\x85\\x94R\\x94(h\\x18)}\\x94h\\x1ch\\x13sNt\\x94bh\\x0eh\\nub\\x8c\\x06output\\x94h\\x06\\x8c\\x0bOutputFiles\\x94\\x93\\x94)\\x81\\x94\\x8cCdata/processed/tests/results/methods/omega-basic-NOE_fulfilled.json\\x94a}\\x94(h\\x0c}\\x94\\x8c\\x04data\\x94K\\x00N\\x86\\x94sh\\x10]\\x94(h\\x12h\\x13eh\\x12h\\x16h\\x18\\x85\\x94R\\x94(h\\x18)}\\x94h\\x1ch\\x12sNt\\x94bh\\x13h\\x16h\\x18\\x85\\x94R\\x94(h\\x18)}\\x94h\\x1ch\\x13sNt\\x94bh)h&ub\\x8c\\x06params\\x94h\\x06\\x8c\\x06Params\\x94\\x93\\x94)\\x81\\x94}\\x94(h\\x0c}\\x94h\\x10]\\x94(h\\x12h\\x13eh\\x12h\\x16h\\x18\\x85\\x94R\\x94(h\\x18)}\\x94h\\x1ch\\x12sNt\\x94bh\\x13h\\x16h\\x18\\x85\\x94R\\x94(h\\x18)}\\x94h\\x1ch\\x13sNt\\x94bub\\x8c\\twildcards\\x94h\\x06\\x8c\\tWildcards\\x94\\x93\\x94)\\x81\\x94(\\x8c\\x05tests\\x94\\x8c\\x05omega\\x94\\x8c\\x05basic\\x94e}\\x94(h\\x0c}\\x94(\\x8c\\x08exp_name\\x94K\\x00N\\x86\\x94\\x8c\\x07confgen\\x94K\\x01N\\x86\\x94\\x8c\\x04mode\\x94K\\x02N\\x86\\x94uh\\x10]\\x94(h\\x12h\\x13eh\\x12h\\x16h\\x18\\x85\\x94R\\x94(h\\x18)}\\x94h\\x1ch\\x12sNt\\x94bh\\x13h\\x16h\\x18\\x85\\x94R\\x94(h\\x18)}\\x94h\\x1ch\\x13sNt\\x94b\\x8c\\x08exp_name\\x94hG\\x8c\\x07confgen\\x94hH\\x8c\\x04mode\\x94hIub\\x8c\\x07threads\\x94K\\x02\\x8c\\tresources\\x94h\\x06\\x8c\\tResources\\x94\\x93\\x94)\\x81\\x94(K\\x02K\\x01\\x8c\\x04/tmp\\x94e}\\x94(h\\x0c}\\x94(\\x8c\\x06_cores\\x94K\\x00N\\x86\\x94\\x8c\\x06_nodes\\x94K\\x01N\\x86\\x94\\x8c\\x06tmpdir\\x94K\\x02N\\x86\\x94uh\\x10]\\x94(h\\x12h\\x13eh\\x12h\\x16h\\x18\\x85\\x94R\\x94(h\\x18)}\\x94h\\x1ch\\x12sNt\\x94bh\\x13h\\x16h\\x18\\x85\\x94R\\x94(h\\x18)}\\x94h\\x1ch\\x13sNt\\x94bhfK\\x02hhK\\x01hjhcub\\x8c\\x03log\\x94h\\x06\\x8c\\x03Log\\x94\\x93\\x94)\\x81\\x94\\x8cFdata/processed/tests/notebooks/methods/omega-basic-NOE_fulfilled.ipynb\\x94a}\\x94(h\\x0c}\\x94\\x8c\\x08notebook\\x94K\\x00N\\x86\\x94sh\\x10]\\x94(h\\x12h\\x13eh\\x12h\\x16h\\x18\\x85\\x94R\\x94(h\\x18)}\\x94h\\x1ch\\x12sNt\\x94bh\\x13h\\x16h\\x18\\x85\\x94R\\x94(h\\x18)}\\x94h\\x1ch\\x13sNt\\x94bh|hyub\\x8c\\x06config\\x94}\\x94(\\x8c\\x0bthreads_max\\x94K\\x0c\\x8c\\x16run_single_md_analysis\\x94\\x88\\x8c\\x11run_comp_analysis\\x94\\x88\\x8c\\x14run_heatmap_analysis\\x94\\x88\\x8c\\x0frun_method_comp\\x94\\x89\\x8c\\x0frun_eq_analysis\\x94\\x88\\x8c\\trun_omega\\x94\\x88\\x8c\\trun_rdkit\\x94\\x88\\x8c\\x19run_cheminfo_NOE_analysis\\x94\\x88\\x8c\\x12make_paper_figures\\x94\\x89\\x8c\\x13update_jupyter_book\\x94\\x89\\x8c\\x11convergence_check\\x94]\\x94\\x8c\\x107f5696daa1cbe87d\\x94a\\x8c\\x15run_convergence_check\\x94\\x89\\x8c\\x0fmethod_defaults\\x94}\\x94\\x8c\\x05igamd\\x94}\\x94(\\x8c\\x07methods\\x94]\\x94\\x8c\\x04GaMD\\x94a\\x8c\\x07default\\x94\\x8c\\x013\\x94\\x8c\\x06others\\x94\\x8c\\x03nan\\x94us\\x8c\\tshortened\\x94\\x89\\x8c\\x06stride\\x94K\\x01\\x8c\\x04ns_h\\x94G@\\x1e\\x00\\x00\\x00\\x00\\x00\\x00\\x8c\\thash_list\\x94]\\x94]\\x94(\\x8c\\x107f5696daa1cbe87d\\x94\\x8c\\x10a033db1075c6b36c\\x94\\x8c\\x10214b8ec88026de74\\x94\\x8c\\x0224\\x94\\x8c\\x0bomega_basic\\x94\\x8c\\x11rdkit_ETKDGv3mmff\\x94ea\\x8c\\x12confgen_parameters\\x94}\\x94(\\x8c\\x05omega\\x94]\\x94(\\x8c\\x05basic\\x94\\x8c\\nchloroform\\x94\\x8c\\nlowEwindow\\x94\\x8c\\x0bhighEwindow\\x94\\x8c\\x06lowrms\\x94\\x8c\\x07highrms\\x94\\x8c\\x0bhighmaxconf\\x94\\x8c\\thighmaxit\\x94\\x8c\\x0chighsampling\\x94\\x8c\\rlotsdifferent\\x94e\\x8c\\x05rdkit\\x94]\\x94(\\x8c\\x05basic\\x94\\x8c\\x04ETDG\\x94\\x8c\\x07ETKDGv1\\x94\\x8c\\x07ETKDGv2\\x94\\x8c\\x07ETKDGv3\\x94\\x8c\\tsrETKDGv3\\x94\\x8c\\x03KDG\\x94\\x8c\\x08def-ETDG\\x94\\x8c\\x0bdef-ETKDGv1\\x94\\x8c\\x0bdef-ETKDGv2\\x94\\x8c\\x0bdef-ETKDGv3\\x94\\x8c\\rdef-srETKDGv3\\x94\\x8c\\x07def-KDG\\x94\\x8c\\x0chighsampling\\x94\\x8c\\rlotsdifferent\\x94eu\\x8c\\x11heatmap_compounds\\x94]\\x94(K\\x16K\\x18e\\x8c\\x08exp_name\\x94\\x8c\\x05tests\\x94\\x8c\\tdata_name\\x94\\x8c\\x1722-02-2021_MacroConf-v2\\x94\\x8c\\x0cdataset_file\\x94\\x8c3data/external/22-09-2021_MacroConf-v2.1/dataset.csv\\x94\\x8c\\x0bsample_file\\x94\\x8c\\x11samples_tests.tsv\\x94\\x8c\\rsample_output\\x94\\x8c\\x0fsamples_old.tsv\\x94\\x8c\\nforcefield\\x94\\x8c1libs/forcefields/leaprc.protein.ff14SB_noterminal\\x94\\x8c\\x06jb-toc\\x94\\x8c\\x13reports/jb/_toc.yml\\x94\\x8c\\x08jb-links\\x94\\x8c\\x11reports/jb/links/\\x94\\x8c\\x0cDMSO_default\\x94\\x8c\\x0eDMSO_GAFF_RESP\\x94\\x8c\\rCDCl3_default\\x94\\x8c\\nChloroform\\x94\\x8c\\x0bDMSO_params\\x94\\x8c!libs/md_solvents/dmso/frcmod.dmso\\x94\\x8c\\x08DMSO_box\\x94\\x8c!libs/md_solvents/dmso/dmsobox.off\\x94\\x8c\\x11Chloroform_params\\x94\\x8c\\x0cfrcmod.chcl3\\x94\\x8c\\x13full_analysis_files\\x94]\\x94\\x8c\\x9b../../../data/processed/refactor-test/notebooks/methods/28159d44aa267024-native-586db4c575bef492-native_omega-basic-rdkit-ETKDGv3mmff-NOE_method_comp.ipynb\\x94au\\x8c\\x04rule\\x94\\x8c\\x14confgen_comp_methods\\x94\\x8c\\x0fbench_iteration\\x94N\\x8c\\tscriptdir\\x94\\x8c]/biggin/b147/univ4859/research/macroconf_sparse_test/03_macroconf/workflow/rules/../notebooks\\x94ub.'); from snakemake.logging import logger; logger.printshellcmds = False; import os; os.chdir(r'/biggin/b147/univ4859/research/macroconf_sparse_test/03_macroconf/workflow');\n",
    "######## snakemake preamble end #########\n"
   ]
  },
  {
   "cell_type": "code",
   "execution_count": 2,
   "id": "c57259de",
   "metadata": {
    "execution": {
     "iopub.execute_input": "2022-10-24T13:09:53.058648Z",
     "iopub.status.busy": "2022-10-24T13:09:53.058288Z",
     "iopub.status.idle": "2022-10-24T13:09:54.257739Z",
     "shell.execute_reply": "2022-10-24T13:09:54.257135Z"
    }
   },
   "outputs": [],
   "source": [
    "import src.utils\n",
    "import pandas as pd\n",
    "import numpy as np\n",
    "import matplotlib.pyplot as plt\n",
    "import seaborn as sns"
   ]
  },
  {
   "cell_type": "code",
   "execution_count": 3,
   "id": "0ba5eeea",
   "metadata": {
    "execution": {
     "iopub.execute_input": "2022-10-24T13:09:54.262840Z",
     "iopub.status.busy": "2022-10-24T13:09:54.262475Z",
     "iopub.status.idle": "2022-10-24T13:09:54.271734Z",
     "shell.execute_reply": "2022-10-24T13:09:54.271199Z"
    }
   },
   "outputs": [],
   "source": [
    "results = {}\n",
    "for metric in ['fulfil', 'rmsd', 'mae']:\n",
    "    percentage_fulfilled = {}\n",
    "    energy = {}\n",
    "    random = {}\n",
    "    bundle_sizes = {}\n",
    "    licuv = {}\n",
    "    namfis = {}\n",
    "    for i in snakemake.input:\n",
    "        stats = src.utils.json_load(i)\n",
    "        compound_id = i.split(\"/\")[4]\n",
    "        if ('cis' in stats) or ('trans' in stats):\n",
    "            if ('cis' in stats):\n",
    "                percentage_fulfilled[f\"{compound_id}_cis\"] = stats['cis'][metric]['best']\n",
    "                energy[f\"{compound_id}_cis\"] = stats['cis'][metric]['low_energy']\n",
    "                random[f\"{compound_id}_cis\"] = stats['cis'][metric]['random']\n",
    "                bundle_sizes[f\"{compound_id}_cis\"] = stats['cis']['bundle-size']\n",
    "                licuv[f\"{compound_id}_cis\"] = stats['cis'][metric]['LICUV']\n",
    "                namfis[f\"{compound_id}_cis\"] = stats['cis'][metric]['NAMFIS']\n",
    "            if ('trans' in stats):\n",
    "                percentage_fulfilled[f\"{compound_id}_trans\"] = stats['trans'][metric]['best']\n",
    "                energy[f\"{compound_id}_trans\"] = stats['trans'][metric]['low_energy']\n",
    "                random[f\"{compound_id}_trans\"] = stats['trans'][metric]['random']\n",
    "                bundle_sizes[f\"{compound_id}_trans\"] = stats['trans']['bundle-size']\n",
    "                licuv[f\"{compound_id}_trans\"] = stats['trans'][metric]['LICUV']\n",
    "                namfis[f\"{compound_id}_trans\"] = stats['trans'][metric]['NAMFIS']\n",
    "        else:\n",
    "            percentage_fulfilled[f\"{compound_id}\"] = stats['single'][metric]['best']\n",
    "            energy[f\"{compound_id}_single\"] = stats['single'][metric]['low_energy']\n",
    "            random[f\"{compound_id}_single\"] = stats['single'][metric]['random']\n",
    "            bundle_sizes[f\"{compound_id}_single\"] = stats['single']['bundle-size']\n",
    "            licuv[f\"{compound_id}_single\"] = stats['single'][metric]['LICUV']\n",
    "            namfis[f\"{compound_id}_single\"] = stats['single'][metric]['NAMFIS']\n",
    "    results[metric] = {\n",
    "    'best': percentage_fulfilled,\n",
    "    'low_energy': energy,\n",
    "    'random': random,\n",
    "    'bundle_size': bundle_sizes,\n",
    "    'licuv': licuv,\n",
    "    'namfis': namfis\n",
    "    }"
   ]
  },
  {
   "cell_type": "code",
   "execution_count": 4,
   "id": "7c2709a4",
   "metadata": {
    "execution": {
     "iopub.execute_input": "2022-10-24T13:09:54.274352Z",
     "iopub.status.busy": "2022-10-24T13:09:54.274091Z",
     "iopub.status.idle": "2022-10-24T13:09:54.276725Z",
     "shell.execute_reply": "2022-10-24T13:09:54.276217Z"
    }
   },
   "outputs": [],
   "source": [
    "# plt.scatter(percentage_fulfilled.values(), percentage_fulfilled.keys(), )\n",
    "#plt.title(f\"{snakemake.wildcards.method}: {snakemake.wildcards.simtime} ns\")\n",
    "#plt.savefig(snakemake.output.plot)"
   ]
  },
  {
   "cell_type": "code",
   "execution_count": 5,
   "id": "8827711e",
   "metadata": {
    "execution": {
     "iopub.execute_input": "2022-10-24T13:09:54.279067Z",
     "iopub.status.busy": "2022-10-24T13:09:54.278821Z",
     "iopub.status.idle": "2022-10-24T13:09:54.283443Z",
     "shell.execute_reply": "2022-10-24T13:09:54.282904Z"
    }
   },
   "outputs": [],
   "source": [
    "src.utils.json_dump(snakemake.output.data, results)"
   ]
  },
  {
   "cell_type": "code",
   "execution_count": 6,
   "id": "7eb9ca19",
   "metadata": {
    "execution": {
     "iopub.execute_input": "2022-10-24T13:09:54.285809Z",
     "iopub.status.busy": "2022-10-24T13:09:54.285468Z",
     "iopub.status.idle": "2022-10-24T13:09:54.296551Z",
     "shell.execute_reply": "2022-10-24T13:09:54.296028Z"
    }
   },
   "outputs": [
    {
     "data": {
      "text/plain": [
       "{'fulfil': {'best': {'24_cis': 0.5897435897435898,\n",
       "   '24_trans': 0.6956521739130435},\n",
       "  'low_energy': {'24_cis': [0.5128205128205128,\n",
       "    0.48717948717948717,\n",
       "    0.5384615384615384,\n",
       "    0.5641025641025641,\n",
       "    0.5641025641025641],\n",
       "   '24_trans': [0.5434782608695652,\n",
       "    0.5652173913043478,\n",
       "    0.5652173913043478,\n",
       "    0.6304347826086957,\n",
       "    0.6086956521739131]},\n",
       "  'random': {'24_cis': [0.5435897435897437,\n",
       "    0.5615384615384615,\n",
       "    0.5666666666666667,\n",
       "    0.5641025641025641,\n",
       "    0.5641025641025641],\n",
       "   '24_trans': [0.5717391304347826,\n",
       "    0.5695652173913044,\n",
       "    0.5978260869565217,\n",
       "    0.582608695652174,\n",
       "    0.5913043478260871]},\n",
       "  'bundle_size': {'24_cis': [1, 3, 5, 10, 30], '24_trans': [1, 3, 5, 10, 30]},\n",
       "  'licuv': {'24_cis': [0.5897435897435898,\n",
       "    0.5641025641025641,\n",
       "    0.5641025641025641,\n",
       "    0.5641025641025641,\n",
       "    0.5641025641025641],\n",
       "   '24_trans': [0.6956521739130435,\n",
       "    0.7391304347826086,\n",
       "    0.6956521739130435,\n",
       "    0.6739130434782609,\n",
       "    0.6739130434782609]},\n",
       "  'namfis': {'24_cis': [0.5217391304347826,\n",
       "    0.5869565217391305,\n",
       "    0.6086956521739131,\n",
       "    0.6086956521739131,\n",
       "    0.6086956521739131],\n",
       "   '24_trans': [0.5434782608695652,\n",
       "    0.5434782608695652,\n",
       "    0.5434782608695652,\n",
       "    0.5434782608695652,\n",
       "    0.5434782608695652]}},\n",
       " 'rmsd': {'best': {'24_cis': 2.1719562211661514,\n",
       "   '24_trans': 1.4047749032828611},\n",
       "  'low_energy': {'24_cis': [2.3885547962260563,\n",
       "    2.246154295902065,\n",
       "    2.1449901252975065,\n",
       "    2.123009188817069,\n",
       "    2.123009188817069],\n",
       "   '24_trans': [2.1078599320880205,\n",
       "    1.8678946931602165,\n",
       "    1.7374822827328937,\n",
       "    1.6137467931329248,\n",
       "    1.4779405702859794]},\n",
       "  'random': {'24_cis': [2.285321147489815,\n",
       "    2.2082147742816445,\n",
       "    2.141028651434046,\n",
       "    2.123009188817069,\n",
       "    2.123009188817069],\n",
       "   '24_trans': [2.02202131922612,\n",
       "    1.8534068219490991,\n",
       "    1.7312510547253936,\n",
       "    1.6407617319076206,\n",
       "    1.5279569879747872]},\n",
       "  'bundle_size': {'24_cis': [1, 3, 5, 10, 30], '24_trans': [1, 3, 5, 10, 30]},\n",
       "  'licuv': {'24_cis': [2.1719562211661514,\n",
       "    2.1003222890420425,\n",
       "    2.1290273691375248,\n",
       "    2.123009188817069,\n",
       "    2.123009188817069],\n",
       "   '24_trans': [1.4273240546146566,\n",
       "    1.2652395604606455,\n",
       "    1.3652400188603386,\n",
       "    1.4066487177783682,\n",
       "    1.341402556097592]},\n",
       "  'namfis': {'24_cis': [1.9682734751131659,\n",
       "    1.7781114712065902,\n",
       "    1.717264140936933,\n",
       "    1.7172641409369913,\n",
       "    1.7172641409369913],\n",
       "   '24_trans': [2.0130482065393873,\n",
       "    1.863206788271025,\n",
       "    1.7765848613213124,\n",
       "    1.7765848596814438,\n",
       "    1.7765848588948348]}},\n",
       " 'mae': {'best': {'24_cis': 1.4443332236852398,\n",
       "   '24_trans': 0.9398220383602637},\n",
       "  'low_energy': {'24_cis': [1.6085273745121098,\n",
       "    1.5230868411137726,\n",
       "    1.4581575338953232,\n",
       "    1.4236738817476136,\n",
       "    1.4236738817476136],\n",
       "   '24_trans': [1.5015450483819708,\n",
       "    1.304921185541083,\n",
       "    1.2283813162690838,\n",
       "    1.1184817494209967,\n",
       "    1.05937782441102]},\n",
       "  'random': {'24_cis': [1.5461904258972559,\n",
       "    1.4724687340125118,\n",
       "    1.4367053573612054,\n",
       "    1.4236738817476138,\n",
       "    1.4236738817476138],\n",
       "   '24_trans': [1.412486910426098,\n",
       "    1.3098290785130098,\n",
       "    1.213091703032438,\n",
       "    1.1647664543364695,\n",
       "    1.095918617261712]},\n",
       "  'bundle_size': {'24_cis': [1, 3, 5, 10, 30], '24_trans': [1, 3, 5, 10, 30]},\n",
       "  'licuv': {'24_cis': [1.4443332236852398,\n",
       "    1.3910866208204449,\n",
       "    1.4132662787383514,\n",
       "    1.4236738817476133,\n",
       "    1.4236738817476133],\n",
       "   '24_trans': [0.971840981815172,\n",
       "    0.8451856655476963,\n",
       "    0.9195853881128274,\n",
       "    0.9439906664186021,\n",
       "    0.9399801313049495]},\n",
       "  'namfis': {'24_cis': [1.4044565986550368,\n",
       "    1.2748842910009643,\n",
       "    1.2154508788549088,\n",
       "    1.2154508788549396,\n",
       "    1.2154508788549396],\n",
       "   '24_trans': [1.3755770536091014,\n",
       "    1.2801774323823902,\n",
       "    1.2460897250559173,\n",
       "    1.2460897241982947,\n",
       "    1.2460897237550628]}}}"
      ]
     },
     "execution_count": 6,
     "metadata": {},
     "output_type": "execute_result"
    }
   ],
   "source": [
    "results"
   ]
  },
  {
   "cell_type": "code",
   "execution_count": null,
   "id": "9f8a8d2c",
   "metadata": {},
   "outputs": [],
   "source": []
  }
 ],
 "metadata": {
  "interpreter": {
   "hash": "e885641f5d15292e734dfd87be8b96e25b1f2f75cfe4f2af2fabd4ab738eeb5e"
  },
  "kernelspec": {
   "display_name": "Python 3 (ipykernel)",
   "language": "python",
   "name": "python3"
  },
  "language_info": {
   "codemirror_mode": {
    "name": "ipython",
    "version": 3
   },
   "file_extension": ".py",
   "mimetype": "text/x-python",
   "name": "python",
   "nbconvert_exporter": "python",
   "pygments_lexer": "ipython3",
   "version": "3.7.12"
  }
 },
 "nbformat": 4,
 "nbformat_minor": 5
}
